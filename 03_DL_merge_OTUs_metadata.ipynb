{
 "cells": [
  {
   "cell_type": "code",
   "execution_count": 1,
   "metadata": {},
   "outputs": [
    {
     "name": "stdout",
     "output_type": "stream",
     "text": [
      "Intel MKL WARNING: Support of Intel(R) Streaming SIMD Extensions 4.2 (Intel(R) SSE4.2) enabled only processors has been deprecated. Intel oneAPI Math Kernel Library 2025.0 will require Intel(R) Advanced Vector Extensions (Intel(R) AVX) instructions.\n",
      "Intel MKL WARNING: Support of Intel(R) Streaming SIMD Extensions 4.2 (Intel(R) SSE4.2) enabled only processors has been deprecated. Intel oneAPI Math Kernel Library 2025.0 will require Intel(R) Advanced Vector Extensions (Intel(R) AVX) instructions.\n"
     ]
    },
    {
     "name": "stderr",
     "output_type": "stream",
     "text": [
      "/var/folders/b0/68bb2dkj42g1jr38kdd8m6pc0000gp/T/ipykernel_32360/1902755807.py:14: SettingWithCopyWarning: \n",
      "A value is trying to be set on a copy of a slice from a DataFrame.\n",
      "Try using .loc[row_indexer,col_indexer] = value instead\n",
      "\n",
      "See the caveats in the documentation: https://pandas.pydata.org/pandas-docs/stable/user_guide/indexing.html#returning-a-view-versus-a-copy\n",
      "  OTUs_W['Repeated Sample'] = OTUs_W['Sample'].str[2:]\n"
     ]
    }
   ],
   "source": [
    "# Using Python 3.12.1 (local env: HeatNSalt)\n",
    "\n",
    "# Merge DNA data with Imaging / BioDiscover data\n",
    "\n",
    "import pandas as pd\n",
    "\n",
    "setup_data = pd.read_csv('outputs/setup_data_complete.csv')\n",
    "OTUs = pd.read_excel('outputs/EPT_OTU_reads.xlsx', sheet_name='Top Hits')\n",
    "weights = pd.read_excel('raw/specimen_weights.xlsx')\n",
    "\n",
    "weights['Specimen Weight'] = weights['Tube Weight with dried Specimen'] - weights['Empty Tube Weight']\n",
    "weights.pop('Unnamed: 0')\n",
    "OTUs_W = OTUs[OTUs['Sample'].str.startswith('W')]\n",
    "OTUs_W['Repeated Sample'] = OTUs_W['Sample'].str[2:]\n",
    "merged = pd.merge(weights, OTUs.add_suffix('_DNA'), how='left', left_on='Sample Name/Number', right_on='Sample_DNA')\n",
    "merged_w = pd.merge(merged, OTUs_W.add_suffix('_DNA_repeat'), how='left', left_on='Sample Name/Number', right_on='Repeated Sample_DNA_repeat')\n",
    "\n",
    "merged_w.to_excel('outputs/EPT_data_merged.xlsx', index=False) # includes both, repeated and not repeated samples\n",
    "\n",
    "image_data = pd.read_csv('outputs/image_data_complete.csv').dropna(axis=1)\n",
    "image_data.insert(0, 'Specimen ID', image_data['Sample Name/Number'].str.split('_').str[:-1].str.join('_')) # create new column with specimen ID from Sample Name/Number\n",
    "\n",
    "image_data_merged = pd.merge(image_data, merged_w, how='left', left_on='Specimen ID', right_on='Sample Name/Number').dropna(axis=1, how='all')\n",
    "image_data_merged.drop(['Sample Name/Number_y', 'Sample_DNA', 'Sample_DNA_repeat', 'Repeated Sample_DNA_repeat'], axis=1, inplace=True)\n",
    "image_data_merged = image_data_merged.rename(columns={'Sample Name/Number_x': 'Sample Name/Number', 'Order': 'Order_Morpho'})\n",
    "\n",
    "image_data_merged_filtered = image_data_merged[(image_data_merged['Order_Morpho'] == image_data_merged['Order_DNA']) | (image_data_merged['Order_Morpho'] == image_data_merged['Order_DNA_repeat'])].reset_index(drop=True)\n",
    "\n",
    "image_data_merged.to_csv('outputs/image_data_merged.csv', index=False)\n",
    "image_data_merged_filtered.to_csv('outputs/image_data_with_DNA.csv', index=False)"
   ]
  }
 ],
 "metadata": {
  "kernelspec": {
   "display_name": "HeatNSalt",
   "language": "python",
   "name": "python3"
  },
  "language_info": {
   "codemirror_mode": {
    "name": "ipython",
    "version": 3
   },
   "file_extension": ".py",
   "mimetype": "text/x-python",
   "name": "python",
   "nbconvert_exporter": "python",
   "pygments_lexer": "ipython3",
   "version": "3.12.1"
  }
 },
 "nbformat": 4,
 "nbformat_minor": 2
}
