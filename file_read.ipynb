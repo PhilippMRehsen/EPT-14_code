{
 "cells": [
  {
   "cell_type": "code",
   "execution_count": 1,
   "metadata": {},
   "outputs": [],
   "source": [
    "import os\n",
    "import pandas as pd"
   ]
  },
  {
   "cell_type": "code",
   "execution_count": 2,
   "metadata": {},
   "outputs": [],
   "source": [
    "bad_img_df = pd.DataFrame(os.listdir('E:\\Biodiscover_Vault\\PMR_ExStream22_Main_EPT\\Filtered images'), columns=['bad_img'])\n",
    "bad_img_df.to_excel('Gp_bad_img_df.xlsx')\n",
    "\n",
    "IMG_df = pd.read_csv('E:\\Biodiscover_Vault\\PMR_ExStream22_Main_EPT\\image_data_with_DNA_new.csv', sep=\";\", encoding=\"ISO-8859-1\")\n",
    "\n",
    "cleaning_list = IMG_df['Image File Name'].isin(bad_img_df['bad_img'])\n",
    "image_data_with_DNA_clean_Gp = IMG_df[~cleaning_list]"
   ]
  },
  {
   "cell_type": "code",
   "execution_count": 3,
   "metadata": {},
   "outputs": [],
   "source": [
    "image_data_with_DNA_clean_Gp.to_csv('E:\\Biodiscover_Vault\\PMR_ExStream22_Main_EPT\\image_data_with_DNA_clean_Gp.csv')"
   ]
  }
 ],
 "metadata": {
  "kernelspec": {
   "display_name": "SRS",
   "language": "python",
   "name": "python3"
  },
  "language_info": {
   "codemirror_mode": {
    "name": "ipython",
    "version": 3
   },
   "file_extension": ".py",
   "mimetype": "text/x-python",
   "name": "python",
   "nbconvert_exporter": "python",
   "pygments_lexer": "ipython3",
   "version": "3.11.0"
  }
 },
 "nbformat": 4,
 "nbformat_minor": 2
}
