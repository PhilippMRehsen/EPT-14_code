{
 "cells": [
  {
   "cell_type": "code",
   "execution_count": 1,
   "metadata": {},
   "outputs": [
    {
     "name": "stdout",
     "output_type": "stream",
     "text": [
      "Intel MKL WARNING: Support of Intel(R) Streaming SIMD Extensions 4.2 (Intel(R) SSE4.2) enabled only processors has been deprecated. Intel oneAPI Math Kernel Library 2025.0 will require Intel(R) Advanced Vector Extensions (Intel(R) AVX) instructions.\n",
      "Intel MKL WARNING: Support of Intel(R) Streaming SIMD Extensions 4.2 (Intel(R) SSE4.2) enabled only processors has been deprecated. Intel oneAPI Math Kernel Library 2025.0 will require Intel(R) Advanced Vector Extensions (Intel(R) AVX) instructions.\n"
     ]
    }
   ],
   "source": [
    "# Using Python 3.12.1 (local env: HeatNSalt)\n",
    "\n",
    "# Retrieve information about outputs/image_data_complete.csv\n",
    "\n",
    "import pandas as pd\n",
    "\n",
    "image_data = pd.read_csv('outputs/image_data_complete.csv').dropna(axis=1)\n",
    "image_data['Specimen ID'] = image_data['Sample Name/Number'].str.split('_').str[:-1].str.join('_') # create new column with specimen ID from Sample Name/Number\n",
    "\n",
    "id_counts = image_data['Specimen ID'].value_counts()\n",
    "min_count = id_counts.min()\n",
    "mean_count = id_counts.mean()\n",
    "median_count = id_counts.median()\n",
    "std_count = id_counts.std()\n",
    "max_count = id_counts.max()\n",
    "\n",
    "\n",
    "pd.DataFrame(id_counts).to_excel('outputs/info_image_data_count.xlsx')\n",
    "\n",
    "# Retrieve information about outputs/setup_data_complete.csv\n",
    "\n",
    "setup_data = pd.read_csv('outputs/setup_data_complete.csv')\n",
    "setup_data[['Plate', 'Well',  'Increment', 'Imaging_run']]= setup_data['Sample Name/Number'].str.split('_', expand = True)\n",
    "setup_data = setup_data.drop(['Imaging_run'], axis=1)\n",
    "setup_data = setup_data.drop(['Determiner'], axis=1)\n",
    "setup_data['Sample Name/Number'] = setup_data['Sample Name/Number'].apply(lambda x: x.rsplit('_', 1)[0])\n",
    "\n",
    "# Retrieve information about raw/specimen_weights.xlsx\n",
    "\n",
    "\n",
    "specimen_info = pd.read_excel('raw/specimen_weights.xlsx', index_col=0)\n",
    "\n",
    "specimen_info['Specimen Weight'] = specimen_info['Tube Weight with dried Specimen'] - specimen_info['Empty Tube Weight']\n",
    "\n",
    "NCfiltered_specimen_info = specimen_info[specimen_info['Channel'].str.contains('NC')]\n",
    "negative_weight_NCs = NCfiltered_specimen_info[NCfiltered_specimen_info['Specimen Weight'] < 0]\n",
    "filtered_specimen_info = specimen_info[~specimen_info['Channel'].str.contains('NC')]\n",
    "negative_weight_specimens = filtered_specimen_info[filtered_specimen_info['Specimen Weight'] < 0]\n",
    "\n",
    "\n",
    "with open('outputs/info_images.txt', 'w') as tf:\n",
    "    tf.write('Printing information about all collected images\\n')\n",
    "    tf.write('\\n')\n",
    "    tf.write('Minimum number of images per specimen: '+ str(min_count)+'\\n')\n",
    "    tf.write('Mean number of images per specimen: ' + str(mean_count)+'\\n')\n",
    "    tf.write('Median number of images per specimen: '+ str(median_count)+'\\n')\n",
    "    tf.write('Standard deviation number of images per specimen: '+ str(std_count)+'\\n')\n",
    "    tf.write('Maximum number of images per specimen: '+ str(max_count)+'\\n')\n",
    "    tf.write('\\n')\n",
    "    tf.write('\\n')\n",
    "    tf.write('Printing information about specimen with mathematically negative weights:'+'\\n')\n",
    "    tf.write('\\n')\n",
    "    tf.write('Number of negative controls with mathematically negative weights: '+ str(len(NCfiltered_specimen_info[NCfiltered_specimen_info['Specimen Weight']<0]))+'\\n')\n",
    "    tf.write(str(negative_weight_NCs['Sample Name/Number'].values)+'\\n')\n",
    "    tf.write('\\n')\n",
    "    tf.write('Number of specimen with mathematically negative weights: '+ str(len(filtered_specimen_info[filtered_specimen_info['Specimen Weight']<0]))+'\\n')\n",
    "    tf.write(str(negative_weight_specimens['Sample Name/Number'].values))\n",
    "\n"
   ]
  }
 ],
 "metadata": {
  "kernelspec": {
   "display_name": "HeatNSalt",
   "language": "python",
   "name": "python3"
  },
  "language_info": {
   "codemirror_mode": {
    "name": "ipython",
    "version": 3
   },
   "file_extension": ".py",
   "mimetype": "text/x-python",
   "name": "python",
   "nbconvert_exporter": "python",
   "pygments_lexer": "ipython3",
   "version": "3.12.1"
  }
 },
 "nbformat": 4,
 "nbformat_minor": 2
}
