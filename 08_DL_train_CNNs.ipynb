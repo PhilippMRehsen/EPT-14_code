{
 "cells": [
  {
   "cell_type": "code",
   "execution_count": null,
   "metadata": {},
   "outputs": [],
   "source": [
    "## Training was conducted on a DL sever, using a V100\n",
    "# This is a placeholder for the scripts used on the server (see folder 'DL server code')"
   ]
  }
 ],
 "metadata": {
  "language_info": {
   "name": "python"
  }
 },
 "nbformat": 4,
 "nbformat_minor": 2
}
