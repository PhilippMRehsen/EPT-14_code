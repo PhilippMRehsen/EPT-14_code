{
 "cells": [
  {
   "cell_type": "code",
   "execution_count": 1,
   "metadata": {},
   "outputs": [
    {
     "name": "stdout",
     "output_type": "stream",
     "text": [
      "Requirement already satisfied: torch in /usr/local/lib/python3.8/dist-packages (from -r requirements.txt (line 1)) (2.4.0)\n",
      "Requirement already satisfied: torchvision in /usr/local/lib/python3.8/dist-packages (from -r requirements.txt (line 2)) (0.19.0)\n",
      "Requirement already satisfied: torchaudio in /usr/local/lib/python3.8/dist-packages (from -r requirements.txt (line 3)) (2.4.0)\n",
      "Requirement already satisfied: lightning in /usr/local/lib/python3.8/dist-packages (from -r requirements.txt (line 4)) (2.3.3)\n",
      "Requirement already satisfied: wandb in /usr/local/lib/python3.8/dist-packages (from -r requirements.txt (line 5)) (0.17.5)\n",
      "Requirement already satisfied: numpy in /usr/local/lib/python3.8/dist-packages (from -r requirements.txt (line 6)) (1.21.3)\n",
      "Requirement already satisfied: scipy in /usr/local/lib/python3.8/dist-packages (from -r requirements.txt (line 7)) (1.10.1)\n",
      "Requirement already satisfied: scikit-learn in /usr/local/lib/python3.8/dist-packages (from -r requirements.txt (line 8)) (1.3.2)\n",
      "Requirement already satisfied: scikit-image in /usr/local/lib/python3.8/dist-packages (from -r requirements.txt (line 9)) (0.21.0)\n",
      "Requirement already satisfied: pandas in /usr/local/lib/python3.8/dist-packages (from -r requirements.txt (line 10)) (2.0.3)\n",
      "Requirement already satisfied: pillow>=6.0.0 in /usr/local/lib/python3.8/dist-packages (from -r requirements.txt (line 11)) (8.4.0)\n",
      "Requirement already satisfied: joblib in /usr/local/lib/python3.8/dist-packages (from -r requirements.txt (line 12)) (1.4.2)\n",
      "Requirement already satisfied: matplotlib==3.7.3 in /usr/local/lib/python3.8/dist-packages (from -r requirements.txt (line 13)) (3.7.3)\n",
      "Requirement already satisfied: seaborn in /usr/local/lib/python3.8/dist-packages (from -r requirements.txt (line 14)) (0.13.2)\n",
      "Requirement already satisfied: bokeh in /usr/local/lib/python3.8/dist-packages (from -r requirements.txt (line 15)) (3.1.1)\n",
      "Requirement already satisfied: plotly in /usr/local/lib/python3.8/dist-packages (from -r requirements.txt (line 16)) (5.23.0)\n",
      "Requirement already satisfied: tqdm in /usr/local/lib/python3.8/dist-packages (from -r requirements.txt (line 17)) (4.66.5)\n",
      "Requirement already satisfied: openpyxl in /usr/local/lib/python3.8/dist-packages (from -r requirements.txt (line 18)) (3.1.5)\n",
      "Requirement already satisfied: timm in /usr/local/lib/python3.8/dist-packages (from -r requirements.txt (line 19)) (1.0.8)\n",
      "Requirement already satisfied: albumentations in /usr/local/lib/python3.8/dist-packages (from -r requirements.txt (line 20)) (1.4.13)\n",
      "Requirement already satisfied: nvidia-cuda-runtime-cu12==12.1.105; platform_system == \"Linux\" and platform_machine == \"x86_64\" in /usr/local/lib/python3.8/dist-packages (from torch->-r requirements.txt (line 1)) (12.1.105)\n",
      "Requirement already satisfied: nvidia-cuda-nvrtc-cu12==12.1.105; platform_system == \"Linux\" and platform_machine == \"x86_64\" in /usr/local/lib/python3.8/dist-packages (from torch->-r requirements.txt (line 1)) (12.1.105)\n",
      "Requirement already satisfied: nvidia-cufft-cu12==11.0.2.54; platform_system == \"Linux\" and platform_machine == \"x86_64\" in /usr/local/lib/python3.8/dist-packages (from torch->-r requirements.txt (line 1)) (11.0.2.54)\n",
      "Requirement already satisfied: nvidia-curand-cu12==10.3.2.106; platform_system == \"Linux\" and platform_machine == \"x86_64\" in /usr/local/lib/python3.8/dist-packages (from torch->-r requirements.txt (line 1)) (10.3.2.106)\n",
      "Requirement already satisfied: nvidia-cuda-cupti-cu12==12.1.105; platform_system == \"Linux\" and platform_machine == \"x86_64\" in /usr/local/lib/python3.8/dist-packages (from torch->-r requirements.txt (line 1)) (12.1.105)\n",
      "Requirement already satisfied: nvidia-nccl-cu12==2.20.5; platform_system == \"Linux\" and platform_machine == \"x86_64\" in /usr/local/lib/python3.8/dist-packages (from torch->-r requirements.txt (line 1)) (2.20.5)\n",
      "Requirement already satisfied: networkx in /usr/local/lib/python3.8/dist-packages (from torch->-r requirements.txt (line 1)) (3.1)\n",
      "Requirement already satisfied: sympy in /usr/local/lib/python3.8/dist-packages (from torch->-r requirements.txt (line 1)) (1.13.1)\n",
      "Requirement already satisfied: nvidia-cublas-cu12==12.1.3.1; platform_system == \"Linux\" and platform_machine == \"x86_64\" in /usr/local/lib/python3.8/dist-packages (from torch->-r requirements.txt (line 1)) (12.1.3.1)\n",
      "Requirement already satisfied: triton==3.0.0; platform_system == \"Linux\" and platform_machine == \"x86_64\" and python_version < \"3.13\" in /usr/local/lib/python3.8/dist-packages (from torch->-r requirements.txt (line 1)) (3.0.0)\n",
      "Requirement already satisfied: nvidia-cusparse-cu12==12.1.0.106; platform_system == \"Linux\" and platform_machine == \"x86_64\" in /usr/local/lib/python3.8/dist-packages (from torch->-r requirements.txt (line 1)) (12.1.0.106)\n",
      "Requirement already satisfied: jinja2 in /usr/local/lib/python3.8/dist-packages (from torch->-r requirements.txt (line 1)) (3.0.2)\n",
      "Requirement already satisfied: filelock in /usr/local/lib/python3.8/dist-packages (from torch->-r requirements.txt (line 1)) (3.15.4)\n",
      "Requirement already satisfied: typing-extensions>=4.8.0 in /usr/local/lib/python3.8/dist-packages (from torch->-r requirements.txt (line 1)) (4.12.2)\n",
      "Requirement already satisfied: fsspec in /usr/local/lib/python3.8/dist-packages (from torch->-r requirements.txt (line 1)) (2024.6.1)\n",
      "Requirement already satisfied: nvidia-cudnn-cu12==9.1.0.70; platform_system == \"Linux\" and platform_machine == \"x86_64\" in /usr/local/lib/python3.8/dist-packages (from torch->-r requirements.txt (line 1)) (9.1.0.70)\n",
      "Requirement already satisfied: nvidia-cusolver-cu12==11.4.5.107; platform_system == \"Linux\" and platform_machine == \"x86_64\" in /usr/local/lib/python3.8/dist-packages (from torch->-r requirements.txt (line 1)) (11.4.5.107)\n",
      "Requirement already satisfied: nvidia-nvtx-cu12==12.1.105; platform_system == \"Linux\" and platform_machine == \"x86_64\" in /usr/local/lib/python3.8/dist-packages (from torch->-r requirements.txt (line 1)) (12.1.105)\n",
      "Requirement already satisfied: lightning-utilities<2.0,>=0.10.0 in /usr/local/lib/python3.8/dist-packages (from lightning->-r requirements.txt (line 4)) (0.11.6)\n",
      "Requirement already satisfied: packaging<25.0,>=20.0 in /usr/local/lib/python3.8/dist-packages (from lightning->-r requirements.txt (line 4)) (21.2)\n",
      "Requirement already satisfied: pytorch-lightning in /usr/local/lib/python3.8/dist-packages (from lightning->-r requirements.txt (line 4)) (2.3.3)\n",
      "Requirement already satisfied: PyYAML<8.0,>=5.4 in /usr/local/lib/python3.8/dist-packages (from lightning->-r requirements.txt (line 4)) (6.0.1)\n",
      "Requirement already satisfied: torchmetrics<3.0,>=0.7.0 in /usr/local/lib/python3.8/dist-packages (from lightning->-r requirements.txt (line 4)) (1.4.1)\n",
      "Requirement already satisfied: requests<3,>=2.0.0 in /usr/lib/python3/dist-packages (from wandb->-r requirements.txt (line 5)) (2.22.0)\n",
      "Requirement already satisfied: setuptools in /usr/local/lib/python3.8/dist-packages (from wandb->-r requirements.txt (line 5)) (58.5.2)\n",
      "Requirement already satisfied: psutil>=5.0.0 in /usr/local/lib/python3.8/dist-packages (from wandb->-r requirements.txt (line 5)) (6.0.0)\n",
      "Requirement already satisfied: docker-pycreds>=0.4.0 in /usr/local/lib/python3.8/dist-packages (from wandb->-r requirements.txt (line 5)) (0.4.0)\n",
      "Requirement already satisfied: platformdirs in /usr/local/lib/python3.8/dist-packages (from wandb->-r requirements.txt (line 5)) (4.2.2)\n",
      "Requirement already satisfied: gitpython!=3.1.29,>=1.0.0 in /usr/local/lib/python3.8/dist-packages (from wandb->-r requirements.txt (line 5)) (3.1.43)\n",
      "Requirement already satisfied: setproctitle in /usr/local/lib/python3.8/dist-packages (from wandb->-r requirements.txt (line 5)) (1.3.3)\n",
      "Requirement already satisfied: sentry-sdk>=1.0.0 in /usr/local/lib/python3.8/dist-packages (from wandb->-r requirements.txt (line 5)) (2.12.0)\n",
      "Requirement already satisfied: protobuf!=4.21.0,<6,>=3.12.0; python_version < \"3.9\" and sys_platform == \"linux\" in /usr/local/lib/python3.8/dist-packages (from wandb->-r requirements.txt (line 5)) (3.19.1)\n",
      "Requirement already satisfied: click!=8.0.0,>=7.1 in /usr/local/lib/python3.8/dist-packages (from wandb->-r requirements.txt (line 5)) (8.1.7)\n",
      "Requirement already satisfied: threadpoolctl>=2.0.0 in /usr/local/lib/python3.8/dist-packages (from scikit-learn->-r requirements.txt (line 8)) (3.5.0)\n",
      "Requirement already satisfied: imageio>=2.27 in /usr/local/lib/python3.8/dist-packages (from scikit-image->-r requirements.txt (line 9)) (2.34.2)\n"
     ]
    },
    {
     "name": "stdout",
     "output_type": "stream",
     "text": [
      "Requirement already satisfied: tifffile>=2022.8.12 in /usr/local/lib/python3.8/dist-packages (from scikit-image->-r requirements.txt (line 9)) (2023.7.10)\n",
      "Requirement already satisfied: lazy_loader>=0.2 in /usr/local/lib/python3.8/dist-packages (from scikit-image->-r requirements.txt (line 9)) (0.4)\n",
      "Requirement already satisfied: PyWavelets>=1.1.1 in /usr/local/lib/python3.8/dist-packages (from scikit-image->-r requirements.txt (line 9)) (1.4.1)\n",
      "Requirement already satisfied: pytz>=2020.1 in /usr/local/lib/python3.8/dist-packages (from pandas->-r requirements.txt (line 10)) (2024.1)\n",
      "Requirement already satisfied: python-dateutil>=2.8.2 in /usr/local/lib/python3.8/dist-packages (from pandas->-r requirements.txt (line 10)) (2.8.2)\n",
      "Requirement already satisfied: tzdata>=2022.1 in /usr/local/lib/python3.8/dist-packages (from pandas->-r requirements.txt (line 10)) (2024.1)\n",
      "Requirement already satisfied: importlib-resources>=3.2.0; python_version < \"3.10\" in /usr/local/lib/python3.8/dist-packages (from matplotlib==3.7.3->-r requirements.txt (line 13)) (5.4.0)\n",
      "Requirement already satisfied: fonttools>=4.22.0 in /usr/local/lib/python3.8/dist-packages (from matplotlib==3.7.3->-r requirements.txt (line 13)) (4.53.1)\n",
      "Requirement already satisfied: cycler>=0.10 in /usr/local/lib/python3.8/dist-packages (from matplotlib==3.7.3->-r requirements.txt (line 13)) (0.11.0)\n",
      "Requirement already satisfied: contourpy>=1.0.1 in /usr/local/lib/python3.8/dist-packages (from matplotlib==3.7.3->-r requirements.txt (line 13)) (1.1.1)\n",
      "Requirement already satisfied: kiwisolver>=1.0.1 in /usr/local/lib/python3.8/dist-packages (from matplotlib==3.7.3->-r requirements.txt (line 13)) (1.3.2)\n",
      "Requirement already satisfied: pyparsing>=2.3.1 in /usr/local/lib/python3.8/dist-packages (from matplotlib==3.7.3->-r requirements.txt (line 13)) (2.4.7)\n",
      "Requirement already satisfied: tornado>=5.1 in /usr/local/lib/python3.8/dist-packages (from bokeh->-r requirements.txt (line 15)) (6.1)\n",
      "Requirement already satisfied: xyzservices>=2021.09.1 in /usr/local/lib/python3.8/dist-packages (from bokeh->-r requirements.txt (line 15)) (2024.6.0)\n",
      "Requirement already satisfied: tenacity>=6.2.0 in /usr/local/lib/python3.8/dist-packages (from plotly->-r requirements.txt (line 16)) (9.0.0)\n",
      "Requirement already satisfied: et-xmlfile in /usr/local/lib/python3.8/dist-packages (from openpyxl->-r requirements.txt (line 18)) (1.1.0)\n",
      "Requirement already satisfied: huggingface_hub in /usr/local/lib/python3.8/dist-packages (from timm->-r requirements.txt (line 19)) (0.24.5)\n",
      "Requirement already satisfied: safetensors in /usr/local/lib/python3.8/dist-packages (from timm->-r requirements.txt (line 19)) (0.4.4)\n",
      "Requirement already satisfied: pydantic>=2.7.0 in /usr/local/lib/python3.8/dist-packages (from albumentations->-r requirements.txt (line 20)) (2.8.2)\n",
      "Requirement already satisfied: opencv-python-headless>=4.9.0.80 in /usr/local/lib/python3.8/dist-packages (from albumentations->-r requirements.txt (line 20)) (4.10.0.84)\n",
      "Requirement already satisfied: albucore>=0.0.13 in /usr/local/lib/python3.8/dist-packages (from albumentations->-r requirements.txt (line 20)) (0.0.13)\n",
      "Requirement already satisfied: eval-type-backport in /usr/local/lib/python3.8/dist-packages (from albumentations->-r requirements.txt (line 20)) (0.2.0)\n",
      "Requirement already satisfied: mpmath<1.4,>=1.1.0 in /usr/local/lib/python3.8/dist-packages (from sympy->torch->-r requirements.txt (line 1)) (1.3.0)\n",
      "Requirement already satisfied: nvidia-nvjitlink-cu12 in /usr/local/lib/python3.8/dist-packages (from nvidia-cusparse-cu12==12.1.0.106; platform_system == \"Linux\" and platform_machine == \"x86_64\"->torch->-r requirements.txt (line 1)) (12.6.20)\n",
      "Requirement already satisfied: MarkupSafe>=2.0 in /usr/local/lib/python3.8/dist-packages (from jinja2->torch->-r requirements.txt (line 1)) (2.0.1)\n",
      "Requirement already satisfied: six>=1.4.0 in /usr/lib/python3/dist-packages (from docker-pycreds>=0.4.0->wandb->-r requirements.txt (line 5)) (1.14.0)\n",
      "Requirement already satisfied: gitdb<5,>=4.0.1 in /usr/local/lib/python3.8/dist-packages (from gitpython!=3.1.29,>=1.0.0->wandb->-r requirements.txt (line 5)) (4.0.11)\n",
      "Requirement already satisfied: urllib3>=1.26.11 in /usr/local/lib/python3.8/dist-packages (from sentry-sdk>=1.0.0->wandb->-r requirements.txt (line 5)) (2.2.2)\n",
      "Requirement already satisfied: certifi in /usr/lib/python3/dist-packages (from sentry-sdk>=1.0.0->wandb->-r requirements.txt (line 5)) (2019.11.28)\n",
      "Requirement already satisfied: zipp>=3.1.0; python_version < \"3.10\" in /usr/local/lib/python3.8/dist-packages (from importlib-resources>=3.2.0; python_version < \"3.10\"->matplotlib==3.7.3->-r requirements.txt (line 13)) (3.6.0)\n",
      "Requirement already satisfied: annotated-types>=0.4.0 in /usr/local/lib/python3.8/dist-packages (from pydantic>=2.7.0->albumentations->-r requirements.txt (line 20)) (0.7.0)\n",
      "Requirement already satisfied: pydantic-core==2.20.1 in /usr/local/lib/python3.8/dist-packages (from pydantic>=2.7.0->albumentations->-r requirements.txt (line 20)) (2.20.1)\n",
      "Requirement already satisfied: tomli>=2.0.1 in /usr/local/lib/python3.8/dist-packages (from albucore>=0.0.13->albumentations->-r requirements.txt (line 20)) (2.0.1)\n",
      "Requirement already satisfied: smmap<6,>=3.0.1 in /usr/local/lib/python3.8/dist-packages (from gitdb<5,>=4.0.1->gitpython!=3.1.29,>=1.0.0->wandb->-r requirements.txt (line 5)) (5.0.1)\n",
      "\u001b[33mWARNING: You are using pip version 20.2.4; however, version 24.2 is available.\n",
      "You should consider upgrading via the '/usr/bin/python3 -m pip install --upgrade pip' command.\u001b[0m\n"
     ]
    }
   ],
   "source": [
    "!pip install -r requirements.txt"
   ]
  },
  {
   "cell_type": "code",
   "execution_count": 2,
   "metadata": {},
   "outputs": [
    {
     "name": "stdout",
     "output_type": "stream",
     "text": [
      "Obtaining file:///tf/notebooks/EPT/1_taxonomist\n",
      "Installing collected packages: taxonomist\n",
      "  Attempting uninstall: taxonomist\n",
      "    Found existing installation: taxonomist 0.0.3\n",
      "    Can't uninstall 'taxonomist'. No files were found to uninstall.\n",
      "  Running setup.py develop for taxonomist\n",
      "Successfully installed taxonomist\n",
      "\u001b[33mWARNING: You are using pip version 20.2.4; however, version 24.2 is available.\n",
      "You should consider upgrading via the '/usr/bin/python3 -m pip install --upgrade pip' command.\u001b[0m\n"
     ]
    }
   ],
   "source": [
    "!pip install -e ."
   ]
  },
  {
   "cell_type": "code",
   "execution_count": 3,
   "metadata": {},
   "outputs": [
    {
     "name": "stdout",
     "output_type": "stream",
     "text": [
      "       Specimen ID Sample Name/Number  ...        Label_DNA read count_DNA\n",
      "0            4_F12            4_F12_1  ...     Goera pilosa       215998.0\n",
      "1            4_F12            4_F12_1  ...     Goera pilosa       215998.0\n",
      "2            4_F12            4_F12_1  ...     Goera pilosa       215998.0\n",
      "3            4_F12            4_F12_1  ...     Goera pilosa       215998.0\n",
      "4            4_F12            4_F12_2  ...     Goera pilosa       215998.0\n",
      "...            ...                ...  ...              ...            ...\n",
      "143270      10_C11           10_C11_2  ...  Nemoura cinerea       314403.0\n",
      "143271      10_C11           10_C11_2  ...  Nemoura cinerea       314403.0\n",
      "143272      10_C11           10_C11_2  ...  Nemoura cinerea       314403.0\n",
      "143273      10_C11           10_C11_2  ...  Nemoura cinerea       314403.0\n",
      "143274      10_C11           10_C11_2  ...  Nemoura cinerea       314403.0\n",
      "\n",
      "[143275 rows x 37 columns]\n",
      "data/processed/ept-14/01_EPT_processed.csv\n"
     ]
    }
   ],
   "source": [
    "!python scripts/preprocessing/process_biodiscover.py \\\n",
    "    --csv_path ../EPT-DL.csv \\\n",
    "    --out_folder data/processed/ept"
   ]
  },
  {
   "cell_type": "code",
   "execution_count": 4,
   "metadata": {},
   "outputs": [
    {
     "ename": "SyntaxError",
     "evalue": "invalid syntax (<ipython-input-4-69e8de5ca926>, line 3)",
     "output_type": "error",
     "traceback": [
      "\u001b[0;36m  File \u001b[0;32m\"<ipython-input-4-69e8de5ca926>\"\u001b[0;36m, line \u001b[0;32m3\u001b[0m\n\u001b[0;31m    print(f'Number of classes: {len(df_csv['Species_DNA'].unique())}')\u001b[0m\n\u001b[0m                                            ^\u001b[0m\n\u001b[0;31mSyntaxError\u001b[0m\u001b[0;31m:\u001b[0m invalid syntax\n"
     ]
    }
   ],
   "source": [
    "import pandas as pd\n",
    "df_csv = pd.read_csv(\"../EPT-DL.csv\")\n",
    "print(f\"Number of classes: {len(df_csv['Final_species_label'].unique())}\")\n",
    "for label in df_csv['Final_species_label'].unique():\n",
    "    print(label)"
   ]
  },
  {
   "cell_type": "code",
   "execution_count": null,
   "metadata": {},
   "outputs": [],
   "source": [
    "!python scripts/01_train_test_split.py \\\n",
    "    --csv_path 'data/processed/ept/01_EPT_processed.csv' \\\n",
    "    --target_col 'Final_species_label' \\\n",
    "    --group_col 'individual' \\\n",
    "    --n_splits 5 \\\n",
    "    --random_state 42 \\\n",
    "    --out_folder 'data/processed/ept' \\\n",
    "    --shuffle 'False'"
   ]
  },
  {
   "cell_type": "code",
   "execution_count": null,
   "metadata": {
    "scrolled": true
   },
   "outputs": [],
   "source": [
    "df = pd.read_csv(\"data/processed/ept/01_EPT_processed_5splits_Final_species_label.csv\")\n",
    "df.head()"
   ]
  },
  {
   "cell_type": "code",
   "execution_count": null,
   "metadata": {},
   "outputs": [],
   "source": [
    "import numpy as np\n",
    "import pandas as pd\n",
    "\n",
    "def even_pick(s, n):\n",
    "    if len(s) <= n:\n",
    "        return s\n",
    "    else:\n",
    "        indices = np.linspace(0, len(s)-1, num=n, dtype=int)\n",
    "        return s.iloc[indices]\n",
    "    \n",
    "csv_list=['data/processed/ept/01_EPT_processed_5splits_Final_species_label.csv']\n",
    "for num_img in [10, 25, 50, 75, 100, 150, 200, 300, 400, 500]:\n",
    "    outlist = []\n",
    "    for individual in df['individual'].unique():\n",
    "        outlist.append(even_pick(df.query(\"individual == @individual\"), num_img))\n",
    "\n",
    "    df_num_img = pd.concat(outlist)\n",
    "    df_num_img.to_csv(f'data/processed/ept/01_EPT_processed_5splits_Final_species_label_{str(num_img)}.csv')\n",
    "    csv_list.append(f'data/processed/ept/01_EPT_processed_5splits_Final_species_label_{str(num_img)}.csv')"
   ]
  },
  {
   "cell_type": "code",
   "execution_count": null,
   "metadata": {},
   "outputs": [],
   "source": [
    "df_num_img.groupby(\"individual\").count().sort_values(\"Image Path\", ascending=False)"
   ]
  },
  {
   "cell_type": "code",
   "execution_count": null,
   "metadata": {},
   "outputs": [],
   "source": [
    "!python scripts/preprocessing/test_dataset_config.py \\\n",
    "    --data_folder \"../0_images/\" \\\n",
    "    --dataset_config \"conf/user_datasets.py\" \\\n",
    "    --dataset_name \"biodiscover\" \\\n",
    "    --csv_path \"data/processed/ept/01_EPT_processed_5splits_Final_species_label.csv\" \\\n",
    "    --label \"Final_species_label\" \\\n",
    "    --fold 0"
   ]
  },
  {
   "cell_type": "code",
   "execution_count": null,
   "metadata": {},
   "outputs": [],
   "source": [
    "import wandb\n",
    "wandb.login() #581221dff0063a897a4eff9d285fa871a2c8e7f2"
   ]
  },
  {
   "cell_type": "code",
   "execution_count": null,
   "metadata": {},
   "outputs": [],
   "source": [
    "# Only used for testing different number of images per specimen for all folds\n",
    "for csv in csv_list:\n",
    "    for lr in [0.001, 0.00001]:\n",
    "        for fold in range(5):\n",
    "            !python scripts/02_train.py \\\n",
    "                --data_folder \"../0_images/\" \\\n",
    "                --dataset_config \"conf/user_datasets.py\" \\\n",
    "                --dataset_name \"biodiscover\" \\\n",
    "                --csv_path {csv} \\\n",
    "                --label \"Final_species_label\" \\\n",
    "                --fold {fold} \\\n",
    "                --class_map \"data/processed/class_map_location.txt\" \\\n",
    "                --imsize 224 \\\n",
    "                --batch_size 256 \\\n",
    "                --aug 'trivialaugment' \\\n",
    "                --load_to_memory 'False' \\\n",
    "                --model 'efficientnet_b0' \\\n",
    "                --opt 'adamw' \\\n",
    "                --max_epochs 200 \\\n",
    "                --min_epochs 50 \\\n",
    "                --early_stopping 'True' \\\n",
    "                --early_stopping_patience 50 \\\n",
    "                --criterion 'cross-entropy' \\\n",
    "                --lr {lr} \\\n",
    "                --auto_lr 'False' \\\n",
    "                --log_dir 'ept-14-img_num_research' \\\n",
    "                --out_folder 'outputs' \\\n",
    "                --out_prefix f'08_ept-14_img{csv[-7:-4]}_lr{lr}_test_run' \\\n",
    "                --deterministic 'True' \\\n",
    "                --precision '16-mixed'"
   ]
  },
  {
   "cell_type": "code",
   "execution_count": null,
   "metadata": {},
   "outputs": [],
   "source": [
    "# Only used for testing different number of images per specimen for all folds\n",
    "for csv in csv_list:\n",
    "    for lr in [0.005, 0.001, 0.0005, 0.0001, 0.00005, 0.00001, 0.000005, 0.000001]:\n",
    "        for fold in range(5):\n",
    "            !python scripts/02_train.py \\\n",
    "                --data_folder \"../0_images/\" \\\n",
    "                --dataset_config \"conf/user_datasets.py\" \\\n",
    "                --dataset_name \"biodiscover\" \\\n",
    "                --csv_path {csv} \\\n",
    "                --label \"Final_species_label\" \\\n",
    "                --fold {fold} \\\n",
    "                --class_map \"data/processed/class_map_location.txt\" \\\n",
    "                --imsize 224 \\\n",
    "                --batch_size 256 \\\n",
    "                --aug 'trivialaugment' \\\n",
    "                --load_to_memory 'False' \\\n",
    "                --model 'efficientnet_b0' \\\n",
    "                --opt 'adamw' \\\n",
    "                --max_epochs 100 \\\n",
    "                --min_epochs 0 \\\n",
    "                --early_stopping 'False' \\\n",
    "                --early_stopping_patience 50 \\\n",
    "                --criterion 'cross-entropy' \\\n",
    "                --lr {lr} \\\n",
    "                --auto_lr 'False' \\\n",
    "                --log_dir 'ept-14-img_num_research' \\\n",
    "                --out_folder 'outputs' \\\n",
    "                --out_prefix f'08_ept-14_img{csv[-7:-4]}_lr{lr}_test_run' \\\n",
    "                --deterministic 'True' \\\n",
    "                --precision '16-mixed'"
   ]
  },
  {
   "cell_type": "code",
   "execution_count": null,
   "metadata": {},
   "outputs": [],
   "source": []
  }
 ],
 "metadata": {
  "kernelspec": {
   "display_name": "Python 3",
   "language": "python",
   "name": "python3"
  },
  "language_info": {
   "codemirror_mode": {
    "name": "ipython",
    "version": 3
   },
   "file_extension": ".py",
   "mimetype": "text/x-python",
   "name": "python",
   "nbconvert_exporter": "python",
   "pygments_lexer": "ipython3",
   "version": "3.8.10"
  }
 },
 "nbformat": 4,
 "nbformat_minor": 2
}
