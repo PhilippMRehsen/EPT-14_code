{
 "cells": [
  {
   "cell_type": "code",
   "execution_count": 1,
   "metadata": {},
   "outputs": [
    {
     "name": "stdout",
     "output_type": "stream",
     "text": [
      "Intel MKL WARNING: Support of Intel(R) Streaming SIMD Extensions 4.2 (Intel(R) SSE4.2) enabled only processors has been deprecated. Intel oneAPI Math Kernel Library 2025.0 will require Intel(R) Advanced Vector Extensions (Intel(R) AVX) instructions.\n",
      "Intel MKL WARNING: Support of Intel(R) Streaming SIMD Extensions 4.2 (Intel(R) SSE4.2) enabled only processors has been deprecated. Intel oneAPI Math Kernel Library 2025.0 will require Intel(R) Advanced Vector Extensions (Intel(R) AVX) instructions.\n"
     ]
    }
   ],
   "source": [
    "# Using Python 3.12.1 (local env: HeatNSalt)\n",
    "\n",
    "import pandas as pd\n",
    "import os\n",
    "\n",
    "# Fuse BioDiscover image data files \n",
    "path_image = 'raw/raw_image_data'\n",
    "image_files = os.listdir(path_image)\n",
    "if '.DS_Store' in image_files:\n",
    "    image_files.remove('.DS_Store')\n",
    "\n",
    "complete_image_df = pd.read_csv(path_image+'/'+image_files[0],encoding='ISO-8859-1', sep=';') # read first csv file\n",
    "for file in image_files[1:]: # read remaining csv files and add to first dataframe\n",
    "    new_image_df = pd.read_csv(path_image+'/'+file,encoding='ISO-8859-1',sep=';')\n",
    "    complete_image_df = pd.merge(complete_image_df, new_image_df, how='outer')\n",
    "\n",
    "complete_image_df.to_csv('outputs/image_data_complete.csv', index=False)\n",
    "\n",
    "# Fuse BioDiscover setup data files\n",
    "path_setup = 'raw/raw_setup_data'\n",
    "setup_files_csv = [file for file in os.listdir(path_setup) if file.endswith('.csv')]\n",
    "setup_files_xlsx = [file for file in os.listdir(path_setup) if file.endswith('.xlsx')]\n",
    "\n",
    "\n",
    "complete_setup_df = pd.read_csv(path_setup+'/'+setup_files_csv[0],encoding='ISO-8859-1', sep=';') # read first csv file\n",
    "complete_setup_df = complete_setup_df.drop(['Longitude'], axis=1)\n",
    "complete_setup_df = complete_setup_df.drop(['Latitude'], axis=1)\n",
    "\n",
    "for file in setup_files_csv[1:]: # read remaining csv files and add to first dataframe\n",
    "    new_setup_df = pd.read_csv(path_setup+'/'+file,encoding='ISO-8859-1',sep=';')\n",
    "    new_setup_df = new_setup_df.drop(['Longitude'], axis=1)\n",
    "    new_setup_df = new_setup_df.drop(['Latitude'], axis=1)\n",
    "    complete_setup_df = pd.merge(complete_setup_df, new_setup_df, how='outer')\n",
    "\n",
    "complete_setup_df['Date (DD/MM/YYYY HH:MM)'] = pd.to_datetime(complete_setup_df['Date (DD/MM/YYYY HH:MM)'], format='%d.%m.%Y %H:%M')\n",
    "\n",
    "for file in setup_files_xlsx: # read all xlsx files and add to first dataframe\n",
    "    new_setup_df = pd.read_excel(path_setup+'/'+file)\n",
    "    new_setup_df = new_setup_df.drop(['Longitude'], axis=1)\n",
    "    new_setup_df = new_setup_df.drop(['Latitude'], axis=1)\n",
    "    new_setup_df['Date (DD/MM/YYYY HH:MM)'] = pd.to_datetime(new_setup_df['Date (DD/MM/YYYY HH:MM)'], format='%d.%m.%Y %H:%M')\n",
    "    complete_setup_df = pd.merge(complete_setup_df, new_setup_df, how='outer')\n",
    "\n",
    "complete_setup_df = complete_setup_df.rename(columns={'Latitude': 'Tube_weight_empty', 'Longitude': 'Tube_weight_with_dried_specimen', 'Sex': 'Order'})\n",
    "\n",
    "complete_setup_df.to_csv('outputs/setup_data_complete.csv', index=False)"
   ]
  }
 ],
 "metadata": {
  "kernelspec": {
   "display_name": "HeatNSalt",
   "language": "python",
   "name": "python3"
  },
  "language_info": {
   "codemirror_mode": {
    "name": "ipython",
    "version": 3
   },
   "file_extension": ".py",
   "mimetype": "text/x-python",
   "name": "python",
   "nbconvert_exporter": "python",
   "pygments_lexer": "ipython3",
   "version": "3.12.1"
  }
 },
 "nbformat": 4,
 "nbformat_minor": 2
}
