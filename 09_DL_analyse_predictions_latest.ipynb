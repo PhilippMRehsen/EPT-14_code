{
 "cells": [
  {
   "cell_type": "code",
   "execution_count": 1,
   "metadata": {},
   "outputs": [
    {
     "name": "stdout",
     "output_type": "stream",
     "text": [
      "Intel MKL WARNING: Support of Intel(R) Streaming SIMD Extensions 4.2 (Intel(R) SSE4.2) enabled only processors has been deprecated. Intel oneAPI Math Kernel Library 2025.0 will require Intel(R) Advanced Vector Extensions (Intel(R) AVX) instructions.\n",
      "Intel MKL WARNING: Support of Intel(R) Streaming SIMD Extensions 4.2 (Intel(R) SSE4.2) enabled only processors has been deprecated. Intel oneAPI Math Kernel Library 2025.0 will require Intel(R) Advanced Vector Extensions (Intel(R) AVX) instructions.\n"
     ]
    }
   ],
   "source": [
    "# Using Python 3.12.1 (local env: HeatNSalt)\n",
    "\n",
    "import pandas as pd\n",
    "import numpy as np\n",
    "import seaborn as sns\n",
    "import plotly.express as px"
   ]
  },
  {
   "cell_type": "code",
   "execution_count": 2,
   "metadata": {},
   "outputs": [],
   "source": [
    "predictions = pd.read_csv('outputs/Predictions/V1-EPT-14-biomass_efficientnet_b0_grouped_predictions_mean.csv')\n",
    "predictions_1 = pd.read_csv('outputs/Predictions/V1-EPT-14-biomass+1_efficientnet_b0_grouped_predictions_mean.csv').rename(columns={'y_pred': 'y_pred_+1'})\n",
    "species_info = pd.read_excel('outputs/EPT-14-short-final.xlsx')"
   ]
  },
  {
   "cell_type": "code",
   "execution_count": 3,
   "metadata": {},
   "outputs": [
    {
     "data": {
      "text/html": [
       "<div>\n",
       "<style scoped>\n",
       "    .dataframe tbody tr th:only-of-type {\n",
       "        vertical-align: middle;\n",
       "    }\n",
       "\n",
       "    .dataframe tbody tr th {\n",
       "        vertical-align: top;\n",
       "    }\n",
       "\n",
       "    .dataframe thead th {\n",
       "        text-align: right;\n",
       "    }\n",
       "</style>\n",
       "<table border=\"1\" class=\"dataframe\">\n",
       "  <thead>\n",
       "    <tr style=\"text-align: right;\">\n",
       "      <th></th>\n",
       "      <th>Specimen ID</th>\n",
       "      <th>Species_DNA</th>\n",
       "      <th>Order_DNA</th>\n",
       "    </tr>\n",
       "  </thead>\n",
       "  <tbody>\n",
       "    <tr>\n",
       "      <th>0</th>\n",
       "      <td>4_F12</td>\n",
       "      <td>Goera pilosa</td>\n",
       "      <td>Trichoptera</td>\n",
       "    </tr>\n",
       "    <tr>\n",
       "      <th>1</th>\n",
       "      <td>4_G3</td>\n",
       "      <td>Potamophylax rotundipennis</td>\n",
       "      <td>Trichoptera</td>\n",
       "    </tr>\n",
       "    <tr>\n",
       "      <th>2</th>\n",
       "      <td>4_G4</td>\n",
       "      <td>Baetis vernus</td>\n",
       "      <td>Ephemeroptera</td>\n",
       "    </tr>\n",
       "    <tr>\n",
       "      <th>3</th>\n",
       "      <td>4_G5</td>\n",
       "      <td>Baetis rhodani</td>\n",
       "      <td>Ephemeroptera</td>\n",
       "    </tr>\n",
       "    <tr>\n",
       "      <th>4</th>\n",
       "      <td>4_G6</td>\n",
       "      <td>Caenis horaria</td>\n",
       "      <td>Ephemeroptera</td>\n",
       "    </tr>\n",
       "    <tr>\n",
       "      <th>...</th>\n",
       "      <td>...</td>\n",
       "      <td>...</td>\n",
       "      <td>...</td>\n",
       "    </tr>\n",
       "    <tr>\n",
       "      <th>738</th>\n",
       "      <td>10_C7</td>\n",
       "      <td>Baetis rhodani</td>\n",
       "      <td>Ephemeroptera</td>\n",
       "    </tr>\n",
       "    <tr>\n",
       "      <th>739</th>\n",
       "      <td>10_C8</td>\n",
       "      <td>Baetis rhodani</td>\n",
       "      <td>Ephemeroptera</td>\n",
       "    </tr>\n",
       "    <tr>\n",
       "      <th>740</th>\n",
       "      <td>10_C9</td>\n",
       "      <td>Baetis rhodani</td>\n",
       "      <td>Ephemeroptera</td>\n",
       "    </tr>\n",
       "    <tr>\n",
       "      <th>741</th>\n",
       "      <td>10_C10</td>\n",
       "      <td>Baetis rhodani</td>\n",
       "      <td>Ephemeroptera</td>\n",
       "    </tr>\n",
       "    <tr>\n",
       "      <th>742</th>\n",
       "      <td>10_C11</td>\n",
       "      <td>Nemoura cinerea</td>\n",
       "      <td>Plecoptera</td>\n",
       "    </tr>\n",
       "  </tbody>\n",
       "</table>\n",
       "<p>743 rows × 3 columns</p>\n",
       "</div>"
      ],
      "text/plain": [
       "    Specimen ID                 Species_DNA      Order_DNA\n",
       "0         4_F12                Goera pilosa    Trichoptera\n",
       "1          4_G3  Potamophylax rotundipennis    Trichoptera\n",
       "2          4_G4               Baetis vernus  Ephemeroptera\n",
       "3          4_G5              Baetis rhodani  Ephemeroptera\n",
       "4          4_G6              Caenis horaria  Ephemeroptera\n",
       "..          ...                         ...            ...\n",
       "738       10_C7              Baetis rhodani  Ephemeroptera\n",
       "739       10_C8              Baetis rhodani  Ephemeroptera\n",
       "740       10_C9              Baetis rhodani  Ephemeroptera\n",
       "741      10_C10              Baetis rhodani  Ephemeroptera\n",
       "742      10_C11             Nemoura cinerea     Plecoptera\n",
       "\n",
       "[743 rows x 3 columns]"
      ]
     },
     "execution_count": 3,
     "metadata": {},
     "output_type": "execute_result"
    }
   ],
   "source": [
    "species_info[['Specimen ID', 'Species_DNA', 'Order_DNA']]"
   ]
  },
  {
   "cell_type": "code",
   "execution_count": 4,
   "metadata": {},
   "outputs": [],
   "source": [
    "predictions_pre = pd.merge(predictions, predictions_1, left_on='individual', right_on='individual', how='left')\n",
    "predictions_plus = pd.merge(predictions_pre, species_info[['Specimen ID', 'Species_DNA', 'Order_DNA']], left_on='individual', right_on='Specimen ID', how='left')"
   ]
  },
  {
   "cell_type": "code",
   "execution_count": 5,
   "metadata": {},
   "outputs": [
    {
     "data": {
      "text/html": [
       "<div>\n",
       "<style scoped>\n",
       "    .dataframe tbody tr th:only-of-type {\n",
       "        vertical-align: middle;\n",
       "    }\n",
       "\n",
       "    .dataframe tbody tr th {\n",
       "        vertical-align: top;\n",
       "    }\n",
       "\n",
       "    .dataframe thead th {\n",
       "        text-align: right;\n",
       "    }\n",
       "</style>\n",
       "<table border=\"1\" class=\"dataframe\">\n",
       "  <thead>\n",
       "    <tr style=\"text-align: right;\">\n",
       "      <th></th>\n",
       "      <th>individual</th>\n",
       "      <th>Log_weights</th>\n",
       "      <th>y_pred</th>\n",
       "      <th>Log+1_weights</th>\n",
       "      <th>y_pred_+1</th>\n",
       "      <th>Specimen ID</th>\n",
       "      <th>Species_DNA</th>\n",
       "      <th>Order_DNA</th>\n",
       "    </tr>\n",
       "  </thead>\n",
       "  <tbody>\n",
       "    <tr>\n",
       "      <th>0</th>\n",
       "      <td>10_A10</td>\n",
       "      <td>-3.218876</td>\n",
       "      <td>-0.853720</td>\n",
       "      <td>0.039221</td>\n",
       "      <td>0.352521</td>\n",
       "      <td>10_A10</td>\n",
       "      <td>Athripsodes cinereus</td>\n",
       "      <td>Trichoptera</td>\n",
       "    </tr>\n",
       "    <tr>\n",
       "      <th>1</th>\n",
       "      <td>10_A11</td>\n",
       "      <td>-0.527633</td>\n",
       "      <td>-0.337161</td>\n",
       "      <td>0.463734</td>\n",
       "      <td>0.570298</td>\n",
       "      <td>10_A11</td>\n",
       "      <td>Goera pilosa</td>\n",
       "      <td>Trichoptera</td>\n",
       "    </tr>\n",
       "    <tr>\n",
       "      <th>2</th>\n",
       "      <td>10_A2</td>\n",
       "      <td>-1.469676</td>\n",
       "      <td>-0.866161</td>\n",
       "      <td>0.207014</td>\n",
       "      <td>0.624440</td>\n",
       "      <td>10_A2</td>\n",
       "      <td>Baetis vernus</td>\n",
       "      <td>Ephemeroptera</td>\n",
       "    </tr>\n",
       "    <tr>\n",
       "      <th>3</th>\n",
       "      <td>10_A3</td>\n",
       "      <td>-0.941609</td>\n",
       "      <td>0.109238</td>\n",
       "      <td>0.329304</td>\n",
       "      <td>0.709112</td>\n",
       "      <td>10_A3</td>\n",
       "      <td>Baetis rhodani</td>\n",
       "      <td>Ephemeroptera</td>\n",
       "    </tr>\n",
       "    <tr>\n",
       "      <th>4</th>\n",
       "      <td>10_A4</td>\n",
       "      <td>1.885553</td>\n",
       "      <td>2.185082</td>\n",
       "      <td>2.026832</td>\n",
       "      <td>2.331206</td>\n",
       "      <td>10_A4</td>\n",
       "      <td>Ephemera danica</td>\n",
       "      <td>Ephemeroptera</td>\n",
       "    </tr>\n",
       "    <tr>\n",
       "      <th>...</th>\n",
       "      <td>...</td>\n",
       "      <td>...</td>\n",
       "      <td>...</td>\n",
       "      <td>...</td>\n",
       "      <td>...</td>\n",
       "      <td>...</td>\n",
       "      <td>...</td>\n",
       "      <td>...</td>\n",
       "    </tr>\n",
       "    <tr>\n",
       "      <th>738</th>\n",
       "      <td>9_H5</td>\n",
       "      <td>3.659193</td>\n",
       "      <td>2.935240</td>\n",
       "      <td>3.684620</td>\n",
       "      <td>3.034233</td>\n",
       "      <td>9_H5</td>\n",
       "      <td>Goera pilosa</td>\n",
       "      <td>Trichoptera</td>\n",
       "    </tr>\n",
       "    <tr>\n",
       "      <th>739</th>\n",
       "      <td>9_H6</td>\n",
       "      <td>1.472472</td>\n",
       "      <td>-2.828196</td>\n",
       "      <td>1.678964</td>\n",
       "      <td>0.101603</td>\n",
       "      <td>9_H6</td>\n",
       "      <td>Athripsodes cinereus</td>\n",
       "      <td>Trichoptera</td>\n",
       "    </tr>\n",
       "    <tr>\n",
       "      <th>740</th>\n",
       "      <td>9_H7</td>\n",
       "      <td>-0.446287</td>\n",
       "      <td>-1.045692</td>\n",
       "      <td>0.494696</td>\n",
       "      <td>0.328258</td>\n",
       "      <td>9_H7</td>\n",
       "      <td>Limnephilus lunatus</td>\n",
       "      <td>Trichoptera</td>\n",
       "    </tr>\n",
       "    <tr>\n",
       "      <th>741</th>\n",
       "      <td>9_H8</td>\n",
       "      <td>0.494696</td>\n",
       "      <td>-0.206909</td>\n",
       "      <td>0.970779</td>\n",
       "      <td>0.551794</td>\n",
       "      <td>9_H8</td>\n",
       "      <td>Limnephilus lunatus</td>\n",
       "      <td>Trichoptera</td>\n",
       "    </tr>\n",
       "    <tr>\n",
       "      <th>742</th>\n",
       "      <td>9_H9</td>\n",
       "      <td>4.841348</td>\n",
       "      <td>4.922372</td>\n",
       "      <td>4.849214</td>\n",
       "      <td>4.895694</td>\n",
       "      <td>9_H9</td>\n",
       "      <td>Potamophylax rotundipennis</td>\n",
       "      <td>Trichoptera</td>\n",
       "    </tr>\n",
       "  </tbody>\n",
       "</table>\n",
       "<p>743 rows × 8 columns</p>\n",
       "</div>"
      ],
      "text/plain": [
       "    individual  Log_weights    y_pred  Log+1_weights  y_pred_+1 Specimen ID  \\\n",
       "0       10_A10    -3.218876 -0.853720       0.039221   0.352521      10_A10   \n",
       "1       10_A11    -0.527633 -0.337161       0.463734   0.570298      10_A11   \n",
       "2        10_A2    -1.469676 -0.866161       0.207014   0.624440       10_A2   \n",
       "3        10_A3    -0.941609  0.109238       0.329304   0.709112       10_A3   \n",
       "4        10_A4     1.885553  2.185082       2.026832   2.331206       10_A4   \n",
       "..         ...          ...       ...            ...        ...         ...   \n",
       "738       9_H5     3.659193  2.935240       3.684620   3.034233        9_H5   \n",
       "739       9_H6     1.472472 -2.828196       1.678964   0.101603        9_H6   \n",
       "740       9_H7    -0.446287 -1.045692       0.494696   0.328258        9_H7   \n",
       "741       9_H8     0.494696 -0.206909       0.970779   0.551794        9_H8   \n",
       "742       9_H9     4.841348  4.922372       4.849214   4.895694        9_H9   \n",
       "\n",
       "                    Species_DNA      Order_DNA  \n",
       "0          Athripsodes cinereus    Trichoptera  \n",
       "1                  Goera pilosa    Trichoptera  \n",
       "2                 Baetis vernus  Ephemeroptera  \n",
       "3                Baetis rhodani  Ephemeroptera  \n",
       "4               Ephemera danica  Ephemeroptera  \n",
       "..                          ...            ...  \n",
       "738                Goera pilosa    Trichoptera  \n",
       "739        Athripsodes cinereus    Trichoptera  \n",
       "740         Limnephilus lunatus    Trichoptera  \n",
       "741         Limnephilus lunatus    Trichoptera  \n",
       "742  Potamophylax rotundipennis    Trichoptera  \n",
       "\n",
       "[743 rows x 8 columns]"
      ]
     },
     "execution_count": 5,
     "metadata": {},
     "output_type": "execute_result"
    }
   ],
   "source": [
    "predictions_plus"
   ]
  },
  {
   "cell_type": "code",
   "execution_count": 6,
   "metadata": {},
   "outputs": [],
   "source": [
    "predictions_plus['Weights'] = np.exp(predictions_plus['Log_weights'])\n",
    "predictions_plus['Weights_pred'] = np.exp(predictions_plus['y_pred'])\n",
    "predictions_plus['Weights+1'] = np.exp(predictions_plus['Log+1_weights'])-1\n",
    "predictions_plus['Weights_pred_+1'] = np.exp(predictions_plus['y_pred_+1'])-1"
   ]
  },
  {
   "cell_type": "code",
   "execution_count": 7,
   "metadata": {},
   "outputs": [
    {
     "name": "stdout",
     "output_type": "stream",
     "text": [
      "Intel MKL WARNING: Support of Intel(R) Streaming SIMD Extensions 4.2 (Intel(R) SSE4.2) enabled only processors has been deprecated. Intel oneAPI Math Kernel Library 2025.0 will require Intel(R) Advanced Vector Extensions (Intel(R) AVX) instructions.\n"
     ]
    },
    {
     "data": {
      "application/vnd.plotly.v1+json": {
       "config": {
        "plotlyServerURL": "https://plot.ly"
       },
       "data": [
        {
         "customdata": [
          [
           "10_A10",
           "Athripsodes cinereus",
           0.03999999999996366
          ],
          [
           "10_A11",
           "Goera pilosa",
           0.5899999999999181
          ],
          [
           "10_A2",
           "Baetis vernus",
           0.23000000000001822
          ],
          [
           "10_A3",
           "Baetis rhodani",
           0.3900000000001
          ],
          [
           "10_A4",
           "Ephemera danica",
           6.589999999999923
          ],
          [
           "10_A5",
           "Ephemera danica",
           4.950000000000043
          ],
          [
           "10_A6",
           "Anabolia nervosa",
           4.329999999999927
          ],
          [
           "10_A7",
           "Limnephilus lunatus",
           0.05999999999994548
          ],
          [
           "10_A8",
           "Goera pilosa",
           0.15000000000009087
          ],
          [
           "10_A9",
           "Athripsodes cinereus",
           0.3099999999999455
          ],
          [
           "10_B11",
           "Potamophylax rotundipennis",
           105.97000000000003
          ],
          [
           "10_B12",
           "Potamophylax rotundipennis",
           99.77999999999993
          ],
          [
           "10_B2",
           "Halesus radiatus",
           2.5600000000001732
          ],
          [
           "10_B3",
           "Goera pilosa",
           1.0799999999999272
          ],
          [
           "10_B5",
           "Chaetopteryx villosa",
           0.8799999999998818
          ],
          [
           "10_B6",
           "Limnephilus lunatus",
           0.26999999999998187
          ],
          [
           "10_B7",
           "Limnephilus lunatus",
           0.12000000000011826
          ],
          [
           "10_B8",
           "Limnephilus lunatus",
           0.07000000000016361
          ],
          [
           "10_B9",
           "Chaetopteryx villosa",
           0.2200000000000273
          ],
          [
           "10_C10",
           "Baetis rhodani",
           0.12999999999988177
          ],
          [
           "10_C11",
           "Nemoura cinerea",
           3.1099999999999
          ],
          [
           "10_C2",
           "Goera pilosa",
           11.439999999999827
          ],
          [
           "10_C3",
           "Goera pilosa",
           11.630000000000104
          ],
          [
           "10_C5",
           "Goera pilosa",
           8.929999999999831
          ],
          [
           "10_C6",
           "Baetis rhodani",
           2.4400000000000546
          ],
          [
           "10_C7",
           "Baetis rhodani",
           0.040000000000191056
          ],
          [
           "10_C8",
           "Baetis rhodani",
           0.26999999999998187
          ],
          [
           "10_C9",
           "Baetis rhodani",
           0.03999999999996366
          ],
          [
           "1_A1",
           "Potamophylax rotundipennis",
           18.240000000000027
          ],
          [
           "1_A10",
           "Limnephilus lunatus",
           0.3099999999999455
          ],
          [
           "1_A11",
           "Limnephilus lunatus",
           0.12999999999988177
          ],
          [
           "1_A12",
           "Limnephilus lunatus",
           0.3699999999998908
          ],
          [
           "1_A2",
           "Halesus radiatus",
           10.220000000000024
          ],
          [
           "1_A3",
           "Chaetopteryx villosa",
           2.6800000000000628
          ],
          [
           "1_A4",
           "Limnephilus lunatus",
           0.8300000000001546
          ],
          [
           "1_A5",
           "Limnephilus lunatus",
           0.29999999999995447
          ],
          [
           "1_A6",
           "Limnephilus lunatus",
           0.3599999999998999
          ],
          [
           "1_A7",
           "Limnephilus lunatus",
           0.18000000000006364
          ],
          [
           "1_A8",
           "Limnephilus lunatus",
           0.4200000000000727
          ],
          [
           "1_A9",
           "Limnephilus lunatus",
           0.1800000000000637
          ],
          [
           "1_B1",
           "Limnephilus lunatus",
           0.25999999999999096
          ],
          [
           "1_B10",
           "Amphinemura standfussi",
           0.7300000000000182
          ],
          [
           "1_B11",
           "Potamophylax rotundipennis",
           14.160000000000068
          ],
          [
           "1_B12",
           "Halesus radiatus",
           15.019999999999996
          ],
          [
           "1_B2",
           "Limnephilus lunatus",
           0.26999999999998175
          ],
          [
           "1_B3",
           "Limnephilus lunatus",
           0.6200000000001183
          ],
          [
           "1_B4",
           "Limnephilus lunatus",
           0.4800000000000181
          ],
          [
           "1_B5",
           "Limnephilus lunatus",
           0.5699999999999363
          ],
          [
           "1_B6",
           "Goera pilosa",
           149.18
          ],
          [
           "1_B7",
           "Goera pilosa",
           34.16000000000011
          ],
          [
           "1_B8",
           "Amphinemura standfussi",
           0.6199999999998909
          ],
          [
           "1_B9",
           "Baetis vernus",
           0.47000000000002723
          ],
          [
           "1_C1",
           "Potamophylax rotundipennis",
           16.01999999999998
          ],
          [
           "1_C11",
           "Halesus radiatus",
           4.279999999999973
          ],
          [
           "1_C12",
           "Limnephilus lunatus",
           0.5599999999999454
          ],
          [
           "1_C2",
           "Limnephilus lunatus",
           1.1499999999998636
          ],
          [
           "1_C3",
           "Limnephilus lunatus",
           0.48000000000001813
          ],
          [
           "1_C4",
           "Limnephilus lunatus",
           0.4500000000000454
          ],
          [
           "1_C5",
           "Limnephilus lunatus",
           1.0800000000001546
          ],
          [
           "1_C6",
           "Goera pilosa",
           16.14000000000008
          ],
          [
           "1_C7",
           "Goera pilosa",
           8.690000000000055
          ],
          [
           "1_C8",
           "Ephemera danica",
           1.509999999999991
          ],
          [
           "1_C9",
           "Ephemera danica",
           1.4200000000000728
          ],
          [
           "1_D1",
           "Limnephilus lunatus",
           0.130000000000109
          ],
          [
           "1_D10",
           "Mystacides azureus",
           0.5
          ],
          [
           "1_D11",
           "Limnephilus lunatus",
           0.3999999999998636
          ],
          [
           "1_D12",
           "Potamophylax rotundipennis",
           15.650000000000068
          ],
          [
           "1_D2",
           "Limnephilus lunatus",
           0.4700000000000272
          ],
          [
           "1_D3",
           "Limnephilus lunatus",
           0.14999999999986355
          ],
          [
           "1_D4",
           "Limnephilus lunatus",
           3.410000000000081
          ],
          [
           "1_D5",
           "Mystacides azureus",
           0.5099999999999909
          ],
          [
           "1_D7",
           "Chaetopteryx villosa",
           1.3299999999999272
          ],
          [
           "1_D8",
           "Limnephilus lunatus",
           0.660000000000082
          ],
          [
           "1_D9",
           "Limnephilus lunatus",
           0.9300000000000638
          ],
          [
           "1_E1",
           "Goera pilosa",
           0.9500000000000456
          ],
          [
           "1_E10",
           "Limnephilus lunatus",
           0.8500000000001364
          ],
          [
           "1_E12",
           "Limnephilus lunatus",
           0.7899999999999636
          ],
          [
           "1_E2",
           "Halesus radiatus",
           7.059999999999941
          ],
          [
           "1_E3",
           "Goera pilosa",
           20.119999999999898
          ],
          [
           "1_E4",
           "Goera pilosa",
           63.58000000000011
          ],
          [
           "1_E7",
           "Caenis horaria",
           0.8899999999998727
          ],
          [
           "1_E8",
           "Limnephilus lunatus",
           1.3599999999999
          ],
          [
           "1_E9",
           "Limnephilus lunatus",
           1.179999999999836
          ],
          [
           "1_F1",
           "Limnephilus lunatus",
           0.5199999999999817
          ],
          [
           "1_F10",
           "Athripsodes cinereus",
           2.0599999999999454
          ],
          [
           "1_F11",
           "Goera pilosa",
           17.30999999999995
          ],
          [
           "1_F12",
           "Ephemera danica",
           6.390000000000095
          ],
          [
           "1_F2",
           "Limnephilus lunatus",
           0.6400000000001002
          ],
          [
           "1_F3",
           "Mystacides azureus",
           1.5299999999999725
          ],
          [
           "1_F4",
           "Anabolia nervosa",
           2.079999999999927
          ],
          [
           "1_F5",
           "Chaetopteryx villosa",
           2.159999999999854
          ],
          [
           "1_F6",
           "Potamophylax rotundipennis",
           17.19000000000004
          ],
          [
           "1_F7",
           "Limnephilus lunatus",
           2.3900000000000996
          ],
          [
           "1_F8",
           "Halesus radiatus",
           5.23000000000002
          ],
          [
           "1_F9",
           "Chaetopteryx villosa",
           2.4500000000000446
          ],
          [
           "1_G1",
           "Ephemera danica",
           1.1800000000000634
          ],
          [
           "1_G10",
           "Nemoura cinerea",
           1.0799999999999272
          ],
          [
           "1_G11",
           "Caenis horaria",
           0.7400000000000092
          ],
          [
           "1_G12",
           "Limnephilus lunatus",
           1
          ],
          [
           "1_G2",
           "Baetis rhodani",
           2.5799999999999277
          ],
          [
           "1_G3",
           "Baetis rhodani",
           0.9900000000000091
          ],
          [
           "1_G4",
           "Baetis rhodani",
           2.2699999999999823
          ],
          [
           "1_G5",
           "Baetis rhodani",
           0.7400000000000092
          ],
          [
           "1_G6",
           "Baetis rhodani",
           1.9600000000000364
          ],
          [
           "1_G7",
           "Baetis rhodani",
           1.1899999999998272
          ],
          [
           "1_G8",
           "Caenis horaria",
           0.8100000000001728
          ],
          [
           "1_G9",
           "Mystacides azureus",
           1.1300000000001091
          ],
          [
           "1_H1",
           "Limnephilus lunatus",
           1.0099999999999907
          ],
          [
           "1_H10",
           "Ephemera danica",
           1.7200000000000275
          ],
          [
           "1_H11",
           "Ephemera danica",
           1.120000000000118
          ],
          [
           "1_H12",
           "Ephemera danica",
           3.040000000000191
          ],
          [
           "1_H2",
           "Limnephilus lunatus",
           0.7800000000002002
          ],
          [
           "1_H3",
           "Goera pilosa",
           1.9600000000000355
          ],
          [
           "1_H4",
           "Limnephilus lunatus",
           0.7200000000000273
          ],
          [
           "1_H5",
           "Goera pilosa",
           0.6599999999998545
          ],
          [
           "1_H6",
           "Limnephilus lunatus",
           0.2999999999999545
          ],
          [
           "1_H7",
           "Chaetopteryx villosa",
           2.610000000000127
          ],
          [
           "1_H8",
           "Potamophylax rotundipennis",
           17.200000000000045
          ],
          [
           "1_H9",
           "Potamophylax rotundipennis",
           17.009999999999977
          ],
          [
           "2_A1",
           "Potamophylax rotundipennis",
           17.039999999999974
          ],
          [
           "2_A11",
           "Goera pilosa",
           47.01000000000004
          ],
          [
           "2_A12",
           "Potamophylax rotundipennis",
           99.8
          ],
          [
           "2_A2",
           "Potamophylax rotundipennis",
           21.47000000000003
          ],
          [
           "2_A4",
           "Limnephilus lunatus",
           2.269999999999982
          ],
          [
           "2_A5",
           "Limnephilus lunatus",
           0.9700000000000273
          ],
          [
           "2_A6",
           "Goera pilosa",
           0.6200000000001183
          ],
          [
           "2_A7",
           "Chaetopteryx villosa",
           2.7599999999999905
          ],
          [
           "2_A8",
           "Halesus radiatus",
           6.069999999999933
          ],
          [
           "2_A9",
           "Halesus radiatus",
           18.599999999999905
          ],
          [
           "2_B1",
           "Potamophylax rotundipennis",
           102.08999999999986
          ],
          [
           "2_B10",
           "Anabolia nervosa",
           2.299999999999954
          ],
          [
           "2_B11",
           "Potamophylax rotundipennis",
           17.64999999999988
          ],
          [
           "2_B12",
           "Limnephilus lunatus",
           0.7400000000000092
          ],
          [
           "2_B2",
           "Potamophylax rotundipennis",
           126.25000000000003
          ],
          [
           "2_B3",
           "Ephemera danica",
           4.7799999999999745
          ],
          [
           "2_B4",
           "Limnephilus lunatus",
           0.8800000000001093
          ],
          [
           "2_B5",
           "Limnephilus lunatus",
           1.4000000000000907
          ],
          [
           "2_B6",
           "Limnephilus lunatus",
           1.3499999999999088
          ],
          [
           "2_B7",
           "Chaetopteryx villosa",
           1.6900000000000546
          ],
          [
           "2_B8",
           "Limnephilus lunatus",
           0.8600000000001274
          ],
          [
           "2_B9",
           "Chaetopteryx villosa",
           2.049999999999954
          ],
          [
           "2_C1",
           "Limnephilus lunatus",
           0.7999999999999545
          ],
          [
           "2_C10",
           "Potamophylax rotundipennis",
           14.779999999999964
          ],
          [
           "2_C11",
           "Potamophylax rotundipennis",
           16.430000000000074
          ],
          [
           "2_C12",
           "Potamophylax rotundipennis",
           18.180000000000057
          ],
          [
           "2_C2",
           "Limnephilus lunatus",
           0.660000000000082
          ],
          [
           "2_C3",
           "Potamophylax rotundipennis",
           20.169999999999852
          ],
          [
           "2_C4",
           "Limnephilus lunatus",
           3.09999999999991
          ],
          [
           "2_C5",
           "Potamophylax rotundipennis",
           14.149999999999858
          ],
          [
           "2_C6",
           "Ephemera danica",
           1.480000000000018
          ],
          [
           "2_C7",
           "Limnephilus lunatus",
           0.9600000000000365
          ],
          [
           "2_C8",
           "Limnephilus lunatus",
           1.0300000000002
          ],
          [
           "2_C9",
           "Potamophylax rotundipennis",
           17.509999999999987
          ],
          [
           "2_D1",
           "Athripsodes cinereus",
           4.720000000000029
          ],
          [
           "2_D10",
           "Athripsodes cinereus",
           0.900000000000091
          ],
          [
           "2_D11",
           "Goera pilosa",
           1.349999999999909
          ],
          [
           "2_D12",
           "Athripsodes cinereus",
           1.0100000000002183
          ],
          [
           "2_D2",
           "Ephemera danica",
           6.779999999999971
          ],
          [
           "2_D4",
           "Chaetopteryx villosa",
           1.589999999999918
          ],
          [
           "2_D5",
           "Limnephilus lunatus",
           0.4500000000000454
          ],
          [
           "2_D7",
           "Limnephilus lunatus",
           1.349999999999909
          ],
          [
           "2_D8",
           "Limnephilus lunatus",
           0.9900000000000091
          ],
          [
           "2_D9",
           "Limnephilus lunatus",
           1.0499999999999543
          ],
          [
           "2_E1",
           "Potamophylax rotundipennis",
           5.779999999999977
          ],
          [
           "2_E10",
           "Ephemera danica",
           1.3500000000001362
          ],
          [
           "2_E11",
           "Ephemera danica",
           2.0999999999999095
          ],
          [
           "2_E12",
           "Ephemera danica",
           3.6600000000000805
          ],
          [
           "2_E2",
           "Potamophylax rotundipennis",
           18.450000000000035
          ],
          [
           "2_E5",
           "Goera pilosa",
           30.79
          ],
          [
           "2_E6",
           "Goera pilosa",
           13.500000000000005
          ],
          [
           "2_E8",
           "Goera pilosa",
           32.02999999999997
          ],
          [
           "2_E9",
           "Baetis vernus",
           1.4300000000000634
          ],
          [
           "2_F1",
           "Ephemera danica",
           5.330000000000157
          ],
          [
           "2_F10",
           "Ephemera danica",
           2.4400000000000546
          ],
          [
           "2_F11",
           "Ephemera danica",
           3.439999999999828
          ],
          [
           "2_F12",
           "Limnephilus lunatus",
           1.0199999999999818
          ],
          [
           "2_F2",
           "Limnephilus lunatus",
           0.9200000000000729
          ],
          [
           "2_F3",
           "Limnephilus lunatus",
           0.7799999999999727
          ],
          [
           "2_F4",
           "Limnephilus lunatus",
           0.8699999999998909
          ],
          [
           "2_F5",
           "Limnephilus lunatus",
           0.9900000000000091
          ],
          [
           "2_F7",
           "Nemoura cinerea",
           1.1000000000001362
          ],
          [
           "2_F8",
           "Ephemera danica",
           1.7000000000000453
          ],
          [
           "2_F9",
           "Ephemera danica",
           2.5299999999999727
          ],
          [
           "2_G1",
           "Limnephilus lunatus",
           1.0700000000001637
          ],
          [
           "2_G12",
           "Chaetopteryx villosa",
           1.5199999999999818
          ],
          [
           "2_G2",
           "Limnephilus lunatus",
           0.9400000000000546
          ],
          [
           "2_G3",
           "Limnephilus lunatus",
           0.7099999999998091
          ],
          [
           "2_G5",
           "Goera pilosa",
           1.1499999999998636
          ],
          [
           "2_G6",
           "Chaetopteryx villosa",
           8.039999999999958
          ],
          [
           "2_G7",
           "Goera pilosa",
           15.670000000000078
          ],
          [
           "2_G9",
           "Baetis rhodani",
           1.2899999999999636
          ],
          [
           "2_H1",
           "Athripsodes cinereus",
           0.9500000000000456
          ],
          [
           "2_H11",
           "Limnephilus lunatus",
           1.230000000000018
          ],
          [
           "2_H12",
           "Chaetopteryx villosa",
           1.5199999999999818
          ],
          [
           "2_H2",
           "Athripsodes cinereus",
           0.7100000000000364
          ],
          [
           "2_H3",
           "Limnephilus lunatus",
           1.0499999999999545
          ],
          [
           "2_H4",
           "Limnephilus lunatus",
           1.6499999999998638
          ],
          [
           "2_H5",
           "Halesus radiatus",
           5.690000000000054
          ],
          [
           "2_H6",
           "Goera pilosa",
           16.049999999999986
          ],
          [
           "2_H8",
           "Ephemera danica",
           1.4700000000000273
          ],
          [
           "2_H9",
           "Ephemera danica",
           2.650000000000092
          ],
          [
           "3_A1",
           "Limnephilus lunatus",
           0.8399999999999181
          ],
          [
           "3_A10",
           "Goera pilosa",
           60.71000000000001
          ],
          [
           "3_A11",
           "Goera pilosa",
           150.07000000000025
          ],
          [
           "3_A12",
           "Ephemera danica",
           3.430000000000063
          ],
          [
           "3_A2",
           "Anabolia nervosa",
           0.8299999999999274
          ],
          [
           "3_A4",
           "Potamophylax rotundipennis",
           20.04999999999998
          ],
          [
           "3_A5",
           "Potamophylax rotundipennis",
           18.84000000000011
          ],
          [
           "3_A6",
           "Halesus radiatus",
           9.779999999999982
          ],
          [
           "3_A8",
           "Goera pilosa",
           8.779999999999971
          ],
          [
           "3_A9",
           "Goera pilosa",
           60.47
          ],
          [
           "3_B1",
           "Ephemera danica",
           2.080000000000154
          ],
          [
           "3_B10",
           "Anabolia nervosa",
           1.4700000000000275
          ],
          [
           "3_B11",
           "Limnephilus lunatus",
           0.5499999999999545
          ],
          [
           "3_B3",
           "Caenis horaria",
           1.9400000000000546
          ],
          [
           "3_B4",
           "Limnephilus lunatus",
           1.349999999999909
          ],
          [
           "3_B5",
           "Limnephilus lunatus",
           1.3500000000001362
          ],
          [
           "3_B6",
           "Limnephilus lunatus",
           1.2999999999999547
          ],
          [
           "3_B7",
           "Chaetopteryx villosa",
           3.4500000000000446
          ],
          [
           "3_B8",
           "Limnephilus lunatus",
           0.9600000000000365
          ],
          [
           "3_B9",
           "Anabolia nervosa",
           5.029999999999974
          ],
          [
           "3_C1",
           "Halesus radiatus",
           6.48000000000002
          ],
          [
           "3_C10",
           "Limnephilus lunatus",
           0.9900000000000092
          ],
          [
           "3_C11",
           "Goera pilosa",
           0.900000000000091
          ],
          [
           "3_C12",
           "Limnephilus lunatus",
           1.1199999999998906
          ],
          [
           "3_C4",
           "Ephemera danica",
           2.5000000000000004
          ],
          [
           "3_C5",
           "Caenis horaria",
           0.7200000000000273
          ],
          [
           "3_C6",
           "Limnephilus lunatus",
           1.1900000000000543
          ],
          [
           "3_C7",
           "Limnephilus lunatus",
           0.9200000000000729
          ],
          [
           "3_C8",
           "Chaetopteryx villosa",
           2.079999999999927
          ],
          [
           "3_C9",
           "Limnephilus lunatus",
           1.4300000000000637
          ],
          [
           "3_D1",
           "Mystacides azureus",
           1.2000000000000455
          ],
          [
           "3_D10",
           "Limnephilus lunatus",
           1
          ],
          [
           "3_D11",
           "Goera pilosa",
           3.8400000000001433
          ],
          [
           "3_D12",
           "Limnephilus lunatus",
           6.650000000000095
          ],
          [
           "3_D3",
           "Goera pilosa",
           14.140000000000114
          ],
          [
           "3_D4",
           "Goera pilosa",
           59.77999999999995
          ],
          [
           "3_D5",
           "Ephemera danica",
           8.769999999999976
          ],
          [
           "3_D7",
           "Caenis horaria",
           0.8800000000001093
          ],
          [
           "3_D8",
           "Ephemera danica",
           9.079999999999927
          ],
          [
           "3_D9",
           "Limnephilus lunatus",
           0.9400000000000547
          ],
          [
           "3_E1",
           "Chaetopteryx villosa",
           1.5299999999999727
          ],
          [
           "3_E10",
           "Halesus radiatus",
           0.6800000000000637
          ],
          [
           "3_E11",
           "Limnephilus lunatus",
           0.8600000000001274
          ],
          [
           "3_E12",
           "Limnephilus lunatus",
           0.9800000000000183
          ],
          [
           "3_E2",
           "Limnephilus lunatus",
           0.8200000000001637
          ],
          [
           "3_E4",
           "Goera pilosa",
           8.829999999999927
          ],
          [
           "3_E5",
           "Baetis rhodani",
           0.7699999999999818
          ],
          [
           "3_E6",
           "Caenis horaria",
           0.6100000000001274
          ],
          [
           "3_E7",
           "Caenis horaria",
           0.6200000000001183
          ],
          [
           "3_E8",
           "Chaetopteryx villosa",
           2.1800000000000637
          ],
          [
           "3_E9",
           "Limnephilus lunatus",
           0.7899999999999636
          ],
          [
           "3_F1",
           "Limnephilus lunatus",
           1.0399999999999636
          ],
          [
           "3_F12",
           "Halesus radiatus",
           1.110000000000127
          ],
          [
           "3_F2",
           "Limnephilus lunatus",
           1.2399999999997817
          ],
          [
           "3_F3",
           "Limnephilus lunatus",
           0.7100000000000364
          ],
          [
           "3_F5",
           "Potamophylax rotundipennis",
           104.33999999999992
          ],
          [
           "3_F6",
           "Potamophylax rotundipennis",
           143.97000000000003
          ],
          [
           "3_F7",
           "Amphinemura standfussi",
           0.6400000000001
          ],
          [
           "3_F8",
           "Nemoura cinerea",
           0.910000000000082
          ],
          [
           "3_F9",
           "Baetis rhodani",
           1.849999999999909
          ],
          [
           "3_G1",
           "Limnephilus lunatus",
           0.8100000000001728
          ],
          [
           "3_G10",
           "Potamophylax rotundipennis",
           26.399999999999885
          ],
          [
           "3_G12",
           "Goera pilosa",
           17.369999999999887
          ],
          [
           "3_G3",
           "Limnephilus lunatus",
           0.9900000000000091
          ],
          [
           "3_G4",
           "Limnephilus lunatus",
           1.1900000000000543
          ],
          [
           "3_G5",
           "Limnephilus lunatus",
           1.120000000000118
          ],
          [
           "3_G6",
           "Mystacides azureus",
           0.9600000000000365
          ],
          [
           "3_G7",
           "Potamophylax rotundipennis",
           15.480000000000025
          ],
          [
           "3_G8",
           "Potamophylax rotundipennis",
           19.019999999999985
          ],
          [
           "3_G9",
           "Potamophylax rotundipennis",
           19.239999999999995
          ],
          [
           "3_H10",
           "Goera pilosa",
           1
          ],
          [
           "3_H12",
           "Potamophylax rotundipennis",
           22.710000000000072
          ],
          [
           "3_H2",
           "Ephemera danica",
           4.369999999999891
          ],
          [
           "3_H4",
           "Baetis vernus",
           1.0599999999999452
          ],
          [
           "3_H5",
           "Amphinemura standfussi",
           1.0799999999999272
          ],
          [
           "3_H6",
           "Chaetopteryx villosa",
           2.8299999999999286
          ],
          [
           "3_H7",
           "Limnephilus lunatus",
           1
          ],
          [
           "3_H8",
           "Limnephilus lunatus",
           1.1199999999998909
          ],
          [
           "3_H9",
           "Limnephilus lunatus",
           0.9600000000000365
          ],
          [
           "4_A1",
           "Potamophylax rotundipennis",
           15.91000000000009
          ],
          [
           "4_A10",
           "Potamophylax rotundipennis",
           20.019999999999982
          ],
          [
           "4_A11",
           "Potamophylax rotundipennis",
           16.33000000000015
          ],
          [
           "4_A12",
           "Goera pilosa",
           18.39999999999987
          ],
          [
           "4_A2",
           "Potamophylax rotundipennis",
           17.829999999999924
          ],
          [
           "4_A3",
           "Ephemera danica",
           1.2799999999999725
          ],
          [
           "4_A4",
           "Baetis rhodani",
           2.1999999999998185
          ],
          [
           "4_A5",
           "Caenis horaria",
           1.1099999999999
          ],
          [
           "4_A6",
           "Limnephilus lunatus",
           0.9400000000000546
          ],
          [
           "4_A7",
           "Limnephilus lunatus",
           1.130000000000109
          ],
          [
           "4_A8",
           "Limnephilus lunatus",
           0.7200000000000273
          ],
          [
           "4_A9",
           "Potamophylax rotundipennis",
           28.43000000000005
          ],
          [
           "4_B1",
           "Goera pilosa",
           211.63000000000017
          ],
          [
           "4_B10",
           "Baetis rhodani",
           1.2699999999999816
          ],
          [
           "4_B11",
           "Limnephilus lunatus",
           0.9300000000000638
          ],
          [
           "4_B12",
           "Limnephilus lunatus",
           0.8299999999999274
          ],
          [
           "4_B2",
           "Goera pilosa",
           21.510000000000012
          ],
          [
           "4_B3",
           "Goera pilosa",
           33.79000000000019
          ],
          [
           "4_B4",
           "Goera pilosa",
           13.43000000000006
          ],
          [
           "4_B5",
           "Goera pilosa",
           68.36000000000016
          ],
          [
           "4_B6",
           "Goera pilosa",
           144.2199999999997
          ],
          [
           "4_B7",
           "Goera pilosa",
           47.619999999999806
          ],
          [
           "4_B8",
           "Goera pilosa",
           6.970000000000025
          ],
          [
           "4_B9",
           "Ephemera danica",
           1.2499999999999998
          ],
          [
           "4_C1",
           "Chaetopteryx villosa",
           3.160000000000082
          ],
          [
           "4_C12",
           "Limnephilus lunatus",
           2.3800000000001096
          ],
          [
           "4_C2",
           "Limnephilus lunatus",
           1.6000000000001364
          ],
          [
           "4_C3",
           "Athripsodes cinereus",
           0.8599999999999001
          ],
          [
           "4_C4",
           "Potamophylax rotundipennis",
           22.670000000000062
          ],
          [
           "4_C5",
           "Potamophylax rotundipennis",
           18.919999999999845
          ],
          [
           "4_C7",
           "Limnephilus lunatus",
           1.1000000000001364
          ],
          [
           "4_C8",
           "Goera pilosa",
           1.1400000000001
          ],
          [
           "4_D1",
           "Ephemera danica",
           3.2000000000000455
          ],
          [
           "4_D10",
           "Chaetopteryx villosa",
           1.8899999999998727
          ],
          [
           "4_D11",
           "Limnephilus lunatus",
           1.4200000000000728
          ],
          [
           "4_D12",
           "Chaetopteryx villosa",
           1.0799999999999272
          ],
          [
           "4_D2",
           "Chaetopteryx villosa",
           1.6000000000001366
          ],
          [
           "4_D3",
           "Limnephilus lunatus",
           0.910000000000082
          ],
          [
           "4_D4",
           "Potamophylax rotundipennis",
           24.000000000000014
          ],
          [
           "4_D9",
           "Baetis vernus",
           1.0599999999999452
          ],
          [
           "4_E1",
           "Goera pilosa",
           0.7799999999999727
          ],
          [
           "4_E10",
           "Limnephilus lunatus",
           1.3300000000001546
          ],
          [
           "4_E11",
           "Limnephilus lunatus",
           1.259999999999991
          ],
          [
           "4_E12",
           "Limnephilus lunatus",
           1.0399999999999636
          ],
          [
           "4_E2",
           "Chaetopteryx villosa",
           1.0199999999999818
          ],
          [
           "4_E4",
           "Athripsodes cinereus",
           1.8599999999998997
          ],
          [
           "4_E5",
           "Goera pilosa",
           20.259999999999998
          ],
          [
           "4_E6",
           "Goera pilosa",
           60.04999999999998
          ],
          [
           "4_E8",
           "Ephemera danica",
           3.009999999999992
          ],
          [
           "4_E9",
           "Ephemera danica",
           9.680000000000074
          ],
          [
           "4_F1",
           "Limnephilus lunatus",
           0.8899999999998727
          ],
          [
           "4_F10",
           "Amphinemura standfussi",
           0.9400000000000547
          ],
          [
           "4_F12",
           "Goera pilosa",
           14.829999999999929
          ],
          [
           "4_F2",
           "Limnephilus lunatus",
           1.2699999999999816
          ],
          [
           "4_F3",
           "Limnephilus lunatus",
           0.9400000000000547
          ],
          [
           "4_F6",
           "Limnephilus lunatus",
           0.9199999999998454
          ],
          [
           "4_F7",
           "Athripsodes cinereus",
           0.790000000000191
          ],
          [
           "4_G10",
           "Limnephilus lunatus",
           1.3899999999998727
          ],
          [
           "4_G11",
           "Goera pilosa",
           1.2199999999998
          ],
          [
           "4_G12",
           "Halesus radiatus",
           21.999999999999986
          ],
          [
           "4_G3",
           "Potamophylax rotundipennis",
           106.29999999999995
          ],
          [
           "4_G4",
           "Baetis vernus",
           1.259999999999991
          ],
          [
           "4_G5",
           "Baetis rhodani",
           1.259999999999991
          ],
          [
           "4_G6",
           "Caenis horaria",
           1.4300000000000637
          ],
          [
           "4_G8",
           "Caenis horaria",
           0.9900000000000091
          ],
          [
           "4_G9",
           "Caenis horaria",
           1.0499999999999545
          ],
          [
           "4_H1",
           "Chaetopteryx villosa",
           1.3799999999998818
          ],
          [
           "4_H10",
           "Goera pilosa",
           52.40999999999978
          ],
          [
           "4_H11",
           "Baetis rhodani",
           0.9599999999998092
          ],
          [
           "4_H12",
           "Caenis horaria",
           0.9499999999998181
          ],
          [
           "4_H2",
           "Limnephilus lunatus",
           1.4199999999998456
          ],
          [
           "4_H3",
           "Limnephilus lunatus",
           0.8600000000001274
          ],
          [
           "4_H4",
           "Anabolia nervosa",
           1.5299999999999727
          ],
          [
           "4_H5",
           "Potamophylax rotundipennis",
           15.849999999999913
          ],
          [
           "4_H6",
           "Potamophylax rotundipennis",
           12.559999999999949
          ],
          [
           "4_H7",
           "Potamophylax rotundipennis",
           18.929999999999847
          ],
          [
           "4_H8",
           "Potamophylax rotundipennis",
           14.830000000000155
          ],
          [
           "5_A1",
           "Amphinemura standfussi",
           1.1900000000000546
          ],
          [
           "5_A10",
           "Caenis horaria",
           1.099999999999909
          ],
          [
           "5_A11",
           "Baetis rhodani",
           0.9300000000000638
          ],
          [
           "5_A12",
           "Baetis rhodani",
           0.800000000000182
          ],
          [
           "5_A2",
           "Chaetopteryx villosa",
           1.6099999999998997
          ],
          [
           "5_A3",
           "Anabolia nervosa",
           2.410000000000082
          ],
          [
           "5_A4",
           "Limnephilus lunatus",
           1.2699999999999816
          ],
          [
           "5_A6",
           "Limnephilus lunatus",
           1.3000000000001817
          ],
          [
           "5_A7",
           "Limnephilus lunatus",
           1.1000000000001364
          ],
          [
           "5_A8",
           "Limnephilus lunatus",
           0.8699999999998909
          ],
          [
           "5_B1",
           "Caenis horaria",
           0.7500000000000001
          ],
          [
           "5_B11",
           "Potamophylax rotundipennis",
           92.68999999999993
          ],
          [
           "5_B2",
           "Ephemera danica",
           3.9800000000000186
          ],
          [
           "5_B4",
           "Limnephilus lunatus",
           5.400000000000091
          ],
          [
           "5_B5",
           "Limnephilus lunatus",
           10.909999999999858
          ],
          [
           "5_B6",
           "Limnephilus lunatus",
           9.370000000000124
          ],
          [
           "5_B7",
           "Potamophylax rotundipennis",
           3.360000000000126
          ],
          [
           "5_B8",
           "Mystacides azureus",
           1.4199999999998454
          ],
          [
           "5_B9",
           "Goera pilosa",
           61.74999999999995
          ],
          [
           "5_C10",
           "Limnephilus lunatus",
           0.8299999999999274
          ],
          [
           "5_C11",
           "Athripsodes cinereus",
           1.110000000000127
          ],
          [
           "5_C12",
           "Mystacides azureus",
           0.8599999999999001
          ],
          [
           "5_C3",
           "Anabolia nervosa",
           3.009999999999991
          ],
          [
           "5_C4",
           "Limnephilus lunatus",
           1.1900000000000546
          ],
          [
           "5_C5",
           "Limnephilus lunatus",
           1.7200000000000277
          ],
          [
           "5_C7",
           "Anabolia nervosa",
           1.7100000000000364
          ],
          [
           "5_C8",
           "Limnephilus lunatus",
           1.2000000000000455
          ],
          [
           "5_C9",
           "Limnephilus lunatus",
           0.9900000000000091
          ],
          [
           "5_D1",
           "Athripsodes cinereus",
           0.9400000000000547
          ],
          [
           "5_D10",
           "Limnephilus lunatus",
           1.089999999999918
          ],
          [
           "5_D11",
           "Anabolia nervosa",
           3.230000000000018
          ],
          [
           "5_D12",
           "Limnephilus lunatus",
           1.0199999999999818
          ],
          [
           "5_D2",
           "Potamophylax rotundipennis",
           14.950000000000054
          ],
          [
           "5_D3",
           "Potamophylax rotundipennis",
           15.42999999999982
          ],
          [
           "5_D4",
           "Potamophylax rotundipennis",
           56.86999999999988
          ],
          [
           "5_D5",
           "Ephemera danica",
           2.7000000000000455
          ],
          [
           "5_D7",
           "Ephemera danica",
           26.10000000000014
          ],
          [
           "5_D8",
           "Chaetopteryx villosa",
           2.470000000000028
          ],
          [
           "5_D9",
           "Limnephilus lunatus",
           1.0699999999999363
          ],
          [
           "5_E1",
           "Potamophylax rotundipennis",
           18.669999999999845
          ],
          [
           "5_E10",
           "Ephemera danica",
           1.4099999999998543
          ],
          [
           "5_E11",
           "Ephemera danica",
           8.62999999999988
          ],
          [
           "5_E12",
           "Baetis rhodani",
           1.490000000000009
          ],
          [
           "5_E3",
           "Limnephilus lunatus",
           1.0399999999999636
          ],
          [
           "5_E4",
           "Limnephilus lunatus",
           1.0199999999999818
          ],
          [
           "5_E5",
           "Goera pilosa",
           1.0599999999999452
          ],
          [
           "5_E6",
           "Limnephilus lunatus",
           0.8999999999998637
          ],
          [
           "5_E7",
           "Goera pilosa",
           26.560000000000187
          ],
          [
           "5_E8",
           "Ephemera danica",
           0.9900000000000091
          ],
          [
           "5_E9",
           "Ephemera danica",
           1.6500000000000912
          ],
          [
           "5_F1",
           "Mystacides azureus",
           1.0299999999999727
          ],
          [
           "5_F10",
           "Goera pilosa",
           6.940000000000054
          ],
          [
           "5_F11",
           "Goera pilosa",
           17.12999999999988
          ],
          [
           "5_F12",
           "Potamophylax rotundipennis",
           98.0300000000001
          ],
          [
           "5_F2",
           "Limnephilus lunatus",
           1.0499999999999545
          ],
          [
           "5_F3",
           "Limnephilus lunatus",
           1.1500000000000907
          ],
          [
           "5_F4",
           "Limnephilus lunatus",
           0.9700000000000273
          ],
          [
           "5_F5",
           "Limnephilus lunatus",
           1.1900000000000543
          ],
          [
           "5_F6",
           "Athripsodes cinereus",
           1.1600000000000816
          ],
          [
           "5_F7",
           "Limnephilus lunatus",
           0.9600000000000365
          ],
          [
           "5_F8",
           "Mystacides azureus",
           0.9600000000000365
          ],
          [
           "5_G1",
           "Limnephilus lunatus",
           1.4600000000000364
          ],
          [
           "5_G10",
           "Anabolia nervosa",
           1.429999999999836
          ],
          [
           "5_G11",
           "Limnephilus lunatus",
           1.2100000000000364
          ],
          [
           "5_G12",
           "Limnephilus lunatus",
           1.009999999999991
          ],
          [
           "5_G3",
           "Limnephilus lunatus",
           1.2000000000000453
          ],
          [
           "5_G4",
           "Chaetopteryx villosa",
           1.3999999999998634
          ],
          [
           "5_G5",
           "Limnephilus lunatus",
           1.0399999999999636
          ],
          [
           "5_G6",
           "Limnephilus lunatus",
           2.1900000000000546
          ],
          [
           "5_G7",
           "Limnephilus lunatus",
           1.1700000000000728
          ],
          [
           "5_G9",
           "Limnephilus lunatus",
           1.2699999999999816
          ],
          [
           "5_H10",
           "Caenis horaria",
           1.2200000000000273
          ],
          [
           "5_H11",
           "Caenis horaria",
           1.2200000000000273
          ],
          [
           "5_H2",
           "Limnephilus lunatus",
           1.2399999999997817
          ],
          [
           "5_H3",
           "Limnephilus lunatus",
           1.1099999999999
          ],
          [
           "5_H4",
           "Limnephilus lunatus",
           1.1700000000000728
          ],
          [
           "5_H5",
           "Goera pilosa",
           1.0199999999999818
          ],
          [
           "5_H6",
           "Goera pilosa",
           77.19999999999959
          ],
          [
           "5_H7",
           "Ephemera danica",
           1.2200000000000273
          ],
          [
           "5_H8",
           "Ephemera danica",
           4.810000000000173
          ],
          [
           "5_H9",
           "Ephemera danica",
           4.339999999999919
          ],
          [
           "6_A1",
           "Limnephilus lunatus",
           1.4400000000000546
          ],
          [
           "6_A12",
           "Baetis rhodani",
           1.1700000000000728
          ],
          [
           "6_A2",
           "Athripsodes cinereus",
           0.9600000000000365
          ],
          [
           "6_A3",
           "Limnephilus lunatus",
           0.9900000000000091
          ],
          [
           "6_A4",
           "Limnephilus lunatus",
           0.7000000000000455
          ],
          [
           "6_A6",
           "Athripsodes cinereus",
           1.6700000000000728
          ],
          [
           "6_A7",
           "Goera pilosa",
           80.29999999999998
          ],
          [
           "6_A8",
           "Goera pilosa",
           91.9500000000001
          ],
          [
           "6_B1",
           "Limnephilus lunatus",
           1.1300000000001091
          ],
          [
           "6_B10",
           "Ephemera danica",
           9.269999999999982
          ],
          [
           "6_B11",
           "Limnephilus lunatus",
           1.1800000000000637
          ],
          [
           "6_B12",
           "Limnephilus lunatus",
           1.2499999999999998
          ],
          [
           "6_B2",
           "Limnephilus lunatus",
           1.1200000000001182
          ],
          [
           "6_B4",
           "Limnephilus lunatus",
           1.4300000000000634
          ],
          [
           "6_B5",
           "Goera pilosa",
           1.1999999999998179
          ],
          [
           "6_B6",
           "Athripsodes cinereus",
           0.9400000000000546
          ],
          [
           "6_B7",
           "Limnephilus lunatus",
           1.0499999999999543
          ],
          [
           "6_B9",
           "Goera pilosa",
           45.220000000000006
          ],
          [
           "6_C10",
           "Baetis rhodani",
           2.7000000000000455
          ],
          [
           "6_C11",
           "Baetis vernus",
           1.6399999999998727
          ],
          [
           "6_C12",
           "Baetis rhodani",
           3.5399999999999663
          ],
          [
           "6_C2",
           "Chaetopteryx villosa",
           3.2000000000000455
          ],
          [
           "6_C3",
           "Goera pilosa",
           3.140000000000101
          ],
          [
           "6_C4",
           "Potamophylax rotundipennis",
           17.009999999999977
          ],
          [
           "6_C5",
           "Potamophylax rotundipennis",
           18.750000000000007
          ],
          [
           "6_C7",
           "Athripsodes cinereus",
           1.2699999999999816
          ],
          [
           "6_C8",
           "Goera pilosa",
           14.32999999999994
          ],
          [
           "6_C9",
           "Ephemera danica",
           2
          ],
          [
           "6_D1",
           "Caenis horaria",
           1.2800000000002
          ],
          [
           "6_D10",
           "Potamophylax rotundipennis",
           99.92999999999991
          ],
          [
           "6_D11",
           "Ephemera danica",
           1.6000000000001364
          ],
          [
           "6_D12",
           "Limnephilus lunatus",
           1.5999999999999093
          ],
          [
           "6_D2",
           "Baetis rhodani",
           1.3000000000001817
          ],
          [
           "6_D3",
           "Athripsodes cinereus",
           1.2100000000000364
          ],
          [
           "6_D4",
           "Chaetopteryx villosa",
           2.9500000000000464
          ],
          [
           "6_D5",
           "Limnephilus lunatus",
           1.259999999999991
          ],
          [
           "6_D7",
           "Limnephilus lunatus",
           1.050000000000182
          ],
          [
           "6_D8",
           "Limnephilus lunatus",
           0.9200000000000729
          ],
          [
           "6_E1",
           "Goera pilosa",
           1.8599999999999
          ],
          [
           "6_E10",
           "Baetis rhodani",
           1.3299999999999272
          ],
          [
           "6_E11",
           "Baetis rhodani",
           1.2200000000000273
          ],
          [
           "6_E12",
           "Ephemera danica",
           8.890000000000104
          ],
          [
           "6_E2",
           "Limnephilus lunatus",
           1.230000000000018
          ],
          [
           "6_E3",
           "Limnephilus lunatus",
           1.6800000000000634
          ],
          [
           "6_E6",
           "Potamophylax rotundipennis",
           155.40999999999994
          ],
          [
           "6_E7",
           "Potamophylax rotundipennis",
           110.58000000000017
          ],
          [
           "6_E8",
           "Potamophylax rotundipennis",
           111.27000000000007
          ],
          [
           "6_E9",
           "Amphinemura standfussi",
           1.4100000000000816
          ],
          [
           "6_F1",
           "Limnephilus lunatus",
           1.3999999999998636
          ],
          [
           "6_F11",
           "Potamophylax rotundipennis",
           26.069999999999943
          ],
          [
           "6_F12",
           "Potamophylax rotundipennis",
           15.160000000000084
          ],
          [
           "6_F2",
           "Limnephilus lunatus",
           4.859999999999901
          ],
          [
           "6_F4",
           "Goera pilosa",
           2.3299999999999272
          ],
          [
           "6_F5",
           "Limnephilus lunatus",
           3.509999999999991
          ],
          [
           "6_F6",
           "Athripsodes cinereus",
           1.9399999999998272
          ],
          [
           "6_F8",
           "Limnephilus lunatus",
           1.0999999999999088
          ],
          [
           "6_F9",
           "Anabolia nervosa",
           8.710000000000027
          ],
          [
           "6_G10",
           "Ephemera danica",
           2
          ],
          [
           "6_G11",
           "Halesus radiatus",
           10.289999999999962
          ],
          [
           "6_G12",
           "Chaetopteryx villosa",
           2.650000000000091
          ],
          [
           "6_G5",
           "Potamophylax rotundipennis",
           30.369999999999877
          ],
          [
           "6_G6",
           "Goera pilosa",
           15.930000000000048
          ],
          [
           "6_G7",
           "Goera pilosa",
           17.509999999999987
          ],
          [
           "6_G8",
           "Ephemera danica",
           2.2400000000000087
          ],
          [
           "6_G9",
           "Baetis rhodani",
           4.7799999999999745
          ],
          [
           "6_H1",
           "Ephemera danica",
           2.950000000000047
          ],
          [
           "6_H10",
           "Nemoura cinerea",
           1.7899999999999636
          ],
          [
           "6_H11",
           "Goera pilosa",
           1.8299999999999272
          ],
          [
           "6_H2",
           "Chaetopteryx villosa",
           3.1899999999998268
          ],
          [
           "6_H3",
           "Limnephilus lunatus",
           1.7500000000000002
          ],
          [
           "6_H4",
           "Limnephilus lunatus",
           1.9500000000000457
          ],
          [
           "6_H5",
           "Potamophylax rotundipennis",
           28.689999999999788
          ],
          [
           "6_H7",
           "Goera pilosa",
           51.01999999999994
          ],
          [
           "6_H8",
           "Baetis rhodani",
           2.3299999999999277
          ],
          [
           "6_H9",
           "Baetis vernus",
           1.7100000000000364
          ],
          [
           "7_A10",
           "Limnephilus lunatus",
           1.4800000000000182
          ],
          [
           "7_A11",
           "Limnephilus lunatus",
           1.9400000000000546
          ],
          [
           "7_A12",
           "Limnephilus lunatus",
           1.3299999999999272
          ],
          [
           "7_A2",
           "Athripsodes cinereus",
           1.3900000000001
          ],
          [
           "7_A5",
           "Goera pilosa",
           71.4799999999997
          ],
          [
           "7_A6",
           "Ephemera danica",
           1.3599999999998997
          ],
          [
           "7_A7",
           "Limnephilus lunatus",
           1.7100000000000364
          ],
          [
           "7_A8",
           "Limnephilus lunatus",
           2.6099999999998995
          ],
          [
           "7_A9",
           "Limnephilus lunatus",
           1.650000000000091
          ],
          [
           "7_B1",
           "Limnephilus lunatus",
           1.240000000000009
          ],
          [
           "7_B10",
           "Baetis rhodani",
           1.5799999999999272
          ],
          [
           "7_B11",
           "Caenis horaria",
           1.0699999999999363
          ],
          [
           "7_B12",
           "Limnephilus lunatus",
           1.2100000000000364
          ],
          [
           "7_B2",
           "Limnephilus lunatus",
           1.4300000000000637
          ],
          [
           "7_B3",
           "Athripsodes cinereus",
           1.4400000000000543
          ],
          [
           "7_B4",
           "Potamophylax rotundipennis",
           18.419999999999856
          ],
          [
           "7_B5",
           "Potamophylax rotundipennis",
           23.029999999999983
          ],
          [
           "7_B6",
           "Potamophylax rotundipennis",
           9.860000000000126
          ],
          [
           "7_B7",
           "Goera pilosa",
           10.849999999999907
          ],
          [
           "7_B8",
           "Ephemera danica",
           1.6099999999999
          ],
          [
           "7_B9",
           "Ephemera danica",
           2.190000000000054
          ],
          [
           "7_C1",
           "Goera pilosa",
           1.6499999999998638
          ],
          [
           "7_C10",
           "Nemoura cinerea",
           1.290000000000191
          ],
          [
           "7_C11",
           "Limnephilus lunatus",
           2.1099999999999
          ],
          [
           "7_C12",
           "Chaetopteryx villosa",
           3.359999999999899
          ],
          [
           "7_C3",
           "Goera pilosa",
           1.2899999999999636
          ],
          [
           "7_C4",
           "Goera pilosa",
           1.349999999999909
          ],
          [
           "7_C5",
           "Goera pilosa",
           50.86999999999991
          ],
          [
           "7_C6",
           "Goera pilosa",
           108.87999999999987
          ],
          [
           "7_C7",
           "Goera pilosa",
           15.4799999999998
          ],
          [
           "7_C8",
           "Baetis rhodani",
           1.3299999999999272
          ],
          [
           "7_C9",
           "Baetis rhodani",
           1.240000000000009
          ],
          [
           "7_D1",
           "Limnephilus lunatus",
           1.1500000000000907
          ],
          [
           "7_D10",
           "Goera pilosa",
           94.02999999999982
          ],
          [
           "7_D11",
           "Goera pilosa",
           80.98000000000008
          ],
          [
           "7_D12",
           "Potamophylax rotundipennis",
           94.68999999999974
          ],
          [
           "7_D2",
           "Limnephilus lunatus",
           1.1299999999998815
          ],
          [
           "7_D3",
           "Chaetopteryx villosa",
           5.759999999999993
          ],
          [
           "7_D4",
           "Limnephilus lunatus",
           1.7200000000000277
          ],
          [
           "7_D7",
           "Goera pilosa",
           1.3100000000001728
          ],
          [
           "7_D8",
           "Goera pilosa",
           1.4500000000000455
          ],
          [
           "7_D9",
           "Goera pilosa",
           1.240000000000009
          ],
          [
           "7_E1",
           "Goera pilosa",
           15.180000000000069
          ],
          [
           "7_E10",
           "Anabolia nervosa",
           18.32999999999993
          ],
          [
           "7_E11",
           "Potamophylax rotundipennis",
           19.360000000000124
          ],
          [
           "7_E3",
           "Baetis rhodani",
           1.4000000000000907
          ],
          [
           "7_E4",
           "Baetis vernus",
           1.0799999999999272
          ],
          [
           "7_E5",
           "Ephemera danica",
           2.529999999999973
          ],
          [
           "7_E6",
           "Ephemera danica",
           1.6299999999998818
          ],
          [
           "7_E7",
           "Limnephilus lunatus",
           1.3100000000001728
          ],
          [
           "7_E8",
           "Halesus radiatus",
           19.14000000000009
          ],
          [
           "7_E9",
           "Limnephilus lunatus",
           8.879999999999885
          ],
          [
           "7_F1",
           "Goera pilosa",
           26.080000000000148
          ],
          [
           "7_F2",
           "Goera pilosa",
           18.950000000000017
          ],
          [
           "7_F3",
           "Potamophylax rotundipennis",
           118.5300000000004
          ],
          [
           "7_F4",
           "Potamophylax rotundipennis",
           114.04999999999981
          ],
          [
           "7_F5",
           "Potamophylax rotundipennis",
           116.69000000000008
          ],
          [
           "7_F7",
           "Goera pilosa",
           1.6700000000000725
          ],
          [
           "7_F8",
           "Limnephilus lunatus",
           1.2000000000000453
          ],
          [
           "7_G10",
           "Goera pilosa",
           1.1700000000000728
          ],
          [
           "7_G11",
           "Chaetopteryx villosa",
           2.9400000000000537
          ],
          [
           "7_G12",
           "Halesus radiatus",
           5.830000000000153
          ],
          [
           "7_G3",
           "Goera pilosa",
           97.24000000000012
          ],
          [
           "7_G4",
           "Ephemera danica",
           3.140000000000101
          ],
          [
           "7_G5",
           "Ephemera danica",
           1.4600000000000362
          ],
          [
           "7_G6",
           "Baetis rhodani",
           1.3599999999999
          ],
          [
           "7_G7",
           "Limnephilus lunatus",
           15.220000000000018
          ],
          [
           "7_G8",
           "Limnephilus lunatus",
           1.9800000000000182
          ],
          [
           "7_G9",
           "Mystacides azureus",
           2.910000000000081
          ],
          [
           "7_H1",
           "Potamophylax rotundipennis",
           19.89999999999989
          ],
          [
           "7_H10",
           "Ephemera danica",
           8.769999999999976
          ],
          [
           "7_H11",
           "Amphinemura standfussi",
           1.1799999999998363
          ],
          [
           "7_H12",
           "Limnephilus lunatus",
           1.4100000000000816
          ],
          [
           "7_H2",
           "Potamophylax rotundipennis",
           16.56999999999995
          ],
          [
           "7_H3",
           "Halesus radiatus",
           7.519999999999982
          ],
          [
           "7_H4",
           "Limnephilus lunatus",
           6.83000000000015
          ],
          [
           "7_H6",
           "Goera pilosa",
           19.610000000000124
          ],
          [
           "7_H7",
           "Goera pilosa",
           70.71000000000002
          ],
          [
           "7_H8",
           "Baetis rhodani",
           1.6800000000000634
          ],
          [
           "8_A1",
           "Goera pilosa",
           1.349999999999909
          ],
          [
           "8_A10",
           "Potamophylax rotundipennis",
           122.0900000000002
          ],
          [
           "8_A2",
           "Limnephilus lunatus",
           1.2699999999999816
          ],
          [
           "8_A3",
           "Limnephilus lunatus",
           1.1599999999998545
          ],
          [
           "8_A4",
           "Goera pilosa",
           1.3399999999999181
          ],
          [
           "8_A5",
           "Limnephilus lunatus",
           0.9400000000000546
          ],
          [
           "8_A6",
           "Limnephilus lunatus",
           2.950000000000046
          ],
          [
           "8_A7",
           "Chaetopteryx villosa",
           18.630000000000113
          ],
          [
           "8_A9",
           "Anabolia nervosa",
           3.070000000000164
          ],
          [
           "8_B10",
           "Athripsodes cinereus",
           2.1499999999998636
          ],
          [
           "8_B12",
           "Ephemera danica",
           2.0799999999999272
          ],
          [
           "8_B5",
           "Ephemera danica",
           3.37000000000012
          ],
          [
           "8_B6",
           "Ephemera danica",
           3.4099999999998554
          ],
          [
           "8_B7",
           "Nemoura cinerea",
           2.089999999999918
          ],
          [
           "8_C1",
           "Baetis rhodani",
           2.2500000000000004
          ],
          [
           "8_C10",
           "Limnephilus lunatus",
           1.2100000000000364
          ],
          [
           "8_C11",
           "Athripsodes cinereus",
           0.46000000000003644
          ],
          [
           "8_C12",
           "Goera pilosa",
           42.47999999999982
          ],
          [
           "8_C2",
           "Athripsodes cinereus",
           0.7399999999997818
          ],
          [
           "8_C3",
           "Limnephilus lunatus",
           0.6200000000001182
          ],
          [
           "8_C4",
           "Limnephilus lunatus",
           0.8600000000001274
          ],
          [
           "8_C5",
           "Anabolia nervosa",
           0.9700000000000273
          ],
          [
           "8_C6",
           "Limnephilus lunatus",
           0.7999999999999546
          ],
          [
           "8_C7",
           "Chaetopteryx villosa",
           0.6399999999998728
          ],
          [
           "8_C8",
           "Limnephilus lunatus",
           0.8699999999998909
          ],
          [
           "8_C9",
           "Limnephilus lunatus",
           0.7599999999999909
          ],
          [
           "8_D1",
           "Limnephilus lunatus",
           11.289999999999981
          ],
          [
           "8_D10",
           "Limnephilus lunatus",
           0.6599999999998545
          ],
          [
           "8_D11",
           "Chaetopteryx villosa",
           0.9200000000000729
          ],
          [
           "8_D2",
           "Halesus radiatus",
           18.62999999999988
          ],
          [
           "8_D3",
           "Potamophylax rotundipennis",
           80.96000000000008
          ],
          [
           "8_D4",
           "Potamophylax rotundipennis",
           95.16000000000005
          ],
          [
           "8_D5",
           "Chaetopteryx villosa",
           7.269999999999978
          ],
          [
           "8_D7",
           "Nemoura cinerea",
           1.0199999999999818
          ],
          [
           "8_D8",
           "Nemoura cinerea",
           0.8800000000001093
          ],
          [
           "8_D9",
           "Limnephilus lunatus",
           0.650000000000091
          ],
          [
           "8_E10",
           "Potamophylax rotundipennis",
           156.2500000000002
          ],
          [
           "8_E11",
           "Potamophylax rotundipennis",
           135.45
          ],
          [
           "8_E12",
           "Baetis rhodani",
           1.6699999999998454
          ],
          [
           "8_E2",
           "Chaetopteryx villosa",
           1.0800000000001546
          ],
          [
           "8_E3",
           "Goera pilosa",
           2.3900000000001
          ],
          [
           "8_E4",
           "Chaetopteryx villosa",
           16.250000000000007
          ],
          [
           "8_E5",
           "Goera pilosa",
           38.97999999999998
          ],
          [
           "8_E7",
           "Goera pilosa",
           208.66999999999982
          ],
          [
           "8_F1",
           "Baetis rhodani",
           2.319999999999937
          ],
          [
           "8_F10",
           "Athripsodes cinereus",
           2.6399999999998722
          ],
          [
           "8_F11",
           "Goera pilosa",
           39.180000000000085
          ],
          [
           "8_F12",
           "Potamophylax rotundipennis",
           204.5300000000002
          ],
          [
           "8_F2",
           "Ephemera danica",
           14.559999999999949
          ],
          [
           "8_F3",
           "Ephemera danica",
           15.339999999999916
          ],
          [
           "8_F4",
           "Chaetopteryx villosa",
           1.509999999999991
          ],
          [
           "8_F5",
           "Mystacides azureus",
           0.3599999999998999
          ],
          [
           "8_F6",
           "Limnephilus lunatus",
           0.650000000000091
          ],
          [
           "8_F7",
           "Limnephilus lunatus",
           0.5599999999999453
          ],
          [
           "8_F9",
           "Athripsodes cinereus",
           1.6900000000000546
          ],
          [
           "8_G11",
           "Limnephilus lunatus",
           1.0200000000002092
          ],
          [
           "8_G2",
           "Baetis rhodani",
           0.7000000000000455
          ],
          [
           "8_G3",
           "Baetis rhodani",
           2.0300000000002005
          ],
          [
           "8_G4",
           "Ephemera danica",
           2.6100000000001273
          ],
          [
           "8_G5",
           "Ephemera danica",
           5.529999999999974
          ],
          [
           "8_G6",
           "Ephemera danica",
           2.250000000000001
          ],
          [
           "8_G8",
           "Caenis horaria",
           0.5299999999999727
          ],
          [
           "8_G9",
           "Caenis horaria",
           0.6599999999998546
          ],
          [
           "8_H1",
           "Goera pilosa",
           0.6499999999998636
          ],
          [
           "8_H10",
           "Athripsodes cinereus",
           1.1400000000001
          ],
          [
           "8_H11",
           "Limnephilus lunatus",
           0.6600000000000821
          ],
          [
           "8_H12",
           "Limnephilus lunatus",
           1.0199999999999818
          ],
          [
           "8_H2",
           "Goera pilosa",
           37.44999999999998
          ],
          [
           "8_H4",
           "Baetis rhodani",
           0.9800000000000183
          ],
          [
           "8_H5",
           "Limnephilus lunatus",
           0.6900000000000546
          ],
          [
           "8_H6",
           "Athripsodes cinereus",
           0.6400000000001
          ],
          [
           "8_H7",
           "Goera pilosa",
           13.489999999999998
          ],
          [
           "8_H8",
           "Potamophylax rotundipennis",
           169.97000000000003
          ],
          [
           "9_A1",
           "Goera pilosa",
           14.330000000000174
          ],
          [
           "9_A10",
           "Goera pilosa",
           2.429999999999836
          ],
          [
           "9_A11",
           "Goera pilosa",
           15.599999999999914
          ],
          [
           "9_A12",
           "Goera pilosa",
           155.16
          ],
          [
           "9_A2",
           "Potamophylax rotundipennis",
           118.51999999999974
          ],
          [
           "9_A3",
           "Potamophylax rotundipennis",
           173.02000000000015
          ],
          [
           "9_A4",
           "Potamophylax rotundipennis",
           89.28000000000006
          ],
          [
           "9_A5",
           "Potamophylax rotundipennis",
           128.20000000000007
          ],
          [
           "9_A6",
           "Ephemera danica",
           7.299999999999956
          ],
          [
           "9_A7",
           "Amphinemura standfussi",
           0.49999999999999994
          ],
          [
           "9_A8",
           "Chaetopteryx villosa",
           3.0600000000001737
          ],
          [
           "9_A9",
           "Limnephilus lunatus",
           0.4700000000000273
          ],
          [
           "9_B1",
           "Goera pilosa",
           37.160000000000075
          ],
          [
           "9_B11",
           "Goera pilosa",
           14.119999999999893
          ],
          [
           "9_B12",
           "Goera pilosa",
           16.790000000000198
          ],
          [
           "9_B2",
           "Ephemera danica",
           1.3900000000001
          ],
          [
           "9_B3",
           "Ephemera danica",
           1.829999999999927
          ],
          [
           "9_B4",
           "Ephemera danica",
           1.4700000000000273
          ],
          [
           "9_B5",
           "Ephemera danica",
           12
          ],
          [
           "9_B6",
           "Chaetopteryx villosa",
           0.4199999999998453
          ],
          [
           "9_B7",
           "Limnephilus lunatus",
           0.3200000000001637
          ],
          [
           "9_B8",
           "Limnephilus lunatus",
           0.019999999999981803
          ],
          [
           "9_B9",
           "Limnephilus lunatus",
           0.06999999999993635
          ],
          [
           "9_C1",
           "Goera pilosa",
           44.58999999999998
          ],
          [
           "9_C10",
           "Athripsodes cinereus",
           0.5899999999999181
          ],
          [
           "9_C11",
           "Anabolia nervosa",
           0.9200000000000729
          ],
          [
           "9_C12",
           "Goera pilosa",
           66.32000000000018
          ],
          [
           "9_C2",
           "Chaetopteryx villosa",
           8.29000000000019
          ],
          [
           "9_C4",
           "Potamophylax rotundipennis",
           94.53999999999994
          ],
          [
           "9_C5",
           "Potamophylax rotundipennis",
           99.23000000000022
          ],
          [
           "9_C7",
           "Anabolia nervosa",
           2.730000000000019
          ],
          [
           "9_C8",
           "Limnephilus lunatus",
           0.24000000000000904
          ],
          [
           "9_C9",
           "Limnephilus lunatus",
           0.25
          ],
          [
           "9_D10",
           "Limnephilus lunatus",
           0.44000000000005457
          ],
          [
           "9_D12",
           "Limnephilus lunatus",
           0.24000000000000904
          ],
          [
           "9_D2",
           "Potamophylax rotundipennis",
           110.86999999999989
          ],
          [
           "9_D3",
           "Potamophylax rotundipennis",
           111.43000000000005
          ],
          [
           "9_D4",
           "Goera pilosa",
           9.289999999999969
          ],
          [
           "9_D5",
           "Goera pilosa",
           8.69000000000006
          ],
          [
           "9_D7",
           "Ephemera danica",
           9.700000000000049
          ],
          [
           "9_D8",
           "Baetis rhodani",
           0.5499999999999545
          ],
          [
           "9_D9",
           "Limnephilus lunatus",
           0.37999999999988177
          ],
          [
           "9_E1",
           "Limnephilus lunatus",
           0.11999999999989082
          ],
          [
           "9_E10",
           "Limnephilus lunatus",
           1.0600000000001728
          ],
          [
           "9_E12",
           "Goera pilosa",
           11.910000000000087
          ],
          [
           "9_E2",
           "Athripsodes cinereus",
           0.03999999999996363
          ],
          [
           "9_E4",
           "Athripsodes cinereus",
           1.8800000000001094
          ],
          [
           "9_E7",
           "Ephemera danica",
           2.6400000000001005
          ],
          [
           "9_E8",
           "Ephemera danica",
           3.5399999999999645
          ],
          [
           "9_E9",
           "Limnephilus lunatus",
           0.6800000000000638
          ],
          [
           "9_F10",
           "Limnephilus lunatus",
           3.1900000000000555
          ],
          [
           "9_F11",
           "Limnephilus lunatus",
           4.190000000000055
          ],
          [
           "9_F2",
           "Baetis rhodani",
           4.660000000000084
          ],
          [
           "9_F3",
           "Ephemera danica",
           1.2100000000000364
          ],
          [
           "9_F4",
           "Baetis rhodani",
           2.589999999999918
          ],
          [
           "9_F5",
           "Ephemera danica",
           0.24000000000000904
          ],
          [
           "9_F6",
           "Ephemera danica",
           7.190000000000063
          ],
          [
           "9_F7",
           "Baetis rhodani",
           0.3400000000001455
          ],
          [
           "9_F9",
           "Limnephilus lunatus",
           0.10000000000013635
          ],
          [
           "9_G1",
           "Limnephilus lunatus",
           0.05999999999994543
          ],
          [
           "9_G10",
           "Limnephilus lunatus",
           0.5600000000001729
          ],
          [
           "9_G11",
           "Limnephilus lunatus",
           4.4500000000000455
          ],
          [
           "9_G12",
           "Halesus radiatus",
           8.579999999999936
          ],
          [
           "9_G4",
           "Goera pilosa",
           61.85000000000018
          ],
          [
           "9_G5",
           "Goera pilosa",
           52.009999999999984
          ],
          [
           "9_G6",
           "Goera pilosa",
           17.130000000000123
          ],
          [
           "9_G8",
           "Ephemera danica",
           0.7699999999999818
          ],
          [
           "9_G9",
           "Amphinemura standfussi",
           0.22000000000002726
          ],
          [
           "9_H11",
           "Potamophylax rotundipennis",
           121.74
          ],
          [
           "9_H12",
           "Baetis rhodani",
           1.0299999999999727
          ],
          [
           "9_H2",
           "Goera pilosa",
           22.22000000000003
          ],
          [
           "9_H3",
           "Potamophylax rotundipennis",
           97.2699999999998
          ],
          [
           "9_H4",
           "Potamophylax rotundipennis",
           96.39000000000001
          ],
          [
           "9_H5",
           "Goera pilosa",
           38.830000000000155
          ],
          [
           "9_H6",
           "Athripsodes cinereus",
           4.360000000000128
          ],
          [
           "9_H7",
           "Limnephilus lunatus",
           0.6399999999998727
          ],
          [
           "9_H8",
           "Limnephilus lunatus",
           1.6400000000001
          ],
          [
           "9_H9",
           "Potamophylax rotundipennis",
           126.63999999999976
          ]
         ],
         "hovertemplate": "Log_weights=%{x}<br>y_pred=%{y}<br>Specimen ID=%{customdata[0]}<br>Species_DNA=%{customdata[1]}<br>Weights=%{customdata[2]}<extra></extra>",
         "legendgroup": "",
         "marker": {
          "color": "#636efa",
          "symbol": "circle"
         },
         "mode": "markers",
         "name": "",
         "orientation": "v",
         "showlegend": false,
         "type": "scatter",
         "x": [
          -3.218875824869109,
          -0.5276327420825107,
          -1.4696759700588624,
          -0.9416085398581886,
          1.885553348514404,
          1.5993875765806076,
          1.4655675420143817,
          -2.813410716760945,
          -1.8971199848852756,
          -1.171182981503121,
          4.663156035186745,
          4.602967762432891,
          0.9400072584915388,
          0.0769610411360609,
          -0.1278333715100192,
          -1.3093333199838295,
          -2.1202635361991056,
          -2.6592600369304407,
          -1.5141277326296514,
          -2.040220828527464,
          1.1346227261911106,
          2.4371159859516367,
          2.453587966530582,
          2.1894163948883887,
          0.8919980393051329,
          -3.2188758248634244,
          -1.3093333199838295,
          -3.218875824869109,
          2.903616984646187,
          -1.171182981503121,
          -2.040220828527464,
          -0.994252273344162,
          2.3243465847755607,
          0.9858167945227888,
          -0.1863295781913071,
          -1.2039728043260878,
          -1.0216512475322594,
          -1.7147984280915731,
          -0.86750056770455,
          -1.714798428091573,
          -1.347073647966644,
          -0.3147107448396753,
          2.6504210882655785,
          2.7093826463359885,
          -1.30933331998383,
          -0.478035800942809,
          -0.7339691750801628,
          -0.5621189181536529,
          5.005153630527017,
          3.5310553689203723,
          -0.4780358009431759,
          -0.7550225842779749,
          2.773837941640212,
          1.453953009593699,
          -0.5798184952530396,
          0.13976194237504,
          -0.7339691750801627,
          -0.7985076962176707,
          0.0769610411362714,
          2.7813006628418075,
          2.162172939277307,
          0.4121096508268269,
          0.3506568716132206,
          -2.040220828525716,
          -0.6931471805599453,
          -0.9162907318744962,
          2.7504709169861665,
          -0.755022584277975,
          -1.897119984886791,
          1.2267122912954491,
          -0.6733445532637834,
          0.2851789422336076,
          -0.4155154439615416,
          -0.0725706928347669,
          -0.0512932943875026,
          -0.1625189294976144,
          -0.2357223335211159,
          1.9544450515051424,
          3.0017143452315334,
          4.152298955482658,
          -0.1165338162560946,
          0.307484699747887,
          0.1655144384774345,
          -0.6539264674066992,
          0.7227059828014633,
          2.851284369188115,
          1.8547342683894583,
          -0.4462871026282631,
          0.4252677354043261,
          0.7323678937131914,
          0.7701082216960061,
          2.8443278193947603,
          0.871293365943461,
          1.6544112780768354,
          0.8960880245566538,
          0.1655144384776272,
          0.0769610411360609,
          -0.3011050927839092,
          0,
          0.947789398933498,
          -0.0100503358534922,
          0.8197798314933035,
          -0.3011050927839092,
          0.6729444732424444,
          0.1739533071232927,
          -0.2107210313154392,
          0.1222176327243457,
          0.0099503308531589,
          0.5423242908253777,
          0.1133286853071086,
          1.111857515418193,
          -0.248461359298243,
          0.672944473242444,
          -0.3285040669719982,
          -0.4155154439618863,
          -1.2039728043260876,
          0.9593502213346506,
          2.84490938381941,
          2.833801406407769,
          2.835563521401168,
          3.85036034503604,
          4.603168183317418,
          3.066656611890691,
          0.8197798314933032,
          -0.0304592074846804,
          -0.478035800942809,
          1.0152306797290551,
          1.803358605071396,
          2.9231615807191504,
          4.625854777180923,
          0.8329091229350841,
          2.870735783379299,
          -0.3011050927839092,
          4.838264068155469,
          1.5644405465033593,
          -0.1278333715097608,
          0.3364722366212778,
          0.3001045924502706,
          0.5247285289350144,
          -0.1508228897344355,
          0.7178397931502944,
          -0.2231435513142666,
          2.6932749155200533,
          2.7991089320491813,
          2.900322088749336,
          -0.4155154439615416,
          3.004196351966113,
          1.1314021114910715,
          2.6497146240892366,
          0.3920420877760359,
          -0.0408219945202171,
          0.0295588022417386,
          2.86277214629776,
          1.55180879959747,
          -0.1053605156577252,
          0.3001045924502707,
          0.0099503308533842,
          1.9139771019523,
          0.4637340162320885,
          -0.7985076962176707,
          0.3001045924502707,
          -0.0100503358534922,
          0.0487901641693885,
          1.7544036826842822,
          0.300104592450439,
          0.7419373447293343,
          1.297463147413297,
          2.915064370486538,
          3.427189961936409,
          2.602689685444384,
          3.466672963621066,
          0.3576744442718603,
          1.6733512381777826,
          0.8919980393051329,
          1.235471471385257,
          0.0198026272961618,
          -0.0833816089389718,
          -0.2484613592985346,
          -0.1392620673336331,
          -0.0100503358534922,
          0.0953101798044487,
          0.530628251062197,
          0.928219302739418,
          0.0676586484739678,
          0.4187103348581731,
          -0.0618754037180294,
          -0.3424903089470448,
          0.13976194237504,
          2.08442908319087,
          2.7517480563679344,
          0.2546422183735525,
          -0.0512932943875026,
          0.2070141693843408,
          0.4187103348581731,
          -0.3424903089467248,
          0.0487901641693886,
          0.5007752879124067,
          1.738710248138249,
          2.775708849576024,
          0.3852624007906635,
          0.9745596399981654,
          -0.1743533871448752,
          4.106108429142343,
          5.0111018519079,
          1.232560261177867,
          -0.186329578191581,
          2.998229153752577,
          2.935982269148223,
          2.280339484046724,
          2.172476407647022,
          4.1021473742851216,
          0.7323678937133008,
          0.3852624007906636,
          -0.5978370007557031,
          0.662687973075265,
          0.3001045924502707,
          0.300104592450439,
          0.2623642644674562,
          1.2383742310432813,
          -0.0408219945202171,
          1.6154199841116426,
          1.8687205103641864,
          -0.0100503358534921,
          -0.1053605156577252,
          0.1133286853069056,
          0.9162907318741552,
          -0.3285040669719982,
          0.1739533071234837,
          -0.0833816089389719,
          0.7323678937131914,
          0.3576744442718604,
          0.1823215567939925,
          0,
          1.3454723665996728,
          1.894616854667777,
          2.6490076604684347,
          4.090671156855791,
          2.171336806384089,
          -0.1278333715097608,
          2.206074192613194,
          -0.0618754037180293,
          0.4252677354043263,
          -0.385662480811891,
          -0.1508228897344355,
          -0.0202027073175008,
          -0.1984509387236386,
          2.1781550146158604,
          -0.2613647641344311,
          -0.4942963218145713,
          -0.478035800942809,
          0.7793248768010269,
          -0.2357223335211159,
          0.0392207131532463,
          0.1043600153243573,
          0.2151113796167694,
          -0.3424903089467248,
          4.647654797594246,
          4.969604944538264,
          -0.4462871026282632,
          -0.0943106794711513,
          0.6151856390901843,
          -0.2107210313154392,
          3.273364010152266,
          2.854744580253007,
          -0.0100503358534922,
          0.1739533071234837,
          0.1133286853071086,
          -0.0408219945202171,
          2.7395488681615827,
          2.9454910571172435,
          2.95699144523756,
          0,
          3.1228053561174702,
          1.4747630091074737,
          0.0582689081239241,
          0.0769610411360609,
          1.040276711655121,
          0,
          0.1133286853069057,
          -0.0408219945202171,
          2.766947842349701,
          2.9967317738870736,
          2.793003906982383,
          2.912350664614933,
          2.880882431875045,
          0.2468600779315043,
          0.7884573603641877,
          0.1043600153241526,
          -0.0618754037180294,
          0.1222176327243456,
          -0.3285040669719982,
          3.34744492566291,
          5.354839466872363,
          0.2390169004704855,
          -0.0725706928347669,
          -0.186329578191581,
          3.0685179432796392,
          3.520164900726204,
          2.5974910105351507,
          4.224787858247392,
          4.971339911488611,
          3.8632528410587126,
          1.941615224772436,
          0.2231435513142096,
          1.1505720275988467,
          0.8671004876834293,
          0.4700036292458208,
          -0.1508228897346999,
          3.1210424645194403,
          2.940219563623724,
          0.0953101798044488,
          0.1310282624064918,
          1.163150809805695,
          0.6365768290714836,
          0.3506568716132207,
          0.0769610411360609,
          0.4700036292458209,
          -0.0943106794711513,
          3.178053830347946,
          0.0582689081239241,
          -0.2484613592985346,
          0.2851789422337786,
          0.2311117209633794,
          0.0392207131532463,
          0.0198026272961618,
          0.6205764877250559,
          3.0086484988205373,
          4.095177548525992,
          1.1019400787607816,
          2.2700619012884933,
          -0.1165338162560946,
          -0.0618754037180293,
          2.696652156149836,
          0.2390169004704855,
          -0.0618754037180293,
          -0.0833816089392191,
          -0.2357223335208281,
          0.3293037471425087,
          0.1988508587450011,
          3.091042453358315,
          4.666265285347902,
          0.2311117209633794,
          0.2311117209633794,
          0.3576744442718604,
          -0.0100503358534922,
          0.0487901641693886,
          0.3220834991690276,
          3.959097412814071,
          -0.0408219945204539,
          -0.051293294387742,
          0.3506568716130606,
          -0.1508228897344354,
          0.4252677354043263,
          2.763169500323284,
          2.5305171610400485,
          2.9407479652212234,
          2.696652156149851,
          0.1739533071234838,
          0.0953101798042421,
          -0.0725706928347669,
          -0.2231435513139823,
          0.4762341789963093,
          0.8796267475025976,
          0.2390169004704855,
          0.2623642644676308,
          0.0953101798044488,
          -0.1392620673336331,
          -0.2876820724517808,
          4.52926059188774,
          1.381281819296351,
          1.6863989535702455,
          2.3896797998449664,
          2.237513096250344,
          1.2119409739751503,
          0.3506568716130605,
          4.123093975508086,
          -0.186329578191581,
          0.1043600153243573,
          -0.1508228897346999,
          1.1019400787607814,
          0.1739533071234838,
          0.5423242908253778,
          0.5364933705145898,
          0.1823215567939925,
          -0.0100503358534922,
          -0.0618754037180293,
          0.0861776962409771,
          1.1724821372345708,
          0.0198026272961618,
          2.704711299836699,
          2.736313666375058,
          4.040767961318706,
          0.9932517730103002,
          3.261935314328653,
          0.9042181506398972,
          0.0676586484737553,
          2.926917957553623,
          0.3435897043899736,
          2.1552445050953226,
          0.3987761199573739,
          0.0392207131532463,
          0.0198026272961618,
          0.0582689081239241,
          -0.1053605156579778,
          3.27940632460824,
          -0.0100503358534922,
          0.5007752879125444,
          0.0295588022415179,
          1.9373017745187209,
          2.8408313123360216,
          4.585273554273636,
          0.0487901641693886,
          0.1397619423752376,
          -0.0304592074846804,
          0.1739533071234837,
          0.1484200051183437,
          -0.0408219945202171,
          -0.0408219945202171,
          0.3784364357202699,
          0.3576744442717013,
          0.1906203596086797,
          0.009950330853159,
          0.1823215567939924,
          0.3364722366211153,
          0.0392207131532463,
          0.7839015438284345,
          0.1570037488097269,
          0.2390169004704855,
          0.1988508587451875,
          0.1988508587451875,
          0.2151113796167694,
          0.1043600153241526,
          0.1570037488097269,
          0.0198026272961618,
          4.346399457030725,
          0.1988508587451875,
          1.5706970841177057,
          1.467874348112295,
          0.3646431135879471,
          0.1570037488097269,
          -0.0408219945202171,
          -0.0100503358534922,
          -0.3566749439386674,
          0.5128236264287073,
          4.385769620952716,
          4.521244951050331,
          0.1222176327243457,
          2.226783379577762,
          0.1655144384776273,
          0.2231435513142096,
          0.1133286853071087,
          0.3576744442718603,
          0.1823215567938029,
          -0.0618754037180294,
          0.0487901641693885,
          3.811539466849824,
          0.9932517730103002,
          0.4946962418360294,
          1.2641267271456735,
          1.163150809805695,
          1.1442227999201942,
          2.833801406407769,
          2.93119375241642,
          0.2390169004704855,
          2.662355241840076,
          0.6931471805599454,
          0.2468600779316821,
          4.604469940873697,
          0.4700036292458208,
          0.4700036292456788,
          0.2623642644676308,
          0.1906203596086797,
          1.0818051703517442,
          0.2311117209633794,
          0.0487901641696052,
          -0.0833816089389718,
          0.6205764877250561,
          0.2851789422336077,
          0.1988508587451875,
          2.184927049525825,
          0.2070141693843408,
          0.5187937934152054,
          5.04606678592752,
          4.7057392409097885,
          4.71195968016961,
          0.3435897043901348,
          0.3364722366211154,
          3.260785227945408,
          2.718660380214231,
          1.581038437912382,
          0.845868267577578,
          1.2556160374777718,
          0.6626879730751477,
          0.095310179804242,
          2.1644717908644147,
          0.6931471805599453,
          2.3311725498459546,
          0.9745596399981652,
          3.4134552790576533,
          2.76820412392196,
          2.86277214629776,
          0.8064758658669524,
          1.5644405465033593,
          1.0818051703517444,
          0.5822156198526433,
          0.6043159668532898,
          1.1600209167966988,
          0.5596157879354228,
          0.6678293725756789,
          3.356548629993266,
          3.932217712713664,
          0.8458682675775782,
          0.5364933705145898,
          0.392042087776036,
          0.662687973075265,
          0.2851789422336077,
          0.3293037471426723,
          4.269417690291223,
          0.3074846997478869,
          0.5364933705145898,
          0.9593502213345636,
          0.5007752879125443,
          0.2151113796169528,
          0.4574248470388294,
          0.0676586484737553,
          0.1906203596086797,
          0.3576744442718604,
          0.364643113587947,
          2.913437030827153,
          3.136797713832593,
          2.288486168614557,
          2.38416507998646,
          0.4762341789963095,
          0.7839015438284341,
          0.5007752879124067,
          0.2546422183737288,
          0.7466879474879277,
          1.2119409739750828,
          0.2546422183735525,
          0.3001045924502707,
          3.929273358834672,
          4.6902463583432095,
          2.739548868161568,
          0.2851789422336077,
          0.2151113796169528,
          0.1397619423752376,
          4.543613880288984,
          4.394202210604016,
          4.550608397995406,
          0.1222176327241444,
          1.7509374747077986,
          0.5423242908253778,
          0.2700271372131921,
          0.3715635564325144,
          0.2151113796169528,
          2.7199787719674884,
          2.90853906185161,
          2.9632090818484373,
          0.3364722366212778,
          0.0769610411360609,
          0.9282193027394182,
          0.4885800148185984,
          0.2700271372131921,
          2.951780386024813,
          2.183801557004066,
          3.261168737058458,
          2.9418039315284363,
          4.775166093091412,
          4.736636948730395,
          4.759520845818017,
          0.5128236264287072,
          0.1823215567939924,
          0.1570037488097269,
          1.0784095813506085,
          1.7630170003624273,
          4.577182149447924,
          1.1442227999201942,
          0.3784364357202698,
          0.307484699747887,
          2.722610352433541,
          0.683096844706453,
          1.068153081183429,
          2.990719731730441,
          2.171336806384089,
          0.1655144384774346,
          0.3435897043901348,
          2.8075938314384685,
          2.017566137961746,
          1.9213246735827207,
          2.976039640208261,
          4.25858700561615,
          0.5187937934152053,
          0.3001045924502707,
          4.804758477680766,
          0.2390169004704855,
          0.1484200051181478,
          0.2926696139627589,
          -0.0618754037180294,
          1.081805170351744,
          2.924773184613503,
          1.1216775615991592,
          0.765467842139508,
          0.7323678937131917,
          1.214912744364306,
          1.226712291295383,
          0.7371640659766804,
          0.810930216216329,
          0.1906203596086798,
          -0.7765287894989171,
          3.749033376933679,
          -0.3011050927842165,
          -0.4780358009428091,
          -0.1508228897344355,
          -0.0304592074846804,
          -0.2231435513142665,
          -0.4462871026286183,
          -0.1392620673336331,
          -0.2744368457017723,
          2.423917378161569,
          -0.4155154439618863,
          -0.0833816089389718,
          2.924773184613491,
          4.393955205539156,
          4.5555596854347575,
          1.983756291545425,
          0.0198026272961618,
          -0.1278333715097608,
          -0.4307829160923143,
          5.051457288616512,
          4.908602568531104,
          0.5128236264285712,
          0.0769610411362714,
          0.8712933659434611,
          2.788092908775747,
          3.6630486940794142,
          5.3407540567452925,
          0.8415671856781913,
          0.9707789171581764,
          3.668166412516397,
          5.320714663990076,
          2.6782780427685364,
          2.7304637959391047,
          0.4121096508268269,
          -1.0216512475322594,
          -0.4307829160923144,
          -0.5798184952530397,
          0.5247285289350144,
          0.0198026272963847,
          -0.3566749439386674,
          0.7080357930537947,
          0.9593502213346508,
          1.7101878155342387,
          0.8109302162163291,
          -0.634878272436021,
          -0.4155154439618862,
          -0.4307829160926641,
          0.1310282624064918,
          -0.4155154439615415,
          0.0198026272961618,
          3.623006709963228,
          -0.0202027073175008,
          -0.3710636813907529,
          -0.4462871026282632,
          2.6019486702196644,
          5.13562195088926,
          2.6623552418400926,
          0.8878912573523896,
          2.747270914255486,
          5.044456842571766,
          4.775081722705362,
          5.153407194752229,
          4.4917774986330015,
          4.85359154448657,
          1.9878743481543395,
          -0.6931471805599454,
          1.1184149159643462,
          -0.7550225842779748,
          3.61523291394564,
          2.6475922320650884,
          2.8207834710894613,
          0.3293037471426724,
          0.6043159668532897,
          0.3852624007906635,
          2.4849066497880004,
          -0.8675005677050914,
          -1.1394342831878532,
          -3.912023005429056,
          -2.6592600369336874,
          3.797509618639385,
          -0.5276327420825107,
          -0.0833816089389718,
          4.194491510827042,
          2.1150499691472264,
          4.54902302536509,
          4.597440387926152,
          1.0043016091968753,
          -1.427116355640108,
          -1.3862943611198906,
          -0.8209805520697062,
          -1.427116355640108,
          4.708358343784259,
          4.713396591058963,
          2.2289385528257437,
          2.1621729392773075,
          2.2721258855093422,
          -0.5978370007557031,
          -0.9675840262620168,
          -2.120263536201001,
          0.0582689081241388,
          2.477378383367216,
          -3.21887582486911,
          0.631271776841916,
          0.9707789171582628,
          1.264126727145673,
          -0.3856624808118909,
          1.1600209167967706,
          1.4327007339340594,
          1.5390154481375724,
          0.1906203596086797,
          0.9516578757114148,
          -1.427116355640108,
          1.972691171732964,
          -1.078809661371502,
          -2.302585092992682,
          -2.813410716760946,
          -0.5798184952526334,
          1.492904096178159,
          2.1494339134998635,
          4.1247120988385,
          3.951436007784981,
          2.840831312336036,
          -0.2613647641344311,
          -1.5141277326296516,
          4.801887623065778,
          0.0295588022415179,
          3.1009927842114853,
          4.577490616881347,
          4.568402461795877,
          3.65919314374358,
          1.4724720573609724,
          -0.4462871026286185,
          0.4946962418361681,
          4.841348415572755
         ],
         "xaxis": "x",
         "y": [
          -0.8537198690153848,
          -0.3371614909882154,
          -0.8661614636073299,
          0.1092381834791666,
          2.1850822565527066,
          1.588054844159072,
          1.806165641666667,
          -0.7431570512827045,
          -0.465913776248528,
          -0.1355397124660493,
          4.717975108333333,
          4.715752785,
          1.5033597760869564,
          0.8315337869318181,
          0.1966739713475861,
          -0.3241193761698148,
          -1.4664392047940074,
          -0.3521121391087227,
          -0.6562031915957447,
          -2.5289086615835776,
          -1.326304154949495,
          2.4716441227272727,
          2.6713887644444445,
          2.3662264473684207,
          0.6411132732,
          -1.3207718620034363,
          -0.5126035694808744,
          -0.5876947486096806,
          3.028398741025641,
          -0.1698419442973856,
          -0.2724611151381215,
          -0.2870147147785087,
          2.6498074037037043,
          1.0543159624884793,
          0.4181927052261306,
          -0.8861664874090909,
          -0.1299647020762758,
          -0.5695525847296297,
          -0.5484200783854166,
          -0.2979756250009049,
          -0.1075474698505952,
          -0.0714634116,
          2.7941919425,
          2.630599684615385,
          -0.5264136298039215,
          -0.4876535724090908,
          -0.6696230444453026,
          -0.5774239717378278,
          4.279818080000001,
          3.157638608333334,
          0.2205021191999999,
          0.2014328490555555,
          2.7735615904761906,
          1.333025902898551,
          -0.2117765837214764,
          0.1529141142107843,
          -0.2603060257206338,
          -0.124811976735433,
          0.2494510196721154,
          2.497480095833333,
          1.258824946741573,
          0.7103643396666666,
          0.6719949914084508,
          -0.1242298455389588,
          -0.0572175654846296,
          -0.106972383589781,
          2.7175297041666666,
          0.1274291722887574,
          -0.5071740630930233,
          0.8049602916556291,
          0.2802831134369458,
          0.888052318857143,
          -0.6231497419047619,
          -0.4541624790095,
          -0.0419188089708755,
          -0.1432307196538812,
          -0.1227854109728063,
          2.481521616438356,
          2.7911868054054056,
          4.095412442553191,
          -0.0155790069928571,
          0.3523979662962963,
          -0.0270819841763779,
          -0.3886379608410526,
          0.44577827325,
          2.751705445238095,
          0.7936852233732394,
          -0.0271594509107792,
          -0.3987676575492958,
          0.2198420233333333,
          0.4730460119101124,
          2.8203121133333338,
          1.0999714869718311,
          1.89556281830986,
          0.606595997927928,
          0.2987982737681159,
          0.1234794837578703,
          -0.1836125359393939,
          -0.21823083945625,
          0.9856825435593222,
          0.2787334267391305,
          1.2801172894285715,
          -0.1544942295784431,
          0.8917477448993288,
          0.015051481834777,
          -0.0682723279015699,
          0.1609408267007407,
          -0.2531770443399038,
          0.6367274126373627,
          0.2754488381679389,
          0.9917719274193548,
          0.0914726602215311,
          0.2758858868190476,
          -0.050531280754,
          0.1095901964291304,
          -0.1415837171962655,
          0.9853430349479168,
          2.8448170810810813,
          2.8752743727272723,
          2.8264493142857146,
          3.690357032352941,
          4.860380237499999,
          2.824038579310345,
          0.043190703079408,
          0.1379838332349091,
          0.1429015633827067,
          1.1053435113475178,
          2.1923037966666667,
          2.7216866428571427,
          4.492224147368421,
          0.7904718088405797,
          2.74045923,
          -0.3071761107146068,
          4.77505683125,
          1.3431175923529413,
          -0.0847894139741004,
          0.1186832382249999,
          0.3690215012037037,
          0.5208149469105691,
          -0.4560262007403508,
          0.7230213847752808,
          -0.3100180439325842,
          2.593579183333333,
          2.8474419239130437,
          2.941435726315789,
          0.0134180576447368,
          2.947059406818182,
          1.6696929176954731,
          2.7990410586956527,
          0.191549516380808,
          0.0497177852344646,
          -0.2275485394616901,
          2.901750342857143,
          0.7783540434545454,
          -0.1665653028611111,
          0.5886662370833334,
          -0.0466620520885161,
          1.6576992377358497,
          0.4061137418421053,
          0.017591051433617,
          0.4004287848351647,
          -0.2066650005290322,
          -0.0393876753185652,
          1.2198323129032258,
          0.2139602035905882,
          1.0412958572340427,
          1.2426599907407407,
          2.81594915,
          3.204999397297297,
          2.563554556756757,
          3.387190173684211,
          -0.0108536206098039,
          1.495866929357798,
          0.920279600810811,
          1.2667977666666668,
          0.1562460825222222,
          -0.0822141195751243,
          0.0564247514206926,
          0.0803776769097859,
          -0.061569985283581,
          0.2349736096193029,
          0.5443269772727273,
          0.9750132384,
          -0.0431823679279591,
          0.2476549955852273,
          0.2359109038338403,
          -0.0638784201245496,
          0.1172126141714285,
          2.224902055319149,
          2.724498436363636,
          0.1934840885384615,
          0.1010892581574829,
          -0.0238835044815714,
          0.4396602535971223,
          0.0647832208403448,
          -0.0086394801273542,
          0.0247240537563802,
          2.252710892307692,
          2.5822912714285717,
          0.375784710603015,
          1.0793090912972974,
          -0.1887739665883333,
          4.127001791111111,
          4.955521884999999,
          0.6179694487586207,
          0.1970374253353659,
          3.138329267391305,
          2.8284866061224494,
          2.443312971641791,
          1.9755711056521743,
          3.728263082222224,
          0.673814754032258,
          0.2518586230090909,
          -0.2912504581884579,
          -0.2203578046395349,
          0.1501820070739687,
          -0.3213422305496932,
          -0.0811295890847926,
          1.1286249657407408,
          -0.2069603308485266,
          1.26996172739726,
          1.9631864833333328,
          -0.0785726951917391,
          -0.1007387289769132,
          -0.1111584377414721,
          0.8775360335365855,
          -0.1749645121089109,
          -0.1195235372489015,
          0.3818841593975903,
          0.6502016885925926,
          0.0008155007105531,
          -0.0580489034883046,
          -0.0883812034166666,
          0.8446968518478262,
          -0.2541342785525641,
          2.822113258695652,
          3.660318491891892,
          2.297599794117647,
          0.0807606130460958,
          2.0743893850911976,
          -0.1666662961996415,
          -0.0926080465138121,
          -0.1992561313598369,
          -0.619278570692,
          -0.6830777622156363,
          -0.1773141576027027,
          2.215723069230769,
          0.0072907297885245,
          -0.3225156574575645,
          -0.281157003245283,
          0.7848363274675325,
          -0.2069274867727273,
          -0.373419546816133,
          0.0494673221594142,
          -0.115738350333952,
          -0.2791529797961165,
          4.4113890781250005,
          5.02886673125,
          0.1097028695981949,
          -0.017248052395909,
          0.8383114167199999,
          -0.1077980246901149,
          2.776964362162162,
          2.851519578571428,
          0.009733500633823,
          0.3885732426845638,
          0.2676777856178571,
          -0.0963320141631364,
          2.805498655555556,
          2.923316552941176,
          2.9166415260869565,
          0.1079984397061111,
          2.9539007693877544,
          1.734297424657534,
          0.1281000341042241,
          0.0527660317720279,
          0.8966299190647483,
          0.1223192323710701,
          0.0335352917226053,
          -0.0373160920286792,
          2.9095717891304345,
          2.7974936892857136,
          2.7990657821428573,
          2.929245271428571,
          3.1115277750000003,
          0.282823669547619,
          0.7780221283838383,
          0.1318653122759562,
          -0.0427658972506014,
          0.0675603012821576,
          -0.0858037500851408,
          3.2754558166666663,
          4.99892552,
          0.1558285152108911,
          -0.0126154057164258,
          0.0513091949878742,
          2.8038021656250005,
          3.1136774777777774,
          2.577545787037037,
          4.021266846428572,
          4.819290506451614,
          3.744856915384616,
          2.106146947173913,
          0.4320030581420765,
          1.1156404875,
          0.8006861070666668,
          0.3740329880434782,
          0.1964205547406082,
          2.902194960869565,
          3.066194667307692,
          0.0119825725246101,
          0.3205730521800948,
          1.0483224196009977,
          0.7824174439361702,
          0.3449736813930636,
          0.3269474068639053,
          0.6915280933510639,
          0.066898717945583,
          2.6363726244680854,
          0.0458500242718222,
          0.084074032283271,
          0.3827931299375,
          0.1829548022005532,
          0.0498629086438912,
          0.2789747011347517,
          0.2329265706781289,
          2.7131545368421057,
          3.745425603703704,
          1.201336574764398,
          2.234092098148148,
          0.1751680582846153,
          0.1952906549852941,
          2.592032431818182,
          0.5293235664673913,
          0.153347138633253,
          0.1459963946880734,
          0.0587867027434083,
          0.0008612196905235,
          0.294686250310559,
          2.8067009000000005,
          4.556596466666666,
          0.1106750094559999,
          0.17782321514,
          0.0323821647911333,
          0.0697113215010416,
          0.2611798613312766,
          0.2554645311455696,
          4.054846819148937,
          0.1229982443306451,
          -0.061511044262549,
          0.114427061883155,
          0.0037849338195184,
          0.7837925594999999,
          2.473076721568628,
          2.630672277777778,
          3.017687628571428,
          2.8719415833333333,
          -0.0093433123455026,
          0.2042161950956937,
          0.1783296781043956,
          0.2125138682587065,
          0.3757603223423424,
          0.9426260170588237,
          0.4516980358883249,
          0.41227824,
          0.2001623303459428,
          -0.0660213583780821,
          0.2119161936323239,
          4.707003049999999,
          1.2767970636363637,
          2.8171283872340425,
          2.395845885106383,
          1.8983401897959185,
          1.1784041336666664,
          0.0686173476028813,
          3.993439863636364,
          -0.1453430528033425,
          -0.1868360667016501,
          0.2103252875676923,
          1.1933588764705882,
          0.1804570443414634,
          0.6776885389719626,
          0.5334634042068965,
          -0.110895532284478,
          -0.1399599341188047,
          -0.2352324571891891,
          0.0303024398870491,
          0.9804213516969698,
          -0.0056950122895057,
          2.8788819407407407,
          2.5446577541666664,
          4.3783682,
          1.1101882790816326,
          2.406289156866197,
          1.019345585826087,
          0.1077587438911255,
          3.127608522413793,
          0.3468334690384616,
          2.053724284401709,
          0.4547219752293578,
          0.0407383849415814,
          -0.000115315391411,
          0.0747577446740322,
          -0.069412091377249,
          3.0884930405405404,
          0.265869377642512,
          0.5725463340625,
          0.1616508470610038,
          2.029538247916667,
          2.2417681370370373,
          4.673324705882353,
          0.0930910698801801,
          -0.0044065847733124,
          -0.0515959277539814,
          0.1547841886084837,
          -0.0482107201320418,
          -0.0580767712292513,
          0.1187388652755319,
          0.3633409878125,
          0.1369786970676056,
          0.074896190435606,
          -0.0296757321505284,
          -0.0367384018698367,
          0.1313838786313131,
          -0.0082516062332291,
          0.5573519480882353,
          0.039575460825,
          0.0600067425221989,
          0.0631265611945136,
          0.0322809410270833,
          0.0687830076922553,
          -0.0239202662476946,
          -0.0965185277676124,
          0.1841098415234374,
          4.194243223529412,
          0.3491957680829016,
          1.4134409921516755,
          1.4515418156862747,
          0.3009654894046242,
          -0.0760071736640776,
          0.2855120343745221,
          0.0523814871896899,
          0.0830320652582795,
          0.6443800986538462,
          4.202263418749999,
          4.926596452631579,
          0.1824886208571428,
          2.2294407328571437,
          0.0745970725068534,
          -0.0048516437896028,
          0.0299449804905405,
          0.0770873279727326,
          0.2056570918554217,
          -0.0093664146694879,
          -0.0124438586195638,
          3.88094031,
          0.8732236217037037,
          0.3170451556204379,
          0.681708592,
          1.1820300996250002,
          0.9907058310526314,
          2.7010225411764703,
          3.1088599431372543,
          -0.0273568326475,
          2.5940066525,
          0.5939345856896551,
          0.1427644795583941,
          4.662631461111111,
          0.1592245836960265,
          0.2798920413749999,
          0.177525947348969,
          0.1039860687137809,
          0.7301023524999999,
          0.4016516173437499,
          0.1493415784861111,
          0.0276753441093895,
          0.4672688337795275,
          0.0061875380866834,
          0.176636333609375,
          2.1586229203125,
          0.0153397369915526,
          0.44016532,
          4.582763161538462,
          4.753986477777777,
          4.63938028235294,
          0.2205706054472843,
          0.0474651075568395,
          2.9458433632653067,
          2.6316508695652177,
          1.452656993333333,
          0.5813438457516541,
          0.92010820625,
          0.0622719347782608,
          -0.0316257876923841,
          2.0542588342857147,
          0.4890965507352941,
          1.7693691444444448,
          0.6135091316560509,
          2.954764913559321,
          2.6079465711111114,
          2.6608321585365857,
          0.5814770611392406,
          0.499822828487395,
          0.6621631298666667,
          0.1486680388153594,
          0.2356043701037037,
          0.9377942952325582,
          0.0429612426369158,
          0.0062606367149193,
          2.871355966666666,
          4.176906983783784,
          0.5055631063865547,
          0.1332205024423868,
          0.1503883878917525,
          0.4166054637777778,
          0.2063460251442553,
          -0.0589299942178571,
          3.577933219512196,
          0.24212447483,
          0.336113443220339,
          0.7725866519444445,
          0.3451014302731959,
          0.1746311528057554,
          0.1555061442920245,
          0.1175948479390769,
          0.0673850081602288,
          0.0033960046181974,
          -0.0233234191941409,
          2.898293282352941,
          2.991591801886792,
          2.3425761539682544,
          2.558150917021277,
          0.5078363129921261,
          0.605305325882353,
          0.0335598804462918,
          -0.0971691219020833,
          0.3609648386792453,
          1.0859237333333334,
          0.2648473442409972,
          0.3023619534563759,
          3.73880677173913,
          4.429828639534883,
          3.036652134210526,
          0.2218972707621359,
          -0.0611871276629787,
          0.1547403829935222,
          4.32900754375,
          4.13260496451613,
          4.6911986842105255,
          0.0635031212168866,
          1.2637174564516132,
          0.1084796145777251,
          0.3970604529655172,
          0.2260168289814814,
          0.2999374208370044,
          2.564735443243243,
          2.7686378285714284,
          2.8625972923076923,
          0.1262592159849999,
          0.0658879008188775,
          0.6722980637345133,
          0.3773918900680272,
          0.0681910478937164,
          2.6356827115384616,
          2.1388160701492542,
          3.375353136363636,
          2.9131760829787234,
          4.547004978947368,
          4.914135777777777,
          4.669085805263158,
          0.530677354413793,
          0.0185642639462093,
          0.3219634820100503,
          0.7499897527678571,
          2.01970544893617,
          4.21977342,
          0.955411722,
          0.3201206337860781,
          0.0274337803371212,
          1.7473769602941176,
          0.70261294625,
          0.0120512606786529,
          3.13780277173913,
          2.0874909750000006,
          0.09311732340199,
          0.1746663759122807,
          2.6317173735849058,
          2.223883562,
          1.7641003492537315,
          2.815313171698113,
          4.086316024,
          0.1776959418990991,
          0.2493645638888889,
          4.893517731578948,
          0.035477951772521,
          0.1316285291772151,
          0.1728265908828452,
          -0.0103872808055147,
          1.4394965653225806,
          3.208159975,
          1.5144742891566263,
          0.0376552673703703,
          0.8121735714973264,
          1.3544268037037035,
          1.0665190929213484,
          0.5200532814814814,
          0.9328401984251968,
          -0.7993772658353511,
          -0.2105147253018296,
          3.8473665448979584,
          -0.2992218211311239,
          -0.1297223679959641,
          0.022669394760915,
          0.214413675702985,
          -0.1293114472855,
          0.0083942022509708,
          0.1468363507226562,
          -0.1516313726195652,
          2.902296937735849,
          -0.0758849642735786,
          0.1023040843960199,
          3.457794907142857,
          4.499976732258064,
          4.734394589285714,
          1.5095127116279068,
          0.4909776642857143,
          -0.0133851646134951,
          -0.1166962571570454,
          4.583410117647058,
          4.9453914875,
          0.6164521163855422,
          0.2614171995435065,
          1.2980057404142011,
          2.474601902173913,
          3.582414113157894,
          4.624736385714286,
          0.5684654802033332,
          0.7402444212727273,
          3.5192604151515154,
          4.909426646666668,
          1.8527035761904769,
          1.9888283363013697,
          0.584912055042735,
          -0.1281312644503167,
          -0.1254124702957142,
          0.1117730973391699,
          0.4904061989387756,
          -0.0517213421987577,
          -0.503483988438372,
          1.1001004408333337,
          0.90858278625,
          1.2245446407407403,
          0.5170206681609195,
          -0.3537230369953948,
          -0.2381940647080661,
          0.0372350940074695,
          0.0238618520369734,
          -0.0645570674858734,
          0.1770518950330188,
          3.810193012727272,
          -0.3985440693103448,
          -1.3309515525629758,
          -0.3530056665833855,
          2.4526224851063825,
          4.656063845,
          2.8977560222222225,
          1.0052124272222225,
          2.574249863043478,
          4.853965004166667,
          4.739269468749999,
          4.984258124999999,
          4.451781016666668,
          4.814294475,
          2.1370147866666667,
          0.2823136926103174,
          0.9907089905586592,
          -0.0096067439965915,
          3.3865117818181814,
          2.5826432557692303,
          2.723858403636364,
          0.4673403836734694,
          0.8054121197916667,
          0.6489022270833334,
          2.693553764640884,
          0.1030486415875,
          -0.1937225157495705,
          -1.065464002423077,
          -0.5533959628060054,
          3.4018494478260872,
          -0.5678397097008001,
          0.5986691038532109,
          3.935543584,
          2.9344844057971016,
          4.611549652777778,
          4.771216887179487,
          1.3870203931818184,
          -1.2955610749152542,
          -0.7754514182251908,
          -0.064659601770792,
          -1.126617490628137,
          4.5559028090909095,
          4.741162582608696,
          2.423605481632653,
          2.4870670416666667,
          -0.0979979864950381,
          0.2357264462894308,
          -0.2962466839809248,
          -1.010153687284345,
          -2.407502843942505,
          2.5048538234042548,
          -0.1114211943274242,
          -0.7259130598444444,
          1.3043037544444445,
          1.3191190901960783,
          0.2561146087986928,
          -0.1790944204651351,
          -0.8073788089597701,
          0.0883136117864661,
          0.9093239178472222,
          1.0782071040625,
          -0.7448704195751323,
          1.584832454411765,
          -0.7610810761360544,
          0.064599728595302,
          -2.918151431944444,
          0.0939891124804781,
          -0.216404420340851,
          2.389112056521739,
          4.006615032692308,
          3.968213309615384,
          2.6229622229166667,
          0.9220058469135805,
          0.3570390314228494,
          4.815248939285714,
          0.7108669539305557,
          3.7337102833333335,
          4.683649077499999,
          4.611885562790698,
          2.9352396777777776,
          -2.8281956519148936,
          -1.045691585431035,
          -0.2069094746874667,
          4.922372415789472
         ],
         "yaxis": "y"
        },
        {
         "hovertemplate": "<b>OLS trendline</b><br>y_pred = 0.878823 * Log_weights + 0.149457<br>R<sup>2</sup>=0.901113<br><br>Log_weights=%{x}<br>y_pred=%{y} <b>(trend)</b><extra></extra>",
         "legendgroup": "",
         "marker": {
          "color": "#636efa",
          "symbol": "circle"
         },
         "mode": "lines",
         "name": "",
         "showlegend": false,
         "type": "scatter",
         "x": [
          -3.912023005429056,
          -3.21887582486911,
          -3.218875824869109,
          -3.218875824869109,
          -3.2188758248634244,
          -2.813410716760946,
          -2.813410716760945,
          -2.6592600369336874,
          -2.6592600369304407,
          -2.302585092992682,
          -2.120263536201001,
          -2.1202635361991056,
          -2.040220828527464,
          -2.040220828527464,
          -2.040220828525716,
          -1.897119984886791,
          -1.8971199848852756,
          -1.7147984280915731,
          -1.714798428091573,
          -1.5141277326296516,
          -1.5141277326296514,
          -1.4696759700588624,
          -1.427116355640108,
          -1.427116355640108,
          -1.427116355640108,
          -1.3862943611198906,
          -1.347073647966644,
          -1.30933331998383,
          -1.3093333199838295,
          -1.3093333199838295,
          -1.2039728043260878,
          -1.2039728043260876,
          -1.171182981503121,
          -1.171182981503121,
          -1.1394342831878532,
          -1.078809661371502,
          -1.0216512475322594,
          -1.0216512475322594,
          -0.994252273344162,
          -0.9675840262620168,
          -0.9416085398581886,
          -0.9162907318744962,
          -0.8675005677050914,
          -0.86750056770455,
          -0.8209805520697062,
          -0.7985076962176707,
          -0.7985076962176707,
          -0.7765287894989171,
          -0.755022584277975,
          -0.7550225842779749,
          -0.7550225842779748,
          -0.7339691750801628,
          -0.7339691750801627,
          -0.6931471805599454,
          -0.6931471805599453,
          -0.6733445532637834,
          -0.6539264674066992,
          -0.634878272436021,
          -0.5978370007557031,
          -0.5978370007557031,
          -0.5798184952530397,
          -0.5798184952530396,
          -0.5798184952526334,
          -0.5621189181536529,
          -0.5276327420825107,
          -0.5276327420825107,
          -0.4942963218145713,
          -0.4780358009431759,
          -0.4780358009428091,
          -0.478035800942809,
          -0.478035800942809,
          -0.478035800942809,
          -0.4462871026286185,
          -0.4462871026286183,
          -0.4462871026282632,
          -0.4462871026282632,
          -0.4462871026282631,
          -0.4307829160926641,
          -0.4307829160923144,
          -0.4307829160923143,
          -0.4155154439618863,
          -0.4155154439618863,
          -0.4155154439618862,
          -0.4155154439615416,
          -0.4155154439615416,
          -0.4155154439615415,
          -0.385662480811891,
          -0.3856624808118909,
          -0.3710636813907529,
          -0.3566749439386674,
          -0.3566749439386674,
          -0.3424903089470448,
          -0.3424903089467248,
          -0.3424903089467248,
          -0.3285040669719982,
          -0.3285040669719982,
          -0.3285040669719982,
          -0.3147107448396753,
          -0.3011050927842165,
          -0.3011050927839092,
          -0.3011050927839092,
          -0.3011050927839092,
          -0.2876820724517808,
          -0.2744368457017723,
          -0.2613647641344311,
          -0.2613647641344311,
          -0.2484613592985346,
          -0.2484613592985346,
          -0.248461359298243,
          -0.2357223335211159,
          -0.2357223335211159,
          -0.2357223335208281,
          -0.2231435513142666,
          -0.2231435513142665,
          -0.2231435513139823,
          -0.2107210313154392,
          -0.2107210313154392,
          -0.1984509387236386,
          -0.186329578191581,
          -0.186329578191581,
          -0.186329578191581,
          -0.1863295781913071,
          -0.1743533871448752,
          -0.1625189294976144,
          -0.1508228897346999,
          -0.1508228897346999,
          -0.1508228897344355,
          -0.1508228897344355,
          -0.1508228897344355,
          -0.1508228897344354,
          -0.1392620673336331,
          -0.1392620673336331,
          -0.1392620673336331,
          -0.1278333715100192,
          -0.1278333715097608,
          -0.1278333715097608,
          -0.1278333715097608,
          -0.1165338162560946,
          -0.1165338162560946,
          -0.1053605156579778,
          -0.1053605156577252,
          -0.1053605156577252,
          -0.0943106794711513,
          -0.0943106794711513,
          -0.0833816089392191,
          -0.0833816089389719,
          -0.0833816089389718,
          -0.0833816089389718,
          -0.0833816089389718,
          -0.0833816089389718,
          -0.0725706928347669,
          -0.0725706928347669,
          -0.0725706928347669,
          -0.0618754037180294,
          -0.0618754037180294,
          -0.0618754037180294,
          -0.0618754037180294,
          -0.0618754037180293,
          -0.0618754037180293,
          -0.0618754037180293,
          -0.0618754037180293,
          -0.051293294387742,
          -0.0512932943875026,
          -0.0512932943875026,
          -0.0408219945204539,
          -0.0408219945202171,
          -0.0408219945202171,
          -0.0408219945202171,
          -0.0408219945202171,
          -0.0408219945202171,
          -0.0408219945202171,
          -0.0408219945202171,
          -0.0304592074846804,
          -0.0304592074846804,
          -0.0304592074846804,
          -0.0202027073175008,
          -0.0202027073175008,
          -0.0100503358534922,
          -0.0100503358534922,
          -0.0100503358534922,
          -0.0100503358534922,
          -0.0100503358534922,
          -0.0100503358534922,
          -0.0100503358534922,
          -0.0100503358534922,
          -0.0100503358534921,
          0,
          0,
          0,
          0,
          0.0099503308531589,
          0.009950330853159,
          0.0099503308533842,
          0.0198026272961618,
          0.0198026272961618,
          0.0198026272961618,
          0.0198026272961618,
          0.0198026272961618,
          0.0198026272961618,
          0.0198026272961618,
          0.0198026272963847,
          0.0295588022415179,
          0.0295588022415179,
          0.0295588022417386,
          0.0392207131532463,
          0.0392207131532463,
          0.0392207131532463,
          0.0392207131532463,
          0.0487901641693885,
          0.0487901641693885,
          0.0487901641693886,
          0.0487901641693886,
          0.0487901641693886,
          0.0487901641696052,
          0.0582689081239241,
          0.0582689081239241,
          0.0582689081239241,
          0.0582689081241388,
          0.0676586484737553,
          0.0676586484737553,
          0.0676586484739678,
          0.0769610411360609,
          0.0769610411360609,
          0.0769610411360609,
          0.0769610411360609,
          0.0769610411360609,
          0.0769610411362714,
          0.0769610411362714,
          0.0861776962409771,
          0.095310179804242,
          0.0953101798042421,
          0.0953101798044487,
          0.0953101798044488,
          0.0953101798044488,
          0.1043600153241526,
          0.1043600153241526,
          0.1043600153243573,
          0.1043600153243573,
          0.1133286853069056,
          0.1133286853069057,
          0.1133286853071086,
          0.1133286853071086,
          0.1133286853071087,
          0.1222176327241444,
          0.1222176327243456,
          0.1222176327243457,
          0.1222176327243457,
          0.1310282624064918,
          0.1310282624064918,
          0.13976194237504,
          0.13976194237504,
          0.1397619423752376,
          0.1397619423752376,
          0.1484200051181478,
          0.1484200051183437,
          0.1570037488097269,
          0.1570037488097269,
          0.1570037488097269,
          0.1570037488097269,
          0.1655144384774345,
          0.1655144384774346,
          0.1655144384776272,
          0.1655144384776273,
          0.1739533071232927,
          0.1739533071234837,
          0.1739533071234837,
          0.1739533071234837,
          0.1739533071234838,
          0.1739533071234838,
          0.1823215567938029,
          0.1823215567939924,
          0.1823215567939924,
          0.1823215567939925,
          0.1823215567939925,
          0.1906203596086797,
          0.1906203596086797,
          0.1906203596086797,
          0.1906203596086797,
          0.1906203596086798,
          0.1988508587450011,
          0.1988508587451875,
          0.1988508587451875,
          0.1988508587451875,
          0.1988508587451875,
          0.2070141693843408,
          0.2070141693843408,
          0.2151113796167694,
          0.2151113796167694,
          0.2151113796169528,
          0.2151113796169528,
          0.2151113796169528,
          0.2231435513142096,
          0.2231435513142096,
          0.2311117209633794,
          0.2311117209633794,
          0.2311117209633794,
          0.2311117209633794,
          0.2390169004704855,
          0.2390169004704855,
          0.2390169004704855,
          0.2390169004704855,
          0.2390169004704855,
          0.2390169004704855,
          0.2468600779315043,
          0.2468600779316821,
          0.2546422183735525,
          0.2546422183735525,
          0.2546422183737288,
          0.2623642644674562,
          0.2623642644676308,
          0.2623642644676308,
          0.2700271372131921,
          0.2700271372131921,
          0.2851789422336076,
          0.2851789422336077,
          0.2851789422336077,
          0.2851789422336077,
          0.2851789422337786,
          0.2926696139627589,
          0.3001045924502706,
          0.3001045924502707,
          0.3001045924502707,
          0.3001045924502707,
          0.3001045924502707,
          0.3001045924502707,
          0.300104592450439,
          0.300104592450439,
          0.3074846997478869,
          0.307484699747887,
          0.307484699747887,
          0.3220834991690276,
          0.3293037471425087,
          0.3293037471426723,
          0.3293037471426724,
          0.3364722366211153,
          0.3364722366211154,
          0.3364722366212778,
          0.3364722366212778,
          0.3435897043899736,
          0.3435897043901348,
          0.3435897043901348,
          0.3506568716130605,
          0.3506568716130606,
          0.3506568716132206,
          0.3506568716132207,
          0.3576744442717013,
          0.3576744442718603,
          0.3576744442718603,
          0.3576744442718604,
          0.3576744442718604,
          0.3576744442718604,
          0.364643113587947,
          0.3646431135879471,
          0.3715635564325144,
          0.3784364357202698,
          0.3784364357202699,
          0.3852624007906635,
          0.3852624007906635,
          0.3852624007906636,
          0.3920420877760359,
          0.392042087776036,
          0.3987761199573739,
          0.4121096508268269,
          0.4121096508268269,
          0.4187103348581731,
          0.4187103348581731,
          0.4252677354043261,
          0.4252677354043263,
          0.4252677354043263,
          0.4574248470388294,
          0.4637340162320885,
          0.4700036292456788,
          0.4700036292458208,
          0.4700036292458208,
          0.4700036292458209,
          0.4762341789963093,
          0.4762341789963095,
          0.4885800148185984,
          0.4946962418360294,
          0.4946962418361681,
          0.5007752879124067,
          0.5007752879124067,
          0.5007752879125443,
          0.5007752879125444,
          0.5128236264285712,
          0.5128236264287072,
          0.5128236264287073,
          0.5187937934152053,
          0.5187937934152054,
          0.5247285289350144,
          0.5247285289350144,
          0.530628251062197,
          0.5364933705145898,
          0.5364933705145898,
          0.5364933705145898,
          0.5423242908253777,
          0.5423242908253778,
          0.5423242908253778,
          0.5596157879354228,
          0.5822156198526433,
          0.6043159668532897,
          0.6043159668532898,
          0.6151856390901843,
          0.6205764877250559,
          0.6205764877250561,
          0.631271776841916,
          0.6365768290714836,
          0.6626879730751477,
          0.662687973075265,
          0.662687973075265,
          0.6678293725756789,
          0.672944473242444,
          0.6729444732424444,
          0.683096844706453,
          0.6931471805599453,
          0.6931471805599454,
          0.7080357930537947,
          0.7178397931502944,
          0.7227059828014633,
          0.7323678937131914,
          0.7323678937131914,
          0.7323678937131917,
          0.7323678937133008,
          0.7371640659766804,
          0.7419373447293343,
          0.7466879474879277,
          0.765467842139508,
          0.7701082216960061,
          0.7793248768010269,
          0.7839015438284341,
          0.7839015438284345,
          0.7884573603641877,
          0.8064758658669524,
          0.810930216216329,
          0.8109302162163291,
          0.8197798314933032,
          0.8197798314933035,
          0.8329091229350841,
          0.8415671856781913,
          0.845868267577578,
          0.8458682675775782,
          0.8671004876834293,
          0.871293365943461,
          0.8712933659434611,
          0.8796267475025976,
          0.8878912573523896,
          0.8919980393051329,
          0.8919980393051329,
          0.8960880245566538,
          0.9042181506398972,
          0.9162907318741552,
          0.928219302739418,
          0.9282193027394182,
          0.9400072584915388,
          0.947789398933498,
          0.9516578757114148,
          0.9593502213345636,
          0.9593502213346506,
          0.9593502213346508,
          0.9707789171581764,
          0.9707789171582628,
          0.9745596399981652,
          0.9745596399981654,
          0.9858167945227888,
          0.9932517730103002,
          0.9932517730103002,
          1.0043016091968753,
          1.0152306797290551,
          1.040276711655121,
          1.068153081183429,
          1.0784095813506085,
          1.081805170351744,
          1.0818051703517442,
          1.0818051703517444,
          1.1019400787607814,
          1.1019400787607816,
          1.111857515418193,
          1.1184149159643462,
          1.1216775615991592,
          1.1314021114910715,
          1.1346227261911106,
          1.1442227999201942,
          1.1442227999201942,
          1.1505720275988467,
          1.1600209167966988,
          1.1600209167967706,
          1.163150809805695,
          1.163150809805695,
          1.1724821372345708,
          1.2119409739750828,
          1.2119409739751503,
          1.214912744364306,
          1.226712291295383,
          1.2267122912954491,
          1.232560261177867,
          1.235471471385257,
          1.2383742310432813,
          1.2556160374777718,
          1.264126727145673,
          1.2641267271456735,
          1.297463147413297,
          1.3454723665996728,
          1.381281819296351,
          1.4327007339340594,
          1.453953009593699,
          1.4655675420143817,
          1.467874348112295,
          1.4724720573609724,
          1.4747630091074737,
          1.492904096178159,
          1.5390154481375724,
          1.55180879959747,
          1.5644405465033593,
          1.5644405465033593,
          1.5706970841177057,
          1.581038437912382,
          1.5993875765806076,
          1.6154199841116426,
          1.6544112780768354,
          1.6733512381777826,
          1.6863989535702455,
          1.7101878155342387,
          1.738710248138249,
          1.7509374747077986,
          1.7544036826842822,
          1.7630170003624273,
          1.803358605071396,
          1.8547342683894583,
          1.8687205103641864,
          1.885553348514404,
          1.894616854667777,
          1.9139771019523,
          1.9213246735827207,
          1.9373017745187209,
          1.941615224772436,
          1.9544450515051424,
          1.972691171732964,
          1.983756291545425,
          1.9878743481543395,
          2.017566137961746,
          2.08442908319087,
          2.1150499691472264,
          2.1494339134998635,
          2.1552445050953226,
          2.162172939277307,
          2.1621729392773075,
          2.1644717908644147,
          2.171336806384089,
          2.171336806384089,
          2.172476407647022,
          2.1781550146158604,
          2.183801557004066,
          2.184927049525825,
          2.1894163948883887,
          2.206074192613194,
          2.226783379577762,
          2.2289385528257437,
          2.237513096250344,
          2.2700619012884933,
          2.2721258855093422,
          2.280339484046724,
          2.288486168614557,
          2.3243465847755607,
          2.3311725498459546,
          2.38416507998646,
          2.3896797998449664,
          2.423917378161569,
          2.4371159859516367,
          2.453587966530582,
          2.477378383367216,
          2.4849066497880004,
          2.5305171610400485,
          2.5974910105351507,
          2.6019486702196644,
          2.602689685444384,
          2.6475922320650884,
          2.6490076604684347,
          2.6497146240892366,
          2.6504210882655785,
          2.662355241840076,
          2.6623552418400926,
          2.6782780427685364,
          2.6932749155200533,
          2.696652156149836,
          2.696652156149851,
          2.704711299836699,
          2.7093826463359885,
          2.718660380214231,
          2.7199787719674884,
          2.722610352433541,
          2.7304637959391047,
          2.736313666375058,
          2.739548868161568,
          2.7395488681615827,
          2.747270914255486,
          2.7504709169861665,
          2.7517480563679344,
          2.763169500323284,
          2.766947842349701,
          2.76820412392196,
          2.773837941640212,
          2.775708849576024,
          2.7813006628418075,
          2.788092908775747,
          2.793003906982383,
          2.7991089320491813,
          2.8075938314384685,
          2.8207834710894613,
          2.833801406407769,
          2.833801406407769,
          2.835563521401168,
          2.8408313123360216,
          2.840831312336036,
          2.8443278193947603,
          2.84490938381941,
          2.851284369188115,
          2.854744580253007,
          2.86277214629776,
          2.86277214629776,
          2.870735783379299,
          2.880882431875045,
          2.900322088749336,
          2.903616984646187,
          2.90853906185161,
          2.912350664614933,
          2.913437030827153,
          2.915064370486538,
          2.9231615807191504,
          2.924773184613491,
          2.924773184613503,
          2.926917957553623,
          2.93119375241642,
          2.935982269148223,
          2.940219563623724,
          2.9407479652212234,
          2.9418039315284363,
          2.9454910571172435,
          2.951780386024813,
          2.95699144523756,
          2.9632090818484373,
          2.976039640208261,
          2.990719731730441,
          2.9967317738870736,
          2.998229153752577,
          3.0017143452315334,
          3.004196351966113,
          3.0086484988205373,
          3.066656611890691,
          3.0685179432796392,
          3.091042453358315,
          3.1009927842114853,
          3.1210424645194403,
          3.1228053561174702,
          3.136797713832593,
          3.178053830347946,
          3.260785227945408,
          3.261168737058458,
          3.261935314328653,
          3.273364010152266,
          3.27940632460824,
          3.34744492566291,
          3.356548629993266,
          3.4134552790576533,
          3.427189961936409,
          3.466672963621066,
          3.520164900726204,
          3.5310553689203723,
          3.61523291394564,
          3.623006709963228,
          3.65919314374358,
          3.6630486940794142,
          3.668166412516397,
          3.749033376933679,
          3.797509618639385,
          3.811539466849824,
          3.85036034503604,
          3.8632528410587126,
          3.929273358834672,
          3.932217712713664,
          3.951436007784981,
          3.959097412814071,
          4.040767961318706,
          4.090671156855791,
          4.095177548525992,
          4.1021473742851216,
          4.106108429142343,
          4.123093975508086,
          4.1247120988385,
          4.152298955482658,
          4.194491510827042,
          4.224787858247392,
          4.25858700561615,
          4.269417690291223,
          4.346399457030725,
          4.385769620952716,
          4.393955205539156,
          4.394202210604016,
          4.4917774986330015,
          4.521244951050331,
          4.52926059188774,
          4.543613880288984,
          4.54902302536509,
          4.550608397995406,
          4.5555596854347575,
          4.568402461795877,
          4.577182149447924,
          4.577490616881347,
          4.585273554273636,
          4.597440387926152,
          4.602967762432891,
          4.603168183317418,
          4.604469940873697,
          4.625854777180923,
          4.647654797594246,
          4.663156035186745,
          4.666265285347902,
          4.6902463583432095,
          4.7057392409097885,
          4.708358343784259,
          4.71195968016961,
          4.713396591058963,
          4.736636948730395,
          4.759520845818017,
          4.775081722705362,
          4.775166093091412,
          4.801887623065778,
          4.804758477680766,
          4.838264068155469,
          4.841348415572755,
          4.85359154448657,
          4.908602568531104,
          4.969604944538264,
          4.971339911488611,
          5.005153630527017,
          5.0111018519079,
          5.044456842571766,
          5.04606678592752,
          5.051457288616512,
          5.13562195088926,
          5.153407194752229,
          5.320714663990076,
          5.3407540567452925,
          5.354839466872363
         ],
         "xaxis": "x",
         "y": [
          -3.2885173663969978,
          -2.679364009632913,
          -2.6793640096329123,
          -2.6793640096329123,
          -2.6793640096279163,
          -2.3230321387375077,
          -2.323032138737507,
          -2.1875610487615176,
          -2.1875610487586643,
          -1.8741070732295275,
          -1.7138787819734234,
          -1.7138787819717578,
          -1.6435354473522932,
          -1.6435354473522932,
          -1.6435354473507569,
          -1.5177752023361197,
          -1.517775202334788,
          -1.3575469110769076,
          -1.3575469110769074,
          -1.1811929834073696,
          -1.1811929834073693,
          -1.1421277730977757,
          -1.1047254252085064,
          -1.1047254252085064,
          -1.1047254252085064,
          -1.068850136829338,
          -1.03438209058744,
          -1.0012150401818725,
          -1.001215040181872,
          -1.001215040181872,
          -0.9086218455713693,
          -0.908621845571369,
          -0.8798054106200301,
          -0.8798054106200301,
          -0.8519039393394108,
          -0.7986256559997157,
          -0.7483935543133783,
          -0.7483935543133783,
          -0.7243147185817098,
          -0.7008780622918012,
          -0.6780502196917787,
          -0.6558003597028567,
          -0.6129224643374678,
          -0.6129224643369919,
          -0.5720396266432851,
          -0.5522899746757418,
          -0.5522899746757418,
          -0.5329744163336914,
          -0.5140742787164378,
          -0.5140742787164377,
          -0.5140742787164376,
          -0.4955720684444219,
          -0.4955720684444218,
          -0.4596967800652536,
          -0.4596967800652535,
          -0.4422937851047021,
          -0.4252287338233559,
          -0.40848875098549464,
          -0.37593604700616323,
          -0.37593604700616323,
          -0.36010097846855094,
          -0.3601009784685508,
          -0.3601009784681938,
          -0.34454619139622034,
          -0.31423896299672927,
          -0.31423896299672927,
          -0.2849421658975779,
          -0.27065205385594593,
          -0.27065205385562363,
          -0.2706520538556235,
          -0.2706520538556235,
          -0.2706520538556235,
          -0.24275058257595086,
          -0.2427505825759507,
          -0.24275058257563867,
          -0.24275058257563867,
          -0.24275058257563856,
          -0.22912515418620596,
          -0.2291251541858986,
          -0.2291251541858985,
          -0.21570775574818243,
          -0.21570775574818243,
          -0.21570775574818238,
          -0.2157077557478795,
          -0.2157077557478795,
          -0.2157077557478794,
          -0.1894722992359252,
          -0.18947229923592515,
          -0.17664254543828603,
          -0.16399739883110456,
          -0.16399739883110456,
          -0.1515316220639827,
          -0.15153162206370144,
          -0.15153162206370144,
          -0.13924019754901626,
          -0.13924019754901626,
          -0.13924019754901626,
          -0.12711831533773002,
          -0.11516136181762529,
          -0.11516136181735523,
          -0.11516136181735523,
          -0.11516136181735523,
          -0.10336490916984795,
          -0.09172470552745379,
          -0.08023666577201954,
          -0.08023666577201954,
          -0.06889686292795028,
          -0.06889686292795028,
          -0.06889686292769401,
          -0.05770152010342919,
          -0.05770152010342919,
          -0.05770152010317628,
          -0.0466470029385225,
          -0.04664700293852242,
          -0.04664700293827265,
          -0.03572981252213553,
          -0.03572981252213553,
          -0.02494657874476744,
          -0.014294054051980337,
          -0.014294054051980337,
          -0.014294054051980337,
          -0.01429405405173964,
          -0.0037691075731453305,
          0.006631280401437012,
          0.016910023621123815,
          0.016910023621123815,
          0.016910023621356185,
          0.016910023621356185,
          0.016910023621356185,
          0.016910023621356268,
          0.027069934777184876,
          0.027069934777184876,
          0.027069934777184876,
          0.037113730120572286,
          0.03711373012079938,
          0.03711373012079938,
          0.03711373012079938,
          0.047044033822174286,
          0.047044033822174286,
          0.05686338208812078,
          0.05686338208834278,
          0.05686338208834278,
          0.06657422704814943,
          0.06657422704814943,
          0.07617894043017577,
          0.07617894043039303,
          0.07617894043039311,
          0.07617894043039311,
          0.07617894043039311,
          0.07617894043039311,
          0.08567981703967448,
          0.08567981703967448,
          0.08567981703967448,
          0.09507907804764677,
          0.09507907804764677,
          0.09507907804764677,
          0.09507907804764677,
          0.09507907804764687,
          0.09507907804764687,
          0.09507907804764687,
          0.09507907804764687,
          0.10437887410969196,
          0.10437887410990235,
          0.10437887410990235,
          0.11358128831945476,
          0.11358128831966287,
          0.11358128831966287,
          0.11358128831966287,
          0.11358128831966287,
          0.11358128831966287,
          0.11358128831966287,
          0.11358128831966287,
          0.12268833900842,
          0.12268833900842,
          0.12268833900842,
          0.13170198240294653,
          0.13170198240294653,
          0.1406241151474249,
          0.1406241151474249,
          0.1406241151474249,
          0.1406241151474249,
          0.1406241151474249,
          0.1406241151474249,
          0.1406241151474249,
          0.1406241151474249,
          0.14062411514742498,
          0.14945657669883092,
          0.14945657669883092,
          0.14945657669883092,
          0.14945657669883092,
          0.15820115160313694,
          0.15820115160313702,
          0.15820115160333495,
          0.16685957165938217,
          0.16685957165938217,
          0.16685957165938217,
          0.16685957165938217,
          0.16685957165938217,
          0.16685957165938217,
          0.16685957165938217,
          0.16685957165957807,
          0.17543351797817178,
          0.17543351797817178,
          0.17543351797836573,
          0.1839246229407287,
          0.1839246229407287,
          0.1839246229407287,
          0.1839246229407287,
          0.19233447206420554,
          0.19233447206420554,
          0.19233447206420562,
          0.19233447206420562,
          0.19233447206420562,
          0.19233447206439597,
          0.20066460577858958,
          0.20066460577858958,
          0.20066460577858958,
          0.20066460577877823,
          0.2089165211201801,
          0.2089165211201801,
          0.20891652112036685,
          0.21709167334629664,
          0.21709167334629664,
          0.21709167334629664,
          0.21709167334629664,
          0.21709167334629664,
          0.21709167334648166,
          0.21709167334648166,
          0.22519147747557422,
          0.23321730975792096,
          0.23321730975792104,
          0.23321730975810262,
          0.23321730975810268,
          0.23321730975810268,
          0.24117050907796006,
          0.24117050907796006,
          0.24117050907813997,
          0.24117050907813997,
          0.24905237829553353,
          0.24905237829553362,
          0.24905237829571192,
          0.24905237829571192,
          0.24905237829571203,
          0.2568641855266273,
          0.2568641855268041,
          0.25686418552680423,
          0.25686418552680423,
          0.2646071653680393,
          0.2646071653680393,
          0.2722825200675226,
          0.2722825200675226,
          0.27228252006769627,
          0.27228252006769627,
          0.2798914206458638,
          0.279891420646036,
          0.2874350079675405,
          0.2874350079675405,
          0.2874350079675405,
          0.2874350079675405,
          0.294914393767355,
          0.29491439376735507,
          0.2949143937675244,
          0.2949143937675245,
          0.30233066163526007,
          0.3023306616354279,
          0.3023306616354279,
          0.3023306616354279,
          0.302330661635428,
          0.302330661635428,
          0.30968486795679956,
          0.3096848679569661,
          0.3096848679569661,
          0.3096848679569662,
          0.3096848679569662,
          0.316978042817183,
          0.316978042817183,
          0.316978042817183,
          0.316978042817183,
          0.31697804281718306,
          0.3242111908661788,
          0.32421119086634254,
          0.32421119086634254,
          0.32421119086634254,
          0.32421119086634254,
          0.3313852921504754,
          0.3313852921504754,
          0.3385013029081385,
          0.3385013029081385,
          0.33850130290829966,
          0.33850130290829966,
          0.33850130290829966,
          0.34556015633613424,
          0.34556015633613424,
          0.3525627633223394,
          0.3525627633223394,
          0.3525627633223394,
          0.3525627633223394,
          0.3595100131527236,
          0.3595100131527236,
          0.3595100131527236,
          0.3595100131527236,
          0.3595100131527236,
          0.3595100131527236,
          0.36640277418828954,
          0.3664027741884458,
          0.3732418945166066,
          0.3732418945166066,
          0.3732418945167616,
          0.38002820257803227,
          0.3800282025781857,
          0.3800282025781857,
          0.38676250776809334,
          0.38676250776809334,
          0.40007825534390395,
          0.40007825534390395,
          0.40007825534390395,
          0.40007825534390395,
          0.40007825534405417,
          0.40666122640142777,
          0.41319525298360005,
          0.41319525298360016,
          0.41319525298360016,
          0.41319525298360016,
          0.41319525298360016,
          0.41319525298360016,
          0.41319525298374804,
          0.41319525298374804,
          0.4196810575280121,
          0.4196810575280122,
          0.4196810575280122,
          0.4325108113256536,
          0.4388561278948735,
          0.43885612789501727,
          0.4388561278950174,
          0.4451559579328369,
          0.445155957932837,
          0.4451559579329798,
          0.4451559579329798,
          0.45141094894291045,
          0.4514109489430521,
          0.4514109489430521,
          0.45762173470024226,
          0.45762173470024237,
          0.45762173470038303,
          0.45762173470038314,
          0.4637889356371251,
          0.46378893563726475,
          0.46378893563726475,
          0.46378893563726487,
          0.46378893563726487,
          0.46378893563726487,
          0.46991315921506804,
          0.46991315921506815,
          0.4759950002833051,
          0.4820350414263542,
          0.48203504142635434,
          0.4880338532983519,
          0.4880338532983519,
          0.488033853298352,
          0.49399199494672896,
          0.4939919949467291,
          0.49991001412485747,
          0.5116278214166414,
          0.5116278214166414,
          0.5174286512366307,
          0.5174286512366307,
          0.5231914425547876,
          0.5231914425547877,
          0.5231914425547877,
          0.5514518366606552,
          0.556996476673995,
          0.562506353825562,
          0.5625063538256868,
          0.5625063538256868,
          0.5625063538256869,
          0.567981901301664,
          0.5679819013016641,
          0.578831699936249,
          0.5842067780190733,
          0.5842067780191952,
          0.5895491806533266,
          0.5895491806533266,
          0.5895491806534476,
          0.5895491806534477,
          0.600137531953584,
          0.6001375319537036,
          0.6001375319537036,
          0.6053842491910578,
          0.6053842491910579,
          0.6105998284573233,
          0.6105998284573233,
          0.6157846371654038,
          0.6209390362633864,
          0.6209390362633864,
          0.6209390362633864,
          0.6260633803853245,
          0.6260633803853246,
          0.6260633803853246,
          0.6412595375702262,
          0.6611207789642369,
          0.6805430617616933,
          0.6805430617616934,
          0.6900955745839786,
          0.6948331738036513,
          0.6948331738036515,
          0.7042324348117314,
          0.7088946342176919,
          0.7318416957724014,
          0.7318416957725045,
          0.7318416957725045,
          0.736360073473489,
          0.7408553391670305,
          0.740855339167031,
          0.7497774719115093,
          0.7586099334629154,
          0.7586099334629155,
          0.7716943815174562,
          0.7803103576564253,
          0.7845868747422563,
          0.793077979704813,
          0.793077979704813,
          0.7930779797048132,
          0.7930779797049091,
          0.797292963933073,
          0.8014878288282904,
          0.8056627655491065,
          0.8221669600225582,
          0.8262450301103811,
          0.8343448342397505,
          0.8383669123217596,
          0.83836691232176,
          0.8423706665220058,
          0.8582057350597072,
          0.862120318489642,
          0.8621203184896421,
          0.8698975597498384,
          0.8698975597498386,
          0.8814358768316939,
          0.8890447774100346,
          0.8928246650734485,
          0.8928246650734486,
          0.9114840183995127,
          0.9151688142671639,
          0.915168814267164,
          0.9224923777069564,
          0.9297554151371075,
          0.9333645476304271,
          0.9333645476304271,
          0.936958918804334,
          0.9441038567531866,
          0.954713513100219,
          0.9651966098908646,
          0.9651966098908649,
          0.9755561309524523,
          0.9823952512806913,
          0.9857949558180858,
          0.9925551624367512,
          0.9925551624368277,
          0.9925551624368278,
          1.0025989577801377,
          1.0025989577802135,
          1.005921542180053,
          1.0059215421800531,
          1.0158145831655865,
          1.0223486097477585,
          1.0223486097477585,
          1.0320594547075663,
          1.0416641680898102,
          1.0636751851570059,
          1.0881735666679095,
          1.097187210062436,
          1.1001713301688785,
          1.1001713301688787,
          1.100171330168879,
          1.1178663412567031,
          1.1178663412567034,
          1.1265820080007807,
          1.1323447993189377,
          1.1352120858002481,
          1.1437582393096555,
          1.1465885880586582,
          1.155025349112104,
          1.155025349112104,
          1.160605193424803,
          1.1689090901064771,
          1.1689090901065402,
          1.1716597105897089,
          1.1716597105897089,
          1.1798602913404992,
          1.2145376059550828,
          1.214537605955142,
          1.2171492647180384,
          1.2275189723688067,
          1.2275189723688649,
          1.2326583000384261,
          1.235216737149351,
          1.237767747727128,
          1.2529202356269735,
          1.2603996214269582,
          1.2603996214269586,
          1.2896964185258322,
          1.3318880018478312,
          1.363358155555222,
          1.408546256049872,
          1.4272232346483957,
          1.4374303473796177,
          1.4394576205437566,
          1.4434981910038351,
          1.4455115310068032,
          1.4614543269877813,
          1.501978021837576,
          1.5132211072956514,
          1.5243221710312072,
          1.5243221710312072,
          1.5298205572273698,
          1.5389087719012333,
          1.5550344083128966,
          1.5691240492123235,
          1.6033904767036466,
          1.6200353402997874,
          1.631501966511843,
          1.6524081542961713,
          1.6774743105918293,
          1.6882198727432027,
          1.6912660543960107,
          1.6988356320032933,
          1.7342887429946217,
          1.7794388332552464,
          1.791730257769933,
          1.8065233351287535,
          1.814488548509437,
          1.8315027699502902,
          1.8379599814174414,
          1.852001017635263,
          1.855791774887082,
          1.867066915636578,
          1.8831020171221238,
          1.8928262936766533,
          1.8964453345917995,
          1.9225391483398468,
          1.9812998108250512,
          2.008210135198493,
          2.0384275200607935,
          2.0435339988497567,
          2.0496228628853363,
          2.049622862885337,
          2.0516431454461883,
          2.0576762757327014,
          2.0576762757327014,
          2.0586777829943013,
          2.06366827072018,
          2.0686305793702813,
          2.0696196875523105,
          2.0735650253881652,
          2.088204273278007,
          2.106403973297173,
          2.1082979880969672,
          2.1158334900167692,
          2.1444381131094166,
          2.1462519889379563,
          2.153470284359885,
          2.1606297742780067,
          2.1921447158258984,
          2.1981435276978964,
          2.244714556945153,
          2.249561016986596,
          2.27964977207925,
          2.2912490059294655,
          2.3057249535256337,
          2.326632507767065,
          2.3332485178864895,
          2.373332062640241,
          2.4321901902927214,
          2.4361076820409235,
          2.4367589029132164,
          2.4762202724006626,
          2.4774641827668002,
          2.4780854783224915,
          2.47870633495514,
          2.4891943379564228,
          2.489194337956437,
          2.503187654104405,
          2.5163672437121565,
          2.5193352388565216,
          2.519335238856535,
          2.526417795876419,
          2.530523080411157,
          2.538676561942352,
          2.539835194314452,
          2.542147886509486,
          2.549049669576261,
          2.5541906674950825,
          2.557033835704279,
          2.5570338357042917,
          2.5638201437657164,
          2.566632378251722,
          2.567754757110468,
          2.5777921793486622,
          2.5811126714359784,
          2.5822167199818646,
          2.587167845905363,
          2.588812041945194,
          2.593726253409631,
          2.5996954321449235,
          2.6040113279986987,
          2.6093765615549613,
          2.6168332822771236,
          2.6284246347246953,
          2.6398650895367295,
          2.6398650895367295,
          2.641413675887995,
          2.646043129228778,
          2.6460431292287905,
          2.6491159383976175,
          2.6496270303148695,
          2.655229511065828,
          2.6582704224976377,
          2.6653252283743005,
          2.6653252283743005,
          2.672323852037967,
          2.681240955309015,
          2.6983249636862117,
          2.701220592424301,
          2.7055462247517865,
          2.7088959471239584,
          2.7098506702237684,
          2.711280812975426,
          2.7183968237332508,
          2.7198131375401084,
          2.719813137540119,
          2.7216980123150774,
          2.7254556771610967,
          2.729663933535655,
          2.7333877633740227,
          2.7338521346011784,
          2.7347801415796513,
          2.7380204706067683,
          2.743547674530103,
          2.7481272707555067,
          2.7535914698735,
          2.764867253593388,
          2.777768448720685,
          2.7830519668008735,
          2.784367897958071,
          2.787430762740492,
          2.7896120061708687,
          2.7935246531198015,
          2.844503489631391,
          2.846139269586107,
          2.865934316451634,
          2.8746788913559502,
          2.8922990020686146,
          2.893848270917524,
          2.906145070082639,
          2.9424018746505745,
          3.0151080905448184,
          3.015445126992655,
          3.0161188123663463,
          3.026162607709733,
          3.0314727297685247,
          3.0912665850771526,
          3.0992671255213105,
          3.149277970652014,
          3.1613483193663026,
          3.196046870678163,
          3.243056790016052,
          3.2526275787940584,
          3.326604701625141,
          3.333436488685268,
          3.3652379418612237,
          3.368626286350123,
          3.373123852599102,
          3.444191562614622,
          3.486793575847198,
          3.4991233225041425,
          3.533239984769954,
          3.54457020070322,
          3.602590518965267,
          3.6051780834814213,
          3.6220675541195595,
          3.6288005694471686,
          3.7005744872609485,
          3.7444305396654505,
          3.748390858180458,
          3.7545160980664583,
          3.757997162305447,
          3.7729244430841202,
          3.7743464863182625,
          3.798590437384735,
          3.8356702054907283,
          3.8622953180878663,
          3.891998770187044,
          3.90151701986173,
          3.9691703306363846,
          4.003769717580524,
          4.010963393711298,
          4.011180467326565,
          4.096931828519527,
          4.1228284895155385,
          4.12987281525135,
          4.142486808434092,
          4.147240486978484,
          4.148633748159607,
          4.152985051098686,
          4.164271572273347,
          4.171987359561502,
          4.172258447690822,
          4.179098268396964,
          4.189790755892381,
          4.194648337123761,
          4.194824471511954,
          4.195968485377032,
          4.21476196125884,
          4.233920310285916,
          4.247543147077723,
          4.250275626161253,
          4.271350733329827,
          4.284966227536641,
          4.287267954143111,
          4.290432889685661,
          4.2916956793444365,
          4.312119829200337,
          4.332230713465216,
          4.345905962612824,
          4.345980109208692,
          4.369463591704585,
          4.371986563411818,
          4.401432031099562,
          4.404142625090795,
          4.414902162580541,
          4.463247089741158,
          4.516857351973383,
          4.518382080012852,
          4.548098338023572,
          4.553325768968344,
          4.582638886149771,
          4.584053740637912,
          4.5887910358325525,
          4.6627568370105115,
          4.678386909964488,
          4.825420482856767,
          4.843031552636338,
          4.855410128357259
         ],
         "yaxis": "y"
        }
       ],
       "layout": {
        "legend": {
         "tracegroupgap": 0
        },
        "margin": {
         "t": 60
        },
        "template": {
         "data": {
          "bar": [
           {
            "error_x": {
             "color": "#2a3f5f"
            },
            "error_y": {
             "color": "#2a3f5f"
            },
            "marker": {
             "line": {
              "color": "#E5ECF6",
              "width": 0.5
             },
             "pattern": {
              "fillmode": "overlay",
              "size": 10,
              "solidity": 0.2
             }
            },
            "type": "bar"
           }
          ],
          "barpolar": [
           {
            "marker": {
             "line": {
              "color": "#E5ECF6",
              "width": 0.5
             },
             "pattern": {
              "fillmode": "overlay",
              "size": 10,
              "solidity": 0.2
             }
            },
            "type": "barpolar"
           }
          ],
          "carpet": [
           {
            "aaxis": {
             "endlinecolor": "#2a3f5f",
             "gridcolor": "white",
             "linecolor": "white",
             "minorgridcolor": "white",
             "startlinecolor": "#2a3f5f"
            },
            "baxis": {
             "endlinecolor": "#2a3f5f",
             "gridcolor": "white",
             "linecolor": "white",
             "minorgridcolor": "white",
             "startlinecolor": "#2a3f5f"
            },
            "type": "carpet"
           }
          ],
          "choropleth": [
           {
            "colorbar": {
             "outlinewidth": 0,
             "ticks": ""
            },
            "type": "choropleth"
           }
          ],
          "contour": [
           {
            "colorbar": {
             "outlinewidth": 0,
             "ticks": ""
            },
            "colorscale": [
             [
              0,
              "#0d0887"
             ],
             [
              0.1111111111111111,
              "#46039f"
             ],
             [
              0.2222222222222222,
              "#7201a8"
             ],
             [
              0.3333333333333333,
              "#9c179e"
             ],
             [
              0.4444444444444444,
              "#bd3786"
             ],
             [
              0.5555555555555556,
              "#d8576b"
             ],
             [
              0.6666666666666666,
              "#ed7953"
             ],
             [
              0.7777777777777778,
              "#fb9f3a"
             ],
             [
              0.8888888888888888,
              "#fdca26"
             ],
             [
              1,
              "#f0f921"
             ]
            ],
            "type": "contour"
           }
          ],
          "contourcarpet": [
           {
            "colorbar": {
             "outlinewidth": 0,
             "ticks": ""
            },
            "type": "contourcarpet"
           }
          ],
          "heatmap": [
           {
            "colorbar": {
             "outlinewidth": 0,
             "ticks": ""
            },
            "colorscale": [
             [
              0,
              "#0d0887"
             ],
             [
              0.1111111111111111,
              "#46039f"
             ],
             [
              0.2222222222222222,
              "#7201a8"
             ],
             [
              0.3333333333333333,
              "#9c179e"
             ],
             [
              0.4444444444444444,
              "#bd3786"
             ],
             [
              0.5555555555555556,
              "#d8576b"
             ],
             [
              0.6666666666666666,
              "#ed7953"
             ],
             [
              0.7777777777777778,
              "#fb9f3a"
             ],
             [
              0.8888888888888888,
              "#fdca26"
             ],
             [
              1,
              "#f0f921"
             ]
            ],
            "type": "heatmap"
           }
          ],
          "heatmapgl": [
           {
            "colorbar": {
             "outlinewidth": 0,
             "ticks": ""
            },
            "colorscale": [
             [
              0,
              "#0d0887"
             ],
             [
              0.1111111111111111,
              "#46039f"
             ],
             [
              0.2222222222222222,
              "#7201a8"
             ],
             [
              0.3333333333333333,
              "#9c179e"
             ],
             [
              0.4444444444444444,
              "#bd3786"
             ],
             [
              0.5555555555555556,
              "#d8576b"
             ],
             [
              0.6666666666666666,
              "#ed7953"
             ],
             [
              0.7777777777777778,
              "#fb9f3a"
             ],
             [
              0.8888888888888888,
              "#fdca26"
             ],
             [
              1,
              "#f0f921"
             ]
            ],
            "type": "heatmapgl"
           }
          ],
          "histogram": [
           {
            "marker": {
             "pattern": {
              "fillmode": "overlay",
              "size": 10,
              "solidity": 0.2
             }
            },
            "type": "histogram"
           }
          ],
          "histogram2d": [
           {
            "colorbar": {
             "outlinewidth": 0,
             "ticks": ""
            },
            "colorscale": [
             [
              0,
              "#0d0887"
             ],
             [
              0.1111111111111111,
              "#46039f"
             ],
             [
              0.2222222222222222,
              "#7201a8"
             ],
             [
              0.3333333333333333,
              "#9c179e"
             ],
             [
              0.4444444444444444,
              "#bd3786"
             ],
             [
              0.5555555555555556,
              "#d8576b"
             ],
             [
              0.6666666666666666,
              "#ed7953"
             ],
             [
              0.7777777777777778,
              "#fb9f3a"
             ],
             [
              0.8888888888888888,
              "#fdca26"
             ],
             [
              1,
              "#f0f921"
             ]
            ],
            "type": "histogram2d"
           }
          ],
          "histogram2dcontour": [
           {
            "colorbar": {
             "outlinewidth": 0,
             "ticks": ""
            },
            "colorscale": [
             [
              0,
              "#0d0887"
             ],
             [
              0.1111111111111111,
              "#46039f"
             ],
             [
              0.2222222222222222,
              "#7201a8"
             ],
             [
              0.3333333333333333,
              "#9c179e"
             ],
             [
              0.4444444444444444,
              "#bd3786"
             ],
             [
              0.5555555555555556,
              "#d8576b"
             ],
             [
              0.6666666666666666,
              "#ed7953"
             ],
             [
              0.7777777777777778,
              "#fb9f3a"
             ],
             [
              0.8888888888888888,
              "#fdca26"
             ],
             [
              1,
              "#f0f921"
             ]
            ],
            "type": "histogram2dcontour"
           }
          ],
          "mesh3d": [
           {
            "colorbar": {
             "outlinewidth": 0,
             "ticks": ""
            },
            "type": "mesh3d"
           }
          ],
          "parcoords": [
           {
            "line": {
             "colorbar": {
              "outlinewidth": 0,
              "ticks": ""
             }
            },
            "type": "parcoords"
           }
          ],
          "pie": [
           {
            "automargin": true,
            "type": "pie"
           }
          ],
          "scatter": [
           {
            "fillpattern": {
             "fillmode": "overlay",
             "size": 10,
             "solidity": 0.2
            },
            "type": "scatter"
           }
          ],
          "scatter3d": [
           {
            "line": {
             "colorbar": {
              "outlinewidth": 0,
              "ticks": ""
             }
            },
            "marker": {
             "colorbar": {
              "outlinewidth": 0,
              "ticks": ""
             }
            },
            "type": "scatter3d"
           }
          ],
          "scattercarpet": [
           {
            "marker": {
             "colorbar": {
              "outlinewidth": 0,
              "ticks": ""
             }
            },
            "type": "scattercarpet"
           }
          ],
          "scattergeo": [
           {
            "marker": {
             "colorbar": {
              "outlinewidth": 0,
              "ticks": ""
             }
            },
            "type": "scattergeo"
           }
          ],
          "scattergl": [
           {
            "marker": {
             "colorbar": {
              "outlinewidth": 0,
              "ticks": ""
             }
            },
            "type": "scattergl"
           }
          ],
          "scattermapbox": [
           {
            "marker": {
             "colorbar": {
              "outlinewidth": 0,
              "ticks": ""
             }
            },
            "type": "scattermapbox"
           }
          ],
          "scatterpolar": [
           {
            "marker": {
             "colorbar": {
              "outlinewidth": 0,
              "ticks": ""
             }
            },
            "type": "scatterpolar"
           }
          ],
          "scatterpolargl": [
           {
            "marker": {
             "colorbar": {
              "outlinewidth": 0,
              "ticks": ""
             }
            },
            "type": "scatterpolargl"
           }
          ],
          "scatterternary": [
           {
            "marker": {
             "colorbar": {
              "outlinewidth": 0,
              "ticks": ""
             }
            },
            "type": "scatterternary"
           }
          ],
          "surface": [
           {
            "colorbar": {
             "outlinewidth": 0,
             "ticks": ""
            },
            "colorscale": [
             [
              0,
              "#0d0887"
             ],
             [
              0.1111111111111111,
              "#46039f"
             ],
             [
              0.2222222222222222,
              "#7201a8"
             ],
             [
              0.3333333333333333,
              "#9c179e"
             ],
             [
              0.4444444444444444,
              "#bd3786"
             ],
             [
              0.5555555555555556,
              "#d8576b"
             ],
             [
              0.6666666666666666,
              "#ed7953"
             ],
             [
              0.7777777777777778,
              "#fb9f3a"
             ],
             [
              0.8888888888888888,
              "#fdca26"
             ],
             [
              1,
              "#f0f921"
             ]
            ],
            "type": "surface"
           }
          ],
          "table": [
           {
            "cells": {
             "fill": {
              "color": "#EBF0F8"
             },
             "line": {
              "color": "white"
             }
            },
            "header": {
             "fill": {
              "color": "#C8D4E3"
             },
             "line": {
              "color": "white"
             }
            },
            "type": "table"
           }
          ]
         },
         "layout": {
          "annotationdefaults": {
           "arrowcolor": "#2a3f5f",
           "arrowhead": 0,
           "arrowwidth": 1
          },
          "autotypenumbers": "strict",
          "coloraxis": {
           "colorbar": {
            "outlinewidth": 0,
            "ticks": ""
           }
          },
          "colorscale": {
           "diverging": [
            [
             0,
             "#8e0152"
            ],
            [
             0.1,
             "#c51b7d"
            ],
            [
             0.2,
             "#de77ae"
            ],
            [
             0.3,
             "#f1b6da"
            ],
            [
             0.4,
             "#fde0ef"
            ],
            [
             0.5,
             "#f7f7f7"
            ],
            [
             0.6,
             "#e6f5d0"
            ],
            [
             0.7,
             "#b8e186"
            ],
            [
             0.8,
             "#7fbc41"
            ],
            [
             0.9,
             "#4d9221"
            ],
            [
             1,
             "#276419"
            ]
           ],
           "sequential": [
            [
             0,
             "#0d0887"
            ],
            [
             0.1111111111111111,
             "#46039f"
            ],
            [
             0.2222222222222222,
             "#7201a8"
            ],
            [
             0.3333333333333333,
             "#9c179e"
            ],
            [
             0.4444444444444444,
             "#bd3786"
            ],
            [
             0.5555555555555556,
             "#d8576b"
            ],
            [
             0.6666666666666666,
             "#ed7953"
            ],
            [
             0.7777777777777778,
             "#fb9f3a"
            ],
            [
             0.8888888888888888,
             "#fdca26"
            ],
            [
             1,
             "#f0f921"
            ]
           ],
           "sequentialminus": [
            [
             0,
             "#0d0887"
            ],
            [
             0.1111111111111111,
             "#46039f"
            ],
            [
             0.2222222222222222,
             "#7201a8"
            ],
            [
             0.3333333333333333,
             "#9c179e"
            ],
            [
             0.4444444444444444,
             "#bd3786"
            ],
            [
             0.5555555555555556,
             "#d8576b"
            ],
            [
             0.6666666666666666,
             "#ed7953"
            ],
            [
             0.7777777777777778,
             "#fb9f3a"
            ],
            [
             0.8888888888888888,
             "#fdca26"
            ],
            [
             1,
             "#f0f921"
            ]
           ]
          },
          "colorway": [
           "#636efa",
           "#EF553B",
           "#00cc96",
           "#ab63fa",
           "#FFA15A",
           "#19d3f3",
           "#FF6692",
           "#B6E880",
           "#FF97FF",
           "#FECB52"
          ],
          "font": {
           "color": "#2a3f5f"
          },
          "geo": {
           "bgcolor": "white",
           "lakecolor": "white",
           "landcolor": "#E5ECF6",
           "showlakes": true,
           "showland": true,
           "subunitcolor": "white"
          },
          "hoverlabel": {
           "align": "left"
          },
          "hovermode": "closest",
          "mapbox": {
           "style": "light"
          },
          "paper_bgcolor": "white",
          "plot_bgcolor": "#E5ECF6",
          "polar": {
           "angularaxis": {
            "gridcolor": "white",
            "linecolor": "white",
            "ticks": ""
           },
           "bgcolor": "#E5ECF6",
           "radialaxis": {
            "gridcolor": "white",
            "linecolor": "white",
            "ticks": ""
           }
          },
          "scene": {
           "xaxis": {
            "backgroundcolor": "#E5ECF6",
            "gridcolor": "white",
            "gridwidth": 2,
            "linecolor": "white",
            "showbackground": true,
            "ticks": "",
            "zerolinecolor": "white"
           },
           "yaxis": {
            "backgroundcolor": "#E5ECF6",
            "gridcolor": "white",
            "gridwidth": 2,
            "linecolor": "white",
            "showbackground": true,
            "ticks": "",
            "zerolinecolor": "white"
           },
           "zaxis": {
            "backgroundcolor": "#E5ECF6",
            "gridcolor": "white",
            "gridwidth": 2,
            "linecolor": "white",
            "showbackground": true,
            "ticks": "",
            "zerolinecolor": "white"
           }
          },
          "shapedefaults": {
           "line": {
            "color": "#2a3f5f"
           }
          },
          "ternary": {
           "aaxis": {
            "gridcolor": "white",
            "linecolor": "white",
            "ticks": ""
           },
           "baxis": {
            "gridcolor": "white",
            "linecolor": "white",
            "ticks": ""
           },
           "bgcolor": "#E5ECF6",
           "caxis": {
            "gridcolor": "white",
            "linecolor": "white",
            "ticks": ""
           }
          },
          "title": {
           "x": 0.05
          },
          "xaxis": {
           "automargin": true,
           "gridcolor": "white",
           "linecolor": "white",
           "ticks": "",
           "title": {
            "standoff": 15
           },
           "zerolinecolor": "white",
           "zerolinewidth": 2
          },
          "yaxis": {
           "automargin": true,
           "gridcolor": "white",
           "linecolor": "white",
           "ticks": "",
           "title": {
            "standoff": 15
           },
           "zerolinecolor": "white",
           "zerolinewidth": 2
          }
         }
        },
        "xaxis": {
         "anchor": "y",
         "domain": [
          0,
          1
         ],
         "title": {
          "text": "Log_weights"
         }
        },
        "yaxis": {
         "anchor": "x",
         "domain": [
          0,
          1
         ],
         "title": {
          "text": "y_pred"
         }
        }
       }
      }
     },
     "metadata": {},
     "output_type": "display_data"
    }
   ],
   "source": [
    "fig = px.scatter(predictions_plus, x='Log_weights', y='y_pred', trendline='ols', hover_data=['Specimen ID', 'Species_DNA', 'Weights'])\n",
    "fig.show()"
   ]
  },
  {
   "cell_type": "code",
   "execution_count": 8,
   "metadata": {},
   "outputs": [
    {
     "name": "stdout",
     "output_type": "stream",
     "text": [
      "Intel MKL WARNING: Support of Intel(R) Streaming SIMD Extensions 4.2 (Intel(R) SSE4.2) enabled only processors has been deprecated. Intel oneAPI Math Kernel Library 2025.0 will require Intel(R) Advanced Vector Extensions (Intel(R) AVX) instructions.\n"
     ]
    },
    {
     "data": {
      "application/vnd.plotly.v1+json": {
       "config": {
        "plotlyServerURL": "https://plot.ly"
       },
       "data": [
        {
         "customdata": [
          [
           "10_A10",
           "Athripsodes cinereus",
           0.03999999999996366
          ],
          [
           "10_A11",
           "Goera pilosa",
           0.5899999999999181
          ],
          [
           "10_A2",
           "Baetis vernus",
           0.23000000000001822
          ],
          [
           "10_A3",
           "Baetis rhodani",
           0.3900000000001
          ],
          [
           "10_A4",
           "Ephemera danica",
           6.589999999999923
          ],
          [
           "10_A5",
           "Ephemera danica",
           4.950000000000043
          ],
          [
           "10_A6",
           "Anabolia nervosa",
           4.329999999999927
          ],
          [
           "10_A7",
           "Limnephilus lunatus",
           0.05999999999994548
          ],
          [
           "10_A8",
           "Goera pilosa",
           0.15000000000009087
          ],
          [
           "10_A9",
           "Athripsodes cinereus",
           0.3099999999999455
          ],
          [
           "10_B11",
           "Potamophylax rotundipennis",
           105.97000000000003
          ],
          [
           "10_B12",
           "Potamophylax rotundipennis",
           99.77999999999993
          ],
          [
           "10_B2",
           "Halesus radiatus",
           2.5600000000001732
          ],
          [
           "10_B3",
           "Goera pilosa",
           1.0799999999999272
          ],
          [
           "10_B5",
           "Chaetopteryx villosa",
           0.8799999999998818
          ],
          [
           "10_B6",
           "Limnephilus lunatus",
           0.26999999999998187
          ],
          [
           "10_B7",
           "Limnephilus lunatus",
           0.12000000000011826
          ],
          [
           "10_B8",
           "Limnephilus lunatus",
           0.07000000000016361
          ],
          [
           "10_B9",
           "Chaetopteryx villosa",
           0.2200000000000273
          ],
          [
           "10_C10",
           "Baetis rhodani",
           0.12999999999988177
          ],
          [
           "10_C11",
           "Nemoura cinerea",
           3.1099999999999
          ],
          [
           "10_C2",
           "Goera pilosa",
           11.439999999999827
          ],
          [
           "10_C3",
           "Goera pilosa",
           11.630000000000104
          ],
          [
           "10_C5",
           "Goera pilosa",
           8.929999999999831
          ],
          [
           "10_C6",
           "Baetis rhodani",
           2.4400000000000546
          ],
          [
           "10_C7",
           "Baetis rhodani",
           0.040000000000191056
          ],
          [
           "10_C8",
           "Baetis rhodani",
           0.26999999999998187
          ],
          [
           "10_C9",
           "Baetis rhodani",
           0.03999999999996366
          ],
          [
           "1_A1",
           "Potamophylax rotundipennis",
           18.240000000000027
          ],
          [
           "1_A10",
           "Limnephilus lunatus",
           0.3099999999999455
          ],
          [
           "1_A11",
           "Limnephilus lunatus",
           0.12999999999988177
          ],
          [
           "1_A12",
           "Limnephilus lunatus",
           0.3699999999998908
          ],
          [
           "1_A2",
           "Halesus radiatus",
           10.220000000000024
          ],
          [
           "1_A3",
           "Chaetopteryx villosa",
           2.6800000000000628
          ],
          [
           "1_A4",
           "Limnephilus lunatus",
           0.8300000000001546
          ],
          [
           "1_A5",
           "Limnephilus lunatus",
           0.29999999999995447
          ],
          [
           "1_A6",
           "Limnephilus lunatus",
           0.3599999999998999
          ],
          [
           "1_A7",
           "Limnephilus lunatus",
           0.18000000000006364
          ],
          [
           "1_A8",
           "Limnephilus lunatus",
           0.4200000000000727
          ],
          [
           "1_A9",
           "Limnephilus lunatus",
           0.1800000000000637
          ],
          [
           "1_B1",
           "Limnephilus lunatus",
           0.25999999999999096
          ],
          [
           "1_B10",
           "Amphinemura standfussi",
           0.7300000000000182
          ],
          [
           "1_B11",
           "Potamophylax rotundipennis",
           14.160000000000068
          ],
          [
           "1_B12",
           "Halesus radiatus",
           15.019999999999996
          ],
          [
           "1_B2",
           "Limnephilus lunatus",
           0.26999999999998175
          ],
          [
           "1_B3",
           "Limnephilus lunatus",
           0.6200000000001183
          ],
          [
           "1_B4",
           "Limnephilus lunatus",
           0.4800000000000181
          ],
          [
           "1_B5",
           "Limnephilus lunatus",
           0.5699999999999363
          ],
          [
           "1_B6",
           "Goera pilosa",
           149.18
          ],
          [
           "1_B7",
           "Goera pilosa",
           34.16000000000011
          ],
          [
           "1_B8",
           "Amphinemura standfussi",
           0.6199999999998909
          ],
          [
           "1_B9",
           "Baetis vernus",
           0.47000000000002723
          ],
          [
           "1_C1",
           "Potamophylax rotundipennis",
           16.01999999999998
          ],
          [
           "1_C11",
           "Halesus radiatus",
           4.279999999999973
          ],
          [
           "1_C12",
           "Limnephilus lunatus",
           0.5599999999999454
          ],
          [
           "1_C2",
           "Limnephilus lunatus",
           1.1499999999998636
          ],
          [
           "1_C3",
           "Limnephilus lunatus",
           0.48000000000001813
          ],
          [
           "1_C4",
           "Limnephilus lunatus",
           0.4500000000000454
          ],
          [
           "1_C5",
           "Limnephilus lunatus",
           1.0800000000001546
          ],
          [
           "1_C6",
           "Goera pilosa",
           16.14000000000008
          ],
          [
           "1_C7",
           "Goera pilosa",
           8.690000000000055
          ],
          [
           "1_C8",
           "Ephemera danica",
           1.509999999999991
          ],
          [
           "1_C9",
           "Ephemera danica",
           1.4200000000000728
          ],
          [
           "1_D1",
           "Limnephilus lunatus",
           0.130000000000109
          ],
          [
           "1_D10",
           "Mystacides azureus",
           0.5
          ],
          [
           "1_D11",
           "Limnephilus lunatus",
           0.3999999999998636
          ],
          [
           "1_D12",
           "Potamophylax rotundipennis",
           15.650000000000068
          ],
          [
           "1_D2",
           "Limnephilus lunatus",
           0.4700000000000272
          ],
          [
           "1_D3",
           "Limnephilus lunatus",
           0.14999999999986355
          ],
          [
           "1_D4",
           "Limnephilus lunatus",
           3.410000000000081
          ],
          [
           "1_D5",
           "Mystacides azureus",
           0.5099999999999909
          ],
          [
           "1_D7",
           "Chaetopteryx villosa",
           1.3299999999999272
          ],
          [
           "1_D8",
           "Limnephilus lunatus",
           0.660000000000082
          ],
          [
           "1_D9",
           "Limnephilus lunatus",
           0.9300000000000638
          ],
          [
           "1_E1",
           "Goera pilosa",
           0.9500000000000456
          ],
          [
           "1_E10",
           "Limnephilus lunatus",
           0.8500000000001364
          ],
          [
           "1_E12",
           "Limnephilus lunatus",
           0.7899999999999636
          ],
          [
           "1_E2",
           "Halesus radiatus",
           7.059999999999941
          ],
          [
           "1_E3",
           "Goera pilosa",
           20.119999999999898
          ],
          [
           "1_E4",
           "Goera pilosa",
           63.58000000000011
          ],
          [
           "1_E7",
           "Caenis horaria",
           0.8899999999998727
          ],
          [
           "1_E8",
           "Limnephilus lunatus",
           1.3599999999999
          ],
          [
           "1_E9",
           "Limnephilus lunatus",
           1.179999999999836
          ],
          [
           "1_F1",
           "Limnephilus lunatus",
           0.5199999999999817
          ],
          [
           "1_F10",
           "Athripsodes cinereus",
           2.0599999999999454
          ],
          [
           "1_F11",
           "Goera pilosa",
           17.30999999999995
          ],
          [
           "1_F12",
           "Ephemera danica",
           6.390000000000095
          ],
          [
           "1_F2",
           "Limnephilus lunatus",
           0.6400000000001002
          ],
          [
           "1_F3",
           "Mystacides azureus",
           1.5299999999999725
          ],
          [
           "1_F4",
           "Anabolia nervosa",
           2.079999999999927
          ],
          [
           "1_F5",
           "Chaetopteryx villosa",
           2.159999999999854
          ],
          [
           "1_F6",
           "Potamophylax rotundipennis",
           17.19000000000004
          ],
          [
           "1_F7",
           "Limnephilus lunatus",
           2.3900000000000996
          ],
          [
           "1_F8",
           "Halesus radiatus",
           5.23000000000002
          ],
          [
           "1_F9",
           "Chaetopteryx villosa",
           2.4500000000000446
          ],
          [
           "1_G1",
           "Ephemera danica",
           1.1800000000000634
          ],
          [
           "1_G10",
           "Nemoura cinerea",
           1.0799999999999272
          ],
          [
           "1_G11",
           "Caenis horaria",
           0.7400000000000092
          ],
          [
           "1_G12",
           "Limnephilus lunatus",
           1
          ],
          [
           "1_G2",
           "Baetis rhodani",
           2.5799999999999277
          ],
          [
           "1_G3",
           "Baetis rhodani",
           0.9900000000000091
          ],
          [
           "1_G4",
           "Baetis rhodani",
           2.2699999999999823
          ],
          [
           "1_G5",
           "Baetis rhodani",
           0.7400000000000092
          ],
          [
           "1_G6",
           "Baetis rhodani",
           1.9600000000000364
          ],
          [
           "1_G7",
           "Baetis rhodani",
           1.1899999999998272
          ],
          [
           "1_G8",
           "Caenis horaria",
           0.8100000000001728
          ],
          [
           "1_G9",
           "Mystacides azureus",
           1.1300000000001091
          ],
          [
           "1_H1",
           "Limnephilus lunatus",
           1.0099999999999907
          ],
          [
           "1_H10",
           "Ephemera danica",
           1.7200000000000275
          ],
          [
           "1_H11",
           "Ephemera danica",
           1.120000000000118
          ],
          [
           "1_H12",
           "Ephemera danica",
           3.040000000000191
          ],
          [
           "1_H2",
           "Limnephilus lunatus",
           0.7800000000002002
          ],
          [
           "1_H3",
           "Goera pilosa",
           1.9600000000000355
          ],
          [
           "1_H4",
           "Limnephilus lunatus",
           0.7200000000000273
          ],
          [
           "1_H5",
           "Goera pilosa",
           0.6599999999998545
          ],
          [
           "1_H6",
           "Limnephilus lunatus",
           0.2999999999999545
          ],
          [
           "1_H7",
           "Chaetopteryx villosa",
           2.610000000000127
          ],
          [
           "1_H8",
           "Potamophylax rotundipennis",
           17.200000000000045
          ],
          [
           "1_H9",
           "Potamophylax rotundipennis",
           17.009999999999977
          ],
          [
           "2_A1",
           "Potamophylax rotundipennis",
           17.039999999999974
          ],
          [
           "2_A11",
           "Goera pilosa",
           47.01000000000004
          ],
          [
           "2_A12",
           "Potamophylax rotundipennis",
           99.8
          ],
          [
           "2_A2",
           "Potamophylax rotundipennis",
           21.47000000000003
          ],
          [
           "2_A4",
           "Limnephilus lunatus",
           2.269999999999982
          ],
          [
           "2_A5",
           "Limnephilus lunatus",
           0.9700000000000273
          ],
          [
           "2_A6",
           "Goera pilosa",
           0.6200000000001183
          ],
          [
           "2_A7",
           "Chaetopteryx villosa",
           2.7599999999999905
          ],
          [
           "2_A8",
           "Halesus radiatus",
           6.069999999999933
          ],
          [
           "2_A9",
           "Halesus radiatus",
           18.599999999999905
          ],
          [
           "2_B1",
           "Potamophylax rotundipennis",
           102.08999999999986
          ],
          [
           "2_B10",
           "Anabolia nervosa",
           2.299999999999954
          ],
          [
           "2_B11",
           "Potamophylax rotundipennis",
           17.64999999999988
          ],
          [
           "2_B12",
           "Limnephilus lunatus",
           0.7400000000000092
          ],
          [
           "2_B2",
           "Potamophylax rotundipennis",
           126.25000000000003
          ],
          [
           "2_B3",
           "Ephemera danica",
           4.7799999999999745
          ],
          [
           "2_B4",
           "Limnephilus lunatus",
           0.8800000000001093
          ],
          [
           "2_B5",
           "Limnephilus lunatus",
           1.4000000000000907
          ],
          [
           "2_B6",
           "Limnephilus lunatus",
           1.3499999999999088
          ],
          [
           "2_B7",
           "Chaetopteryx villosa",
           1.6900000000000546
          ],
          [
           "2_B8",
           "Limnephilus lunatus",
           0.8600000000001274
          ],
          [
           "2_B9",
           "Chaetopteryx villosa",
           2.049999999999954
          ],
          [
           "2_C1",
           "Limnephilus lunatus",
           0.7999999999999545
          ],
          [
           "2_C10",
           "Potamophylax rotundipennis",
           14.779999999999964
          ],
          [
           "2_C11",
           "Potamophylax rotundipennis",
           16.430000000000074
          ],
          [
           "2_C12",
           "Potamophylax rotundipennis",
           18.180000000000057
          ],
          [
           "2_C2",
           "Limnephilus lunatus",
           0.660000000000082
          ],
          [
           "2_C3",
           "Potamophylax rotundipennis",
           20.169999999999852
          ],
          [
           "2_C4",
           "Limnephilus lunatus",
           3.09999999999991
          ],
          [
           "2_C5",
           "Potamophylax rotundipennis",
           14.149999999999858
          ],
          [
           "2_C6",
           "Ephemera danica",
           1.480000000000018
          ],
          [
           "2_C7",
           "Limnephilus lunatus",
           0.9600000000000365
          ],
          [
           "2_C8",
           "Limnephilus lunatus",
           1.0300000000002
          ],
          [
           "2_C9",
           "Potamophylax rotundipennis",
           17.509999999999987
          ],
          [
           "2_D1",
           "Athripsodes cinereus",
           4.720000000000029
          ],
          [
           "2_D10",
           "Athripsodes cinereus",
           0.900000000000091
          ],
          [
           "2_D11",
           "Goera pilosa",
           1.349999999999909
          ],
          [
           "2_D12",
           "Athripsodes cinereus",
           1.0100000000002183
          ],
          [
           "2_D2",
           "Ephemera danica",
           6.779999999999971
          ],
          [
           "2_D4",
           "Chaetopteryx villosa",
           1.589999999999918
          ],
          [
           "2_D5",
           "Limnephilus lunatus",
           0.4500000000000454
          ],
          [
           "2_D7",
           "Limnephilus lunatus",
           1.349999999999909
          ],
          [
           "2_D8",
           "Limnephilus lunatus",
           0.9900000000000091
          ],
          [
           "2_D9",
           "Limnephilus lunatus",
           1.0499999999999543
          ],
          [
           "2_E1",
           "Potamophylax rotundipennis",
           5.779999999999977
          ],
          [
           "2_E10",
           "Ephemera danica",
           1.3500000000001362
          ],
          [
           "2_E11",
           "Ephemera danica",
           2.0999999999999095
          ],
          [
           "2_E12",
           "Ephemera danica",
           3.6600000000000805
          ],
          [
           "2_E2",
           "Potamophylax rotundipennis",
           18.450000000000035
          ],
          [
           "2_E5",
           "Goera pilosa",
           30.79
          ],
          [
           "2_E6",
           "Goera pilosa",
           13.500000000000005
          ],
          [
           "2_E8",
           "Goera pilosa",
           32.02999999999997
          ],
          [
           "2_E9",
           "Baetis vernus",
           1.4300000000000634
          ],
          [
           "2_F1",
           "Ephemera danica",
           5.330000000000157
          ],
          [
           "2_F10",
           "Ephemera danica",
           2.4400000000000546
          ],
          [
           "2_F11",
           "Ephemera danica",
           3.439999999999828
          ],
          [
           "2_F12",
           "Limnephilus lunatus",
           1.0199999999999818
          ],
          [
           "2_F2",
           "Limnephilus lunatus",
           0.9200000000000729
          ],
          [
           "2_F3",
           "Limnephilus lunatus",
           0.7799999999999727
          ],
          [
           "2_F4",
           "Limnephilus lunatus",
           0.8699999999998909
          ],
          [
           "2_F5",
           "Limnephilus lunatus",
           0.9900000000000091
          ],
          [
           "2_F7",
           "Nemoura cinerea",
           1.1000000000001362
          ],
          [
           "2_F8",
           "Ephemera danica",
           1.7000000000000453
          ],
          [
           "2_F9",
           "Ephemera danica",
           2.5299999999999727
          ],
          [
           "2_G1",
           "Limnephilus lunatus",
           1.0700000000001637
          ],
          [
           "2_G12",
           "Chaetopteryx villosa",
           1.5199999999999818
          ],
          [
           "2_G2",
           "Limnephilus lunatus",
           0.9400000000000546
          ],
          [
           "2_G3",
           "Limnephilus lunatus",
           0.7099999999998091
          ],
          [
           "2_G5",
           "Goera pilosa",
           1.1499999999998636
          ],
          [
           "2_G6",
           "Chaetopteryx villosa",
           8.039999999999958
          ],
          [
           "2_G7",
           "Goera pilosa",
           15.670000000000078
          ],
          [
           "2_G9",
           "Baetis rhodani",
           1.2899999999999636
          ],
          [
           "2_H1",
           "Athripsodes cinereus",
           0.9500000000000456
          ],
          [
           "2_H11",
           "Limnephilus lunatus",
           1.230000000000018
          ],
          [
           "2_H12",
           "Chaetopteryx villosa",
           1.5199999999999818
          ],
          [
           "2_H2",
           "Athripsodes cinereus",
           0.7100000000000364
          ],
          [
           "2_H3",
           "Limnephilus lunatus",
           1.0499999999999545
          ],
          [
           "2_H4",
           "Limnephilus lunatus",
           1.6499999999998638
          ],
          [
           "2_H5",
           "Halesus radiatus",
           5.690000000000054
          ],
          [
           "2_H6",
           "Goera pilosa",
           16.049999999999986
          ],
          [
           "2_H8",
           "Ephemera danica",
           1.4700000000000273
          ],
          [
           "2_H9",
           "Ephemera danica",
           2.650000000000092
          ],
          [
           "3_A1",
           "Limnephilus lunatus",
           0.8399999999999181
          ],
          [
           "3_A10",
           "Goera pilosa",
           60.71000000000001
          ],
          [
           "3_A11",
           "Goera pilosa",
           150.07000000000025
          ],
          [
           "3_A12",
           "Ephemera danica",
           3.430000000000063
          ],
          [
           "3_A2",
           "Anabolia nervosa",
           0.8299999999999274
          ],
          [
           "3_A4",
           "Potamophylax rotundipennis",
           20.04999999999998
          ],
          [
           "3_A5",
           "Potamophylax rotundipennis",
           18.84000000000011
          ],
          [
           "3_A6",
           "Halesus radiatus",
           9.779999999999982
          ],
          [
           "3_A8",
           "Goera pilosa",
           8.779999999999971
          ],
          [
           "3_A9",
           "Goera pilosa",
           60.47
          ],
          [
           "3_B1",
           "Ephemera danica",
           2.080000000000154
          ],
          [
           "3_B10",
           "Anabolia nervosa",
           1.4700000000000275
          ],
          [
           "3_B11",
           "Limnephilus lunatus",
           0.5499999999999545
          ],
          [
           "3_B3",
           "Caenis horaria",
           1.9400000000000546
          ],
          [
           "3_B4",
           "Limnephilus lunatus",
           1.349999999999909
          ],
          [
           "3_B5",
           "Limnephilus lunatus",
           1.3500000000001362
          ],
          [
           "3_B6",
           "Limnephilus lunatus",
           1.2999999999999547
          ],
          [
           "3_B7",
           "Chaetopteryx villosa",
           3.4500000000000446
          ],
          [
           "3_B8",
           "Limnephilus lunatus",
           0.9600000000000365
          ],
          [
           "3_B9",
           "Anabolia nervosa",
           5.029999999999974
          ],
          [
           "3_C1",
           "Halesus radiatus",
           6.48000000000002
          ],
          [
           "3_C10",
           "Limnephilus lunatus",
           0.9900000000000092
          ],
          [
           "3_C11",
           "Goera pilosa",
           0.900000000000091
          ],
          [
           "3_C12",
           "Limnephilus lunatus",
           1.1199999999998906
          ],
          [
           "3_C4",
           "Ephemera danica",
           2.5000000000000004
          ],
          [
           "3_C5",
           "Caenis horaria",
           0.7200000000000273
          ],
          [
           "3_C6",
           "Limnephilus lunatus",
           1.1900000000000543
          ],
          [
           "3_C7",
           "Limnephilus lunatus",
           0.9200000000000729
          ],
          [
           "3_C8",
           "Chaetopteryx villosa",
           2.079999999999927
          ],
          [
           "3_C9",
           "Limnephilus lunatus",
           1.4300000000000637
          ],
          [
           "3_D1",
           "Mystacides azureus",
           1.2000000000000455
          ],
          [
           "3_D10",
           "Limnephilus lunatus",
           1
          ],
          [
           "3_D11",
           "Goera pilosa",
           3.8400000000001433
          ],
          [
           "3_D12",
           "Limnephilus lunatus",
           6.650000000000095
          ],
          [
           "3_D3",
           "Goera pilosa",
           14.140000000000114
          ],
          [
           "3_D4",
           "Goera pilosa",
           59.77999999999995
          ],
          [
           "3_D5",
           "Ephemera danica",
           8.769999999999976
          ],
          [
           "3_D7",
           "Caenis horaria",
           0.8800000000001093
          ],
          [
           "3_D8",
           "Ephemera danica",
           9.079999999999927
          ],
          [
           "3_D9",
           "Limnephilus lunatus",
           0.9400000000000547
          ],
          [
           "3_E1",
           "Chaetopteryx villosa",
           1.5299999999999727
          ],
          [
           "3_E10",
           "Halesus radiatus",
           0.6800000000000637
          ],
          [
           "3_E11",
           "Limnephilus lunatus",
           0.8600000000001274
          ],
          [
           "3_E12",
           "Limnephilus lunatus",
           0.9800000000000183
          ],
          [
           "3_E2",
           "Limnephilus lunatus",
           0.8200000000001637
          ],
          [
           "3_E4",
           "Goera pilosa",
           8.829999999999927
          ],
          [
           "3_E5",
           "Baetis rhodani",
           0.7699999999999818
          ],
          [
           "3_E6",
           "Caenis horaria",
           0.6100000000001274
          ],
          [
           "3_E7",
           "Caenis horaria",
           0.6200000000001183
          ],
          [
           "3_E8",
           "Chaetopteryx villosa",
           2.1800000000000637
          ],
          [
           "3_E9",
           "Limnephilus lunatus",
           0.7899999999999636
          ],
          [
           "3_F1",
           "Limnephilus lunatus",
           1.0399999999999636
          ],
          [
           "3_F12",
           "Halesus radiatus",
           1.110000000000127
          ],
          [
           "3_F2",
           "Limnephilus lunatus",
           1.2399999999997817
          ],
          [
           "3_F3",
           "Limnephilus lunatus",
           0.7100000000000364
          ],
          [
           "3_F5",
           "Potamophylax rotundipennis",
           104.33999999999992
          ],
          [
           "3_F6",
           "Potamophylax rotundipennis",
           143.97000000000003
          ],
          [
           "3_F7",
           "Amphinemura standfussi",
           0.6400000000001
          ],
          [
           "3_F8",
           "Nemoura cinerea",
           0.910000000000082
          ],
          [
           "3_F9",
           "Baetis rhodani",
           1.849999999999909
          ],
          [
           "3_G1",
           "Limnephilus lunatus",
           0.8100000000001728
          ],
          [
           "3_G10",
           "Potamophylax rotundipennis",
           26.399999999999885
          ],
          [
           "3_G12",
           "Goera pilosa",
           17.369999999999887
          ],
          [
           "3_G3",
           "Limnephilus lunatus",
           0.9900000000000091
          ],
          [
           "3_G4",
           "Limnephilus lunatus",
           1.1900000000000543
          ],
          [
           "3_G5",
           "Limnephilus lunatus",
           1.120000000000118
          ],
          [
           "3_G6",
           "Mystacides azureus",
           0.9600000000000365
          ],
          [
           "3_G7",
           "Potamophylax rotundipennis",
           15.480000000000025
          ],
          [
           "3_G8",
           "Potamophylax rotundipennis",
           19.019999999999985
          ],
          [
           "3_G9",
           "Potamophylax rotundipennis",
           19.239999999999995
          ],
          [
           "3_H10",
           "Goera pilosa",
           1
          ],
          [
           "3_H12",
           "Potamophylax rotundipennis",
           22.710000000000072
          ],
          [
           "3_H2",
           "Ephemera danica",
           4.369999999999891
          ],
          [
           "3_H4",
           "Baetis vernus",
           1.0599999999999452
          ],
          [
           "3_H5",
           "Amphinemura standfussi",
           1.0799999999999272
          ],
          [
           "3_H6",
           "Chaetopteryx villosa",
           2.8299999999999286
          ],
          [
           "3_H7",
           "Limnephilus lunatus",
           1
          ],
          [
           "3_H8",
           "Limnephilus lunatus",
           1.1199999999998909
          ],
          [
           "3_H9",
           "Limnephilus lunatus",
           0.9600000000000365
          ],
          [
           "4_A1",
           "Potamophylax rotundipennis",
           15.91000000000009
          ],
          [
           "4_A10",
           "Potamophylax rotundipennis",
           20.019999999999982
          ],
          [
           "4_A11",
           "Potamophylax rotundipennis",
           16.33000000000015
          ],
          [
           "4_A12",
           "Goera pilosa",
           18.39999999999987
          ],
          [
           "4_A2",
           "Potamophylax rotundipennis",
           17.829999999999924
          ],
          [
           "4_A3",
           "Ephemera danica",
           1.2799999999999725
          ],
          [
           "4_A4",
           "Baetis rhodani",
           2.1999999999998185
          ],
          [
           "4_A5",
           "Caenis horaria",
           1.1099999999999
          ],
          [
           "4_A6",
           "Limnephilus lunatus",
           0.9400000000000546
          ],
          [
           "4_A7",
           "Limnephilus lunatus",
           1.130000000000109
          ],
          [
           "4_A8",
           "Limnephilus lunatus",
           0.7200000000000273
          ],
          [
           "4_A9",
           "Potamophylax rotundipennis",
           28.43000000000005
          ],
          [
           "4_B1",
           "Goera pilosa",
           211.63000000000017
          ],
          [
           "4_B10",
           "Baetis rhodani",
           1.2699999999999816
          ],
          [
           "4_B11",
           "Limnephilus lunatus",
           0.9300000000000638
          ],
          [
           "4_B12",
           "Limnephilus lunatus",
           0.8299999999999274
          ],
          [
           "4_B2",
           "Goera pilosa",
           21.510000000000012
          ],
          [
           "4_B3",
           "Goera pilosa",
           33.79000000000019
          ],
          [
           "4_B4",
           "Goera pilosa",
           13.43000000000006
          ],
          [
           "4_B5",
           "Goera pilosa",
           68.36000000000016
          ],
          [
           "4_B6",
           "Goera pilosa",
           144.2199999999997
          ],
          [
           "4_B7",
           "Goera pilosa",
           47.619999999999806
          ],
          [
           "4_B8",
           "Goera pilosa",
           6.970000000000025
          ],
          [
           "4_B9",
           "Ephemera danica",
           1.2499999999999998
          ],
          [
           "4_C1",
           "Chaetopteryx villosa",
           3.160000000000082
          ],
          [
           "4_C12",
           "Limnephilus lunatus",
           2.3800000000001096
          ],
          [
           "4_C2",
           "Limnephilus lunatus",
           1.6000000000001364
          ],
          [
           "4_C3",
           "Athripsodes cinereus",
           0.8599999999999001
          ],
          [
           "4_C4",
           "Potamophylax rotundipennis",
           22.670000000000062
          ],
          [
           "4_C5",
           "Potamophylax rotundipennis",
           18.919999999999845
          ],
          [
           "4_C7",
           "Limnephilus lunatus",
           1.1000000000001364
          ],
          [
           "4_C8",
           "Goera pilosa",
           1.1400000000001
          ],
          [
           "4_D1",
           "Ephemera danica",
           3.2000000000000455
          ],
          [
           "4_D10",
           "Chaetopteryx villosa",
           1.8899999999998727
          ],
          [
           "4_D11",
           "Limnephilus lunatus",
           1.4200000000000728
          ],
          [
           "4_D12",
           "Chaetopteryx villosa",
           1.0799999999999272
          ],
          [
           "4_D2",
           "Chaetopteryx villosa",
           1.6000000000001366
          ],
          [
           "4_D3",
           "Limnephilus lunatus",
           0.910000000000082
          ],
          [
           "4_D4",
           "Potamophylax rotundipennis",
           24.000000000000014
          ],
          [
           "4_D9",
           "Baetis vernus",
           1.0599999999999452
          ],
          [
           "4_E1",
           "Goera pilosa",
           0.7799999999999727
          ],
          [
           "4_E10",
           "Limnephilus lunatus",
           1.3300000000001546
          ],
          [
           "4_E11",
           "Limnephilus lunatus",
           1.259999999999991
          ],
          [
           "4_E12",
           "Limnephilus lunatus",
           1.0399999999999636
          ],
          [
           "4_E2",
           "Chaetopteryx villosa",
           1.0199999999999818
          ],
          [
           "4_E4",
           "Athripsodes cinereus",
           1.8599999999998997
          ],
          [
           "4_E5",
           "Goera pilosa",
           20.259999999999998
          ],
          [
           "4_E6",
           "Goera pilosa",
           60.04999999999998
          ],
          [
           "4_E8",
           "Ephemera danica",
           3.009999999999992
          ],
          [
           "4_E9",
           "Ephemera danica",
           9.680000000000074
          ],
          [
           "4_F1",
           "Limnephilus lunatus",
           0.8899999999998727
          ],
          [
           "4_F10",
           "Amphinemura standfussi",
           0.9400000000000547
          ],
          [
           "4_F12",
           "Goera pilosa",
           14.829999999999929
          ],
          [
           "4_F2",
           "Limnephilus lunatus",
           1.2699999999999816
          ],
          [
           "4_F3",
           "Limnephilus lunatus",
           0.9400000000000547
          ],
          [
           "4_F6",
           "Limnephilus lunatus",
           0.9199999999998454
          ],
          [
           "4_F7",
           "Athripsodes cinereus",
           0.790000000000191
          ],
          [
           "4_G10",
           "Limnephilus lunatus",
           1.3899999999998727
          ],
          [
           "4_G11",
           "Goera pilosa",
           1.2199999999998
          ],
          [
           "4_G12",
           "Halesus radiatus",
           21.999999999999986
          ],
          [
           "4_G3",
           "Potamophylax rotundipennis",
           106.29999999999995
          ],
          [
           "4_G4",
           "Baetis vernus",
           1.259999999999991
          ],
          [
           "4_G5",
           "Baetis rhodani",
           1.259999999999991
          ],
          [
           "4_G6",
           "Caenis horaria",
           1.4300000000000637
          ],
          [
           "4_G8",
           "Caenis horaria",
           0.9900000000000091
          ],
          [
           "4_G9",
           "Caenis horaria",
           1.0499999999999545
          ],
          [
           "4_H1",
           "Chaetopteryx villosa",
           1.3799999999998818
          ],
          [
           "4_H10",
           "Goera pilosa",
           52.40999999999978
          ],
          [
           "4_H11",
           "Baetis rhodani",
           0.9599999999998092
          ],
          [
           "4_H12",
           "Caenis horaria",
           0.9499999999998181
          ],
          [
           "4_H2",
           "Limnephilus lunatus",
           1.4199999999998456
          ],
          [
           "4_H3",
           "Limnephilus lunatus",
           0.8600000000001274
          ],
          [
           "4_H4",
           "Anabolia nervosa",
           1.5299999999999727
          ],
          [
           "4_H5",
           "Potamophylax rotundipennis",
           15.849999999999913
          ],
          [
           "4_H6",
           "Potamophylax rotundipennis",
           12.559999999999949
          ],
          [
           "4_H7",
           "Potamophylax rotundipennis",
           18.929999999999847
          ],
          [
           "4_H8",
           "Potamophylax rotundipennis",
           14.830000000000155
          ],
          [
           "5_A1",
           "Amphinemura standfussi",
           1.1900000000000546
          ],
          [
           "5_A10",
           "Caenis horaria",
           1.099999999999909
          ],
          [
           "5_A11",
           "Baetis rhodani",
           0.9300000000000638
          ],
          [
           "5_A12",
           "Baetis rhodani",
           0.800000000000182
          ],
          [
           "5_A2",
           "Chaetopteryx villosa",
           1.6099999999998997
          ],
          [
           "5_A3",
           "Anabolia nervosa",
           2.410000000000082
          ],
          [
           "5_A4",
           "Limnephilus lunatus",
           1.2699999999999816
          ],
          [
           "5_A6",
           "Limnephilus lunatus",
           1.3000000000001817
          ],
          [
           "5_A7",
           "Limnephilus lunatus",
           1.1000000000001364
          ],
          [
           "5_A8",
           "Limnephilus lunatus",
           0.8699999999998909
          ],
          [
           "5_B1",
           "Caenis horaria",
           0.7500000000000001
          ],
          [
           "5_B11",
           "Potamophylax rotundipennis",
           92.68999999999993
          ],
          [
           "5_B2",
           "Ephemera danica",
           3.9800000000000186
          ],
          [
           "5_B4",
           "Limnephilus lunatus",
           5.400000000000091
          ],
          [
           "5_B5",
           "Limnephilus lunatus",
           10.909999999999858
          ],
          [
           "5_B6",
           "Limnephilus lunatus",
           9.370000000000124
          ],
          [
           "5_B7",
           "Potamophylax rotundipennis",
           3.360000000000126
          ],
          [
           "5_B8",
           "Mystacides azureus",
           1.4199999999998454
          ],
          [
           "5_B9",
           "Goera pilosa",
           61.74999999999995
          ],
          [
           "5_C10",
           "Limnephilus lunatus",
           0.8299999999999274
          ],
          [
           "5_C11",
           "Athripsodes cinereus",
           1.110000000000127
          ],
          [
           "5_C12",
           "Mystacides azureus",
           0.8599999999999001
          ],
          [
           "5_C3",
           "Anabolia nervosa",
           3.009999999999991
          ],
          [
           "5_C4",
           "Limnephilus lunatus",
           1.1900000000000546
          ],
          [
           "5_C5",
           "Limnephilus lunatus",
           1.7200000000000277
          ],
          [
           "5_C7",
           "Anabolia nervosa",
           1.7100000000000364
          ],
          [
           "5_C8",
           "Limnephilus lunatus",
           1.2000000000000455
          ],
          [
           "5_C9",
           "Limnephilus lunatus",
           0.9900000000000091
          ],
          [
           "5_D1",
           "Athripsodes cinereus",
           0.9400000000000547
          ],
          [
           "5_D10",
           "Limnephilus lunatus",
           1.089999999999918
          ],
          [
           "5_D11",
           "Anabolia nervosa",
           3.230000000000018
          ],
          [
           "5_D12",
           "Limnephilus lunatus",
           1.0199999999999818
          ],
          [
           "5_D2",
           "Potamophylax rotundipennis",
           14.950000000000054
          ],
          [
           "5_D3",
           "Potamophylax rotundipennis",
           15.42999999999982
          ],
          [
           "5_D4",
           "Potamophylax rotundipennis",
           56.86999999999988
          ],
          [
           "5_D5",
           "Ephemera danica",
           2.7000000000000455
          ],
          [
           "5_D7",
           "Ephemera danica",
           26.10000000000014
          ],
          [
           "5_D8",
           "Chaetopteryx villosa",
           2.470000000000028
          ],
          [
           "5_D9",
           "Limnephilus lunatus",
           1.0699999999999363
          ],
          [
           "5_E1",
           "Potamophylax rotundipennis",
           18.669999999999845
          ],
          [
           "5_E10",
           "Ephemera danica",
           1.4099999999998543
          ],
          [
           "5_E11",
           "Ephemera danica",
           8.62999999999988
          ],
          [
           "5_E12",
           "Baetis rhodani",
           1.490000000000009
          ],
          [
           "5_E3",
           "Limnephilus lunatus",
           1.0399999999999636
          ],
          [
           "5_E4",
           "Limnephilus lunatus",
           1.0199999999999818
          ],
          [
           "5_E5",
           "Goera pilosa",
           1.0599999999999452
          ],
          [
           "5_E6",
           "Limnephilus lunatus",
           0.8999999999998637
          ],
          [
           "5_E7",
           "Goera pilosa",
           26.560000000000187
          ],
          [
           "5_E8",
           "Ephemera danica",
           0.9900000000000091
          ],
          [
           "5_E9",
           "Ephemera danica",
           1.6500000000000912
          ],
          [
           "5_F1",
           "Mystacides azureus",
           1.0299999999999727
          ],
          [
           "5_F10",
           "Goera pilosa",
           6.940000000000054
          ],
          [
           "5_F11",
           "Goera pilosa",
           17.12999999999988
          ],
          [
           "5_F12",
           "Potamophylax rotundipennis",
           98.0300000000001
          ],
          [
           "5_F2",
           "Limnephilus lunatus",
           1.0499999999999545
          ],
          [
           "5_F3",
           "Limnephilus lunatus",
           1.1500000000000907
          ],
          [
           "5_F4",
           "Limnephilus lunatus",
           0.9700000000000273
          ],
          [
           "5_F5",
           "Limnephilus lunatus",
           1.1900000000000543
          ],
          [
           "5_F6",
           "Athripsodes cinereus",
           1.1600000000000816
          ],
          [
           "5_F7",
           "Limnephilus lunatus",
           0.9600000000000365
          ],
          [
           "5_F8",
           "Mystacides azureus",
           0.9600000000000365
          ],
          [
           "5_G1",
           "Limnephilus lunatus",
           1.4600000000000364
          ],
          [
           "5_G10",
           "Anabolia nervosa",
           1.429999999999836
          ],
          [
           "5_G11",
           "Limnephilus lunatus",
           1.2100000000000364
          ],
          [
           "5_G12",
           "Limnephilus lunatus",
           1.009999999999991
          ],
          [
           "5_G3",
           "Limnephilus lunatus",
           1.2000000000000453
          ],
          [
           "5_G4",
           "Chaetopteryx villosa",
           1.3999999999998634
          ],
          [
           "5_G5",
           "Limnephilus lunatus",
           1.0399999999999636
          ],
          [
           "5_G6",
           "Limnephilus lunatus",
           2.1900000000000546
          ],
          [
           "5_G7",
           "Limnephilus lunatus",
           1.1700000000000728
          ],
          [
           "5_G9",
           "Limnephilus lunatus",
           1.2699999999999816
          ],
          [
           "5_H10",
           "Caenis horaria",
           1.2200000000000273
          ],
          [
           "5_H11",
           "Caenis horaria",
           1.2200000000000273
          ],
          [
           "5_H2",
           "Limnephilus lunatus",
           1.2399999999997817
          ],
          [
           "5_H3",
           "Limnephilus lunatus",
           1.1099999999999
          ],
          [
           "5_H4",
           "Limnephilus lunatus",
           1.1700000000000728
          ],
          [
           "5_H5",
           "Goera pilosa",
           1.0199999999999818
          ],
          [
           "5_H6",
           "Goera pilosa",
           77.19999999999959
          ],
          [
           "5_H7",
           "Ephemera danica",
           1.2200000000000273
          ],
          [
           "5_H8",
           "Ephemera danica",
           4.810000000000173
          ],
          [
           "5_H9",
           "Ephemera danica",
           4.339999999999919
          ],
          [
           "6_A1",
           "Limnephilus lunatus",
           1.4400000000000546
          ],
          [
           "6_A12",
           "Baetis rhodani",
           1.1700000000000728
          ],
          [
           "6_A2",
           "Athripsodes cinereus",
           0.9600000000000365
          ],
          [
           "6_A3",
           "Limnephilus lunatus",
           0.9900000000000091
          ],
          [
           "6_A4",
           "Limnephilus lunatus",
           0.7000000000000455
          ],
          [
           "6_A6",
           "Athripsodes cinereus",
           1.6700000000000728
          ],
          [
           "6_A7",
           "Goera pilosa",
           80.29999999999998
          ],
          [
           "6_A8",
           "Goera pilosa",
           91.9500000000001
          ],
          [
           "6_B1",
           "Limnephilus lunatus",
           1.1300000000001091
          ],
          [
           "6_B10",
           "Ephemera danica",
           9.269999999999982
          ],
          [
           "6_B11",
           "Limnephilus lunatus",
           1.1800000000000637
          ],
          [
           "6_B12",
           "Limnephilus lunatus",
           1.2499999999999998
          ],
          [
           "6_B2",
           "Limnephilus lunatus",
           1.1200000000001182
          ],
          [
           "6_B4",
           "Limnephilus lunatus",
           1.4300000000000634
          ],
          [
           "6_B5",
           "Goera pilosa",
           1.1999999999998179
          ],
          [
           "6_B6",
           "Athripsodes cinereus",
           0.9400000000000546
          ],
          [
           "6_B7",
           "Limnephilus lunatus",
           1.0499999999999543
          ],
          [
           "6_B9",
           "Goera pilosa",
           45.220000000000006
          ],
          [
           "6_C10",
           "Baetis rhodani",
           2.7000000000000455
          ],
          [
           "6_C11",
           "Baetis vernus",
           1.6399999999998727
          ],
          [
           "6_C12",
           "Baetis rhodani",
           3.5399999999999663
          ],
          [
           "6_C2",
           "Chaetopteryx villosa",
           3.2000000000000455
          ],
          [
           "6_C3",
           "Goera pilosa",
           3.140000000000101
          ],
          [
           "6_C4",
           "Potamophylax rotundipennis",
           17.009999999999977
          ],
          [
           "6_C5",
           "Potamophylax rotundipennis",
           18.750000000000007
          ],
          [
           "6_C7",
           "Athripsodes cinereus",
           1.2699999999999816
          ],
          [
           "6_C8",
           "Goera pilosa",
           14.32999999999994
          ],
          [
           "6_C9",
           "Ephemera danica",
           2
          ],
          [
           "6_D1",
           "Caenis horaria",
           1.2800000000002
          ],
          [
           "6_D10",
           "Potamophylax rotundipennis",
           99.92999999999991
          ],
          [
           "6_D11",
           "Ephemera danica",
           1.6000000000001364
          ],
          [
           "6_D12",
           "Limnephilus lunatus",
           1.5999999999999093
          ],
          [
           "6_D2",
           "Baetis rhodani",
           1.3000000000001817
          ],
          [
           "6_D3",
           "Athripsodes cinereus",
           1.2100000000000364
          ],
          [
           "6_D4",
           "Chaetopteryx villosa",
           2.9500000000000464
          ],
          [
           "6_D5",
           "Limnephilus lunatus",
           1.259999999999991
          ],
          [
           "6_D7",
           "Limnephilus lunatus",
           1.050000000000182
          ],
          [
           "6_D8",
           "Limnephilus lunatus",
           0.9200000000000729
          ],
          [
           "6_E1",
           "Goera pilosa",
           1.8599999999999
          ],
          [
           "6_E10",
           "Baetis rhodani",
           1.3299999999999272
          ],
          [
           "6_E11",
           "Baetis rhodani",
           1.2200000000000273
          ],
          [
           "6_E12",
           "Ephemera danica",
           8.890000000000104
          ],
          [
           "6_E2",
           "Limnephilus lunatus",
           1.230000000000018
          ],
          [
           "6_E3",
           "Limnephilus lunatus",
           1.6800000000000634
          ],
          [
           "6_E6",
           "Potamophylax rotundipennis",
           155.40999999999994
          ],
          [
           "6_E7",
           "Potamophylax rotundipennis",
           110.58000000000017
          ],
          [
           "6_E8",
           "Potamophylax rotundipennis",
           111.27000000000007
          ],
          [
           "6_E9",
           "Amphinemura standfussi",
           1.4100000000000816
          ],
          [
           "6_F1",
           "Limnephilus lunatus",
           1.3999999999998636
          ],
          [
           "6_F11",
           "Potamophylax rotundipennis",
           26.069999999999943
          ],
          [
           "6_F12",
           "Potamophylax rotundipennis",
           15.160000000000084
          ],
          [
           "6_F2",
           "Limnephilus lunatus",
           4.859999999999901
          ],
          [
           "6_F4",
           "Goera pilosa",
           2.3299999999999272
          ],
          [
           "6_F5",
           "Limnephilus lunatus",
           3.509999999999991
          ],
          [
           "6_F6",
           "Athripsodes cinereus",
           1.9399999999998272
          ],
          [
           "6_F8",
           "Limnephilus lunatus",
           1.0999999999999088
          ],
          [
           "6_F9",
           "Anabolia nervosa",
           8.710000000000027
          ],
          [
           "6_G10",
           "Ephemera danica",
           2
          ],
          [
           "6_G11",
           "Halesus radiatus",
           10.289999999999962
          ],
          [
           "6_G12",
           "Chaetopteryx villosa",
           2.650000000000091
          ],
          [
           "6_G5",
           "Potamophylax rotundipennis",
           30.369999999999877
          ],
          [
           "6_G6",
           "Goera pilosa",
           15.930000000000048
          ],
          [
           "6_G7",
           "Goera pilosa",
           17.509999999999987
          ],
          [
           "6_G8",
           "Ephemera danica",
           2.2400000000000087
          ],
          [
           "6_G9",
           "Baetis rhodani",
           4.7799999999999745
          ],
          [
           "6_H1",
           "Ephemera danica",
           2.950000000000047
          ],
          [
           "6_H10",
           "Nemoura cinerea",
           1.7899999999999636
          ],
          [
           "6_H11",
           "Goera pilosa",
           1.8299999999999272
          ],
          [
           "6_H2",
           "Chaetopteryx villosa",
           3.1899999999998268
          ],
          [
           "6_H3",
           "Limnephilus lunatus",
           1.7500000000000002
          ],
          [
           "6_H4",
           "Limnephilus lunatus",
           1.9500000000000457
          ],
          [
           "6_H5",
           "Potamophylax rotundipennis",
           28.689999999999788
          ],
          [
           "6_H7",
           "Goera pilosa",
           51.01999999999994
          ],
          [
           "6_H8",
           "Baetis rhodani",
           2.3299999999999277
          ],
          [
           "6_H9",
           "Baetis vernus",
           1.7100000000000364
          ],
          [
           "7_A10",
           "Limnephilus lunatus",
           1.4800000000000182
          ],
          [
           "7_A11",
           "Limnephilus lunatus",
           1.9400000000000546
          ],
          [
           "7_A12",
           "Limnephilus lunatus",
           1.3299999999999272
          ],
          [
           "7_A2",
           "Athripsodes cinereus",
           1.3900000000001
          ],
          [
           "7_A5",
           "Goera pilosa",
           71.4799999999997
          ],
          [
           "7_A6",
           "Ephemera danica",
           1.3599999999998997
          ],
          [
           "7_A7",
           "Limnephilus lunatus",
           1.7100000000000364
          ],
          [
           "7_A8",
           "Limnephilus lunatus",
           2.6099999999998995
          ],
          [
           "7_A9",
           "Limnephilus lunatus",
           1.650000000000091
          ],
          [
           "7_B1",
           "Limnephilus lunatus",
           1.240000000000009
          ],
          [
           "7_B10",
           "Baetis rhodani",
           1.5799999999999272
          ],
          [
           "7_B11",
           "Caenis horaria",
           1.0699999999999363
          ],
          [
           "7_B12",
           "Limnephilus lunatus",
           1.2100000000000364
          ],
          [
           "7_B2",
           "Limnephilus lunatus",
           1.4300000000000637
          ],
          [
           "7_B3",
           "Athripsodes cinereus",
           1.4400000000000543
          ],
          [
           "7_B4",
           "Potamophylax rotundipennis",
           18.419999999999856
          ],
          [
           "7_B5",
           "Potamophylax rotundipennis",
           23.029999999999983
          ],
          [
           "7_B6",
           "Potamophylax rotundipennis",
           9.860000000000126
          ],
          [
           "7_B7",
           "Goera pilosa",
           10.849999999999907
          ],
          [
           "7_B8",
           "Ephemera danica",
           1.6099999999999
          ],
          [
           "7_B9",
           "Ephemera danica",
           2.190000000000054
          ],
          [
           "7_C1",
           "Goera pilosa",
           1.6499999999998638
          ],
          [
           "7_C10",
           "Nemoura cinerea",
           1.290000000000191
          ],
          [
           "7_C11",
           "Limnephilus lunatus",
           2.1099999999999
          ],
          [
           "7_C12",
           "Chaetopteryx villosa",
           3.359999999999899
          ],
          [
           "7_C3",
           "Goera pilosa",
           1.2899999999999636
          ],
          [
           "7_C4",
           "Goera pilosa",
           1.349999999999909
          ],
          [
           "7_C5",
           "Goera pilosa",
           50.86999999999991
          ],
          [
           "7_C6",
           "Goera pilosa",
           108.87999999999987
          ],
          [
           "7_C7",
           "Goera pilosa",
           15.4799999999998
          ],
          [
           "7_C8",
           "Baetis rhodani",
           1.3299999999999272
          ],
          [
           "7_C9",
           "Baetis rhodani",
           1.240000000000009
          ],
          [
           "7_D1",
           "Limnephilus lunatus",
           1.1500000000000907
          ],
          [
           "7_D10",
           "Goera pilosa",
           94.02999999999982
          ],
          [
           "7_D11",
           "Goera pilosa",
           80.98000000000008
          ],
          [
           "7_D12",
           "Potamophylax rotundipennis",
           94.68999999999974
          ],
          [
           "7_D2",
           "Limnephilus lunatus",
           1.1299999999998815
          ],
          [
           "7_D3",
           "Chaetopteryx villosa",
           5.759999999999993
          ],
          [
           "7_D4",
           "Limnephilus lunatus",
           1.7200000000000277
          ],
          [
           "7_D7",
           "Goera pilosa",
           1.3100000000001728
          ],
          [
           "7_D8",
           "Goera pilosa",
           1.4500000000000455
          ],
          [
           "7_D9",
           "Goera pilosa",
           1.240000000000009
          ],
          [
           "7_E1",
           "Goera pilosa",
           15.180000000000069
          ],
          [
           "7_E10",
           "Anabolia nervosa",
           18.32999999999993
          ],
          [
           "7_E11",
           "Potamophylax rotundipennis",
           19.360000000000124
          ],
          [
           "7_E3",
           "Baetis rhodani",
           1.4000000000000907
          ],
          [
           "7_E4",
           "Baetis vernus",
           1.0799999999999272
          ],
          [
           "7_E5",
           "Ephemera danica",
           2.529999999999973
          ],
          [
           "7_E6",
           "Ephemera danica",
           1.6299999999998818
          ],
          [
           "7_E7",
           "Limnephilus lunatus",
           1.3100000000001728
          ],
          [
           "7_E8",
           "Halesus radiatus",
           19.14000000000009
          ],
          [
           "7_E9",
           "Limnephilus lunatus",
           8.879999999999885
          ],
          [
           "7_F1",
           "Goera pilosa",
           26.080000000000148
          ],
          [
           "7_F2",
           "Goera pilosa",
           18.950000000000017
          ],
          [
           "7_F3",
           "Potamophylax rotundipennis",
           118.5300000000004
          ],
          [
           "7_F4",
           "Potamophylax rotundipennis",
           114.04999999999981
          ],
          [
           "7_F5",
           "Potamophylax rotundipennis",
           116.69000000000008
          ],
          [
           "7_F7",
           "Goera pilosa",
           1.6700000000000725
          ],
          [
           "7_F8",
           "Limnephilus lunatus",
           1.2000000000000453
          ],
          [
           "7_G10",
           "Goera pilosa",
           1.1700000000000728
          ],
          [
           "7_G11",
           "Chaetopteryx villosa",
           2.9400000000000537
          ],
          [
           "7_G12",
           "Halesus radiatus",
           5.830000000000153
          ],
          [
           "7_G3",
           "Goera pilosa",
           97.24000000000012
          ],
          [
           "7_G4",
           "Ephemera danica",
           3.140000000000101
          ],
          [
           "7_G5",
           "Ephemera danica",
           1.4600000000000362
          ],
          [
           "7_G6",
           "Baetis rhodani",
           1.3599999999999
          ],
          [
           "7_G7",
           "Limnephilus lunatus",
           15.220000000000018
          ],
          [
           "7_G8",
           "Limnephilus lunatus",
           1.9800000000000182
          ],
          [
           "7_G9",
           "Mystacides azureus",
           2.910000000000081
          ],
          [
           "7_H1",
           "Potamophylax rotundipennis",
           19.89999999999989
          ],
          [
           "7_H10",
           "Ephemera danica",
           8.769999999999976
          ],
          [
           "7_H11",
           "Amphinemura standfussi",
           1.1799999999998363
          ],
          [
           "7_H12",
           "Limnephilus lunatus",
           1.4100000000000816
          ],
          [
           "7_H2",
           "Potamophylax rotundipennis",
           16.56999999999995
          ],
          [
           "7_H3",
           "Halesus radiatus",
           7.519999999999982
          ],
          [
           "7_H4",
           "Limnephilus lunatus",
           6.83000000000015
          ],
          [
           "7_H6",
           "Goera pilosa",
           19.610000000000124
          ],
          [
           "7_H7",
           "Goera pilosa",
           70.71000000000002
          ],
          [
           "7_H8",
           "Baetis rhodani",
           1.6800000000000634
          ],
          [
           "8_A1",
           "Goera pilosa",
           1.349999999999909
          ],
          [
           "8_A10",
           "Potamophylax rotundipennis",
           122.0900000000002
          ],
          [
           "8_A2",
           "Limnephilus lunatus",
           1.2699999999999816
          ],
          [
           "8_A3",
           "Limnephilus lunatus",
           1.1599999999998545
          ],
          [
           "8_A4",
           "Goera pilosa",
           1.3399999999999181
          ],
          [
           "8_A5",
           "Limnephilus lunatus",
           0.9400000000000546
          ],
          [
           "8_A6",
           "Limnephilus lunatus",
           2.950000000000046
          ],
          [
           "8_A7",
           "Chaetopteryx villosa",
           18.630000000000113
          ],
          [
           "8_A9",
           "Anabolia nervosa",
           3.070000000000164
          ],
          [
           "8_B10",
           "Athripsodes cinereus",
           2.1499999999998636
          ],
          [
           "8_B12",
           "Ephemera danica",
           2.0799999999999272
          ],
          [
           "8_B5",
           "Ephemera danica",
           3.37000000000012
          ],
          [
           "8_B6",
           "Ephemera danica",
           3.4099999999998554
          ],
          [
           "8_B7",
           "Nemoura cinerea",
           2.089999999999918
          ],
          [
           "8_C1",
           "Baetis rhodani",
           2.2500000000000004
          ],
          [
           "8_C10",
           "Limnephilus lunatus",
           1.2100000000000364
          ],
          [
           "8_C11",
           "Athripsodes cinereus",
           0.46000000000003644
          ],
          [
           "8_C12",
           "Goera pilosa",
           42.47999999999982
          ],
          [
           "8_C2",
           "Athripsodes cinereus",
           0.7399999999997818
          ],
          [
           "8_C3",
           "Limnephilus lunatus",
           0.6200000000001182
          ],
          [
           "8_C4",
           "Limnephilus lunatus",
           0.8600000000001274
          ],
          [
           "8_C5",
           "Anabolia nervosa",
           0.9700000000000273
          ],
          [
           "8_C6",
           "Limnephilus lunatus",
           0.7999999999999546
          ],
          [
           "8_C7",
           "Chaetopteryx villosa",
           0.6399999999998728
          ],
          [
           "8_C8",
           "Limnephilus lunatus",
           0.8699999999998909
          ],
          [
           "8_C9",
           "Limnephilus lunatus",
           0.7599999999999909
          ],
          [
           "8_D1",
           "Limnephilus lunatus",
           11.289999999999981
          ],
          [
           "8_D10",
           "Limnephilus lunatus",
           0.6599999999998545
          ],
          [
           "8_D11",
           "Chaetopteryx villosa",
           0.9200000000000729
          ],
          [
           "8_D2",
           "Halesus radiatus",
           18.62999999999988
          ],
          [
           "8_D3",
           "Potamophylax rotundipennis",
           80.96000000000008
          ],
          [
           "8_D4",
           "Potamophylax rotundipennis",
           95.16000000000005
          ],
          [
           "8_D5",
           "Chaetopteryx villosa",
           7.269999999999978
          ],
          [
           "8_D7",
           "Nemoura cinerea",
           1.0199999999999818
          ],
          [
           "8_D8",
           "Nemoura cinerea",
           0.8800000000001093
          ],
          [
           "8_D9",
           "Limnephilus lunatus",
           0.650000000000091
          ],
          [
           "8_E10",
           "Potamophylax rotundipennis",
           156.2500000000002
          ],
          [
           "8_E11",
           "Potamophylax rotundipennis",
           135.45
          ],
          [
           "8_E12",
           "Baetis rhodani",
           1.6699999999998454
          ],
          [
           "8_E2",
           "Chaetopteryx villosa",
           1.0800000000001546
          ],
          [
           "8_E3",
           "Goera pilosa",
           2.3900000000001
          ],
          [
           "8_E4",
           "Chaetopteryx villosa",
           16.250000000000007
          ],
          [
           "8_E5",
           "Goera pilosa",
           38.97999999999998
          ],
          [
           "8_E7",
           "Goera pilosa",
           208.66999999999982
          ],
          [
           "8_F1",
           "Baetis rhodani",
           2.319999999999937
          ],
          [
           "8_F10",
           "Athripsodes cinereus",
           2.6399999999998722
          ],
          [
           "8_F11",
           "Goera pilosa",
           39.180000000000085
          ],
          [
           "8_F12",
           "Potamophylax rotundipennis",
           204.5300000000002
          ],
          [
           "8_F2",
           "Ephemera danica",
           14.559999999999949
          ],
          [
           "8_F3",
           "Ephemera danica",
           15.339999999999916
          ],
          [
           "8_F4",
           "Chaetopteryx villosa",
           1.509999999999991
          ],
          [
           "8_F5",
           "Mystacides azureus",
           0.3599999999998999
          ],
          [
           "8_F6",
           "Limnephilus lunatus",
           0.650000000000091
          ],
          [
           "8_F7",
           "Limnephilus lunatus",
           0.5599999999999453
          ],
          [
           "8_F9",
           "Athripsodes cinereus",
           1.6900000000000546
          ],
          [
           "8_G11",
           "Limnephilus lunatus",
           1.0200000000002092
          ],
          [
           "8_G2",
           "Baetis rhodani",
           0.7000000000000455
          ],
          [
           "8_G3",
           "Baetis rhodani",
           2.0300000000002005
          ],
          [
           "8_G4",
           "Ephemera danica",
           2.6100000000001273
          ],
          [
           "8_G5",
           "Ephemera danica",
           5.529999999999974
          ],
          [
           "8_G6",
           "Ephemera danica",
           2.250000000000001
          ],
          [
           "8_G8",
           "Caenis horaria",
           0.5299999999999727
          ],
          [
           "8_G9",
           "Caenis horaria",
           0.6599999999998546
          ],
          [
           "8_H1",
           "Goera pilosa",
           0.6499999999998636
          ],
          [
           "8_H10",
           "Athripsodes cinereus",
           1.1400000000001
          ],
          [
           "8_H11",
           "Limnephilus lunatus",
           0.6600000000000821
          ],
          [
           "8_H12",
           "Limnephilus lunatus",
           1.0199999999999818
          ],
          [
           "8_H2",
           "Goera pilosa",
           37.44999999999998
          ],
          [
           "8_H4",
           "Baetis rhodani",
           0.9800000000000183
          ],
          [
           "8_H5",
           "Limnephilus lunatus",
           0.6900000000000546
          ],
          [
           "8_H6",
           "Athripsodes cinereus",
           0.6400000000001
          ],
          [
           "8_H7",
           "Goera pilosa",
           13.489999999999998
          ],
          [
           "8_H8",
           "Potamophylax rotundipennis",
           169.97000000000003
          ],
          [
           "9_A1",
           "Goera pilosa",
           14.330000000000174
          ],
          [
           "9_A10",
           "Goera pilosa",
           2.429999999999836
          ],
          [
           "9_A11",
           "Goera pilosa",
           15.599999999999914
          ],
          [
           "9_A12",
           "Goera pilosa",
           155.16
          ],
          [
           "9_A2",
           "Potamophylax rotundipennis",
           118.51999999999974
          ],
          [
           "9_A3",
           "Potamophylax rotundipennis",
           173.02000000000015
          ],
          [
           "9_A4",
           "Potamophylax rotundipennis",
           89.28000000000006
          ],
          [
           "9_A5",
           "Potamophylax rotundipennis",
           128.20000000000007
          ],
          [
           "9_A6",
           "Ephemera danica",
           7.299999999999956
          ],
          [
           "9_A7",
           "Amphinemura standfussi",
           0.49999999999999994
          ],
          [
           "9_A8",
           "Chaetopteryx villosa",
           3.0600000000001737
          ],
          [
           "9_A9",
           "Limnephilus lunatus",
           0.4700000000000273
          ],
          [
           "9_B1",
           "Goera pilosa",
           37.160000000000075
          ],
          [
           "9_B11",
           "Goera pilosa",
           14.119999999999893
          ],
          [
           "9_B12",
           "Goera pilosa",
           16.790000000000198
          ],
          [
           "9_B2",
           "Ephemera danica",
           1.3900000000001
          ],
          [
           "9_B3",
           "Ephemera danica",
           1.829999999999927
          ],
          [
           "9_B4",
           "Ephemera danica",
           1.4700000000000273
          ],
          [
           "9_B5",
           "Ephemera danica",
           12
          ],
          [
           "9_B6",
           "Chaetopteryx villosa",
           0.4199999999998453
          ],
          [
           "9_B7",
           "Limnephilus lunatus",
           0.3200000000001637
          ],
          [
           "9_B8",
           "Limnephilus lunatus",
           0.019999999999981803
          ],
          [
           "9_B9",
           "Limnephilus lunatus",
           0.06999999999993635
          ],
          [
           "9_C1",
           "Goera pilosa",
           44.58999999999998
          ],
          [
           "9_C10",
           "Athripsodes cinereus",
           0.5899999999999181
          ],
          [
           "9_C11",
           "Anabolia nervosa",
           0.9200000000000729
          ],
          [
           "9_C12",
           "Goera pilosa",
           66.32000000000018
          ],
          [
           "9_C2",
           "Chaetopteryx villosa",
           8.29000000000019
          ],
          [
           "9_C4",
           "Potamophylax rotundipennis",
           94.53999999999994
          ],
          [
           "9_C5",
           "Potamophylax rotundipennis",
           99.23000000000022
          ],
          [
           "9_C7",
           "Anabolia nervosa",
           2.730000000000019
          ],
          [
           "9_C8",
           "Limnephilus lunatus",
           0.24000000000000904
          ],
          [
           "9_C9",
           "Limnephilus lunatus",
           0.25
          ],
          [
           "9_D10",
           "Limnephilus lunatus",
           0.44000000000005457
          ],
          [
           "9_D12",
           "Limnephilus lunatus",
           0.24000000000000904
          ],
          [
           "9_D2",
           "Potamophylax rotundipennis",
           110.86999999999989
          ],
          [
           "9_D3",
           "Potamophylax rotundipennis",
           111.43000000000005
          ],
          [
           "9_D4",
           "Goera pilosa",
           9.289999999999969
          ],
          [
           "9_D5",
           "Goera pilosa",
           8.69000000000006
          ],
          [
           "9_D7",
           "Ephemera danica",
           9.700000000000049
          ],
          [
           "9_D8",
           "Baetis rhodani",
           0.5499999999999545
          ],
          [
           "9_D9",
           "Limnephilus lunatus",
           0.37999999999988177
          ],
          [
           "9_E1",
           "Limnephilus lunatus",
           0.11999999999989082
          ],
          [
           "9_E10",
           "Limnephilus lunatus",
           1.0600000000001728
          ],
          [
           "9_E12",
           "Goera pilosa",
           11.910000000000087
          ],
          [
           "9_E2",
           "Athripsodes cinereus",
           0.03999999999996363
          ],
          [
           "9_E4",
           "Athripsodes cinereus",
           1.8800000000001094
          ],
          [
           "9_E7",
           "Ephemera danica",
           2.6400000000001005
          ],
          [
           "9_E8",
           "Ephemera danica",
           3.5399999999999645
          ],
          [
           "9_E9",
           "Limnephilus lunatus",
           0.6800000000000638
          ],
          [
           "9_F10",
           "Limnephilus lunatus",
           3.1900000000000555
          ],
          [
           "9_F11",
           "Limnephilus lunatus",
           4.190000000000055
          ],
          [
           "9_F2",
           "Baetis rhodani",
           4.660000000000084
          ],
          [
           "9_F3",
           "Ephemera danica",
           1.2100000000000364
          ],
          [
           "9_F4",
           "Baetis rhodani",
           2.589999999999918
          ],
          [
           "9_F5",
           "Ephemera danica",
           0.24000000000000904
          ],
          [
           "9_F6",
           "Ephemera danica",
           7.190000000000063
          ],
          [
           "9_F7",
           "Baetis rhodani",
           0.3400000000001455
          ],
          [
           "9_F9",
           "Limnephilus lunatus",
           0.10000000000013635
          ],
          [
           "9_G1",
           "Limnephilus lunatus",
           0.05999999999994543
          ],
          [
           "9_G10",
           "Limnephilus lunatus",
           0.5600000000001729
          ],
          [
           "9_G11",
           "Limnephilus lunatus",
           4.4500000000000455
          ],
          [
           "9_G12",
           "Halesus radiatus",
           8.579999999999936
          ],
          [
           "9_G4",
           "Goera pilosa",
           61.85000000000018
          ],
          [
           "9_G5",
           "Goera pilosa",
           52.009999999999984
          ],
          [
           "9_G6",
           "Goera pilosa",
           17.130000000000123
          ],
          [
           "9_G8",
           "Ephemera danica",
           0.7699999999999818
          ],
          [
           "9_G9",
           "Amphinemura standfussi",
           0.22000000000002726
          ],
          [
           "9_H11",
           "Potamophylax rotundipennis",
           121.74
          ],
          [
           "9_H12",
           "Baetis rhodani",
           1.0299999999999727
          ],
          [
           "9_H2",
           "Goera pilosa",
           22.22000000000003
          ],
          [
           "9_H3",
           "Potamophylax rotundipennis",
           97.2699999999998
          ],
          [
           "9_H4",
           "Potamophylax rotundipennis",
           96.39000000000001
          ],
          [
           "9_H5",
           "Goera pilosa",
           38.830000000000155
          ],
          [
           "9_H6",
           "Athripsodes cinereus",
           4.360000000000128
          ],
          [
           "9_H7",
           "Limnephilus lunatus",
           0.6399999999998727
          ],
          [
           "9_H8",
           "Limnephilus lunatus",
           1.6400000000001
          ],
          [
           "9_H9",
           "Potamophylax rotundipennis",
           126.63999999999976
          ]
         ],
         "hovertemplate": "Log+1_weights=%{x}<br>y_pred_+1=%{y}<br>Specimen ID=%{customdata[0]}<br>Species_DNA=%{customdata[1]}<br>Weights=%{customdata[2]}<extra></extra>",
         "legendgroup": "",
         "marker": {
          "color": "#636efa",
          "symbol": "circle"
         },
         "mode": "markers",
         "name": "",
         "orientation": "v",
         "showlegend": false,
         "type": "scatter",
         "x": [
          0.0392207131532463,
          0.4637340162320886,
          0.2070141693843408,
          0.3293037471426723,
          2.0268315914075283,
          1.7833912195575463,
          1.6733512381777391,
          0.0582689081239242,
          0.1397619423752376,
          0.2700271372130186,
          4.67254842131804,
          4.612939923252452,
          1.269760544863988,
          0.7323678937131916,
          0.6312717768417949,
          0.2390169004704855,
          0.1133286853071086,
          0.0676586484739678,
          0.1988508587451875,
          0.1222176327241444,
          1.4134230285081186,
          2.52091708731102,
          2.536074936362408,
          2.295560478057065,
          1.2354714713853223,
          0.0392207131534649,
          0.2390169004704855,
          0.0392207131532463,
          2.9569914452375605,
          0.2700271372130186,
          0.1222176327241444,
          0.3148107398399538,
          2.417697900094553,
          1.3029127521808568,
          0.6043159668534142,
          0.2623642644674562,
          0.307484699747887,
          0.1655144384776272,
          0.3506568716132205,
          0.1655144384776272,
          0.2311117209633794,
          0.5481214085096981,
          2.718660380214231,
          2.7738379416402124,
          0.2390169004704855,
          0.4824261492443656,
          0.392042087776036,
          0.451075619360176,
          5.011834574671739,
          3.5599090728169784,
          0.4824261492442253,
          0.3852624007906635,
          2.834389123145227,
          1.6639260977181645,
          0.4446858212614106,
          0.7654678421395079,
          0.392042087776036,
          0.3715635564325143,
          0.7323678937133009,
          2.84141491316964,
          2.271094425902681,
          0.9202827531436892,
          0.883767540168625,
          0.1222176327243456,
          0.4054651081081645,
          0.3364722366211154,
          2.812410216426458,
          0.3852624007906635,
          0.13976194237504,
          1.483874689458773,
          0.4121096508268269,
          0.8458682675775779,
          0.5068176023685013,
          0.6575200029168273,
          0.6678293725756786,
          0.6151856390903074,
          0.5822156198526433,
          2.0869135565185304,
          3.0502204588380555,
          4.167904765330131,
          0.6365768290714836,
          0.8586616190374763,
          0.7793248768009226,
          0.4187103348581731,
          1.1184149159642711,
          2.9074473586864165,
          2.0001277349601243,
          0.4946962418361681,
          0.9282193027394182,
          1.1249295969854596,
          1.150572027598775,
          2.900871992530033,
          1.2208299213923886,
          1.829376332799365,
          1.2383742310432813,
          0.7793248768010269,
          0.7323678937131917,
          0.5538851132264427,
          0.6931471805599453,
          1.2753628004125883,
          0.6881346387364057,
          1.1847899849091563,
          0.5538851132264427,
          1.0851892683359812,
          0.7839015438283305,
          0.5933268452778299,
          0.7561219797213851,
          0.6981347220709797,
          1.0006318803079162,
          0.7514160886839766,
          1.396244691973106,
          0.5766133643041061,
          1.0851892683359812,
          0.5423242908253778,
          0.506817602368364,
          0.2623642644674562,
          1.2837077723448247,
          2.901421594082752,
          2.890927159187864,
          2.8925915146344754,
          3.87140932254285,
          4.6131383556372665,
          3.112181086197239,
          1.184789984909156,
          0.678033542749911,
          0.4824261492443656,
          1.3244189574018008,
          1.955860479908473,
          2.975529566236467,
          4.63560239310829,
          1.1939224684724208,
          2.9258461460898166,
          0.5538851132264427,
          4.846153655430631,
          1.7544036826842822,
          0.6312717768419158,
          0.8754687373539378,
          0.8544153281560292,
          0.989541193613768,
          0.6205764877251784,
          1.1151415906193056,
          0.5877866649020937,
          2.758743315417726,
          2.8581928595319326,
          2.953868069455296,
          0.5068176023685013,
          3.052585085146766,
          1.41098697371024,
          2.718000531955369,
          0.9082585601768984,
          0.6729444732424442,
          0.7080357930537946,
          2.918311126585406,
          1.7439688053917115,
          0.6418538861724425,
          0.8544153281560289,
          0.6981347220710931,
          2.051556338190297,
          0.9516578757114148,
          0.3715635564325143,
          0.8544153281560288,
          0.6881346387364056,
          0.7178397931502947,
          1.9139771019523,
          0.8544153281561255,
          1.131402111491071,
          1.5390154481375722,
          2.967847070064458,
          3.4591517749227094,
          2.6741486494265287,
          3.4974162394026966,
          0.8878912573524834,
          1.8453002361561093,
          1.2354714713853223,
          1.4906543764440947,
          0.7030975114131044,
          0.652325186039728,
          0.5766133643039786,
          0.6259384308664372,
          0.6881346387364057,
          0.7419373447294421,
          0.9932517730103002,
          1.2612978709451976,
          0.7275486072773567,
          0.924258901523325,
          0.662687973075265,
          0.5364933705144568,
          0.765467842139508,
          2.2016591744040817,
          2.813610696762707,
          0.8285518175661325,
          0.6678293725756789,
          0.8020015854720358,
          0.9242589015233248,
          0.5364933705145898,
          0.7178397931502947,
          0.9745596399980792,
          1.9006138741401453,
          2.8361502037295225,
          0.904218150639897,
          1.2947271675944252,
          0.6097655716208498,
          4.122445992332977,
          5.017743305555633,
          1.4883995840570583,
          0.6043159668532896,
          3.0469005601283885,
          2.987700101856736,
          2.3776925654808494,
          2.280339484046724,
          4.118549250918919,
          1.1249295969855333,
          0.9042181506398967,
          0.4382549309311256,
          1.078409581350609,
          0.8544153281560288,
          0.8544153281561255,
          0.8329091229350843,
          1.4929040961781586,
          0.6729444732424446,
          1.7967470107390895,
          2.012232791986388,
          0.6881346387364057,
          0.6418538861724425,
          0.7514160886838698,
          1.2527629684953685,
          0.5423242908253778,
          0.7839015438284342,
          0.652325186039728,
          1.1249295969854596,
          0.8878912573524834,
          0.7884573603642907,
          0.6931471805599453,
          1.5769147207285703,
          2.034705647838457,
          2.71734024800931,
          4.107260787488648,
          2.2793164660546896,
          0.6312717768419159,
          2.3105532626432166,
          0.662687973075265,
          0.928219302739418,
          0.5187937934152053,
          0.6205764877251784,
          0.683096844706453,
          0.5988365010887939,
          2.285438934159068,
          0.5709795465857274,
          0.4762341789964506,
          0.4824261492443656,
          1.1568811967921055,
          0.5822156198526433,
          0.7129498078561073,
          0.7466879474880355,
          0.8064758658668512,
          0.5364933705145898,
          4.657193214055242,
          4.976526824462806,
          0.494696241836168,
          0.6471032420585813,
          1.0473189942805272,
          0.59332684527783,
          3.31054301339402,
          2.9107188992270285,
          0.6881346387364057,
          0.7839015438284341,
          0.7514160886839766,
          0.6729444732424444,
          2.8021475244813256,
          2.996731773887073,
          3.007660844419265,
          0.6931471805599452,
          3.1658969000773154,
          1.680827908520753,
          0.7227059828014631,
          0.7323678937131914,
          1.3428648031925354,
          0.6931471805599453,
          0.7514160886838697,
          0.6729444732424446,
          2.8279051629104943,
          3.045474365448804,
          2.8524391037275234,
          2.965273066069275,
          2.9354513426690585,
          0.8241754429663375,
          1.163150809805624,
          0.7466879474879276,
          0.662687973075265,
          0.7561219797213851,
          0.5423242908253776,
          3.382014562245384,
          5.35955356601861,
          0.8197798314933032,
          0.6575200029168272,
          0.6043159668532897,
          3.113959654918641,
          3.549329989163856,
          2.6693093727857846,
          4.2393103324722885,
          4.9782498339521,
          3.884034968887975,
          2.075684492802127,
          0.8109302162163292,
          1.4255150742731917,
          1.21787570949496,
          0.9555114450274886,
          0.6205764877250561,
          3.164208423525897,
          2.991724252156444,
          0.7419373447294424,
          0.7608058290338068,
          1.4350845252893334,
          1.0612565021242966,
          0.883767540168625,
          0.7323678937131914,
          0.9555114450274884,
          0.6471032420585815,
          3.2188758248681992,
          0.722705982801463,
          0.5766133643039786,
          0.8458682675776755,
          0.8153648132841906,
          0.7129498078561073,
          0.7030975114131045,
          1.050821624831726,
          3.0568273729138014,
          4.111693200556713,
          1.3887912413184758,
          2.368372833532054,
          0.6365768290714836,
          0.662687973075265,
          2.761906873892916,
          0.8197798314933034,
          0.662687973075265,
          0.6523251860396095,
          0.5822156198527705,
          0.8712933659433661,
          0.7975071958840979,
          3.1354942159291515,
          4.675628649636653,
          0.8153648132841906,
          0.8153648132841907,
          0.8878912573524832,
          0.6881346387364055,
          0.7178397931502948,
          0.8671004876833337,
          3.977997994351676,
          0.6729444732423283,
          0.6678293725755623,
          0.8837675401685311,
          0.6205764877251784,
          0.928219302739418,
          2.8243506567983654,
          2.6071242825122454,
          2.9922261342246945,
          2.7619068738929307,
          0.7839015438284344,
          0.7419373447293339,
          0.6575200029168273,
          0.58778666490222,
          0.9593502213345636,
          1.2267122912954496,
          0.8197798314933034,
          0.8329091229351828,
          0.7419373447294421,
          0.6259384308664371,
          0.5596157879354225,
          4.539991459963095,
          1.605429891036565,
          1.85629799036564,
          2.4773783833671965,
          2.338917022241448,
          1.4724720573609726,
          0.8837675401685312,
          4.139158578011893,
          0.6043159668532897,
          0.7466879474880354,
          0.6205764877250564,
          1.388791241318475,
          0.7839015438284345,
          1.0006318803079162,
          0.9969486348916232,
          0.7884573603642908,
          0.6881346387364057,
          0.662687973075265,
          0.7371640659766804,
          1.4422019930581906,
          0.7030975114131045,
          2.769458829230858,
          2.799108932049166,
          4.0581991155857455,
          1.308332819650191,
          3.2995337278856605,
          1.2441545939587757,
          0.727548607277247,
          2.9790946324009604,
          0.8796267475025031,
          2.264883225810021,
          0.9122827104766204,
          0.7129498078561072,
          0.7030975114131044,
          0.722705982801463,
          0.641853886172323,
          3.3163654461454635,
          0.6881346387364056,
          0.9745596399981652,
          0.7080357930536824,
          2.0719132752590514,
          2.8975680247667537,
          4.595422834533211,
          0.7178397931502948,
          0.7654678421396138,
          0.678033542749911,
          0.7839015438284342,
          0.7701082216961114,
          0.6729444732424443,
          0.6729444732424444,
          0.9001613499442859,
          0.8878912573523898,
          0.7929925155296776,
          0.6981347220709797,
          0.7884573603642906,
          0.8754687373538433,
          0.7129498078561073,
          1.160020916796771,
          0.7747271675524017,
          0.8197798314933035,
          0.7975071958842004,
          0.7975071958842004,
          0.806475865866851,
          0.7466879474879277,
          0.7747271675524017,
          0.7030975114131044,
          4.359269647551262,
          0.7975071958842004,
          1.75958057086385,
          1.675225652972088,
          0.8919980393051328,
          0.7747271675524017,
          0.6729444732424446,
          0.6881346387364057,
          0.5306282510621969,
          0.9820784724121852,
          4.398146016553764,
          4.532061714167453,
          0.7561219797213851,
          2.329227023940465,
          0.7793248768010269,
          0.8109302162163292,
          0.7514160886839766,
          0.8878912573524834,
          0.7884573603641875,
          0.662687973075265,
          0.7178397931502944,
          3.833412604846235,
          1.308332819650191,
          0.9707789171581764,
          1.5129270120532488,
          1.4350845252893334,
          1.420695787837247,
          2.890927159187864,
          2.983153491347131,
          0.8197798314933035,
          2.7298116928837177,
          1.0986122886681098,
          0.8241754429664372,
          4.614427207250768,
          0.9555114450274886,
          0.9555114450274012,
          0.832909122935183,
          0.7929925155296776,
          1.3737155789130422,
          0.8153648132841907,
          0.7178397931504056,
          0.652325186039728,
          1.050821624831726,
          0.8458682675775776,
          0.7975071958842005,
          2.291524145634631,
          0.8020015854720357,
          0.9858167945227888,
          5.05248076468615,
          4.714741822417381,
          4.720906684470688,
          0.8796267475025975,
          0.8754687373538432,
          3.298426103626209,
          2.782539053092955,
          1.7681496035889046,
          1.2029723039923306,
          1.5062971535145848,
          1.0784095813505312,
          0.741937344729334,
          2.273156282303238,
          1.0986122886681096,
          2.423917378161568,
          1.2947271675944256,
          3.4458520222025832,
          2.829087196145049,
          2.9183111265854054,
          1.1755733298042408,
          1.754403682684282,
          1.3737155789130422,
          1.0260415958332612,
          1.0402767116551208,
          1.4327007339340054,
          1.01160091167848,
          1.0818051703517442,
          3.3908102887756626,
          3.9516282600205046,
          1.2029723039923303,
          0.9969486348916232,
          0.9082585601768982,
          1.078409581350609,
          0.8458682675775779,
          0.8712933659434612,
          4.283310661734722,
          0.8586616190374763,
          0.9969486348916232,
          1.283707772344762,
          0.9745596399981652,
          0.8064758658669525,
          0.9477893989334978,
          0.7275486072772469,
          0.7929925155296778,
          0.8878912573524834,
          0.8919980393051328,
          2.96630346286317,
          3.179303049748376,
          2.385086314505801,
          2.472327867581132,
          0.9593502213345636,
          1.1600209167967706,
          0.9745596399980792,
          0.8285518175662318,
          1.1346227261911108,
          1.47247205736092,
          0.8285518175661325,
          0.8544153281560287,
          3.948740588363307,
          4.699388861227072,
          2.8021475244813128,
          0.8458682675775776,
          0.8064758658669523,
          0.7654678421396137,
          4.554192631223225,
          4.406475315076192,
          4.561113799791171,
          0.7561219797212784,
          1.911022890054872,
          1.000631880307916,
          0.8372475245337769,
          0.8960880245566542,
          0.8064758658669523,
          2.7837759116303493,
          2.9616582932202355,
          3.013572191682328,
          0.8754687373539378,
          0.7323678937131917,
          1.2612978709451976,
          0.9669838461896284,
          0.8372475245337769,
          3.002707887290421,
          2.290512511759765,
          3.2987954480440798,
          2.9932291433358733,
          4.783567385889892,
          4.745366816481376,
          4.76805404888957,
          0.9820784724121854,
          0.7884573603642906,
          0.7747271675524017,
          1.3711807233098563,
          1.9213246735827203,
          4.587413464398832,
          1.420695787837247,
          0.9001613499442858,
          0.8586616190374762,
          2.786245048687269,
          1.0919233005173192,
          1.3635373739972956,
          3.039749158970758,
          2.2793164660546905,
          0.7793248768009226,
          0.8796267475025977,
          2.8661929021990025,
          2.1424163408412222,
          2.057962510002732,
          3.025776394902374,
          4.272630207894484,
          0.9858167945227888,
          0.8544153281560287,
          4.812915795122207,
          0.8197798314933032,
          0.7701082216960061,
          0.850150929369575,
          0.662687973075265,
          1.3737155789130415,
          2.977059008288375,
          1.4036429994545438,
          1.1474024528374982,
          1.1249295969854598,
          1.4747630091075257,
          1.483874689458722,
          1.1281710909096276,
          1.1786549963416464,
          0.7929925155296776,
          0.3784364357202698,
          3.772301062253004,
          0.5538851132263122,
          0.4824261492443656,
          0.6205764877251784,
          0.6780335427499109,
          0.5877866649020937,
          0.4946962418360295,
          0.6259384308664369,
          0.5653138090500552,
          2.50878592357794,
          0.506817602368364,
          0.652325186039728,
          2.977059008288364,
          4.406231323370698,
          4.566013470786898,
          2.1126345090355976,
          0.7030975114131046,
          0.6312717768419158,
          0.5007752879125444,
          5.05783689558055,
          4.915958247154347,
          0.9820784724121002,
          0.7323678937133008,
          1.2208299213923886,
          2.8478121434773693,
          3.688379329072256,
          5.345534866157147,
          1.199964782928378,
          1.2919836816486143,
          3.69336935938679,
          5.325592008682919,
          2.744703518750242,
          2.793616089431852,
          0.9202827531436888,
          0.307484699747887,
          0.5007752879125444,
          0.4446858212614107,
          0.989541193613768,
          0.7030975114132172,
          0.530628251062197,
          1.108562619521344,
          1.2837077723448247,
          1.8764069432883357,
          1.178654996341646,
          0.4252677354043263,
          0.506817602368364,
          0.5007752879124067,
          0.7608058290338068,
          0.5068176023685013,
          0.7030975114131045,
          3.6493586959516553,
          0.683096844706453,
          0.5247285289350144,
          0.4946962418361681,
          2.673458756332592,
          5.141488102515018,
          2.7298116928837337,
          1.2325602611778008,
          2.809402695362491,
          5.050881122664784,
          4.783483721384506,
          5.159170235137879,
          4.502915951949335,
          4.861361591348502,
          2.1162555148025466,
          0.4054651081081645,
          1.401182973613684,
          0.3852624007906635,
          3.641787846580088,
          2.7160183707513803,
          2.878636501677754,
          0.8712933659434612,
          1.0402767116551204,
          0.9042181506398967,
          2.5649493574615367,
          0.3506568716130605,
          0.2776317365984035,
          0.0198026272961618,
          0.0676586484737553,
          3.819688394225348,
          0.4637340162320885,
          0.6523251860397281,
          4.209457369322608,
          2.228938552825769,
          4.559545007961815,
          4.607467545036776,
          1.3164082336557288,
          0.2151113796169528,
          0.2231435513142097,
          0.3646431135879471,
          0.2151113796169528,
          4.717337482858838,
          4.722330805761668,
          2.331172549845955,
          2.2710944259026795,
          2.3702437414678648,
          0.4382549309311258,
          0.3220834991690276,
          0.1133286853069057,
          0.7227059828015736,
          2.558002204858557,
          0.0392207131532463,
          1.0577902941478925,
          1.291983681648677,
          1.5129270120532483,
          0.5187937934152054,
          1.4327007339340596,
          1.646733697177808,
          1.733423892215106,
          0.7929925155296778,
          1.2781522025001648,
          0.2151113796169528,
          2.102913897864985,
          0.2926696139629286,
          0.0953101798044487,
          0.0582689081239241,
          0.4446858212615565,
          1.6956156086751617,
          2.2596775919827605,
          4.140750935036259,
          3.9704805749997134,
          2.897568024766766,
          0.5709795465857272,
          0.1988508587451875,
          4.810068296960951,
          0.7080357930536824,
          3.145013976269747,
          4.587718792374337,
          4.578723535973108,
          3.684620397193557,
          1.6789639750827343,
          0.4946962418360294,
          0.9707789171582628,
          4.849213801410043
         ],
         "xaxis": "x",
         "y": [
          0.3525210884923077,
          0.5702983412794612,
          0.6244402520418848,
          0.7091118495138888,
          2.3312062404558405,
          1.8537179919635456,
          1.983071829166667,
          0.6813556488679245,
          0.6657987227411167,
          0.6222698744444445,
          4.8030042250000005,
          4.6842915650000005,
          1.7053111902173914,
          1.209681928409091,
          0.8305512413103447,
          0.5289495018055556,
          0.2000155874681647,
          0.5813024016666667,
          0.3974207501329787,
          0.1706367511260997,
          0.2067492612242424,
          2.6124687204545456,
          2.62410336,
          2.506582760526315,
          1.2480486493333331,
          0.4134420620618557,
          0.3468238859016393,
          0.3225196834824281,
          2.935919276923077,
          0.5831736669934641,
          0.6395040296132596,
          0.4245648603070176,
          2.5919391925925925,
          1.3208922529953917,
          0.8684779208542713,
          0.3671505445,
          0.5655651613103448,
          0.4953181992222221,
          0.4263632944270834,
          0.5677306566063348,
          0.6189629312698414,
          0.6641860605263159,
          2.831964015,
          2.713395432692308,
          0.5781929351960784,
          0.4205974545909091,
          0.5396611579715301,
          0.3886183134082397,
          4.778311624,
          3.2747367208333333,
          0.8390088001123596,
          0.7077338214141415,
          2.981163745238096,
          1.555118933333333,
          0.5771973656375838,
          0.8730486513725491,
          0.4191135963380281,
          0.7476133474803149,
          0.8938483595192307,
          2.7898423041666667,
          1.6482883405617974,
          1.1103530277777778,
          1.085789076338028,
          0.5731392229131653,
          0.5849672219444444,
          0.6215089178467152,
          2.9083246812500008,
          0.6321998549112425,
          0.3977253430620155,
          1.1666164602649007,
          0.8445152349261084,
          1.2212894557142857,
          0.5537156783333333,
          0.5511455055867347,
          0.7554688547004609,
          0.5295148161643836,
          0.6711041913438736,
          2.5287812205479447,
          2.977464010810811,
          3.900165112765957,
          0.7266705732467532,
          0.8851628039506173,
          0.6522866742519685,
          0.5696884041052632,
          1.19775301125,
          2.787581369047619,
          1.1976985952112675,
          0.616845843939394,
          0.6551064924647887,
          0.7925587714197531,
          1.0964539546067416,
          2.896830013333333,
          1.3635841345070423,
          2.3187590169014087,
          1.042910093063063,
          0.8670687260869564,
          0.6858663773148147,
          0.5853625815151515,
          0.5136847708125,
          1.2231382627118643,
          0.8031097747826088,
          1.4140501885714287,
          0.656248558742515,
          1.2245213530201342,
          0.7282251280254778,
          0.6619232330034129,
          0.7818788253518518,
          0.5631897060096154,
          1.1023975543956044,
          0.87400252,
          1.4164490814516129,
          0.7301617103827752,
          0.8945355921904762,
          0.6403711330204083,
          0.7448495001086957,
          0.7420232921991702,
          1.3107203614583334,
          2.95313184054054,
          2.954041966666667,
          2.917554660714285,
          3.892194952941176,
          4.862023906249999,
          3.018570212068965,
          0.7220069802242153,
          0.7919113729090909,
          0.707656250225564,
          1.375691609929078,
          2.1023091322222225,
          2.6992616107142857,
          4.533518078947368,
          1.2916802833333334,
          2.8608650783333336,
          0.5869400765168539,
          4.67176851875,
          1.509411661764706,
          0.6084342717991632,
          0.7779606097272727,
          0.8149541069444445,
          0.9851156111788616,
          0.4688500536842105,
          1.1548742196629214,
          0.6250918089325843,
          2.9605765592592594,
          2.9019808,
          2.999779165789474,
          0.6980570453185596,
          3.0144230568181816,
          1.6305147300411524,
          2.8969848195652173,
          0.7751709408080808,
          0.5824187260606061,
          0.5947782030704225,
          2.8290340833333336,
          1.115254566,
          0.6116816644753086,
          0.9833135404166666,
          0.6846219900645162,
          2.0692668528301885,
          0.9376101774561404,
          0.7437372560000001,
          0.8594449985714288,
          0.6190124760049628,
          0.6651190269960474,
          1.4589007177419355,
          0.8017377368823528,
          1.2858286212765957,
          1.431053287037037,
          3.020173132608696,
          3.712834829729729,
          2.669846862162162,
          3.4369179789473687,
          0.6660800535784315,
          1.9133462486238533,
          1.2091570641891891,
          1.6386120666666664,
          0.7820438764814815,
          0.7119886530845771,
          0.7360861382683983,
          0.7339133720657278,
          0.672363907972973,
          0.8572288967828418,
          0.9528508150649352,
          1.3739169325714289,
          0.7487309778571428,
          0.8267918355113637,
          0.8953517070722433,
          0.7072610446882217,
          0.7316955065306121,
          2.460591723404256,
          2.8983160613636363,
          0.8699066681410258,
          0.7169418628231292,
          0.6939343859642857,
          0.8655210868345324,
          0.7234436170689656,
          0.7557743476681614,
          0.7046011732812499,
          2.281623909230769,
          2.7687373142857137,
          0.854185524321608,
          1.349705545945946,
          0.6507723824561404,
          4.138525204444444,
          5.125169195,
          1.0994070892413792,
          0.7638232409756098,
          2.9518247934782607,
          2.94441292244898,
          2.5734480641791047,
          1.4535742356521737,
          4.034735246666666,
          1.1382317320967743,
          0.8285898548181818,
          0.6645672233177571,
          0.6415299396124031,
          0.7409219582187501,
          0.6826326308588957,
          0.6568599862211981,
          1.335516975,
          0.6248375343260189,
          1.5145148315068493,
          2.1437340575757577,
          0.6889478955652174,
          0.7067319447916667,
          0.6435284137163376,
          1.1801901951219511,
          0.616977597920792,
          0.6946447720833334,
          0.8496384927309236,
          1.1619166192592592,
          0.6896543020425532,
          0.528529756954023,
          0.615625479197531,
          1.222378058695652,
          0.6040393444871796,
          2.8516312782608693,
          3.94084354054054,
          2.5191562549019606,
          0.7550569546575342,
          2.152191519904837,
          0.5735708018996416,
          0.7020439349171271,
          0.5955284645652175,
          0.4309915286363636,
          0.4699921028363637,
          0.6288664374903474,
          2.635028196153846,
          0.6235801786885246,
          0.6221674490405904,
          0.5717156548742138,
          1.1949746668831167,
          0.6214883768899522,
          0.6162015775528701,
          0.5785123961924686,
          0.613667080718563,
          0.5571990127508091,
          4.6590659937500005,
          5.002871012500001,
          0.7501735449097473,
          0.7163125290909089,
          1.13003537184,
          0.6988576150574713,
          3.005110613513513,
          3.037383692857143,
          0.7285097634808259,
          0.8841994514093959,
          0.8855719970918368,
          0.6361341382077393,
          2.8306818166666665,
          2.9932476686274514,
          2.9350186782608696,
          0.7835930818888888,
          3.0173871367346945,
          1.692200902739726,
          0.686957206099138,
          0.6974223991608391,
          1.2930547863309354,
          0.7927956992250922,
          0.7223503628735632,
          0.7002946166415095,
          2.958311115217391,
          2.912896217857143,
          2.8289019321428577,
          2.930121285714285,
          3.040568314583333,
          0.8319005014285714,
          1.039144844848485,
          0.7457731073770492,
          0.5763297472463768,
          0.7294245255601659,
          0.6769945192077464,
          3.153865925,
          4.908711148,
          0.7994106636633664,
          0.6932055647528517,
          0.6832945078742515,
          2.8601520874999995,
          3.818708264444445,
          2.678866598148148,
          3.942368707142857,
          5.196864251612903,
          3.599070838461539,
          2.170636022608696,
          0.8783955172677596,
          1.3659991950980392,
          1.259143057333333,
          0.9100263566666666,
          0.7321721895169946,
          3.031273067391304,
          2.95613305,
          0.7056361914915253,
          0.8858011194312797,
          1.323441295012469,
          1.2074566707446808,
          0.9115710788439306,
          0.8551311963313609,
          1.1675754936170213,
          0.7199205918727916,
          2.737619139361702,
          0.7082980864888888,
          0.7599417935514019,
          0.941135376875,
          0.7876622895319147,
          0.7314408297907949,
          0.816201095390071,
          0.9360887417741932,
          2.9675843157894737,
          3.7640485851851855,
          1.432046309633508,
          2.421110062962963,
          0.803416108119658,
          0.7991383024509802,
          2.546754172727273,
          0.936097616902174,
          0.7110919099518072,
          0.7991255036238533,
          0.7454002658842444,
          0.6895497113207546,
          0.9066710122981366,
          3.0920529370370367,
          4.793485479999999,
          0.7532032448,
          0.8815046684545453,
          0.7093449106,
          0.7083305109375,
          0.8168571957659574,
          0.7702223310759494,
          4.387321868085106,
          0.7413230501075269,
          0.6746318619607844,
          0.7424222774064171,
          0.6740346140226628,
          1.1754744422727272,
          2.705673994117647,
          2.755075824444445,
          3.016857771428571,
          2.952395685714286,
          0.7263354326190475,
          0.7897360766985647,
          0.7687746200000001,
          0.7829658626368159,
          0.9955397613513512,
          1.2713481952941177,
          0.922112479492386,
          0.9347902040394088,
          0.7575913456571428,
          0.6687896036712329,
          0.7583054179929578,
          4.572669028571428,
          1.6766084787878788,
          2.567235213829788,
          2.5565690297872345,
          2.401907897959184,
          1.6303974899999998,
          0.7741111822033898,
          4.225691554545454,
          0.6840872688674035,
          0.6149203557755776,
          0.774284647897436,
          1.4671328588235293,
          0.8356056464390244,
          1.5560556540186916,
          0.9768714073103448,
          0.6697070982142856,
          0.702112444063745,
          0.6012401691891892,
          0.7397565270491804,
          1.327818210909091,
          0.6999080200760456,
          2.882493898148148,
          2.710774660416666,
          4.408591337837837,
          1.3616533224489793,
          2.469585181866197,
          1.2861282382608696,
          0.7664521071861472,
          3.021372112068965,
          0.8850379208974359,
          2.2702469455128207,
          0.9404034589908256,
          0.7473119460465116,
          0.7409814340490797,
          0.7096649245698924,
          0.7420988921561338,
          3.1885760810810817,
          0.7381420295652175,
          1.06517238125,
          0.7828490961216731,
          1.7998557052083333,
          2.557085562962964,
          4.579470229411765,
          0.8085534325675675,
          0.70372041878125,
          0.7145511460493827,
          0.7520325729411765,
          0.6604717610209424,
          0.678716221684492,
          0.7550620857801418,
          0.8931688423437499,
          0.7585659250234743,
          0.7614397374999999,
          0.7128842147560976,
          0.6980192555918368,
          0.7513325800505051,
          0.6968504526388889,
          1.026683068872549,
          0.7158452591761364,
          0.7571524271727749,
          0.703623372217899,
          0.6985738340277777,
          0.6249489348936171,
          0.671764414251497,
          0.7005255401730104,
          0.7771111131640625,
          4.200880847058823,
          0.937238969119171,
          1.8885729287477957,
          1.5371080470588236,
          0.8937089995375722,
          0.6820232466019417,
          0.7389677347794119,
          0.7183501912790698,
          0.7297138937992831,
          1.064625646153846,
          4.180154271875,
          4.867247631578948,
          0.8439689304897959,
          2.3919973778571437,
          0.7359036393965518,
          0.6851302362454873,
          0.7196694881531531,
          0.7185236491584157,
          0.8077311481124497,
          0.6866710677319587,
          0.7168208278504673,
          3.87083146,
          1.2910087170370368,
          0.8674394298540146,
          1.2108757763636364,
          1.44157057875,
          1.2730737605263156,
          3.112634486274509,
          2.9966318803921563,
          0.7097652046590909,
          2.6875777550000004,
          1.0450335943103448,
          0.74299274729927,
          4.6870894777777785,
          0.7914222053642385,
          0.8755955127127659,
          0.6937070355154639,
          0.7748216818727914,
          1.3479571214285715,
          0.8316847497395834,
          0.7847162201388889,
          0.7019530829069768,
          0.9530308693700786,
          0.6719326606422018,
          0.7786099640039063,
          2.3691553734375,
          0.6900241377105263,
          0.8910669648484848,
          4.8027401538461545,
          4.599361755555555,
          4.610416323529412,
          0.8011682879872204,
          0.7214422239546191,
          2.9867469897959187,
          2.92345115,
          1.7556015222222228,
          1.0962774800751878,
          1.3566022819444443,
          0.7110751724637682,
          0.7141647863245033,
          2.168904166666666,
          0.8974713831617647,
          1.9971247155555556,
          1.0396284344585986,
          3.0123545881355933,
          2.709034522222222,
          2.8366549975609754,
          1.020711991772152,
          1.110319830252101,
          1.1922365802666666,
          0.7261270462418301,
          0.8547979522222223,
          1.262612630232558,
          0.7225013130841124,
          0.6606468789784946,
          2.9548713166666665,
          4.107979859459459,
          0.990402708235294,
          0.7530524123868313,
          0.7818722832474228,
          0.9830736906111112,
          0.7854603646808511,
          0.6541617229642857,
          3.7944331365853663,
          0.82025877,
          0.8330488588135593,
          1.2252979272222222,
          0.8888300595360824,
          0.77183019,
          0.7635943674233129,
          0.7996652285538463,
          0.7613491814986375,
          0.7362194068240344,
          0.7361754803524229,
          2.992935676470588,
          3.043709896226415,
          2.2429658444444445,
          2.729561034042553,
          0.921750211023622,
          1.0192125441176472,
          0.719024134952153,
          0.7194045926302084,
          0.8852777961792451,
          1.3650290842424242,
          0.9108921878116344,
          0.8044411479194631,
          3.8573969217391295,
          4.346150088372093,
          2.850685934210526,
          0.8222831566990292,
          0.6805315235744682,
          0.7645985702429149,
          4.30347516875,
          4.460174980645161,
          4.708657568421053,
          0.7408931189690721,
          1.5022308725806452,
          0.7610225100473934,
          0.9438651784827586,
          0.8127149274074073,
          0.9122472956828196,
          2.6935689405405405,
          2.784544142857143,
          2.9403774788461545,
          0.6994541409722222,
          0.7035100602551021,
          1.153353070442478,
          0.8524594938095239,
          0.7620586569731801,
          2.8250214019230766,
          2.350876058208955,
          3.758605984848485,
          2.99876464893617,
          4.787985236842105,
          4.674974216666666,
          4.9736896947368425,
          0.9628270750344828,
          0.7250061442238266,
          0.7266997625628141,
          1.3063450999999997,
          2.457351687234042,
          4.054999744,
          1.329832897333333,
          0.887227026672326,
          0.6845080446969698,
          1.9564096338235295,
          1.15104866875,
          0.7344241548335975,
          2.9905781760869563,
          2.5127358300000004,
          0.6846326663681592,
          0.7386776745614034,
          2.972661016981132,
          2.263530358,
          1.9767062253731345,
          2.9645421566037733,
          4.101903014,
          0.8104109645045046,
          0.8284020708641976,
          4.927379410526316,
          0.7540178550420168,
          0.762039083206751,
          0.7877152572384938,
          0.7116108773897059,
          1.3359640387096774,
          2.614922940384616,
          1.603362515662651,
          0.9134250879629632,
          1.2078642078074866,
          1.6097377925925926,
          1.365871824719101,
          1.0218784315488216,
          1.253159830708661,
          0.4486011352058111,
          0.516952465488959,
          3.7437541714285714,
          0.5344113834005764,
          0.5632693852017937,
          0.5971721285620916,
          0.7927974895522388,
          0.6841443126,
          0.6900062875242717,
          0.760474396796875,
          0.5917970756038647,
          2.5148783433962265,
          0.6125550359866222,
          0.7586437769154228,
          3.5567397142857144,
          4.421162712903225,
          4.741315764285714,
          2.307174295348837,
          0.9026931807142856,
          0.6726296341262137,
          0.6992854649025974,
          4.86503384117647,
          4.952945493750001,
          0.9318068727710844,
          0.9475165265584417,
          1.5868178177514791,
          1.830438715217391,
          3.5896402157894736,
          4.699270403571428,
          1.1187210110000003,
          1.1345627947272725,
          3.619783,
          4.77352736,
          2.056404163095238,
          2.31343073869863,
          1.0473240764102565,
          0.4648666936244344,
          0.7190056602304149,
          0.6912951500197629,
          0.9240301020408164,
          0.6499998098757764,
          0.5695978551162791,
          1.264530775,
          1.3148740819444449,
          1.4767872537037037,
          0.9987619660919538,
          0.5447911016118422,
          0.5258809805343511,
          0.5918523007621951,
          0.7233068710265486,
          0.6946557754177216,
          0.6776228201415093,
          3.736347094545455,
          0.6692137415517243,
          0.5371401734913495,
          0.4908476135736677,
          2.565734121276596,
          4.747470959999999,
          2.832556588888889,
          1.3029825624999998,
          2.657226802173913,
          4.778840595833334,
          4.677739228125,
          5.2639561875,
          4.695082663333334,
          4.722512955,
          2.28822762,
          0.3240375699007936,
          1.3049638446927374,
          0.5101491548957746,
          3.571360297727273,
          2.713990261538462,
          2.790674321818182,
          0.9557492167346936,
          1.1334171145833334,
          1.0906442738541666,
          2.8002466284530385,
          0.6975478416249998,
          0.6335502344785277,
          0.2988140196153845,
          0.4434828883746556,
          3.5098708217391303,
          0.58124846392,
          1.0584834194495414,
          3.955593084,
          3.0225021028985504,
          4.566390361111111,
          4.797782961538462,
          1.6952698170454543,
          0.1659239399457627,
          0.3010136993129771,
          0.8080201175742575,
          0.2882226649429657,
          4.867500581818182,
          4.748914965217392,
          2.5187844163265303,
          2.6015732437499994,
          0.7659266101526718,
          0.7350131932520325,
          0.6089305330635838,
          0.2929978371469648,
          0.0996428334353182,
          2.7093654893617014,
          0.7789583761931819,
          0.8909753688000002,
          1.8247932222222225,
          1.7196289823529411,
          0.7797983379084967,
          0.5604843803243243,
          0.3132280839655172,
          0.7729529931578947,
          1.1826291611111113,
          1.354412865625,
          0.4536762129629629,
          1.726788175,
          0.6957138201360544,
          0.6827024879865771,
          0.4623147914351853,
          0.6736557743027889,
          0.5802741091489362,
          2.395053730434782,
          4.044611978846154,
          3.857546794230769,
          2.802609427083333,
          0.9383156341358028,
          0.570099280001344,
          4.798033546428571,
          0.9784014694444444,
          3.6664385685185183,
          4.54696815,
          4.621496774418604,
          3.0342334194444445,
          0.1016031366425531,
          0.3282582427586207,
          0.551794350937037,
          4.895693568421054
         ],
         "yaxis": "y"
        },
        {
         "hovertemplate": "<b>OLS trendline</b><br>y_pred_+1 = 0.956597 * Log+1_weights + 0.0630057<br>R<sup>2</sup>=0.961971<br><br>Log+1_weights=%{x}<br>y_pred_+1=%{y} <b>(trend)</b><extra></extra>",
         "legendgroup": "",
         "marker": {
          "color": "#636efa",
          "symbol": "circle"
         },
         "mode": "lines",
         "name": "",
         "showlegend": false,
         "type": "scatter",
         "x": [
          0.0198026272961618,
          0.0392207131532463,
          0.0392207131532463,
          0.0392207131532463,
          0.0392207131534649,
          0.0582689081239241,
          0.0582689081239242,
          0.0676586484737553,
          0.0676586484739678,
          0.0953101798044487,
          0.1133286853069057,
          0.1133286853071086,
          0.1222176327241444,
          0.1222176327241444,
          0.1222176327243456,
          0.13976194237504,
          0.1397619423752376,
          0.1655144384776272,
          0.1655144384776272,
          0.1988508587451875,
          0.1988508587451875,
          0.2070141693843408,
          0.2151113796169528,
          0.2151113796169528,
          0.2151113796169528,
          0.2231435513142097,
          0.2311117209633794,
          0.2390169004704855,
          0.2390169004704855,
          0.2390169004704855,
          0.2623642644674562,
          0.2623642644674562,
          0.2700271372130186,
          0.2700271372130186,
          0.2776317365984035,
          0.2926696139629286,
          0.307484699747887,
          0.307484699747887,
          0.3148107398399538,
          0.3220834991690276,
          0.3293037471426723,
          0.3364722366211154,
          0.3506568716130605,
          0.3506568716132205,
          0.3646431135879471,
          0.3715635564325143,
          0.3715635564325143,
          0.3784364357202698,
          0.3852624007906635,
          0.3852624007906635,
          0.3852624007906635,
          0.392042087776036,
          0.392042087776036,
          0.4054651081081645,
          0.4054651081081645,
          0.4121096508268269,
          0.4187103348581731,
          0.4252677354043263,
          0.4382549309311256,
          0.4382549309311258,
          0.4446858212614106,
          0.4446858212614107,
          0.4446858212615565,
          0.451075619360176,
          0.4637340162320885,
          0.4637340162320886,
          0.4762341789964506,
          0.4824261492442253,
          0.4824261492443656,
          0.4824261492443656,
          0.4824261492443656,
          0.4824261492443656,
          0.4946962418360294,
          0.4946962418360295,
          0.494696241836168,
          0.4946962418361681,
          0.4946962418361681,
          0.5007752879124067,
          0.5007752879125444,
          0.5007752879125444,
          0.506817602368364,
          0.506817602368364,
          0.506817602368364,
          0.5068176023685013,
          0.5068176023685013,
          0.5068176023685013,
          0.5187937934152053,
          0.5187937934152054,
          0.5247285289350144,
          0.5306282510621969,
          0.530628251062197,
          0.5364933705144568,
          0.5364933705145898,
          0.5364933705145898,
          0.5423242908253776,
          0.5423242908253778,
          0.5423242908253778,
          0.5481214085096981,
          0.5538851132263122,
          0.5538851132264427,
          0.5538851132264427,
          0.5538851132264427,
          0.5596157879354225,
          0.5653138090500552,
          0.5709795465857272,
          0.5709795465857274,
          0.5766133643039786,
          0.5766133643039786,
          0.5766133643041061,
          0.5822156198526433,
          0.5822156198526433,
          0.5822156198527705,
          0.5877866649020937,
          0.5877866649020937,
          0.58778666490222,
          0.5933268452778299,
          0.59332684527783,
          0.5988365010887939,
          0.6043159668532896,
          0.6043159668532897,
          0.6043159668532897,
          0.6043159668534142,
          0.6097655716208498,
          0.6151856390903074,
          0.6205764877250561,
          0.6205764877250564,
          0.6205764877251784,
          0.6205764877251784,
          0.6205764877251784,
          0.6205764877251784,
          0.6259384308664369,
          0.6259384308664371,
          0.6259384308664372,
          0.6312717768417949,
          0.6312717768419158,
          0.6312717768419158,
          0.6312717768419159,
          0.6365768290714836,
          0.6365768290714836,
          0.641853886172323,
          0.6418538861724425,
          0.6418538861724425,
          0.6471032420585813,
          0.6471032420585815,
          0.6523251860396095,
          0.652325186039728,
          0.652325186039728,
          0.652325186039728,
          0.652325186039728,
          0.6523251860397281,
          0.6575200029168272,
          0.6575200029168273,
          0.6575200029168273,
          0.662687973075265,
          0.662687973075265,
          0.662687973075265,
          0.662687973075265,
          0.662687973075265,
          0.662687973075265,
          0.662687973075265,
          0.662687973075265,
          0.6678293725755623,
          0.6678293725756786,
          0.6678293725756789,
          0.6729444732423283,
          0.6729444732424442,
          0.6729444732424443,
          0.6729444732424444,
          0.6729444732424444,
          0.6729444732424446,
          0.6729444732424446,
          0.6729444732424446,
          0.6780335427499109,
          0.678033542749911,
          0.678033542749911,
          0.683096844706453,
          0.683096844706453,
          0.6881346387364055,
          0.6881346387364056,
          0.6881346387364056,
          0.6881346387364057,
          0.6881346387364057,
          0.6881346387364057,
          0.6881346387364057,
          0.6881346387364057,
          0.6881346387364057,
          0.6931471805599452,
          0.6931471805599453,
          0.6931471805599453,
          0.6931471805599453,
          0.6981347220709797,
          0.6981347220709797,
          0.6981347220710931,
          0.7030975114131044,
          0.7030975114131044,
          0.7030975114131044,
          0.7030975114131045,
          0.7030975114131045,
          0.7030975114131045,
          0.7030975114131046,
          0.7030975114132172,
          0.7080357930536824,
          0.7080357930536824,
          0.7080357930537946,
          0.7129498078561072,
          0.7129498078561073,
          0.7129498078561073,
          0.7129498078561073,
          0.7178397931502944,
          0.7178397931502947,
          0.7178397931502947,
          0.7178397931502948,
          0.7178397931502948,
          0.7178397931504056,
          0.722705982801463,
          0.722705982801463,
          0.7227059828014631,
          0.7227059828015736,
          0.7275486072772469,
          0.727548607277247,
          0.7275486072773567,
          0.7323678937131914,
          0.7323678937131914,
          0.7323678937131916,
          0.7323678937131917,
          0.7323678937131917,
          0.7323678937133008,
          0.7323678937133009,
          0.7371640659766804,
          0.7419373447293339,
          0.741937344729334,
          0.7419373447294421,
          0.7419373447294421,
          0.7419373447294424,
          0.7466879474879276,
          0.7466879474879277,
          0.7466879474880354,
          0.7466879474880355,
          0.7514160886838697,
          0.7514160886838698,
          0.7514160886839766,
          0.7514160886839766,
          0.7514160886839766,
          0.7561219797212784,
          0.7561219797213851,
          0.7561219797213851,
          0.7561219797213851,
          0.7608058290338068,
          0.7608058290338068,
          0.7654678421395079,
          0.765467842139508,
          0.7654678421396137,
          0.7654678421396138,
          0.7701082216960061,
          0.7701082216961114,
          0.7747271675524017,
          0.7747271675524017,
          0.7747271675524017,
          0.7747271675524017,
          0.7793248768009226,
          0.7793248768009226,
          0.7793248768010269,
          0.7793248768010269,
          0.7839015438283305,
          0.7839015438284341,
          0.7839015438284342,
          0.7839015438284342,
          0.7839015438284344,
          0.7839015438284345,
          0.7884573603641875,
          0.7884573603642906,
          0.7884573603642906,
          0.7884573603642907,
          0.7884573603642908,
          0.7929925155296776,
          0.7929925155296776,
          0.7929925155296776,
          0.7929925155296778,
          0.7929925155296778,
          0.7975071958840979,
          0.7975071958842004,
          0.7975071958842004,
          0.7975071958842004,
          0.7975071958842005,
          0.8020015854720357,
          0.8020015854720358,
          0.806475865866851,
          0.8064758658668512,
          0.8064758658669523,
          0.8064758658669523,
          0.8064758658669525,
          0.8109302162163292,
          0.8109302162163292,
          0.8153648132841906,
          0.8153648132841906,
          0.8153648132841907,
          0.8153648132841907,
          0.8197798314933032,
          0.8197798314933032,
          0.8197798314933034,
          0.8197798314933034,
          0.8197798314933035,
          0.8197798314933035,
          0.8241754429663375,
          0.8241754429664372,
          0.8285518175661325,
          0.8285518175661325,
          0.8285518175662318,
          0.8329091229350843,
          0.8329091229351828,
          0.832909122935183,
          0.8372475245337769,
          0.8372475245337769,
          0.8458682675775776,
          0.8458682675775776,
          0.8458682675775779,
          0.8458682675775779,
          0.8458682675776755,
          0.850150929369575,
          0.8544153281560287,
          0.8544153281560287,
          0.8544153281560288,
          0.8544153281560288,
          0.8544153281560289,
          0.8544153281560292,
          0.8544153281561255,
          0.8544153281561255,
          0.8586616190374762,
          0.8586616190374763,
          0.8586616190374763,
          0.8671004876833337,
          0.8712933659433661,
          0.8712933659434612,
          0.8712933659434612,
          0.8754687373538432,
          0.8754687373538433,
          0.8754687373539378,
          0.8754687373539378,
          0.8796267475025031,
          0.8796267475025975,
          0.8796267475025977,
          0.8837675401685311,
          0.8837675401685312,
          0.883767540168625,
          0.883767540168625,
          0.8878912573523898,
          0.8878912573524832,
          0.8878912573524834,
          0.8878912573524834,
          0.8878912573524834,
          0.8878912573524834,
          0.8919980393051328,
          0.8919980393051328,
          0.8960880245566542,
          0.9001613499442858,
          0.9001613499442859,
          0.9042181506398967,
          0.9042181506398967,
          0.904218150639897,
          0.9082585601768982,
          0.9082585601768984,
          0.9122827104766204,
          0.9202827531436888,
          0.9202827531436892,
          0.9242589015233248,
          0.924258901523325,
          0.928219302739418,
          0.928219302739418,
          0.9282193027394182,
          0.9477893989334978,
          0.9516578757114148,
          0.9555114450274012,
          0.9555114450274884,
          0.9555114450274886,
          0.9555114450274886,
          0.9593502213345636,
          0.9593502213345636,
          0.9669838461896284,
          0.9707789171581764,
          0.9707789171582628,
          0.9745596399980792,
          0.9745596399980792,
          0.9745596399981652,
          0.9745596399981652,
          0.9820784724121002,
          0.9820784724121852,
          0.9820784724121854,
          0.9858167945227888,
          0.9858167945227888,
          0.989541193613768,
          0.989541193613768,
          0.9932517730103002,
          0.9969486348916232,
          0.9969486348916232,
          0.9969486348916232,
          1.000631880307916,
          1.0006318803079162,
          1.0006318803079162,
          1.01160091167848,
          1.0260415958332612,
          1.0402767116551204,
          1.0402767116551208,
          1.0473189942805272,
          1.050821624831726,
          1.050821624831726,
          1.0577902941478925,
          1.0612565021242966,
          1.0784095813505312,
          1.078409581350609,
          1.078409581350609,
          1.0818051703517442,
          1.0851892683359812,
          1.0851892683359812,
          1.0919233005173192,
          1.0986122886681096,
          1.0986122886681098,
          1.108562619521344,
          1.1151415906193056,
          1.1184149159642711,
          1.1249295969854596,
          1.1249295969854596,
          1.1249295969854598,
          1.1249295969855333,
          1.1281710909096276,
          1.131402111491071,
          1.1346227261911108,
          1.1474024528374982,
          1.150572027598775,
          1.1568811967921055,
          1.1600209167967706,
          1.160020916796771,
          1.163150809805624,
          1.1755733298042408,
          1.178654996341646,
          1.1786549963416464,
          1.184789984909156,
          1.1847899849091563,
          1.1939224684724208,
          1.199964782928378,
          1.2029723039923303,
          1.2029723039923306,
          1.21787570949496,
          1.2208299213923886,
          1.2208299213923886,
          1.2267122912954496,
          1.2325602611778008,
          1.2354714713853223,
          1.2354714713853223,
          1.2383742310432813,
          1.2441545939587757,
          1.2527629684953685,
          1.2612978709451976,
          1.2612978709451976,
          1.269760544863988,
          1.2753628004125883,
          1.2781522025001648,
          1.283707772344762,
          1.2837077723448247,
          1.2837077723448247,
          1.2919836816486143,
          1.291983681648677,
          1.2947271675944252,
          1.2947271675944256,
          1.3029127521808568,
          1.308332819650191,
          1.308332819650191,
          1.3164082336557288,
          1.3244189574018008,
          1.3428648031925354,
          1.3635373739972956,
          1.3711807233098563,
          1.3737155789130415,
          1.3737155789130422,
          1.3737155789130422,
          1.388791241318475,
          1.3887912413184758,
          1.396244691973106,
          1.401182973613684,
          1.4036429994545438,
          1.41098697371024,
          1.4134230285081186,
          1.420695787837247,
          1.420695787837247,
          1.4255150742731917,
          1.4327007339340054,
          1.4327007339340596,
          1.4350845252893334,
          1.4350845252893334,
          1.4422019930581906,
          1.47247205736092,
          1.4724720573609726,
          1.4747630091075257,
          1.483874689458722,
          1.483874689458773,
          1.4883995840570583,
          1.4906543764440947,
          1.4929040961781586,
          1.5062971535145848,
          1.5129270120532483,
          1.5129270120532488,
          1.5390154481375722,
          1.5769147207285703,
          1.605429891036565,
          1.646733697177808,
          1.6639260977181645,
          1.6733512381777391,
          1.675225652972088,
          1.6789639750827343,
          1.680827908520753,
          1.6956156086751617,
          1.733423892215106,
          1.7439688053917115,
          1.754403682684282,
          1.7544036826842822,
          1.75958057086385,
          1.7681496035889046,
          1.7833912195575463,
          1.7967470107390895,
          1.829376332799365,
          1.8453002361561093,
          1.85629799036564,
          1.8764069432883357,
          1.9006138741401453,
          1.911022890054872,
          1.9139771019523,
          1.9213246735827203,
          1.955860479908473,
          2.0001277349601243,
          2.012232791986388,
          2.0268315914075283,
          2.034705647838457,
          2.051556338190297,
          2.057962510002732,
          2.0719132752590514,
          2.075684492802127,
          2.0869135565185304,
          2.102913897864985,
          2.1126345090355976,
          2.1162555148025466,
          2.1424163408412222,
          2.2016591744040817,
          2.228938552825769,
          2.2596775919827605,
          2.264883225810021,
          2.2710944259026795,
          2.271094425902681,
          2.273156282303238,
          2.2793164660546896,
          2.2793164660546905,
          2.280339484046724,
          2.285438934159068,
          2.290512511759765,
          2.291524145634631,
          2.295560478057065,
          2.3105532626432166,
          2.329227023940465,
          2.331172549845955,
          2.338917022241448,
          2.368372833532054,
          2.3702437414678648,
          2.3776925654808494,
          2.385086314505801,
          2.417697900094553,
          2.423917378161568,
          2.472327867581132,
          2.4773783833671965,
          2.50878592357794,
          2.52091708731102,
          2.536074936362408,
          2.558002204858557,
          2.5649493574615367,
          2.6071242825122454,
          2.6693093727857846,
          2.673458756332592,
          2.6741486494265287,
          2.7160183707513803,
          2.71734024800931,
          2.718000531955369,
          2.718660380214231,
          2.7298116928837177,
          2.7298116928837337,
          2.744703518750242,
          2.758743315417726,
          2.761906873892916,
          2.7619068738929307,
          2.769458829230858,
          2.7738379416402124,
          2.782539053092955,
          2.7837759116303493,
          2.786245048687269,
          2.793616089431852,
          2.799108932049166,
          2.8021475244813128,
          2.8021475244813256,
          2.809402695362491,
          2.812410216426458,
          2.813610696762707,
          2.8243506567983654,
          2.8279051629104943,
          2.829087196145049,
          2.834389123145227,
          2.8361502037295225,
          2.84141491316964,
          2.8478121434773693,
          2.8524391037275234,
          2.8581928595319326,
          2.8661929021990025,
          2.878636501677754,
          2.890927159187864,
          2.890927159187864,
          2.8925915146344754,
          2.8975680247667537,
          2.897568024766766,
          2.900871992530033,
          2.901421594082752,
          2.9074473586864165,
          2.9107188992270285,
          2.9183111265854054,
          2.918311126585406,
          2.9258461460898166,
          2.9354513426690585,
          2.953868069455296,
          2.9569914452375605,
          2.9616582932202355,
          2.965273066069275,
          2.96630346286317,
          2.967847070064458,
          2.975529566236467,
          2.977059008288364,
          2.977059008288375,
          2.9790946324009604,
          2.983153491347131,
          2.987700101856736,
          2.991724252156444,
          2.9922261342246945,
          2.9932291433358733,
          2.996731773887073,
          3.002707887290421,
          3.007660844419265,
          3.013572191682328,
          3.025776394902374,
          3.039749158970758,
          3.045474365448804,
          3.0469005601283885,
          3.0502204588380555,
          3.052585085146766,
          3.0568273729138014,
          3.112181086197239,
          3.113959654918641,
          3.1354942159291515,
          3.145013976269747,
          3.164208423525897,
          3.1658969000773154,
          3.179303049748376,
          3.2188758248681992,
          3.298426103626209,
          3.2987954480440798,
          3.2995337278856605,
          3.31054301339402,
          3.3163654461454635,
          3.382014562245384,
          3.3908102887756626,
          3.4458520222025832,
          3.4591517749227094,
          3.4974162394026966,
          3.549329989163856,
          3.5599090728169784,
          3.641787846580088,
          3.6493586959516553,
          3.684620397193557,
          3.688379329072256,
          3.69336935938679,
          3.772301062253004,
          3.819688394225348,
          3.833412604846235,
          3.87140932254285,
          3.884034968887975,
          3.948740588363307,
          3.9516282600205046,
          3.9704805749997134,
          3.977997994351676,
          4.0581991155857455,
          4.107260787488648,
          4.111693200556713,
          4.118549250918919,
          4.122445992332977,
          4.139158578011893,
          4.140750935036259,
          4.167904765330131,
          4.209457369322608,
          4.2393103324722885,
          4.272630207894484,
          4.283310661734722,
          4.359269647551262,
          4.398146016553764,
          4.406231323370698,
          4.406475315076192,
          4.502915951949335,
          4.532061714167453,
          4.539991459963095,
          4.554192631223225,
          4.559545007961815,
          4.561113799791171,
          4.566013470786898,
          4.578723535973108,
          4.587413464398832,
          4.587718792374337,
          4.595422834533211,
          4.607467545036776,
          4.612939923252452,
          4.6131383556372665,
          4.614427207250768,
          4.63560239310829,
          4.657193214055242,
          4.67254842131804,
          4.675628649636653,
          4.699388861227072,
          4.714741822417381,
          4.717337482858838,
          4.720906684470688,
          4.722330805761668,
          4.745366816481376,
          4.76805404888957,
          4.783483721384506,
          4.783567385889892,
          4.810068296960951,
          4.812915795122207,
          4.846153655430631,
          4.849213801410043,
          4.861361591348502,
          4.915958247154347,
          4.976526824462806,
          4.9782498339521,
          5.011834574671739,
          5.017743305555633,
          5.050881122664784,
          5.05248076468615,
          5.05783689558055,
          5.141488102515018,
          5.159170235137879,
          5.325592008682919,
          5.345534866157147,
          5.35955356601861
         ],
         "xaxis": "x",
         "y": [
          0.08194881474399233,
          0.1005240904933738,
          0.1005240904933738,
          0.1005240904933738,
          0.10052409049358291,
          0.11874552986244691,
          0.11874552986244702,
          0.12772772396215906,
          0.12772772396236232,
          0.15417908601404207,
          0.1714155278942171,
          0.17141552789441122,
          0.17991866515564398,
          0.17991866515564398,
          0.17991866515583643,
          0.19670149287596855,
          0.19670149287615757,
          0.22133624420321657,
          0.22133624420321657,
          0.25322575192940067,
          0.25322575192940067,
          0.2610347474846865,
          0.268780511612957,
          0.268780511612957,
          0.268780511612957,
          0.27646406009662433,
          0.2840863844359298,
          0.29164845261677896,
          0.29164845261677896,
          0.29164845261677896,
          0.3139824626452024,
          0.3139824626452024,
          0.32131274099132007,
          0.32131274099132007,
          0.3285872752367007,
          0.34297245824532996,
          0.35714451957679955,
          0.35714451957679955,
          0.3641525849372437,
          0.3711096820986586,
          0.378016547073737,
          0.38487390004604555,
          0.39844287426517927,
          0.3984428742653323,
          0.41182206639014907,
          0.4184421387851205,
          0.4184421387851205,
          0.42501671204130437,
          0.4315464073146389,
          0.4315464073146389,
          0.4315464073146389,
          0.4380318331271858,
          0.4380318331271858,
          0.45087224931928294,
          0.45087224931928294,
          0.45722839657993936,
          0.46354258876753146,
          0.46981537611847934,
          0.4822388837647501,
          0.4822388837647502,
          0.4883906518678606,
          0.48839065186786074,
          0.4883906518680002,
          0.49450311128023555,
          0.5066120912369338,
          0.506612091236934,
          0.5185697049775004,
          0.5244929229316748,
          0.5244929229318089,
          0.5244929229318089,
          0.5244929229318089,
          0.5244929229318089,
          0.5362304523174587,
          0.5362304523174588,
          0.5362304523175913,
          0.5362304523175914,
          0.5362304523175914,
          0.5420456473883315,
          0.5420456473884634,
          0.5420456473884634,
          0.5478257051144093,
          0.5478257051144093,
          0.5478257051144093,
          0.5478257051145405,
          0.5478257051145405,
          0.5478257051145405,
          0.5592820892688333,
          0.5592820892688335,
          0.5649592373457064,
          0.5706028917287238,
          0.5706028917287238,
          0.5762134453090624,
          0.5762134453091896,
          0.5762134453091896,
          0.5817912841055939,
          0.5817912841055939,
          0.5817912841055939,
          0.587336787422986,
          0.5928503280076289,
          0.592850328007754,
          0.592850328007754,
          0.592850328007754,
          0.5983322721979671,
          0.6037829800694376,
          0.609202805577642,
          0.609202805577642,
          0.6145920966956482,
          0.6145920966956482,
          0.6145920966957703,
          0.619951195548174,
          0.619951195548174,
          0.6199511955482957,
          0.6252804385419171,
          0.6252804385419171,
          0.6252804385420379,
          0.6305801564923899,
          0.6305801564923899,
          0.6358506747466646,
          0.641092313303828,
          0.641092313303828,
          0.641092313303828,
          0.6410923133039472,
          0.6463053869315585,
          0.6514902052790732,
          0.6566470729873854,
          0.6566470729873857,
          0.6566470729875025,
          0.6566470729875025,
          0.6566470729875025,
          0.6566470729875025,
          0.6617762897977701,
          0.6617762897977704,
          0.6617762897977706,
          0.6668781506551309,
          0.6668781506552466,
          0.6668781506552466,
          0.6668781506552468,
          0.6719529458103592,
          0.6719529458103592,
          0.6770009609193026,
          0.677000960919417,
          0.677000960919417,
          0.6820224771393635,
          0.6820224771393637,
          0.6870177712228962,
          0.6870177712230094,
          0.6870177712230094,
          0.6870177712230094,
          0.6870177712230094,
          0.6870177712230097,
          0.6919871156099824,
          0.6919871156099824,
          0.6919871156099824,
          0.696930778516001,
          0.696930778516001,
          0.696930778516001,
          0.696930778516001,
          0.696930778516001,
          0.696930778516001,
          0.696930778516001,
          0.696930778516001,
          0.7018490240196336,
          0.7018490240197448,
          0.701849024019745,
          0.7067421121473882,
          0.7067421121474993,
          0.7067421121474993,
          0.7067421121474995,
          0.7067421121474995,
          0.7067421121474995,
          0.7067421121474995,
          0.7067421121474995,
          0.7116102989556481,
          0.7116102989556483,
          0.7116102989556483,
          0.7164538366110778,
          0.7164538366110778,
          0.7212729734695551,
          0.7212729734695551,
          0.7212729734695551,
          0.7212729734695553,
          0.7212729734695553,
          0.7212729734695553,
          0.7212729734695553,
          0.7212729734695553,
          0.7212729734695553,
          0.7260679541521433,
          0.7260679541521433,
          0.7260679541521433,
          0.7260679541521433,
          0.7308390196197085,
          0.7308390196197085,
          0.7308390196198169,
          0.7355864072455811,
          0.7355864072455811,
          0.7355864072455811,
          0.7355864072455813,
          0.7355864072455813,
          0.7355864072455813,
          0.7355864072455813,
          0.735586407245689,
          0.7403103508864204,
          0.7403103508864204,
          0.7403103508865279,
          0.7450110809513397,
          0.7450110809513399,
          0.7450110809513399,
          0.7450110809513399,
          0.74968882446934,
          0.7496888244693403,
          0.7496888244693403,
          0.7496888244693403,
          0.7496888244693403,
          0.7496888244694464,
          0.7543438051551044,
          0.7543438051551044,
          0.7543438051551046,
          0.7543438051552103,
          0.7589762434731979,
          0.7589762434731981,
          0.758976243473303,
          0.7635863567007211,
          0.7635863567007211,
          0.7635863567007211,
          0.7635863567007213,
          0.7635863567007213,
          0.7635863567008256,
          0.7635863567008259,
          0.7681743589884613,
          0.7727404614205842,
          0.7727404614205844,
          0.7727404614206876,
          0.7727404614206876,
          0.7727404614206879,
          0.7772848720729069,
          0.7772848720729069,
          0.7772848720730099,
          0.7772848720730099,
          0.7818077960697947,
          0.7818077960697947,
          0.7818077960698968,
          0.7818077960698968,
          0.7818077960698968,
          0.7863094356397173,
          0.7863094356398195,
          0.7863094356398195,
          0.7863094356398195,
          0.790789990169608,
          0.790789990169608,
          0.7952496562573463,
          0.7952496562573463,
          0.7952496562574474,
          0.7952496562574476,
          0.7996886277645352,
          0.7996886277646358,
          0.8041070958661534,
          0.8041070958661534,
          0.8041070958661534,
          0.8041070958661534,
          0.8085052490999645,
          0.8085052490999645,
          0.8085052491000642,
          0.8085052491000642,
          0.8128832734156921,
          0.8128832734157911,
          0.8128832734157914,
          0.8128832734157914,
          0.8128832734157914,
          0.8128832734157916,
          0.8172413522211919,
          0.8172413522212905,
          0.8172413522212905,
          0.8172413522212907,
          0.8172413522212907,
          0.8215796664291537,
          0.8215796664291537,
          0.8215796664291537,
          0.8215796664291537,
          0.8215796664291537,
          0.8258983945015748,
          0.8258983945016727,
          0.8258983945016727,
          0.8258983945016727,
          0.8258983945016729,
          0.8301977124948894,
          0.8301977124948896,
          0.8344777941015646,
          0.8344777941015646,
          0.8344777941016615,
          0.8344777941016615,
          0.8344777941016617,
          0.8387388106937701,
          0.8387388106937701,
          0.8429809313630878,
          0.8429809313630878,
          0.842980931363088,
          0.842980931363088,
          0.8472043229618478,
          0.8472043229618478,
          0.8472043229618478,
          0.8472043229618478,
          0.847204322961848,
          0.847204322961848,
          0.8514091501420185,
          0.8514091501421137,
          0.8555955753938216,
          0.8555955753938216,
          0.8555955753939164,
          0.8597637590834106,
          0.859763759083505,
          0.859763759083505,
          0.8639138594898248,
          0.8639138594898248,
          0.8721604333479138,
          0.8721604333479138,
          0.872160433347914,
          0.872160433347914,
          0.8721604333480075,
          0.8762572132423476,
          0.8803365228069824,
          0.8803365228069824,
          0.8803365228069826,
          0.8803365228069826,
          0.8803365228069826,
          0.8803365228069828,
          0.880336522807075,
          0.880336522807075,
          0.8843985104104719,
          0.8843985104104719,
          0.8843985104104719,
          0.8924711038299937,
          0.89648199709913,
          0.8964819970992208,
          0.8964819970992208,
          0.9004761433747475,
          0.9004761433747477,
          0.9004761433748381,
          0.9004761433748381,
          0.9044536819255882,
          0.9044536819256783,
          0.9044536819256785,
          0.9084147502903375,
          0.9084147502903377,
          0.9084147502904274,
          0.9084147502904274,
          0.9123594843061618,
          0.9123594843062512,
          0.9123594843062515,
          0.9123594843062515,
          0.9123594843062515,
          0.9123594843062515,
          0.9162880181367481,
          0.9162880181367481,
          0.9202004842993279,
          0.9240970136920337,
          0.9240970136920337,
          0.9279777356198216,
          0.9279777356198216,
          0.9279777356198218,
          0.9318427778203044,
          0.9318427778203047,
          0.9356922664889842,
          0.9433450804502221,
          0.9433450804502226,
          0.9471486506432774,
          0.9471486506432776,
          0.9509371571525467,
          0.9509371571525467,
          0.9509371571525469,
          0.9696578454800384,
          0.9733584173803151,
          0.9770447288525494,
          0.9770447288526329,
          0.9770447288526332,
          0.9770447288526332,
          0.9807168893821991,
          0.9807168893821991,
          0.9880191892944445,
          0.9916495414438833,
          0.9916495414439659,
          0.9952661682216228,
          0.9952661682216228,
          0.995266168221705,
          0.995266168221705,
          1.0024586580700943,
          1.0024586580701755,
          1.0024586580701758,
          1.006034724452596,
          1.006034724452596,
          1.0095974721211796,
          1.0095974721211796,
          1.0131469999164444,
          1.016683405582706,
          1.016683405582706,
          1.016683405582706,
          1.020206785784227,
          1.0202067857842272,
          1.0202067857842272,
          1.0306997243730995,
          1.0445136343619112,
          1.0581308983734898,
          1.0581308983734903,
          1.0648675222938278,
          1.068218126921677,
          1.068218126921677,
          1.0748843325974966,
          1.0782000955125586,
          1.0946086735219123,
          1.0946086735219864,
          1.0946086735219864,
          1.097856882562356,
          1.101094099334533,
          1.101094099334533,
          1.107535851914792,
          1.1139345155266303,
          1.1139345155266305,
          1.1234529686201402,
          1.1297463902885412,
          1.1328776423258264,
          1.1391095643225915,
          1.1391095643225915,
          1.1391095643225917,
          1.1391095643226619,
          1.1422103665295915,
          1.1453011499720978,
          1.148381979183383,
          1.160607022795071,
          1.1636390273722634,
          1.16967435744435,
          1.1726778030615823,
          1.1726778030615828,
          1.175671848207608,
          1.1875551891390894,
          1.1905031010044114,
          1.1905031010044118,
          1.1963718104745176,
          1.1963718104745178,
          1.2051079135957448,
          1.2108879713218224,
          1.2137649558761268,
          1.213764955876127,
          1.2280215035530542,
          1.230847492737607,
          1.230847492737607,
          1.2364745480412767,
          1.2420686964006074,
          1.2448535503129408,
          1.2448535503129408,
          1.2476303204579289,
          1.2531597962197034,
          1.2613945384053151,
          1.2695589974393557,
          1.2695589974393557,
          1.277654362903057,
          1.2830134617555213,
          1.2856817944291936,
          1.2909962338939205,
          1.2909962338939802,
          1.2909962338939802,
          1.2989129409538926,
          1.2989129409539526,
          1.3015373504004806,
          1.301537350400481,
          1.309367653138965,
          1.3145524714863617,
          1.3145524714863617,
          1.3222773854169771,
          1.3299404168625364,
          1.3475856510280066,
          1.3673609628673522,
          1.3746725651629956,
          1.3770973995241462,
          1.377097399524147,
          1.377097399524147,
          1.3915187275760739,
          1.3915187275760745,
          1.3986486734529826,
          1.4033726170938219,
          1.4057258695555161,
          1.4127510906766878,
          1.4150814125191309,
          1.4220385096805979,
          1.4220385096805979,
          1.426648622908121,
          1.4335224008192495,
          1.4335224008193013,
          1.4358027276279834,
          1.4358027276279834,
          1.442611273404169,
          1.4715675153073617,
          1.4715675153074121,
          1.4737590320580307,
          1.4824752348964243,
          1.4824752348964731,
          1.4868037338802889,
          1.4889606607089714,
          1.491112735054848,
          1.5039244887458345,
          1.5102665891691949,
          1.5102665891691953,
          1.5352226995553084,
          1.5714770164977747,
          1.5987545326963308,
          1.6382656150048205,
          1.6547118076512715,
          1.6637278653771352,
          1.6655209242774822,
          1.6690969906599435,
          1.6708800231300085,
          1.6850258874592208,
          1.7211931645808758,
          1.731280393129063,
          1.7412623617199443,
          1.7412623617199445,
          1.7462145555750408,
          1.7544116635157956,
          1.7689917421892247,
          1.781767847201543,
          1.8129809471561846,
          1.82821369965481,
          1.838734114415023,
          1.8579702712803057,
          1.8811265400767236,
          1.8910837697603697,
          1.8939097589449219,
          1.9009384213026792,
          1.9339752577061005,
          1.9763211652947532,
          1.987900822212523,
          2.0018659847343816,
          2.0093982806850312,
          2.0255175945121806,
          2.0316457169640896,
          2.044990972179164,
          2.048598506221866,
          2.0593401908799067,
          2.0746460637029065,
          2.08394476771913,
          2.087408609681011,
          2.112433968054463,
          2.169105463777783,
          2.195200825606132,
          2.2246056872806843,
          2.2295853791258717,
          2.2355269922851124,
          2.2355269922851138,
          2.2374993571967665,
          2.2433921682952573,
          2.2433921682952582,
          2.24437078387243,
          2.2492489007323595,
          2.2541022680344946,
          2.2550699936033975,
          2.2589311356497714,
          2.2732731830579733,
          2.291136440431921,
          2.2929975239824842,
          2.3004058602798167,
          2.3285831904848493,
          2.3303728947360907,
          2.3374984147831306,
          2.3445712502814913,
          2.3757673835870103,
          2.381716915428733,
          2.428026227105962,
          2.4328575335536327,
          2.4629018810922183,
          2.4745065115980953,
          2.489006459119664,
          2.509982010558895,
          2.5166276334191062,
          2.556972025152269,
          2.6164580737686287,
          2.620427360141094,
          2.6210873095589613,
          2.6611397444324596,
          2.662404247780194,
          2.6630358731865913,
          2.663667081816078,
          2.674334390083629,
          2.674334390083644,
          2.688579860719528,
          2.7020102830836668,
          2.7050365325017838,
          2.705036532501798,
          2.7122607076280927,
          2.7164497518593307,
          2.724773205867637,
          2.725956380592694,
          2.7283183488130867,
          2.7353694616466724,
          2.740623896456339,
          2.7435306037771596,
          2.743530603777172,
          2.750470875888358,
          2.753347860442676,
          2.7544962359026286,
          2.764770045621464,
          2.768170274236766,
          2.7693010032611607,
          2.7743728088323296,
          2.7760574526077733,
          2.781093655985918,
          2.78721322502444,
          2.7916393596682254,
          2.797143383156849,
          2.804796197118088,
          2.8166997026095086,
          2.8284569043271124,
          2.8284569043271124,
          2.830049021160529,
          2.8348095340482056,
          2.8348095340482176,
          2.8379700985199907,
          2.8384958455204514,
          2.844260071713379,
          2.847389616412811,
          2.854652315618685,
          2.8546523156186856,
          2.8618602899834884,
          2.871048588789024,
          2.8886659678125373,
          2.8916537786014844,
          2.8961180697163065,
          2.899575949289838,
          2.900561623404101,
          2.9020382328713623,
          2.909387282921348,
          2.9108503420542498,
          2.9108503420542604,
          2.9127976132472946,
          2.9166803040906593,
          2.9210295764423484,
          2.9248790651110146,
          2.9253591638128142,
          2.926318638961725,
          2.9296692435895753,
          2.935385973610947,
          2.9401239557745997,
          2.9457787307235774,
          2.957453230557511,
          2.9708195297623625,
          2.97629624306122,
          2.977660536104343,
          2.9808363400659665,
          2.9830983336554384,
          2.987156491893119,
          3.0401076682119177,
          3.0418090410806142,
          3.062408929857302,
          3.071515500643735,
          3.08987684445816,
          3.0914920354594666,
          3.104316313233817,
          3.142171497077841,
          3.2182690267079863,
          3.2186223403383276,
          3.2193285763565687,
          3.2298600219185336,
          3.2354297415441593,
          3.298229465638194,
          3.3066434281120736,
          3.359296165547364,
          3.3720186643555974,
          3.4086223226332155,
          3.458282841393673,
          3.468402757304995,
          3.546727717440862,
          3.5539699665363145,
          3.5877011915798818,
          3.591296973197281,
          3.596070419445919,
          3.6715762214543726,
          3.716906784152066,
          3.7300353179633716,
          3.766382850566773,
          3.7784605014794814,
          3.8403576798695096,
          3.8431200168836157,
          3.8611540781103684,
          3.868345216228418,
          3.945065339586452,
          3.9919975702413906,
          3.9962376017038346,
          4.002796076466328,
          4.00652368622266,
          4.0225108895832715,
          4.024034132967649,
          4.050009395878362,
          4.089758477376192,
          4.118315721716479,
          4.150189402699124,
          4.160406288991167,
          4.2330683998485465,
          4.270257403938397,
          4.277991781299187,
          4.278225182945645,
          4.370479972452151,
          4.398360710755197,
          4.405946278965197,
          4.419531071722968,
          4.424651137344555,
          4.426151838342488,
          4.430838847170069,
          4.442997252862786,
          4.4513100092249855,
          4.451602084941447,
          4.4589717458101426,
          4.470493675446868,
          4.475728534078621,
          4.475918353831847,
          4.477151264958981,
          4.49740737667065,
          4.518061083513687,
          4.532749823237809,
          4.535696359307862,
          4.5584252979583555,
          4.573111889097075,
          4.57559488916241,
          4.579009175443417,
          4.580371485089961,
          4.602407655618486,
          4.624110185984978,
          4.638870158900203,
          4.638950192085215,
          4.664300874659067,
          4.667024781841807,
          4.698820007441922,
          4.701747332813707,
          4.71336786789184,
          4.7655948455688195,
          4.823534543309001,
          4.825182768402761,
          4.857309818639855,
          4.862962090769303,
          4.894661615380812,
          4.896191827568866,
          4.901315484403299,
          4.981335948161286,
          4.998250616873957,
          5.157449126812174,
          5.176526397328992,
          5.189936638559308
         ],
         "yaxis": "y"
        }
       ],
       "layout": {
        "legend": {
         "tracegroupgap": 0
        },
        "margin": {
         "t": 60
        },
        "template": {
         "data": {
          "bar": [
           {
            "error_x": {
             "color": "#2a3f5f"
            },
            "error_y": {
             "color": "#2a3f5f"
            },
            "marker": {
             "line": {
              "color": "#E5ECF6",
              "width": 0.5
             },
             "pattern": {
              "fillmode": "overlay",
              "size": 10,
              "solidity": 0.2
             }
            },
            "type": "bar"
           }
          ],
          "barpolar": [
           {
            "marker": {
             "line": {
              "color": "#E5ECF6",
              "width": 0.5
             },
             "pattern": {
              "fillmode": "overlay",
              "size": 10,
              "solidity": 0.2
             }
            },
            "type": "barpolar"
           }
          ],
          "carpet": [
           {
            "aaxis": {
             "endlinecolor": "#2a3f5f",
             "gridcolor": "white",
             "linecolor": "white",
             "minorgridcolor": "white",
             "startlinecolor": "#2a3f5f"
            },
            "baxis": {
             "endlinecolor": "#2a3f5f",
             "gridcolor": "white",
             "linecolor": "white",
             "minorgridcolor": "white",
             "startlinecolor": "#2a3f5f"
            },
            "type": "carpet"
           }
          ],
          "choropleth": [
           {
            "colorbar": {
             "outlinewidth": 0,
             "ticks": ""
            },
            "type": "choropleth"
           }
          ],
          "contour": [
           {
            "colorbar": {
             "outlinewidth": 0,
             "ticks": ""
            },
            "colorscale": [
             [
              0,
              "#0d0887"
             ],
             [
              0.1111111111111111,
              "#46039f"
             ],
             [
              0.2222222222222222,
              "#7201a8"
             ],
             [
              0.3333333333333333,
              "#9c179e"
             ],
             [
              0.4444444444444444,
              "#bd3786"
             ],
             [
              0.5555555555555556,
              "#d8576b"
             ],
             [
              0.6666666666666666,
              "#ed7953"
             ],
             [
              0.7777777777777778,
              "#fb9f3a"
             ],
             [
              0.8888888888888888,
              "#fdca26"
             ],
             [
              1,
              "#f0f921"
             ]
            ],
            "type": "contour"
           }
          ],
          "contourcarpet": [
           {
            "colorbar": {
             "outlinewidth": 0,
             "ticks": ""
            },
            "type": "contourcarpet"
           }
          ],
          "heatmap": [
           {
            "colorbar": {
             "outlinewidth": 0,
             "ticks": ""
            },
            "colorscale": [
             [
              0,
              "#0d0887"
             ],
             [
              0.1111111111111111,
              "#46039f"
             ],
             [
              0.2222222222222222,
              "#7201a8"
             ],
             [
              0.3333333333333333,
              "#9c179e"
             ],
             [
              0.4444444444444444,
              "#bd3786"
             ],
             [
              0.5555555555555556,
              "#d8576b"
             ],
             [
              0.6666666666666666,
              "#ed7953"
             ],
             [
              0.7777777777777778,
              "#fb9f3a"
             ],
             [
              0.8888888888888888,
              "#fdca26"
             ],
             [
              1,
              "#f0f921"
             ]
            ],
            "type": "heatmap"
           }
          ],
          "heatmapgl": [
           {
            "colorbar": {
             "outlinewidth": 0,
             "ticks": ""
            },
            "colorscale": [
             [
              0,
              "#0d0887"
             ],
             [
              0.1111111111111111,
              "#46039f"
             ],
             [
              0.2222222222222222,
              "#7201a8"
             ],
             [
              0.3333333333333333,
              "#9c179e"
             ],
             [
              0.4444444444444444,
              "#bd3786"
             ],
             [
              0.5555555555555556,
              "#d8576b"
             ],
             [
              0.6666666666666666,
              "#ed7953"
             ],
             [
              0.7777777777777778,
              "#fb9f3a"
             ],
             [
              0.8888888888888888,
              "#fdca26"
             ],
             [
              1,
              "#f0f921"
             ]
            ],
            "type": "heatmapgl"
           }
          ],
          "histogram": [
           {
            "marker": {
             "pattern": {
              "fillmode": "overlay",
              "size": 10,
              "solidity": 0.2
             }
            },
            "type": "histogram"
           }
          ],
          "histogram2d": [
           {
            "colorbar": {
             "outlinewidth": 0,
             "ticks": ""
            },
            "colorscale": [
             [
              0,
              "#0d0887"
             ],
             [
              0.1111111111111111,
              "#46039f"
             ],
             [
              0.2222222222222222,
              "#7201a8"
             ],
             [
              0.3333333333333333,
              "#9c179e"
             ],
             [
              0.4444444444444444,
              "#bd3786"
             ],
             [
              0.5555555555555556,
              "#d8576b"
             ],
             [
              0.6666666666666666,
              "#ed7953"
             ],
             [
              0.7777777777777778,
              "#fb9f3a"
             ],
             [
              0.8888888888888888,
              "#fdca26"
             ],
             [
              1,
              "#f0f921"
             ]
            ],
            "type": "histogram2d"
           }
          ],
          "histogram2dcontour": [
           {
            "colorbar": {
             "outlinewidth": 0,
             "ticks": ""
            },
            "colorscale": [
             [
              0,
              "#0d0887"
             ],
             [
              0.1111111111111111,
              "#46039f"
             ],
             [
              0.2222222222222222,
              "#7201a8"
             ],
             [
              0.3333333333333333,
              "#9c179e"
             ],
             [
              0.4444444444444444,
              "#bd3786"
             ],
             [
              0.5555555555555556,
              "#d8576b"
             ],
             [
              0.6666666666666666,
              "#ed7953"
             ],
             [
              0.7777777777777778,
              "#fb9f3a"
             ],
             [
              0.8888888888888888,
              "#fdca26"
             ],
             [
              1,
              "#f0f921"
             ]
            ],
            "type": "histogram2dcontour"
           }
          ],
          "mesh3d": [
           {
            "colorbar": {
             "outlinewidth": 0,
             "ticks": ""
            },
            "type": "mesh3d"
           }
          ],
          "parcoords": [
           {
            "line": {
             "colorbar": {
              "outlinewidth": 0,
              "ticks": ""
             }
            },
            "type": "parcoords"
           }
          ],
          "pie": [
           {
            "automargin": true,
            "type": "pie"
           }
          ],
          "scatter": [
           {
            "fillpattern": {
             "fillmode": "overlay",
             "size": 10,
             "solidity": 0.2
            },
            "type": "scatter"
           }
          ],
          "scatter3d": [
           {
            "line": {
             "colorbar": {
              "outlinewidth": 0,
              "ticks": ""
             }
            },
            "marker": {
             "colorbar": {
              "outlinewidth": 0,
              "ticks": ""
             }
            },
            "type": "scatter3d"
           }
          ],
          "scattercarpet": [
           {
            "marker": {
             "colorbar": {
              "outlinewidth": 0,
              "ticks": ""
             }
            },
            "type": "scattercarpet"
           }
          ],
          "scattergeo": [
           {
            "marker": {
             "colorbar": {
              "outlinewidth": 0,
              "ticks": ""
             }
            },
            "type": "scattergeo"
           }
          ],
          "scattergl": [
           {
            "marker": {
             "colorbar": {
              "outlinewidth": 0,
              "ticks": ""
             }
            },
            "type": "scattergl"
           }
          ],
          "scattermapbox": [
           {
            "marker": {
             "colorbar": {
              "outlinewidth": 0,
              "ticks": ""
             }
            },
            "type": "scattermapbox"
           }
          ],
          "scatterpolar": [
           {
            "marker": {
             "colorbar": {
              "outlinewidth": 0,
              "ticks": ""
             }
            },
            "type": "scatterpolar"
           }
          ],
          "scatterpolargl": [
           {
            "marker": {
             "colorbar": {
              "outlinewidth": 0,
              "ticks": ""
             }
            },
            "type": "scatterpolargl"
           }
          ],
          "scatterternary": [
           {
            "marker": {
             "colorbar": {
              "outlinewidth": 0,
              "ticks": ""
             }
            },
            "type": "scatterternary"
           }
          ],
          "surface": [
           {
            "colorbar": {
             "outlinewidth": 0,
             "ticks": ""
            },
            "colorscale": [
             [
              0,
              "#0d0887"
             ],
             [
              0.1111111111111111,
              "#46039f"
             ],
             [
              0.2222222222222222,
              "#7201a8"
             ],
             [
              0.3333333333333333,
              "#9c179e"
             ],
             [
              0.4444444444444444,
              "#bd3786"
             ],
             [
              0.5555555555555556,
              "#d8576b"
             ],
             [
              0.6666666666666666,
              "#ed7953"
             ],
             [
              0.7777777777777778,
              "#fb9f3a"
             ],
             [
              0.8888888888888888,
              "#fdca26"
             ],
             [
              1,
              "#f0f921"
             ]
            ],
            "type": "surface"
           }
          ],
          "table": [
           {
            "cells": {
             "fill": {
              "color": "#EBF0F8"
             },
             "line": {
              "color": "white"
             }
            },
            "header": {
             "fill": {
              "color": "#C8D4E3"
             },
             "line": {
              "color": "white"
             }
            },
            "type": "table"
           }
          ]
         },
         "layout": {
          "annotationdefaults": {
           "arrowcolor": "#2a3f5f",
           "arrowhead": 0,
           "arrowwidth": 1
          },
          "autotypenumbers": "strict",
          "coloraxis": {
           "colorbar": {
            "outlinewidth": 0,
            "ticks": ""
           }
          },
          "colorscale": {
           "diverging": [
            [
             0,
             "#8e0152"
            ],
            [
             0.1,
             "#c51b7d"
            ],
            [
             0.2,
             "#de77ae"
            ],
            [
             0.3,
             "#f1b6da"
            ],
            [
             0.4,
             "#fde0ef"
            ],
            [
             0.5,
             "#f7f7f7"
            ],
            [
             0.6,
             "#e6f5d0"
            ],
            [
             0.7,
             "#b8e186"
            ],
            [
             0.8,
             "#7fbc41"
            ],
            [
             0.9,
             "#4d9221"
            ],
            [
             1,
             "#276419"
            ]
           ],
           "sequential": [
            [
             0,
             "#0d0887"
            ],
            [
             0.1111111111111111,
             "#46039f"
            ],
            [
             0.2222222222222222,
             "#7201a8"
            ],
            [
             0.3333333333333333,
             "#9c179e"
            ],
            [
             0.4444444444444444,
             "#bd3786"
            ],
            [
             0.5555555555555556,
             "#d8576b"
            ],
            [
             0.6666666666666666,
             "#ed7953"
            ],
            [
             0.7777777777777778,
             "#fb9f3a"
            ],
            [
             0.8888888888888888,
             "#fdca26"
            ],
            [
             1,
             "#f0f921"
            ]
           ],
           "sequentialminus": [
            [
             0,
             "#0d0887"
            ],
            [
             0.1111111111111111,
             "#46039f"
            ],
            [
             0.2222222222222222,
             "#7201a8"
            ],
            [
             0.3333333333333333,
             "#9c179e"
            ],
            [
             0.4444444444444444,
             "#bd3786"
            ],
            [
             0.5555555555555556,
             "#d8576b"
            ],
            [
             0.6666666666666666,
             "#ed7953"
            ],
            [
             0.7777777777777778,
             "#fb9f3a"
            ],
            [
             0.8888888888888888,
             "#fdca26"
            ],
            [
             1,
             "#f0f921"
            ]
           ]
          },
          "colorway": [
           "#636efa",
           "#EF553B",
           "#00cc96",
           "#ab63fa",
           "#FFA15A",
           "#19d3f3",
           "#FF6692",
           "#B6E880",
           "#FF97FF",
           "#FECB52"
          ],
          "font": {
           "color": "#2a3f5f"
          },
          "geo": {
           "bgcolor": "white",
           "lakecolor": "white",
           "landcolor": "#E5ECF6",
           "showlakes": true,
           "showland": true,
           "subunitcolor": "white"
          },
          "hoverlabel": {
           "align": "left"
          },
          "hovermode": "closest",
          "mapbox": {
           "style": "light"
          },
          "paper_bgcolor": "white",
          "plot_bgcolor": "#E5ECF6",
          "polar": {
           "angularaxis": {
            "gridcolor": "white",
            "linecolor": "white",
            "ticks": ""
           },
           "bgcolor": "#E5ECF6",
           "radialaxis": {
            "gridcolor": "white",
            "linecolor": "white",
            "ticks": ""
           }
          },
          "scene": {
           "xaxis": {
            "backgroundcolor": "#E5ECF6",
            "gridcolor": "white",
            "gridwidth": 2,
            "linecolor": "white",
            "showbackground": true,
            "ticks": "",
            "zerolinecolor": "white"
           },
           "yaxis": {
            "backgroundcolor": "#E5ECF6",
            "gridcolor": "white",
            "gridwidth": 2,
            "linecolor": "white",
            "showbackground": true,
            "ticks": "",
            "zerolinecolor": "white"
           },
           "zaxis": {
            "backgroundcolor": "#E5ECF6",
            "gridcolor": "white",
            "gridwidth": 2,
            "linecolor": "white",
            "showbackground": true,
            "ticks": "",
            "zerolinecolor": "white"
           }
          },
          "shapedefaults": {
           "line": {
            "color": "#2a3f5f"
           }
          },
          "ternary": {
           "aaxis": {
            "gridcolor": "white",
            "linecolor": "white",
            "ticks": ""
           },
           "baxis": {
            "gridcolor": "white",
            "linecolor": "white",
            "ticks": ""
           },
           "bgcolor": "#E5ECF6",
           "caxis": {
            "gridcolor": "white",
            "linecolor": "white",
            "ticks": ""
           }
          },
          "title": {
           "x": 0.05
          },
          "xaxis": {
           "automargin": true,
           "gridcolor": "white",
           "linecolor": "white",
           "ticks": "",
           "title": {
            "standoff": 15
           },
           "zerolinecolor": "white",
           "zerolinewidth": 2
          },
          "yaxis": {
           "automargin": true,
           "gridcolor": "white",
           "linecolor": "white",
           "ticks": "",
           "title": {
            "standoff": 15
           },
           "zerolinecolor": "white",
           "zerolinewidth": 2
          }
         }
        },
        "xaxis": {
         "anchor": "y",
         "domain": [
          0,
          1
         ],
         "title": {
          "text": "Log+1_weights"
         }
        },
        "yaxis": {
         "anchor": "x",
         "domain": [
          0,
          1
         ],
         "title": {
          "text": "y_pred_+1"
         }
        }
       }
      }
     },
     "metadata": {},
     "output_type": "display_data"
    }
   ],
   "source": [
    "fig = px.scatter(predictions_plus, x='Log+1_weights', y='y_pred_+1', trendline='ols', hover_data=['Specimen ID', 'Species_DNA', 'Weights'])\n",
    "fig.show()"
   ]
  },
  {
   "cell_type": "code",
   "execution_count": 9,
   "metadata": {},
   "outputs": [
    {
     "name": "stdout",
     "output_type": "stream",
     "text": [
      "Intel MKL WARNING: Support of Intel(R) Streaming SIMD Extensions 4.2 (Intel(R) SSE4.2) enabled only processors has been deprecated. Intel oneAPI Math Kernel Library 2025.0 will require Intel(R) Advanced Vector Extensions (Intel(R) AVX) instructions.\n"
     ]
    },
    {
     "data": {
      "application/vnd.plotly.v1+json": {
       "config": {
        "plotlyServerURL": "https://plot.ly"
       },
       "data": [
        {
         "customdata": [
          [
           "10_A10",
           "Athripsodes cinereus"
          ],
          [
           "10_A11",
           "Goera pilosa"
          ],
          [
           "10_A2",
           "Baetis vernus"
          ],
          [
           "10_A3",
           "Baetis rhodani"
          ],
          [
           "10_A4",
           "Ephemera danica"
          ],
          [
           "10_A5",
           "Ephemera danica"
          ],
          [
           "10_A6",
           "Anabolia nervosa"
          ],
          [
           "10_A7",
           "Limnephilus lunatus"
          ],
          [
           "10_A8",
           "Goera pilosa"
          ],
          [
           "10_A9",
           "Athripsodes cinereus"
          ],
          [
           "10_B11",
           "Potamophylax rotundipennis"
          ],
          [
           "10_B12",
           "Potamophylax rotundipennis"
          ],
          [
           "10_B2",
           "Halesus radiatus"
          ],
          [
           "10_B3",
           "Goera pilosa"
          ],
          [
           "10_B5",
           "Chaetopteryx villosa"
          ],
          [
           "10_B6",
           "Limnephilus lunatus"
          ],
          [
           "10_B7",
           "Limnephilus lunatus"
          ],
          [
           "10_B8",
           "Limnephilus lunatus"
          ],
          [
           "10_B9",
           "Chaetopteryx villosa"
          ],
          [
           "10_C10",
           "Baetis rhodani"
          ],
          [
           "10_C11",
           "Nemoura cinerea"
          ],
          [
           "10_C2",
           "Goera pilosa"
          ],
          [
           "10_C3",
           "Goera pilosa"
          ],
          [
           "10_C5",
           "Goera pilosa"
          ],
          [
           "10_C6",
           "Baetis rhodani"
          ],
          [
           "10_C7",
           "Baetis rhodani"
          ],
          [
           "10_C8",
           "Baetis rhodani"
          ],
          [
           "10_C9",
           "Baetis rhodani"
          ],
          [
           "1_A1",
           "Potamophylax rotundipennis"
          ],
          [
           "1_A10",
           "Limnephilus lunatus"
          ],
          [
           "1_A11",
           "Limnephilus lunatus"
          ],
          [
           "1_A12",
           "Limnephilus lunatus"
          ],
          [
           "1_A2",
           "Halesus radiatus"
          ],
          [
           "1_A3",
           "Chaetopteryx villosa"
          ],
          [
           "1_A4",
           "Limnephilus lunatus"
          ],
          [
           "1_A5",
           "Limnephilus lunatus"
          ],
          [
           "1_A6",
           "Limnephilus lunatus"
          ],
          [
           "1_A7",
           "Limnephilus lunatus"
          ],
          [
           "1_A8",
           "Limnephilus lunatus"
          ],
          [
           "1_A9",
           "Limnephilus lunatus"
          ],
          [
           "1_B1",
           "Limnephilus lunatus"
          ],
          [
           "1_B10",
           "Amphinemura standfussi"
          ],
          [
           "1_B11",
           "Potamophylax rotundipennis"
          ],
          [
           "1_B12",
           "Halesus radiatus"
          ],
          [
           "1_B2",
           "Limnephilus lunatus"
          ],
          [
           "1_B3",
           "Limnephilus lunatus"
          ],
          [
           "1_B4",
           "Limnephilus lunatus"
          ],
          [
           "1_B5",
           "Limnephilus lunatus"
          ],
          [
           "1_B6",
           "Goera pilosa"
          ],
          [
           "1_B7",
           "Goera pilosa"
          ],
          [
           "1_B8",
           "Amphinemura standfussi"
          ],
          [
           "1_B9",
           "Baetis vernus"
          ],
          [
           "1_C1",
           "Potamophylax rotundipennis"
          ],
          [
           "1_C11",
           "Halesus radiatus"
          ],
          [
           "1_C12",
           "Limnephilus lunatus"
          ],
          [
           "1_C2",
           "Limnephilus lunatus"
          ],
          [
           "1_C3",
           "Limnephilus lunatus"
          ],
          [
           "1_C4",
           "Limnephilus lunatus"
          ],
          [
           "1_C5",
           "Limnephilus lunatus"
          ],
          [
           "1_C6",
           "Goera pilosa"
          ],
          [
           "1_C7",
           "Goera pilosa"
          ],
          [
           "1_C8",
           "Ephemera danica"
          ],
          [
           "1_C9",
           "Ephemera danica"
          ],
          [
           "1_D1",
           "Limnephilus lunatus"
          ],
          [
           "1_D10",
           "Mystacides azureus"
          ],
          [
           "1_D11",
           "Limnephilus lunatus"
          ],
          [
           "1_D12",
           "Potamophylax rotundipennis"
          ],
          [
           "1_D2",
           "Limnephilus lunatus"
          ],
          [
           "1_D3",
           "Limnephilus lunatus"
          ],
          [
           "1_D4",
           "Limnephilus lunatus"
          ],
          [
           "1_D5",
           "Mystacides azureus"
          ],
          [
           "1_D7",
           "Chaetopteryx villosa"
          ],
          [
           "1_D8",
           "Limnephilus lunatus"
          ],
          [
           "1_D9",
           "Limnephilus lunatus"
          ],
          [
           "1_E1",
           "Goera pilosa"
          ],
          [
           "1_E10",
           "Limnephilus lunatus"
          ],
          [
           "1_E12",
           "Limnephilus lunatus"
          ],
          [
           "1_E2",
           "Halesus radiatus"
          ],
          [
           "1_E3",
           "Goera pilosa"
          ],
          [
           "1_E4",
           "Goera pilosa"
          ],
          [
           "1_E7",
           "Caenis horaria"
          ],
          [
           "1_E8",
           "Limnephilus lunatus"
          ],
          [
           "1_E9",
           "Limnephilus lunatus"
          ],
          [
           "1_F1",
           "Limnephilus lunatus"
          ],
          [
           "1_F10",
           "Athripsodes cinereus"
          ],
          [
           "1_F11",
           "Goera pilosa"
          ],
          [
           "1_F12",
           "Ephemera danica"
          ],
          [
           "1_F2",
           "Limnephilus lunatus"
          ],
          [
           "1_F3",
           "Mystacides azureus"
          ],
          [
           "1_F4",
           "Anabolia nervosa"
          ],
          [
           "1_F5",
           "Chaetopteryx villosa"
          ],
          [
           "1_F6",
           "Potamophylax rotundipennis"
          ],
          [
           "1_F7",
           "Limnephilus lunatus"
          ],
          [
           "1_F8",
           "Halesus radiatus"
          ],
          [
           "1_F9",
           "Chaetopteryx villosa"
          ],
          [
           "1_G1",
           "Ephemera danica"
          ],
          [
           "1_G10",
           "Nemoura cinerea"
          ],
          [
           "1_G11",
           "Caenis horaria"
          ],
          [
           "1_G12",
           "Limnephilus lunatus"
          ],
          [
           "1_G2",
           "Baetis rhodani"
          ],
          [
           "1_G3",
           "Baetis rhodani"
          ],
          [
           "1_G4",
           "Baetis rhodani"
          ],
          [
           "1_G5",
           "Baetis rhodani"
          ],
          [
           "1_G6",
           "Baetis rhodani"
          ],
          [
           "1_G7",
           "Baetis rhodani"
          ],
          [
           "1_G8",
           "Caenis horaria"
          ],
          [
           "1_G9",
           "Mystacides azureus"
          ],
          [
           "1_H1",
           "Limnephilus lunatus"
          ],
          [
           "1_H10",
           "Ephemera danica"
          ],
          [
           "1_H11",
           "Ephemera danica"
          ],
          [
           "1_H12",
           "Ephemera danica"
          ],
          [
           "1_H2",
           "Limnephilus lunatus"
          ],
          [
           "1_H3",
           "Goera pilosa"
          ],
          [
           "1_H4",
           "Limnephilus lunatus"
          ],
          [
           "1_H5",
           "Goera pilosa"
          ],
          [
           "1_H6",
           "Limnephilus lunatus"
          ],
          [
           "1_H7",
           "Chaetopteryx villosa"
          ],
          [
           "1_H8",
           "Potamophylax rotundipennis"
          ],
          [
           "1_H9",
           "Potamophylax rotundipennis"
          ],
          [
           "2_A1",
           "Potamophylax rotundipennis"
          ],
          [
           "2_A11",
           "Goera pilosa"
          ],
          [
           "2_A12",
           "Potamophylax rotundipennis"
          ],
          [
           "2_A2",
           "Potamophylax rotundipennis"
          ],
          [
           "2_A4",
           "Limnephilus lunatus"
          ],
          [
           "2_A5",
           "Limnephilus lunatus"
          ],
          [
           "2_A6",
           "Goera pilosa"
          ],
          [
           "2_A7",
           "Chaetopteryx villosa"
          ],
          [
           "2_A8",
           "Halesus radiatus"
          ],
          [
           "2_A9",
           "Halesus radiatus"
          ],
          [
           "2_B1",
           "Potamophylax rotundipennis"
          ],
          [
           "2_B10",
           "Anabolia nervosa"
          ],
          [
           "2_B11",
           "Potamophylax rotundipennis"
          ],
          [
           "2_B12",
           "Limnephilus lunatus"
          ],
          [
           "2_B2",
           "Potamophylax rotundipennis"
          ],
          [
           "2_B3",
           "Ephemera danica"
          ],
          [
           "2_B4",
           "Limnephilus lunatus"
          ],
          [
           "2_B5",
           "Limnephilus lunatus"
          ],
          [
           "2_B6",
           "Limnephilus lunatus"
          ],
          [
           "2_B7",
           "Chaetopteryx villosa"
          ],
          [
           "2_B8",
           "Limnephilus lunatus"
          ],
          [
           "2_B9",
           "Chaetopteryx villosa"
          ],
          [
           "2_C1",
           "Limnephilus lunatus"
          ],
          [
           "2_C10",
           "Potamophylax rotundipennis"
          ],
          [
           "2_C11",
           "Potamophylax rotundipennis"
          ],
          [
           "2_C12",
           "Potamophylax rotundipennis"
          ],
          [
           "2_C2",
           "Limnephilus lunatus"
          ],
          [
           "2_C3",
           "Potamophylax rotundipennis"
          ],
          [
           "2_C4",
           "Limnephilus lunatus"
          ],
          [
           "2_C5",
           "Potamophylax rotundipennis"
          ],
          [
           "2_C6",
           "Ephemera danica"
          ],
          [
           "2_C7",
           "Limnephilus lunatus"
          ],
          [
           "2_C8",
           "Limnephilus lunatus"
          ],
          [
           "2_C9",
           "Potamophylax rotundipennis"
          ],
          [
           "2_D1",
           "Athripsodes cinereus"
          ],
          [
           "2_D10",
           "Athripsodes cinereus"
          ],
          [
           "2_D11",
           "Goera pilosa"
          ],
          [
           "2_D12",
           "Athripsodes cinereus"
          ],
          [
           "2_D2",
           "Ephemera danica"
          ],
          [
           "2_D4",
           "Chaetopteryx villosa"
          ],
          [
           "2_D5",
           "Limnephilus lunatus"
          ],
          [
           "2_D7",
           "Limnephilus lunatus"
          ],
          [
           "2_D8",
           "Limnephilus lunatus"
          ],
          [
           "2_D9",
           "Limnephilus lunatus"
          ],
          [
           "2_E1",
           "Potamophylax rotundipennis"
          ],
          [
           "2_E10",
           "Ephemera danica"
          ],
          [
           "2_E11",
           "Ephemera danica"
          ],
          [
           "2_E12",
           "Ephemera danica"
          ],
          [
           "2_E2",
           "Potamophylax rotundipennis"
          ],
          [
           "2_E5",
           "Goera pilosa"
          ],
          [
           "2_E6",
           "Goera pilosa"
          ],
          [
           "2_E8",
           "Goera pilosa"
          ],
          [
           "2_E9",
           "Baetis vernus"
          ],
          [
           "2_F1",
           "Ephemera danica"
          ],
          [
           "2_F10",
           "Ephemera danica"
          ],
          [
           "2_F11",
           "Ephemera danica"
          ],
          [
           "2_F12",
           "Limnephilus lunatus"
          ],
          [
           "2_F2",
           "Limnephilus lunatus"
          ],
          [
           "2_F3",
           "Limnephilus lunatus"
          ],
          [
           "2_F4",
           "Limnephilus lunatus"
          ],
          [
           "2_F5",
           "Limnephilus lunatus"
          ],
          [
           "2_F7",
           "Nemoura cinerea"
          ],
          [
           "2_F8",
           "Ephemera danica"
          ],
          [
           "2_F9",
           "Ephemera danica"
          ],
          [
           "2_G1",
           "Limnephilus lunatus"
          ],
          [
           "2_G12",
           "Chaetopteryx villosa"
          ],
          [
           "2_G2",
           "Limnephilus lunatus"
          ],
          [
           "2_G3",
           "Limnephilus lunatus"
          ],
          [
           "2_G5",
           "Goera pilosa"
          ],
          [
           "2_G6",
           "Chaetopteryx villosa"
          ],
          [
           "2_G7",
           "Goera pilosa"
          ],
          [
           "2_G9",
           "Baetis rhodani"
          ],
          [
           "2_H1",
           "Athripsodes cinereus"
          ],
          [
           "2_H11",
           "Limnephilus lunatus"
          ],
          [
           "2_H12",
           "Chaetopteryx villosa"
          ],
          [
           "2_H2",
           "Athripsodes cinereus"
          ],
          [
           "2_H3",
           "Limnephilus lunatus"
          ],
          [
           "2_H4",
           "Limnephilus lunatus"
          ],
          [
           "2_H5",
           "Halesus radiatus"
          ],
          [
           "2_H6",
           "Goera pilosa"
          ],
          [
           "2_H8",
           "Ephemera danica"
          ],
          [
           "2_H9",
           "Ephemera danica"
          ],
          [
           "3_A1",
           "Limnephilus lunatus"
          ],
          [
           "3_A10",
           "Goera pilosa"
          ],
          [
           "3_A11",
           "Goera pilosa"
          ],
          [
           "3_A12",
           "Ephemera danica"
          ],
          [
           "3_A2",
           "Anabolia nervosa"
          ],
          [
           "3_A4",
           "Potamophylax rotundipennis"
          ],
          [
           "3_A5",
           "Potamophylax rotundipennis"
          ],
          [
           "3_A6",
           "Halesus radiatus"
          ],
          [
           "3_A8",
           "Goera pilosa"
          ],
          [
           "3_A9",
           "Goera pilosa"
          ],
          [
           "3_B1",
           "Ephemera danica"
          ],
          [
           "3_B10",
           "Anabolia nervosa"
          ],
          [
           "3_B11",
           "Limnephilus lunatus"
          ],
          [
           "3_B3",
           "Caenis horaria"
          ],
          [
           "3_B4",
           "Limnephilus lunatus"
          ],
          [
           "3_B5",
           "Limnephilus lunatus"
          ],
          [
           "3_B6",
           "Limnephilus lunatus"
          ],
          [
           "3_B7",
           "Chaetopteryx villosa"
          ],
          [
           "3_B8",
           "Limnephilus lunatus"
          ],
          [
           "3_B9",
           "Anabolia nervosa"
          ],
          [
           "3_C1",
           "Halesus radiatus"
          ],
          [
           "3_C10",
           "Limnephilus lunatus"
          ],
          [
           "3_C11",
           "Goera pilosa"
          ],
          [
           "3_C12",
           "Limnephilus lunatus"
          ],
          [
           "3_C4",
           "Ephemera danica"
          ],
          [
           "3_C5",
           "Caenis horaria"
          ],
          [
           "3_C6",
           "Limnephilus lunatus"
          ],
          [
           "3_C7",
           "Limnephilus lunatus"
          ],
          [
           "3_C8",
           "Chaetopteryx villosa"
          ],
          [
           "3_C9",
           "Limnephilus lunatus"
          ],
          [
           "3_D1",
           "Mystacides azureus"
          ],
          [
           "3_D10",
           "Limnephilus lunatus"
          ],
          [
           "3_D11",
           "Goera pilosa"
          ],
          [
           "3_D12",
           "Limnephilus lunatus"
          ],
          [
           "3_D3",
           "Goera pilosa"
          ],
          [
           "3_D4",
           "Goera pilosa"
          ],
          [
           "3_D5",
           "Ephemera danica"
          ],
          [
           "3_D7",
           "Caenis horaria"
          ],
          [
           "3_D8",
           "Ephemera danica"
          ],
          [
           "3_D9",
           "Limnephilus lunatus"
          ],
          [
           "3_E1",
           "Chaetopteryx villosa"
          ],
          [
           "3_E10",
           "Halesus radiatus"
          ],
          [
           "3_E11",
           "Limnephilus lunatus"
          ],
          [
           "3_E12",
           "Limnephilus lunatus"
          ],
          [
           "3_E2",
           "Limnephilus lunatus"
          ],
          [
           "3_E4",
           "Goera pilosa"
          ],
          [
           "3_E5",
           "Baetis rhodani"
          ],
          [
           "3_E6",
           "Caenis horaria"
          ],
          [
           "3_E7",
           "Caenis horaria"
          ],
          [
           "3_E8",
           "Chaetopteryx villosa"
          ],
          [
           "3_E9",
           "Limnephilus lunatus"
          ],
          [
           "3_F1",
           "Limnephilus lunatus"
          ],
          [
           "3_F12",
           "Halesus radiatus"
          ],
          [
           "3_F2",
           "Limnephilus lunatus"
          ],
          [
           "3_F3",
           "Limnephilus lunatus"
          ],
          [
           "3_F5",
           "Potamophylax rotundipennis"
          ],
          [
           "3_F6",
           "Potamophylax rotundipennis"
          ],
          [
           "3_F7",
           "Amphinemura standfussi"
          ],
          [
           "3_F8",
           "Nemoura cinerea"
          ],
          [
           "3_F9",
           "Baetis rhodani"
          ],
          [
           "3_G1",
           "Limnephilus lunatus"
          ],
          [
           "3_G10",
           "Potamophylax rotundipennis"
          ],
          [
           "3_G12",
           "Goera pilosa"
          ],
          [
           "3_G3",
           "Limnephilus lunatus"
          ],
          [
           "3_G4",
           "Limnephilus lunatus"
          ],
          [
           "3_G5",
           "Limnephilus lunatus"
          ],
          [
           "3_G6",
           "Mystacides azureus"
          ],
          [
           "3_G7",
           "Potamophylax rotundipennis"
          ],
          [
           "3_G8",
           "Potamophylax rotundipennis"
          ],
          [
           "3_G9",
           "Potamophylax rotundipennis"
          ],
          [
           "3_H10",
           "Goera pilosa"
          ],
          [
           "3_H12",
           "Potamophylax rotundipennis"
          ],
          [
           "3_H2",
           "Ephemera danica"
          ],
          [
           "3_H4",
           "Baetis vernus"
          ],
          [
           "3_H5",
           "Amphinemura standfussi"
          ],
          [
           "3_H6",
           "Chaetopteryx villosa"
          ],
          [
           "3_H7",
           "Limnephilus lunatus"
          ],
          [
           "3_H8",
           "Limnephilus lunatus"
          ],
          [
           "3_H9",
           "Limnephilus lunatus"
          ],
          [
           "4_A1",
           "Potamophylax rotundipennis"
          ],
          [
           "4_A10",
           "Potamophylax rotundipennis"
          ],
          [
           "4_A11",
           "Potamophylax rotundipennis"
          ],
          [
           "4_A12",
           "Goera pilosa"
          ],
          [
           "4_A2",
           "Potamophylax rotundipennis"
          ],
          [
           "4_A3",
           "Ephemera danica"
          ],
          [
           "4_A4",
           "Baetis rhodani"
          ],
          [
           "4_A5",
           "Caenis horaria"
          ],
          [
           "4_A6",
           "Limnephilus lunatus"
          ],
          [
           "4_A7",
           "Limnephilus lunatus"
          ],
          [
           "4_A8",
           "Limnephilus lunatus"
          ],
          [
           "4_A9",
           "Potamophylax rotundipennis"
          ],
          [
           "4_B1",
           "Goera pilosa"
          ],
          [
           "4_B10",
           "Baetis rhodani"
          ],
          [
           "4_B11",
           "Limnephilus lunatus"
          ],
          [
           "4_B12",
           "Limnephilus lunatus"
          ],
          [
           "4_B2",
           "Goera pilosa"
          ],
          [
           "4_B3",
           "Goera pilosa"
          ],
          [
           "4_B4",
           "Goera pilosa"
          ],
          [
           "4_B5",
           "Goera pilosa"
          ],
          [
           "4_B6",
           "Goera pilosa"
          ],
          [
           "4_B7",
           "Goera pilosa"
          ],
          [
           "4_B8",
           "Goera pilosa"
          ],
          [
           "4_B9",
           "Ephemera danica"
          ],
          [
           "4_C1",
           "Chaetopteryx villosa"
          ],
          [
           "4_C12",
           "Limnephilus lunatus"
          ],
          [
           "4_C2",
           "Limnephilus lunatus"
          ],
          [
           "4_C3",
           "Athripsodes cinereus"
          ],
          [
           "4_C4",
           "Potamophylax rotundipennis"
          ],
          [
           "4_C5",
           "Potamophylax rotundipennis"
          ],
          [
           "4_C7",
           "Limnephilus lunatus"
          ],
          [
           "4_C8",
           "Goera pilosa"
          ],
          [
           "4_D1",
           "Ephemera danica"
          ],
          [
           "4_D10",
           "Chaetopteryx villosa"
          ],
          [
           "4_D11",
           "Limnephilus lunatus"
          ],
          [
           "4_D12",
           "Chaetopteryx villosa"
          ],
          [
           "4_D2",
           "Chaetopteryx villosa"
          ],
          [
           "4_D3",
           "Limnephilus lunatus"
          ],
          [
           "4_D4",
           "Potamophylax rotundipennis"
          ],
          [
           "4_D9",
           "Baetis vernus"
          ],
          [
           "4_E1",
           "Goera pilosa"
          ],
          [
           "4_E10",
           "Limnephilus lunatus"
          ],
          [
           "4_E11",
           "Limnephilus lunatus"
          ],
          [
           "4_E12",
           "Limnephilus lunatus"
          ],
          [
           "4_E2",
           "Chaetopteryx villosa"
          ],
          [
           "4_E4",
           "Athripsodes cinereus"
          ],
          [
           "4_E5",
           "Goera pilosa"
          ],
          [
           "4_E6",
           "Goera pilosa"
          ],
          [
           "4_E8",
           "Ephemera danica"
          ],
          [
           "4_E9",
           "Ephemera danica"
          ],
          [
           "4_F1",
           "Limnephilus lunatus"
          ],
          [
           "4_F10",
           "Amphinemura standfussi"
          ],
          [
           "4_F12",
           "Goera pilosa"
          ],
          [
           "4_F2",
           "Limnephilus lunatus"
          ],
          [
           "4_F3",
           "Limnephilus lunatus"
          ],
          [
           "4_F6",
           "Limnephilus lunatus"
          ],
          [
           "4_F7",
           "Athripsodes cinereus"
          ],
          [
           "4_G10",
           "Limnephilus lunatus"
          ],
          [
           "4_G11",
           "Goera pilosa"
          ],
          [
           "4_G12",
           "Halesus radiatus"
          ],
          [
           "4_G3",
           "Potamophylax rotundipennis"
          ],
          [
           "4_G4",
           "Baetis vernus"
          ],
          [
           "4_G5",
           "Baetis rhodani"
          ],
          [
           "4_G6",
           "Caenis horaria"
          ],
          [
           "4_G8",
           "Caenis horaria"
          ],
          [
           "4_G9",
           "Caenis horaria"
          ],
          [
           "4_H1",
           "Chaetopteryx villosa"
          ],
          [
           "4_H10",
           "Goera pilosa"
          ],
          [
           "4_H11",
           "Baetis rhodani"
          ],
          [
           "4_H12",
           "Caenis horaria"
          ],
          [
           "4_H2",
           "Limnephilus lunatus"
          ],
          [
           "4_H3",
           "Limnephilus lunatus"
          ],
          [
           "4_H4",
           "Anabolia nervosa"
          ],
          [
           "4_H5",
           "Potamophylax rotundipennis"
          ],
          [
           "4_H6",
           "Potamophylax rotundipennis"
          ],
          [
           "4_H7",
           "Potamophylax rotundipennis"
          ],
          [
           "4_H8",
           "Potamophylax rotundipennis"
          ],
          [
           "5_A1",
           "Amphinemura standfussi"
          ],
          [
           "5_A10",
           "Caenis horaria"
          ],
          [
           "5_A11",
           "Baetis rhodani"
          ],
          [
           "5_A12",
           "Baetis rhodani"
          ],
          [
           "5_A2",
           "Chaetopteryx villosa"
          ],
          [
           "5_A3",
           "Anabolia nervosa"
          ],
          [
           "5_A4",
           "Limnephilus lunatus"
          ],
          [
           "5_A6",
           "Limnephilus lunatus"
          ],
          [
           "5_A7",
           "Limnephilus lunatus"
          ],
          [
           "5_A8",
           "Limnephilus lunatus"
          ],
          [
           "5_B1",
           "Caenis horaria"
          ],
          [
           "5_B11",
           "Potamophylax rotundipennis"
          ],
          [
           "5_B2",
           "Ephemera danica"
          ],
          [
           "5_B4",
           "Limnephilus lunatus"
          ],
          [
           "5_B5",
           "Limnephilus lunatus"
          ],
          [
           "5_B6",
           "Limnephilus lunatus"
          ],
          [
           "5_B7",
           "Potamophylax rotundipennis"
          ],
          [
           "5_B8",
           "Mystacides azureus"
          ],
          [
           "5_B9",
           "Goera pilosa"
          ],
          [
           "5_C10",
           "Limnephilus lunatus"
          ],
          [
           "5_C11",
           "Athripsodes cinereus"
          ],
          [
           "5_C12",
           "Mystacides azureus"
          ],
          [
           "5_C3",
           "Anabolia nervosa"
          ],
          [
           "5_C4",
           "Limnephilus lunatus"
          ],
          [
           "5_C5",
           "Limnephilus lunatus"
          ],
          [
           "5_C7",
           "Anabolia nervosa"
          ],
          [
           "5_C8",
           "Limnephilus lunatus"
          ],
          [
           "5_C9",
           "Limnephilus lunatus"
          ],
          [
           "5_D1",
           "Athripsodes cinereus"
          ],
          [
           "5_D10",
           "Limnephilus lunatus"
          ],
          [
           "5_D11",
           "Anabolia nervosa"
          ],
          [
           "5_D12",
           "Limnephilus lunatus"
          ],
          [
           "5_D2",
           "Potamophylax rotundipennis"
          ],
          [
           "5_D3",
           "Potamophylax rotundipennis"
          ],
          [
           "5_D4",
           "Potamophylax rotundipennis"
          ],
          [
           "5_D5",
           "Ephemera danica"
          ],
          [
           "5_D7",
           "Ephemera danica"
          ],
          [
           "5_D8",
           "Chaetopteryx villosa"
          ],
          [
           "5_D9",
           "Limnephilus lunatus"
          ],
          [
           "5_E1",
           "Potamophylax rotundipennis"
          ],
          [
           "5_E10",
           "Ephemera danica"
          ],
          [
           "5_E11",
           "Ephemera danica"
          ],
          [
           "5_E12",
           "Baetis rhodani"
          ],
          [
           "5_E3",
           "Limnephilus lunatus"
          ],
          [
           "5_E4",
           "Limnephilus lunatus"
          ],
          [
           "5_E5",
           "Goera pilosa"
          ],
          [
           "5_E6",
           "Limnephilus lunatus"
          ],
          [
           "5_E7",
           "Goera pilosa"
          ],
          [
           "5_E8",
           "Ephemera danica"
          ],
          [
           "5_E9",
           "Ephemera danica"
          ],
          [
           "5_F1",
           "Mystacides azureus"
          ],
          [
           "5_F10",
           "Goera pilosa"
          ],
          [
           "5_F11",
           "Goera pilosa"
          ],
          [
           "5_F12",
           "Potamophylax rotundipennis"
          ],
          [
           "5_F2",
           "Limnephilus lunatus"
          ],
          [
           "5_F3",
           "Limnephilus lunatus"
          ],
          [
           "5_F4",
           "Limnephilus lunatus"
          ],
          [
           "5_F5",
           "Limnephilus lunatus"
          ],
          [
           "5_F6",
           "Athripsodes cinereus"
          ],
          [
           "5_F7",
           "Limnephilus lunatus"
          ],
          [
           "5_F8",
           "Mystacides azureus"
          ],
          [
           "5_G1",
           "Limnephilus lunatus"
          ],
          [
           "5_G10",
           "Anabolia nervosa"
          ],
          [
           "5_G11",
           "Limnephilus lunatus"
          ],
          [
           "5_G12",
           "Limnephilus lunatus"
          ],
          [
           "5_G3",
           "Limnephilus lunatus"
          ],
          [
           "5_G4",
           "Chaetopteryx villosa"
          ],
          [
           "5_G5",
           "Limnephilus lunatus"
          ],
          [
           "5_G6",
           "Limnephilus lunatus"
          ],
          [
           "5_G7",
           "Limnephilus lunatus"
          ],
          [
           "5_G9",
           "Limnephilus lunatus"
          ],
          [
           "5_H10",
           "Caenis horaria"
          ],
          [
           "5_H11",
           "Caenis horaria"
          ],
          [
           "5_H2",
           "Limnephilus lunatus"
          ],
          [
           "5_H3",
           "Limnephilus lunatus"
          ],
          [
           "5_H4",
           "Limnephilus lunatus"
          ],
          [
           "5_H5",
           "Goera pilosa"
          ],
          [
           "5_H6",
           "Goera pilosa"
          ],
          [
           "5_H7",
           "Ephemera danica"
          ],
          [
           "5_H8",
           "Ephemera danica"
          ],
          [
           "5_H9",
           "Ephemera danica"
          ],
          [
           "6_A1",
           "Limnephilus lunatus"
          ],
          [
           "6_A12",
           "Baetis rhodani"
          ],
          [
           "6_A2",
           "Athripsodes cinereus"
          ],
          [
           "6_A3",
           "Limnephilus lunatus"
          ],
          [
           "6_A4",
           "Limnephilus lunatus"
          ],
          [
           "6_A6",
           "Athripsodes cinereus"
          ],
          [
           "6_A7",
           "Goera pilosa"
          ],
          [
           "6_A8",
           "Goera pilosa"
          ],
          [
           "6_B1",
           "Limnephilus lunatus"
          ],
          [
           "6_B10",
           "Ephemera danica"
          ],
          [
           "6_B11",
           "Limnephilus lunatus"
          ],
          [
           "6_B12",
           "Limnephilus lunatus"
          ],
          [
           "6_B2",
           "Limnephilus lunatus"
          ],
          [
           "6_B4",
           "Limnephilus lunatus"
          ],
          [
           "6_B5",
           "Goera pilosa"
          ],
          [
           "6_B6",
           "Athripsodes cinereus"
          ],
          [
           "6_B7",
           "Limnephilus lunatus"
          ],
          [
           "6_B9",
           "Goera pilosa"
          ],
          [
           "6_C10",
           "Baetis rhodani"
          ],
          [
           "6_C11",
           "Baetis vernus"
          ],
          [
           "6_C12",
           "Baetis rhodani"
          ],
          [
           "6_C2",
           "Chaetopteryx villosa"
          ],
          [
           "6_C3",
           "Goera pilosa"
          ],
          [
           "6_C4",
           "Potamophylax rotundipennis"
          ],
          [
           "6_C5",
           "Potamophylax rotundipennis"
          ],
          [
           "6_C7",
           "Athripsodes cinereus"
          ],
          [
           "6_C8",
           "Goera pilosa"
          ],
          [
           "6_C9",
           "Ephemera danica"
          ],
          [
           "6_D1",
           "Caenis horaria"
          ],
          [
           "6_D10",
           "Potamophylax rotundipennis"
          ],
          [
           "6_D11",
           "Ephemera danica"
          ],
          [
           "6_D12",
           "Limnephilus lunatus"
          ],
          [
           "6_D2",
           "Baetis rhodani"
          ],
          [
           "6_D3",
           "Athripsodes cinereus"
          ],
          [
           "6_D4",
           "Chaetopteryx villosa"
          ],
          [
           "6_D5",
           "Limnephilus lunatus"
          ],
          [
           "6_D7",
           "Limnephilus lunatus"
          ],
          [
           "6_D8",
           "Limnephilus lunatus"
          ],
          [
           "6_E1",
           "Goera pilosa"
          ],
          [
           "6_E10",
           "Baetis rhodani"
          ],
          [
           "6_E11",
           "Baetis rhodani"
          ],
          [
           "6_E12",
           "Ephemera danica"
          ],
          [
           "6_E2",
           "Limnephilus lunatus"
          ],
          [
           "6_E3",
           "Limnephilus lunatus"
          ],
          [
           "6_E6",
           "Potamophylax rotundipennis"
          ],
          [
           "6_E7",
           "Potamophylax rotundipennis"
          ],
          [
           "6_E8",
           "Potamophylax rotundipennis"
          ],
          [
           "6_E9",
           "Amphinemura standfussi"
          ],
          [
           "6_F1",
           "Limnephilus lunatus"
          ],
          [
           "6_F11",
           "Potamophylax rotundipennis"
          ],
          [
           "6_F12",
           "Potamophylax rotundipennis"
          ],
          [
           "6_F2",
           "Limnephilus lunatus"
          ],
          [
           "6_F4",
           "Goera pilosa"
          ],
          [
           "6_F5",
           "Limnephilus lunatus"
          ],
          [
           "6_F6",
           "Athripsodes cinereus"
          ],
          [
           "6_F8",
           "Limnephilus lunatus"
          ],
          [
           "6_F9",
           "Anabolia nervosa"
          ],
          [
           "6_G10",
           "Ephemera danica"
          ],
          [
           "6_G11",
           "Halesus radiatus"
          ],
          [
           "6_G12",
           "Chaetopteryx villosa"
          ],
          [
           "6_G5",
           "Potamophylax rotundipennis"
          ],
          [
           "6_G6",
           "Goera pilosa"
          ],
          [
           "6_G7",
           "Goera pilosa"
          ],
          [
           "6_G8",
           "Ephemera danica"
          ],
          [
           "6_G9",
           "Baetis rhodani"
          ],
          [
           "6_H1",
           "Ephemera danica"
          ],
          [
           "6_H10",
           "Nemoura cinerea"
          ],
          [
           "6_H11",
           "Goera pilosa"
          ],
          [
           "6_H2",
           "Chaetopteryx villosa"
          ],
          [
           "6_H3",
           "Limnephilus lunatus"
          ],
          [
           "6_H4",
           "Limnephilus lunatus"
          ],
          [
           "6_H5",
           "Potamophylax rotundipennis"
          ],
          [
           "6_H7",
           "Goera pilosa"
          ],
          [
           "6_H8",
           "Baetis rhodani"
          ],
          [
           "6_H9",
           "Baetis vernus"
          ],
          [
           "7_A10",
           "Limnephilus lunatus"
          ],
          [
           "7_A11",
           "Limnephilus lunatus"
          ],
          [
           "7_A12",
           "Limnephilus lunatus"
          ],
          [
           "7_A2",
           "Athripsodes cinereus"
          ],
          [
           "7_A5",
           "Goera pilosa"
          ],
          [
           "7_A6",
           "Ephemera danica"
          ],
          [
           "7_A7",
           "Limnephilus lunatus"
          ],
          [
           "7_A8",
           "Limnephilus lunatus"
          ],
          [
           "7_A9",
           "Limnephilus lunatus"
          ],
          [
           "7_B1",
           "Limnephilus lunatus"
          ],
          [
           "7_B10",
           "Baetis rhodani"
          ],
          [
           "7_B11",
           "Caenis horaria"
          ],
          [
           "7_B12",
           "Limnephilus lunatus"
          ],
          [
           "7_B2",
           "Limnephilus lunatus"
          ],
          [
           "7_B3",
           "Athripsodes cinereus"
          ],
          [
           "7_B4",
           "Potamophylax rotundipennis"
          ],
          [
           "7_B5",
           "Potamophylax rotundipennis"
          ],
          [
           "7_B6",
           "Potamophylax rotundipennis"
          ],
          [
           "7_B7",
           "Goera pilosa"
          ],
          [
           "7_B8",
           "Ephemera danica"
          ],
          [
           "7_B9",
           "Ephemera danica"
          ],
          [
           "7_C1",
           "Goera pilosa"
          ],
          [
           "7_C10",
           "Nemoura cinerea"
          ],
          [
           "7_C11",
           "Limnephilus lunatus"
          ],
          [
           "7_C12",
           "Chaetopteryx villosa"
          ],
          [
           "7_C3",
           "Goera pilosa"
          ],
          [
           "7_C4",
           "Goera pilosa"
          ],
          [
           "7_C5",
           "Goera pilosa"
          ],
          [
           "7_C6",
           "Goera pilosa"
          ],
          [
           "7_C7",
           "Goera pilosa"
          ],
          [
           "7_C8",
           "Baetis rhodani"
          ],
          [
           "7_C9",
           "Baetis rhodani"
          ],
          [
           "7_D1",
           "Limnephilus lunatus"
          ],
          [
           "7_D10",
           "Goera pilosa"
          ],
          [
           "7_D11",
           "Goera pilosa"
          ],
          [
           "7_D12",
           "Potamophylax rotundipennis"
          ],
          [
           "7_D2",
           "Limnephilus lunatus"
          ],
          [
           "7_D3",
           "Chaetopteryx villosa"
          ],
          [
           "7_D4",
           "Limnephilus lunatus"
          ],
          [
           "7_D7",
           "Goera pilosa"
          ],
          [
           "7_D8",
           "Goera pilosa"
          ],
          [
           "7_D9",
           "Goera pilosa"
          ],
          [
           "7_E1",
           "Goera pilosa"
          ],
          [
           "7_E10",
           "Anabolia nervosa"
          ],
          [
           "7_E11",
           "Potamophylax rotundipennis"
          ],
          [
           "7_E3",
           "Baetis rhodani"
          ],
          [
           "7_E4",
           "Baetis vernus"
          ],
          [
           "7_E5",
           "Ephemera danica"
          ],
          [
           "7_E6",
           "Ephemera danica"
          ],
          [
           "7_E7",
           "Limnephilus lunatus"
          ],
          [
           "7_E8",
           "Halesus radiatus"
          ],
          [
           "7_E9",
           "Limnephilus lunatus"
          ],
          [
           "7_F1",
           "Goera pilosa"
          ],
          [
           "7_F2",
           "Goera pilosa"
          ],
          [
           "7_F3",
           "Potamophylax rotundipennis"
          ],
          [
           "7_F4",
           "Potamophylax rotundipennis"
          ],
          [
           "7_F5",
           "Potamophylax rotundipennis"
          ],
          [
           "7_F7",
           "Goera pilosa"
          ],
          [
           "7_F8",
           "Limnephilus lunatus"
          ],
          [
           "7_G10",
           "Goera pilosa"
          ],
          [
           "7_G11",
           "Chaetopteryx villosa"
          ],
          [
           "7_G12",
           "Halesus radiatus"
          ],
          [
           "7_G3",
           "Goera pilosa"
          ],
          [
           "7_G4",
           "Ephemera danica"
          ],
          [
           "7_G5",
           "Ephemera danica"
          ],
          [
           "7_G6",
           "Baetis rhodani"
          ],
          [
           "7_G7",
           "Limnephilus lunatus"
          ],
          [
           "7_G8",
           "Limnephilus lunatus"
          ],
          [
           "7_G9",
           "Mystacides azureus"
          ],
          [
           "7_H1",
           "Potamophylax rotundipennis"
          ],
          [
           "7_H10",
           "Ephemera danica"
          ],
          [
           "7_H11",
           "Amphinemura standfussi"
          ],
          [
           "7_H12",
           "Limnephilus lunatus"
          ],
          [
           "7_H2",
           "Potamophylax rotundipennis"
          ],
          [
           "7_H3",
           "Halesus radiatus"
          ],
          [
           "7_H4",
           "Limnephilus lunatus"
          ],
          [
           "7_H6",
           "Goera pilosa"
          ],
          [
           "7_H7",
           "Goera pilosa"
          ],
          [
           "7_H8",
           "Baetis rhodani"
          ],
          [
           "8_A1",
           "Goera pilosa"
          ],
          [
           "8_A10",
           "Potamophylax rotundipennis"
          ],
          [
           "8_A2",
           "Limnephilus lunatus"
          ],
          [
           "8_A3",
           "Limnephilus lunatus"
          ],
          [
           "8_A4",
           "Goera pilosa"
          ],
          [
           "8_A5",
           "Limnephilus lunatus"
          ],
          [
           "8_A6",
           "Limnephilus lunatus"
          ],
          [
           "8_A7",
           "Chaetopteryx villosa"
          ],
          [
           "8_A9",
           "Anabolia nervosa"
          ],
          [
           "8_B10",
           "Athripsodes cinereus"
          ],
          [
           "8_B12",
           "Ephemera danica"
          ],
          [
           "8_B5",
           "Ephemera danica"
          ],
          [
           "8_B6",
           "Ephemera danica"
          ],
          [
           "8_B7",
           "Nemoura cinerea"
          ],
          [
           "8_C1",
           "Baetis rhodani"
          ],
          [
           "8_C10",
           "Limnephilus lunatus"
          ],
          [
           "8_C11",
           "Athripsodes cinereus"
          ],
          [
           "8_C12",
           "Goera pilosa"
          ],
          [
           "8_C2",
           "Athripsodes cinereus"
          ],
          [
           "8_C3",
           "Limnephilus lunatus"
          ],
          [
           "8_C4",
           "Limnephilus lunatus"
          ],
          [
           "8_C5",
           "Anabolia nervosa"
          ],
          [
           "8_C6",
           "Limnephilus lunatus"
          ],
          [
           "8_C7",
           "Chaetopteryx villosa"
          ],
          [
           "8_C8",
           "Limnephilus lunatus"
          ],
          [
           "8_C9",
           "Limnephilus lunatus"
          ],
          [
           "8_D1",
           "Limnephilus lunatus"
          ],
          [
           "8_D10",
           "Limnephilus lunatus"
          ],
          [
           "8_D11",
           "Chaetopteryx villosa"
          ],
          [
           "8_D2",
           "Halesus radiatus"
          ],
          [
           "8_D3",
           "Potamophylax rotundipennis"
          ],
          [
           "8_D4",
           "Potamophylax rotundipennis"
          ],
          [
           "8_D5",
           "Chaetopteryx villosa"
          ],
          [
           "8_D7",
           "Nemoura cinerea"
          ],
          [
           "8_D8",
           "Nemoura cinerea"
          ],
          [
           "8_D9",
           "Limnephilus lunatus"
          ],
          [
           "8_E10",
           "Potamophylax rotundipennis"
          ],
          [
           "8_E11",
           "Potamophylax rotundipennis"
          ],
          [
           "8_E12",
           "Baetis rhodani"
          ],
          [
           "8_E2",
           "Chaetopteryx villosa"
          ],
          [
           "8_E3",
           "Goera pilosa"
          ],
          [
           "8_E4",
           "Chaetopteryx villosa"
          ],
          [
           "8_E5",
           "Goera pilosa"
          ],
          [
           "8_E7",
           "Goera pilosa"
          ],
          [
           "8_F1",
           "Baetis rhodani"
          ],
          [
           "8_F10",
           "Athripsodes cinereus"
          ],
          [
           "8_F11",
           "Goera pilosa"
          ],
          [
           "8_F12",
           "Potamophylax rotundipennis"
          ],
          [
           "8_F2",
           "Ephemera danica"
          ],
          [
           "8_F3",
           "Ephemera danica"
          ],
          [
           "8_F4",
           "Chaetopteryx villosa"
          ],
          [
           "8_F5",
           "Mystacides azureus"
          ],
          [
           "8_F6",
           "Limnephilus lunatus"
          ],
          [
           "8_F7",
           "Limnephilus lunatus"
          ],
          [
           "8_F9",
           "Athripsodes cinereus"
          ],
          [
           "8_G11",
           "Limnephilus lunatus"
          ],
          [
           "8_G2",
           "Baetis rhodani"
          ],
          [
           "8_G3",
           "Baetis rhodani"
          ],
          [
           "8_G4",
           "Ephemera danica"
          ],
          [
           "8_G5",
           "Ephemera danica"
          ],
          [
           "8_G6",
           "Ephemera danica"
          ],
          [
           "8_G8",
           "Caenis horaria"
          ],
          [
           "8_G9",
           "Caenis horaria"
          ],
          [
           "8_H1",
           "Goera pilosa"
          ],
          [
           "8_H10",
           "Athripsodes cinereus"
          ],
          [
           "8_H11",
           "Limnephilus lunatus"
          ],
          [
           "8_H12",
           "Limnephilus lunatus"
          ],
          [
           "8_H2",
           "Goera pilosa"
          ],
          [
           "8_H4",
           "Baetis rhodani"
          ],
          [
           "8_H5",
           "Limnephilus lunatus"
          ],
          [
           "8_H6",
           "Athripsodes cinereus"
          ],
          [
           "8_H7",
           "Goera pilosa"
          ],
          [
           "8_H8",
           "Potamophylax rotundipennis"
          ],
          [
           "9_A1",
           "Goera pilosa"
          ],
          [
           "9_A10",
           "Goera pilosa"
          ],
          [
           "9_A11",
           "Goera pilosa"
          ],
          [
           "9_A12",
           "Goera pilosa"
          ],
          [
           "9_A2",
           "Potamophylax rotundipennis"
          ],
          [
           "9_A3",
           "Potamophylax rotundipennis"
          ],
          [
           "9_A4",
           "Potamophylax rotundipennis"
          ],
          [
           "9_A5",
           "Potamophylax rotundipennis"
          ],
          [
           "9_A6",
           "Ephemera danica"
          ],
          [
           "9_A7",
           "Amphinemura standfussi"
          ],
          [
           "9_A8",
           "Chaetopteryx villosa"
          ],
          [
           "9_A9",
           "Limnephilus lunatus"
          ],
          [
           "9_B1",
           "Goera pilosa"
          ],
          [
           "9_B11",
           "Goera pilosa"
          ],
          [
           "9_B12",
           "Goera pilosa"
          ],
          [
           "9_B2",
           "Ephemera danica"
          ],
          [
           "9_B3",
           "Ephemera danica"
          ],
          [
           "9_B4",
           "Ephemera danica"
          ],
          [
           "9_B5",
           "Ephemera danica"
          ],
          [
           "9_B6",
           "Chaetopteryx villosa"
          ],
          [
           "9_B7",
           "Limnephilus lunatus"
          ],
          [
           "9_B8",
           "Limnephilus lunatus"
          ],
          [
           "9_B9",
           "Limnephilus lunatus"
          ],
          [
           "9_C1",
           "Goera pilosa"
          ],
          [
           "9_C10",
           "Athripsodes cinereus"
          ],
          [
           "9_C11",
           "Anabolia nervosa"
          ],
          [
           "9_C12",
           "Goera pilosa"
          ],
          [
           "9_C2",
           "Chaetopteryx villosa"
          ],
          [
           "9_C4",
           "Potamophylax rotundipennis"
          ],
          [
           "9_C5",
           "Potamophylax rotundipennis"
          ],
          [
           "9_C7",
           "Anabolia nervosa"
          ],
          [
           "9_C8",
           "Limnephilus lunatus"
          ],
          [
           "9_C9",
           "Limnephilus lunatus"
          ],
          [
           "9_D10",
           "Limnephilus lunatus"
          ],
          [
           "9_D12",
           "Limnephilus lunatus"
          ],
          [
           "9_D2",
           "Potamophylax rotundipennis"
          ],
          [
           "9_D3",
           "Potamophylax rotundipennis"
          ],
          [
           "9_D4",
           "Goera pilosa"
          ],
          [
           "9_D5",
           "Goera pilosa"
          ],
          [
           "9_D7",
           "Ephemera danica"
          ],
          [
           "9_D8",
           "Baetis rhodani"
          ],
          [
           "9_D9",
           "Limnephilus lunatus"
          ],
          [
           "9_E1",
           "Limnephilus lunatus"
          ],
          [
           "9_E10",
           "Limnephilus lunatus"
          ],
          [
           "9_E12",
           "Goera pilosa"
          ],
          [
           "9_E2",
           "Athripsodes cinereus"
          ],
          [
           "9_E4",
           "Athripsodes cinereus"
          ],
          [
           "9_E7",
           "Ephemera danica"
          ],
          [
           "9_E8",
           "Ephemera danica"
          ],
          [
           "9_E9",
           "Limnephilus lunatus"
          ],
          [
           "9_F10",
           "Limnephilus lunatus"
          ],
          [
           "9_F11",
           "Limnephilus lunatus"
          ],
          [
           "9_F2",
           "Baetis rhodani"
          ],
          [
           "9_F3",
           "Ephemera danica"
          ],
          [
           "9_F4",
           "Baetis rhodani"
          ],
          [
           "9_F5",
           "Ephemera danica"
          ],
          [
           "9_F6",
           "Ephemera danica"
          ],
          [
           "9_F7",
           "Baetis rhodani"
          ],
          [
           "9_F9",
           "Limnephilus lunatus"
          ],
          [
           "9_G1",
           "Limnephilus lunatus"
          ],
          [
           "9_G10",
           "Limnephilus lunatus"
          ],
          [
           "9_G11",
           "Limnephilus lunatus"
          ],
          [
           "9_G12",
           "Halesus radiatus"
          ],
          [
           "9_G4",
           "Goera pilosa"
          ],
          [
           "9_G5",
           "Goera pilosa"
          ],
          [
           "9_G6",
           "Goera pilosa"
          ],
          [
           "9_G8",
           "Ephemera danica"
          ],
          [
           "9_G9",
           "Amphinemura standfussi"
          ],
          [
           "9_H11",
           "Potamophylax rotundipennis"
          ],
          [
           "9_H12",
           "Baetis rhodani"
          ],
          [
           "9_H2",
           "Goera pilosa"
          ],
          [
           "9_H3",
           "Potamophylax rotundipennis"
          ],
          [
           "9_H4",
           "Potamophylax rotundipennis"
          ],
          [
           "9_H5",
           "Goera pilosa"
          ],
          [
           "9_H6",
           "Athripsodes cinereus"
          ],
          [
           "9_H7",
           "Limnephilus lunatus"
          ],
          [
           "9_H8",
           "Limnephilus lunatus"
          ],
          [
           "9_H9",
           "Potamophylax rotundipennis"
          ]
         ],
         "hovertemplate": "Weights=%{x}<br>Weights_pred=%{y}<br>Specimen ID=%{customdata[0]}<br>Species_DNA=%{customdata[1]}<extra></extra>",
         "legendgroup": "",
         "marker": {
          "color": "#636efa",
          "symbol": "circle"
         },
         "mode": "markers",
         "name": "",
         "orientation": "v",
         "showlegend": false,
         "type": "scatter",
         "x": [
          0.03999999999996366,
          0.5899999999999181,
          0.23000000000001822,
          0.3900000000001,
          6.589999999999923,
          4.950000000000043,
          4.329999999999927,
          0.05999999999994548,
          0.15000000000009087,
          0.3099999999999455,
          105.97000000000003,
          99.77999999999993,
          2.5600000000001732,
          1.0799999999999272,
          0.8799999999998818,
          0.26999999999998187,
          0.12000000000011826,
          0.07000000000016361,
          0.2200000000000273,
          0.12999999999988177,
          3.1099999999999,
          11.439999999999827,
          11.630000000000104,
          8.929999999999831,
          2.4400000000000546,
          0.040000000000191056,
          0.26999999999998187,
          0.03999999999996366,
          18.240000000000027,
          0.3099999999999455,
          0.12999999999988177,
          0.3699999999998908,
          10.220000000000024,
          2.6800000000000628,
          0.8300000000001546,
          0.29999999999995447,
          0.3599999999998999,
          0.18000000000006364,
          0.4200000000000727,
          0.1800000000000637,
          0.25999999999999096,
          0.7300000000000182,
          14.160000000000068,
          15.019999999999996,
          0.26999999999998175,
          0.6200000000001183,
          0.4800000000000181,
          0.5699999999999363,
          149.18,
          34.16000000000011,
          0.6199999999998909,
          0.47000000000002723,
          16.01999999999998,
          4.279999999999973,
          0.5599999999999454,
          1.1499999999998636,
          0.48000000000001813,
          0.4500000000000454,
          1.0800000000001546,
          16.14000000000008,
          8.690000000000055,
          1.509999999999991,
          1.4200000000000728,
          0.130000000000109,
          0.5,
          0.3999999999998636,
          15.650000000000068,
          0.4700000000000272,
          0.14999999999986355,
          3.410000000000081,
          0.5099999999999909,
          1.3299999999999272,
          0.660000000000082,
          0.9300000000000638,
          0.9500000000000456,
          0.8500000000001364,
          0.7899999999999636,
          7.059999999999941,
          20.119999999999898,
          63.58000000000011,
          0.8899999999998727,
          1.3599999999999,
          1.179999999999836,
          0.5199999999999817,
          2.0599999999999454,
          17.30999999999995,
          6.390000000000095,
          0.6400000000001002,
          1.5299999999999725,
          2.079999999999927,
          2.159999999999854,
          17.19000000000004,
          2.3900000000000996,
          5.23000000000002,
          2.4500000000000446,
          1.1800000000000634,
          1.0799999999999272,
          0.7400000000000092,
          1,
          2.5799999999999277,
          0.9900000000000091,
          2.2699999999999823,
          0.7400000000000092,
          1.9600000000000364,
          1.1899999999998272,
          0.8100000000001728,
          1.1300000000001091,
          1.0099999999999907,
          1.7200000000000275,
          1.120000000000118,
          3.040000000000191,
          0.7800000000002002,
          1.9600000000000355,
          0.7200000000000273,
          0.6599999999998545,
          0.2999999999999545,
          2.610000000000127,
          17.200000000000045,
          17.009999999999977,
          17.039999999999974,
          47.01000000000004,
          99.8,
          21.47000000000003,
          2.269999999999982,
          0.9700000000000273,
          0.6200000000001183,
          2.7599999999999905,
          6.069999999999933,
          18.599999999999905,
          102.08999999999986,
          2.299999999999954,
          17.64999999999988,
          0.7400000000000092,
          126.25000000000003,
          4.7799999999999745,
          0.8800000000001093,
          1.4000000000000907,
          1.3499999999999088,
          1.6900000000000546,
          0.8600000000001274,
          2.049999999999954,
          0.7999999999999545,
          14.779999999999964,
          16.430000000000074,
          18.180000000000057,
          0.660000000000082,
          20.169999999999852,
          3.09999999999991,
          14.149999999999858,
          1.480000000000018,
          0.9600000000000365,
          1.0300000000002,
          17.509999999999987,
          4.720000000000029,
          0.900000000000091,
          1.349999999999909,
          1.0100000000002183,
          6.779999999999971,
          1.589999999999918,
          0.4500000000000454,
          1.349999999999909,
          0.9900000000000091,
          1.0499999999999543,
          5.779999999999977,
          1.3500000000001362,
          2.0999999999999095,
          3.6600000000000805,
          18.450000000000035,
          30.79,
          13.500000000000005,
          32.02999999999997,
          1.4300000000000634,
          5.330000000000157,
          2.4400000000000546,
          3.439999999999828,
          1.0199999999999818,
          0.9200000000000729,
          0.7799999999999727,
          0.8699999999998909,
          0.9900000000000091,
          1.1000000000001362,
          1.7000000000000453,
          2.5299999999999727,
          1.0700000000001637,
          1.5199999999999818,
          0.9400000000000546,
          0.7099999999998091,
          1.1499999999998636,
          8.039999999999958,
          15.670000000000078,
          1.2899999999999636,
          0.9500000000000456,
          1.230000000000018,
          1.5199999999999818,
          0.7100000000000364,
          1.0499999999999545,
          1.6499999999998638,
          5.690000000000054,
          16.049999999999986,
          1.4700000000000273,
          2.650000000000092,
          0.8399999999999181,
          60.71000000000001,
          150.07000000000025,
          3.430000000000063,
          0.8299999999999274,
          20.04999999999998,
          18.84000000000011,
          9.779999999999982,
          8.779999999999971,
          60.47,
          2.080000000000154,
          1.4700000000000275,
          0.5499999999999545,
          1.9400000000000546,
          1.349999999999909,
          1.3500000000001362,
          1.2999999999999547,
          3.4500000000000446,
          0.9600000000000365,
          5.029999999999974,
          6.48000000000002,
          0.9900000000000092,
          0.900000000000091,
          1.1199999999998906,
          2.5000000000000004,
          0.7200000000000273,
          1.1900000000000543,
          0.9200000000000729,
          2.079999999999927,
          1.4300000000000637,
          1.2000000000000455,
          1,
          3.8400000000001433,
          6.650000000000095,
          14.140000000000114,
          59.77999999999995,
          8.769999999999976,
          0.8800000000001093,
          9.079999999999927,
          0.9400000000000547,
          1.5299999999999727,
          0.6800000000000637,
          0.8600000000001274,
          0.9800000000000183,
          0.8200000000001637,
          8.829999999999927,
          0.7699999999999818,
          0.6100000000001274,
          0.6200000000001183,
          2.1800000000000637,
          0.7899999999999636,
          1.0399999999999636,
          1.110000000000127,
          1.2399999999997817,
          0.7100000000000364,
          104.33999999999992,
          143.97000000000003,
          0.6400000000001,
          0.910000000000082,
          1.849999999999909,
          0.8100000000001728,
          26.399999999999885,
          17.369999999999887,
          0.9900000000000091,
          1.1900000000000543,
          1.120000000000118,
          0.9600000000000365,
          15.480000000000025,
          19.019999999999985,
          19.239999999999995,
          1,
          22.710000000000072,
          4.369999999999891,
          1.0599999999999452,
          1.0799999999999272,
          2.8299999999999286,
          1,
          1.1199999999998909,
          0.9600000000000365,
          15.91000000000009,
          20.019999999999982,
          16.33000000000015,
          18.39999999999987,
          17.829999999999924,
          1.2799999999999725,
          2.1999999999998185,
          1.1099999999999,
          0.9400000000000546,
          1.130000000000109,
          0.7200000000000273,
          28.43000000000005,
          211.63000000000017,
          1.2699999999999816,
          0.9300000000000638,
          0.8299999999999274,
          21.510000000000012,
          33.79000000000019,
          13.43000000000006,
          68.36000000000016,
          144.2199999999997,
          47.619999999999806,
          6.970000000000025,
          1.2499999999999998,
          3.160000000000082,
          2.3800000000001096,
          1.6000000000001364,
          0.8599999999999001,
          22.670000000000062,
          18.919999999999845,
          1.1000000000001364,
          1.1400000000001,
          3.2000000000000455,
          1.8899999999998727,
          1.4200000000000728,
          1.0799999999999272,
          1.6000000000001366,
          0.910000000000082,
          24.000000000000014,
          1.0599999999999452,
          0.7799999999999727,
          1.3300000000001546,
          1.259999999999991,
          1.0399999999999636,
          1.0199999999999818,
          1.8599999999998997,
          20.259999999999998,
          60.04999999999998,
          3.009999999999992,
          9.680000000000074,
          0.8899999999998727,
          0.9400000000000547,
          14.829999999999929,
          1.2699999999999816,
          0.9400000000000547,
          0.9199999999998454,
          0.790000000000191,
          1.3899999999998727,
          1.2199999999998,
          21.999999999999986,
          106.29999999999995,
          1.259999999999991,
          1.259999999999991,
          1.4300000000000637,
          0.9900000000000091,
          1.0499999999999545,
          1.3799999999998818,
          52.40999999999978,
          0.9599999999998092,
          0.9499999999998181,
          1.4199999999998456,
          0.8600000000001274,
          1.5299999999999727,
          15.849999999999913,
          12.559999999999949,
          18.929999999999847,
          14.830000000000155,
          1.1900000000000546,
          1.099999999999909,
          0.9300000000000638,
          0.800000000000182,
          1.6099999999998997,
          2.410000000000082,
          1.2699999999999816,
          1.3000000000001817,
          1.1000000000001364,
          0.8699999999998909,
          0.7500000000000001,
          92.68999999999993,
          3.9800000000000186,
          5.400000000000091,
          10.909999999999858,
          9.370000000000124,
          3.360000000000126,
          1.4199999999998454,
          61.74999999999995,
          0.8299999999999274,
          1.110000000000127,
          0.8599999999999001,
          3.009999999999991,
          1.1900000000000546,
          1.7200000000000277,
          1.7100000000000364,
          1.2000000000000455,
          0.9900000000000091,
          0.9400000000000547,
          1.089999999999918,
          3.230000000000018,
          1.0199999999999818,
          14.950000000000054,
          15.42999999999982,
          56.86999999999988,
          2.7000000000000455,
          26.10000000000014,
          2.470000000000028,
          1.0699999999999363,
          18.669999999999845,
          1.4099999999998543,
          8.62999999999988,
          1.490000000000009,
          1.0399999999999636,
          1.0199999999999818,
          1.0599999999999452,
          0.8999999999998637,
          26.560000000000187,
          0.9900000000000091,
          1.6500000000000912,
          1.0299999999999727,
          6.940000000000054,
          17.12999999999988,
          98.0300000000001,
          1.0499999999999545,
          1.1500000000000907,
          0.9700000000000273,
          1.1900000000000543,
          1.1600000000000816,
          0.9600000000000365,
          0.9600000000000365,
          1.4600000000000364,
          1.429999999999836,
          1.2100000000000364,
          1.009999999999991,
          1.2000000000000453,
          1.3999999999998634,
          1.0399999999999636,
          2.1900000000000546,
          1.1700000000000728,
          1.2699999999999816,
          1.2200000000000273,
          1.2200000000000273,
          1.2399999999997817,
          1.1099999999999,
          1.1700000000000728,
          1.0199999999999818,
          77.19999999999959,
          1.2200000000000273,
          4.810000000000173,
          4.339999999999919,
          1.4400000000000546,
          1.1700000000000728,
          0.9600000000000365,
          0.9900000000000091,
          0.7000000000000455,
          1.6700000000000728,
          80.29999999999998,
          91.9500000000001,
          1.1300000000001091,
          9.269999999999982,
          1.1800000000000637,
          1.2499999999999998,
          1.1200000000001182,
          1.4300000000000634,
          1.1999999999998179,
          0.9400000000000546,
          1.0499999999999543,
          45.220000000000006,
          2.7000000000000455,
          1.6399999999998727,
          3.5399999999999663,
          3.2000000000000455,
          3.140000000000101,
          17.009999999999977,
          18.750000000000007,
          1.2699999999999816,
          14.32999999999994,
          2,
          1.2800000000002,
          99.92999999999991,
          1.6000000000001364,
          1.5999999999999093,
          1.3000000000001817,
          1.2100000000000364,
          2.9500000000000464,
          1.259999999999991,
          1.050000000000182,
          0.9200000000000729,
          1.8599999999999,
          1.3299999999999272,
          1.2200000000000273,
          8.890000000000104,
          1.230000000000018,
          1.6800000000000634,
          155.40999999999994,
          110.58000000000017,
          111.27000000000007,
          1.4100000000000816,
          1.3999999999998636,
          26.069999999999943,
          15.160000000000084,
          4.859999999999901,
          2.3299999999999272,
          3.509999999999991,
          1.9399999999998272,
          1.0999999999999088,
          8.710000000000027,
          2,
          10.289999999999962,
          2.650000000000091,
          30.369999999999877,
          15.930000000000048,
          17.509999999999987,
          2.2400000000000087,
          4.7799999999999745,
          2.950000000000047,
          1.7899999999999636,
          1.8299999999999272,
          3.1899999999998268,
          1.7500000000000002,
          1.9500000000000457,
          28.689999999999788,
          51.01999999999994,
          2.3299999999999277,
          1.7100000000000364,
          1.4800000000000182,
          1.9400000000000546,
          1.3299999999999272,
          1.3900000000001,
          71.4799999999997,
          1.3599999999998997,
          1.7100000000000364,
          2.6099999999998995,
          1.650000000000091,
          1.240000000000009,
          1.5799999999999272,
          1.0699999999999363,
          1.2100000000000364,
          1.4300000000000637,
          1.4400000000000543,
          18.419999999999856,
          23.029999999999983,
          9.860000000000126,
          10.849999999999907,
          1.6099999999999,
          2.190000000000054,
          1.6499999999998638,
          1.290000000000191,
          2.1099999999999,
          3.359999999999899,
          1.2899999999999636,
          1.349999999999909,
          50.86999999999991,
          108.87999999999987,
          15.4799999999998,
          1.3299999999999272,
          1.240000000000009,
          1.1500000000000907,
          94.02999999999982,
          80.98000000000008,
          94.68999999999974,
          1.1299999999998815,
          5.759999999999993,
          1.7200000000000277,
          1.3100000000001728,
          1.4500000000000455,
          1.240000000000009,
          15.180000000000069,
          18.32999999999993,
          19.360000000000124,
          1.4000000000000907,
          1.0799999999999272,
          2.529999999999973,
          1.6299999999998818,
          1.3100000000001728,
          19.14000000000009,
          8.879999999999885,
          26.080000000000148,
          18.950000000000017,
          118.5300000000004,
          114.04999999999981,
          116.69000000000008,
          1.6700000000000725,
          1.2000000000000453,
          1.1700000000000728,
          2.9400000000000537,
          5.830000000000153,
          97.24000000000012,
          3.140000000000101,
          1.4600000000000362,
          1.3599999999999,
          15.220000000000018,
          1.9800000000000182,
          2.910000000000081,
          19.89999999999989,
          8.769999999999976,
          1.1799999999998363,
          1.4100000000000816,
          16.56999999999995,
          7.519999999999982,
          6.83000000000015,
          19.610000000000124,
          70.71000000000002,
          1.6800000000000634,
          1.349999999999909,
          122.0900000000002,
          1.2699999999999816,
          1.1599999999998545,
          1.3399999999999181,
          0.9400000000000546,
          2.950000000000046,
          18.630000000000113,
          3.070000000000164,
          2.1499999999998636,
          2.0799999999999272,
          3.37000000000012,
          3.4099999999998554,
          2.089999999999918,
          2.2500000000000004,
          1.2100000000000364,
          0.46000000000003644,
          42.47999999999982,
          0.7399999999997818,
          0.6200000000001182,
          0.8600000000001274,
          0.9700000000000273,
          0.7999999999999546,
          0.6399999999998728,
          0.8699999999998909,
          0.7599999999999909,
          11.289999999999981,
          0.6599999999998545,
          0.9200000000000729,
          18.62999999999988,
          80.96000000000008,
          95.16000000000005,
          7.269999999999978,
          1.0199999999999818,
          0.8800000000001093,
          0.650000000000091,
          156.2500000000002,
          135.45,
          1.6699999999998454,
          1.0800000000001546,
          2.3900000000001,
          16.250000000000007,
          38.97999999999998,
          208.66999999999982,
          2.319999999999937,
          2.6399999999998722,
          39.180000000000085,
          204.5300000000002,
          14.559999999999949,
          15.339999999999916,
          1.509999999999991,
          0.3599999999998999,
          0.650000000000091,
          0.5599999999999453,
          1.6900000000000546,
          1.0200000000002092,
          0.7000000000000455,
          2.0300000000002005,
          2.6100000000001273,
          5.529999999999974,
          2.250000000000001,
          0.5299999999999727,
          0.6599999999998546,
          0.6499999999998636,
          1.1400000000001,
          0.6600000000000821,
          1.0199999999999818,
          37.44999999999998,
          0.9800000000000183,
          0.6900000000000546,
          0.6400000000001,
          13.489999999999998,
          169.97000000000003,
          14.330000000000174,
          2.429999999999836,
          15.599999999999914,
          155.16,
          118.51999999999974,
          173.02000000000015,
          89.28000000000006,
          128.20000000000007,
          7.299999999999956,
          0.49999999999999994,
          3.0600000000001737,
          0.4700000000000273,
          37.160000000000075,
          14.119999999999893,
          16.790000000000198,
          1.3900000000001,
          1.829999999999927,
          1.4700000000000273,
          12,
          0.4199999999998453,
          0.3200000000001637,
          0.019999999999981803,
          0.06999999999993635,
          44.58999999999998,
          0.5899999999999181,
          0.9200000000000729,
          66.32000000000018,
          8.29000000000019,
          94.53999999999994,
          99.23000000000022,
          2.730000000000019,
          0.24000000000000904,
          0.25,
          0.44000000000005457,
          0.24000000000000904,
          110.86999999999989,
          111.43000000000005,
          9.289999999999969,
          8.69000000000006,
          9.700000000000049,
          0.5499999999999545,
          0.37999999999988177,
          0.11999999999989082,
          1.0600000000001728,
          11.910000000000087,
          0.03999999999996363,
          1.8800000000001094,
          2.6400000000001005,
          3.5399999999999645,
          0.6800000000000638,
          3.1900000000000555,
          4.190000000000055,
          4.660000000000084,
          1.2100000000000364,
          2.589999999999918,
          0.24000000000000904,
          7.190000000000063,
          0.3400000000001455,
          0.10000000000013635,
          0.05999999999994543,
          0.5600000000001729,
          4.4500000000000455,
          8.579999999999936,
          61.85000000000018,
          52.009999999999984,
          17.130000000000123,
          0.7699999999999818,
          0.22000000000002726,
          121.74,
          1.0299999999999727,
          22.22000000000003,
          97.2699999999998,
          96.39000000000001,
          38.830000000000155,
          4.360000000000128,
          0.6399999999998727,
          1.6400000000001,
          126.63999999999976
         ],
         "xaxis": "x",
         "y": [
          0.42582795788445194,
          0.7137935593673028,
          0.42056280046100564,
          1.1154279952247432,
          8.89137989755121,
          4.894219643432937,
          6.087062648669146,
          0.47561001761256194,
          0.6275613924121269,
          0.8732444835479763,
          111.94135390794878,
          111.69286024409809,
          4.496771865324721,
          2.296838901477028,
          1.217347085970157,
          0.7231639086892847,
          0.23074566212656694,
          0.7032012611920518,
          0.5188174501024658,
          0.07974600268993699,
          0.26545653678752,
          11.841900392829583,
          14.46003683998885,
          10.657101179419469,
          1.8985933563060298,
          0.2669291899317432,
          0.5989341803365842,
          0.5556066225093723,
          20.6641174799701,
          0.8437981731703478,
          0.7615030395400166,
          0.7505006853044617,
          14.15131289244846,
          2.8700112869198393,
          1.5192134065588774,
          0.4122330280718369,
          0.8781264264131395,
          0.565778520028598,
          0.5778620663131088,
          0.7423194335627765,
          0.8980338919042996,
          0.93103034188224,
          16.34941214888077,
          13.882092283650275,
          0.5907197148617594,
          0.6140655654539307,
          0.5119015055376346,
          0.5613425398986612,
          72.22729922180139,
          23.515002185397726,
          1.246702566747509,
          1.2231540983520892,
          16.01557346601944,
          3.7925017849708875,
          0.8091454536398599,
          1.165224898385039,
          0.7708156602878541,
          0.8826628481335127,
          1.2833207054474787,
          12.151833889855718,
          3.5212813622694403,
          2.034732457359776,
          1.9581398988112955,
          0.8831768232993545,
          0.9443885806544795,
          0.8985504873865239,
          15.142868637954471,
          1.1359044118822417,
          0.6021949414457858,
          2.2366076850684937,
          1.323504461197694,
          2.430391410976161,
          0.5362527170972319,
          0.6349795540149364,
          0.9589476353572779,
          0.8665541147642742,
          0.8844534362008947,
          11.959448273000062,
          16.300353674597762,
          60.06410704309849,
          0.9845417179983643,
          1.4224745080012984,
          0.9732814445757205,
          0.67797968078055,
          1.5617051563332733,
          15.669332297821368,
          2.2115314146845524,
          0.9732060505608576,
          0.6711466190898512,
          1.2458798950871892,
          1.604875224652026,
          16.782087768167234,
          3.0040803672971395,
          6.656293634525346,
          1.8341772171493482,
          1.348237621143833,
          1.131426791677949,
          0.8322582115080471,
          0.8039398392098578,
          2.679640231568142,
          1.321455032336146,
          3.597061598127583,
          0.8568484365045201,
          2.43938935807321,
          1.0151653258440319,
          0.9340060830233196,
          1.1746154608852035,
          0.7763304247485014,
          1.8902846243687224,
          1.317121716714912,
          2.6960073718696957,
          1.0957868177141616,
          1.317697488795589,
          0.9507241888377143,
          1.1158207094400039,
          0.8679825074812154,
          2.678730625052416,
          17.19841246616878,
          17.730288161669378,
          16.88539951139387,
          40.059146815823205,
          129.0732712758047,
          16.844742314772034,
          1.0441369960058695,
          1.1479569913731464,
          1.1536162379965673,
          3.020261784827019,
          8.955821758836189,
          15.205947631400129,
          89.31988570588526,
          2.204436253449688,
          15.494098817797859,
          0.7355210563616527,
          118.51704990142645,
          3.8309683048676115,
          0.9187057306209898,
          1.1260131838566279,
          1.4463187009334335,
          1.683398971636893,
          0.6337972309243205,
          2.06064983053954,
          0.7334337220762555,
          13.377566782385907,
          17.243614894533806,
          18.943023795636577,
          1.0135084837752468,
          19.04985341549021,
          5.3105367748938335,
          16.42888487864554,
          1.2111248021721661,
          1.0509744540104429,
          0.7964837596662482,
          18.205984211291128,
          2.177884610316306,
          0.8465675318483686,
          1.8015839264128741,
          0.9544098839224819,
          5.247224329950458,
          1.5009732662134372,
          1.0177466852268937,
          1.4924645066087316,
          0.813292056765719,
          0.9613779343962718,
          3.386619793563495,
          1.2385733630399993,
          2.8328856521883448,
          3.4648176006135665,
          16.709027629824625,
          24.655485156524225,
          12.981880230509113,
          29.58271309557384,
          0.9892050674126207,
          4.4632041588501545,
          2.5099920876569386,
          3.5494681191353292,
          1.169113866182943,
          0.9210747174533378,
          1.058046995271401,
          1.0836962774567678,
          0.9402871371746973,
          1.264875387749408,
          1.7234480722407948,
          2.651202308426929,
          0.9577367136798253,
          1.281017899116126,
          1.266061503915531,
          0.9381190489946636,
          1.124358458821257,
          9.252576518870528,
          15.248763783089467,
          1.2134700783154098,
          1.106375390385128,
          0.9763994492927464,
          1.552179781421625,
          1.0669277116204672,
          0.991397732936794,
          1.0250322277017945,
          9.513490960365772,
          13.227411053726916,
          1.4561336098963098,
          2.942645749003698,
          0.8279736352508298,
          61.9917797210848,
          141.95667210220068,
          1.8551572229194966,
          1.2177896160378523,
          23.065298702483933,
          16.91983506370268,
          11.511113633801637,
          7.210736570523135,
          41.60677781421692,
          1.9617064928043173,
          1.286414155065857,
          0.7473284800391427,
          0.8022317043780247,
          1.1620457240242008,
          0.7251750314687689,
          0.9220741929511497,
          3.091402791549865,
          0.8130519024269264,
          3.5607162818679075,
          7.12198503297424,
          0.9244348555197917,
          0.9041692352492411,
          0.8947969680869096,
          2.4049666428304937,
          0.8394868118571427,
          0.8873431219573311,
          1.465042363912854,
          1.9159272107108343,
          1.0008158333216663,
          0.9436038007910056,
          0.9154118520771894,
          2.327272199355824,
          0.775587650266893,
          16.81234198566361,
          38.87372186514495,
          9.95027107101647,
          1.0841113433889906,
          7.959684672715701,
          0.8464820384842386,
          0.9115507157665247,
          0.8193400077845749,
          0.5383326665010484,
          0.5050601427640805,
          0.837516630972304,
          9.168035840150928,
          1.0073173718663226,
          0.7243245906365882,
          0.7549098028865014,
          2.192048133301288,
          0.8130786068037764,
          0.688376366138925,
          1.0507112566788743,
          0.8907082463261418,
          0.756424176747031,
          82.38382162410407,
          152.75979666018182,
          1.115946439578518,
          0.9828998437323235,
          2.3124588987199863,
          0.8978089133525398,
          16.07016363220583,
          17.314071953287133,
          1.0097810252194943,
          1.47487500331348,
          1.3069259618224494,
          0.9081624432146712,
          16.535319279411457,
          18.602882706693546,
          18.47912147934343,
          1.1140460071459346,
          19.180627194959186,
          5.664946353709913,
          1.1366667024454198,
          1.0541829709418515,
          2.4513280013306926,
          1.130114813433311,
          1.0341039383916337,
          0.9633715731418201,
          18.348939669093944,
          16.403482982871576,
          16.429291062334578,
          18.713501551291966,
          22.455324891626347,
          1.3268711733938654,
          2.1771618575447853,
          1.14095463633466,
          0.9581356660079086,
          1.0698947736793682,
          0.9177743266811846,
          26.455281490913734,
          148.25377777274366,
          1.1686257843598002,
          0.9874638349465535,
          1.052648316554462,
          16.50729105827516,
          22.50364908864231,
          13.16478928386494,
          55.771715290009546,
          123.87716954115444,
          42.302953883892506,
          8.216521523435098,
          1.5403398257319574,
          3.051522015118802,
          2.2270684117992867,
          1.4535851005944551,
          1.217038629087815,
          18.214080719598673,
          21.46008434022203,
          1.0120546511548616,
          1.377917156563445,
          2.8528611974221505,
          2.1867522318383004,
          1.4119527585489817,
          1.3867285428594156,
          1.9967644456114177,
          1.0691871832160524,
          13.962464536311037,
          1.0469173869848842,
          1.0877094164397867,
          1.4663746496738934,
          1.2007601351385595,
          1.051126986074148,
          1.3217739040666587,
          1.2622887869145039,
          15.076760775822239,
          42.32701792144918,
          3.324557474133735,
          9.33800001493522,
          1.1914464322315519,
          1.2156642740265415,
          13.356891004963378,
          1.6977834824314517,
          1.1657295784852266,
          1.1571920160050988,
          1.0605490044200996,
          1.0008615906466851,
          1.3427050193093646,
          16.55521072994928,
          95.25871126417933,
          1.1170318230784093,
          1.194614112877432,
          1.0329121725510342,
          1.072198615886914,
          1.2984611873900505,
          1.2910612197433404,
          57.67632741054013,
          1.1308824354901104,
          0.9403425602919571,
          1.1212308576141305,
          1.0037921057270713,
          2.189761337326265,
          11.858877243216368,
          13.883100065208357,
          20.443962948664904,
          17.671295205487297,
          0.9907002007729541,
          1.2265633017636952,
          1.195219293920305,
          1.2367832654766404,
          1.456098097763299,
          2.5667128077074586,
          1.5709774981230669,
          1.5102545911115317,
          1.2216010449859867,
          0.9361108702682057,
          1.2360442923552701,
          110.71984035633952,
          3.585138346330783,
          16.728743159709126,
          10.977479819560486,
          6.674806331086231,
          3.2491847985623976,
          1.071026299945927,
          54.24115098524103,
          0.8647255956824879,
          0.8295797209788022,
          1.2340794253682321,
          3.29814067039477,
          1.197764669605265,
          1.9693204597861798,
          1.7048265991869118,
          0.8950322460192924,
          0.8693930677003703,
          0.7903870971093006,
          1.0307662316389055,
          2.665579151641799,
          0.9943211735522173,
          17.794366896812324,
          12.73886751558595,
          79.70785993958975,
          3.034929754433404,
          11.092721326371038,
          2.7713805396955227,
          1.1137790069810096,
          22.81934229097878,
          1.4145811341979089,
          7.796884917708203,
          1.575735228702382,
          1.0415795769963643,
          0.9998846912571532,
          1.0776230593349896,
          0.9329421434387438,
          21.94398435185413,
          1.3045646422480057,
          1.7727753874872911,
          1.1754497579268055,
          7.610571350134866,
          9.40995467627719,
          107.05307139919535,
          1.097561685527975,
          0.9956031099758973,
          0.9497125418013058,
          1.1674059944053439,
          0.9529329637595394,
          0.9435775050511319,
          1.1260758223910883,
          1.4381261591364174,
          1.1468037179781043,
          1.0777722620081291,
          0.9707602688612149,
          0.963928264200924,
          1.1404054745887944,
          0.9917823448217278,
          1.7460427612348837,
          1.0403690030261998,
          1.0618437060259827,
          1.065161638830287,
          1.0328076225845553,
          1.0712037409555388,
          0.9763635557843071,
          0.9079930743592264,
          1.2021478615970285,
          66.30353563045284,
          1.4179267479737827,
          4.110073831238054,
          4.269692521734443,
          1.351162711303785,
          0.9268095579151023,
          1.3304430863375352,
          1.0537776685250015,
          1.0865766493505473,
          1.9048058714852008,
          66.83744108110878,
          137.9093317098021,
          1.200200493622999,
          9.294666424086104,
          1.0774499292116129,
          0.9951601064238308,
          1.0303978404101781,
          1.0801363983960124,
          1.228331926747813,
          0.9906773135603184,
          0.9876332460312692,
          48.46977025966189,
          2.394617766568566,
          1.3730645721082748,
          1.9772531667317523,
          3.260987617412414,
          2.693134699750621,
          14.894954644961246,
          22.395497700319904,
          0.9730139764169984,
          13.383286502125225,
          1.8111003444736107,
          1.153458106709742,
          105.91442546296024,
          1.1726012642370836,
          1.3229869767725047,
          1.194259045356646,
          1.1095849968617317,
          2.075293008231698,
          1.4942906570358196,
          1.1610695178505808,
          1.0280618638959313,
          1.5956303050884342,
          1.0062067204439171,
          1.193197088536988,
          8.659205028903061,
          1.015457994663808,
          1.552963933288159,
          97.78421483789329,
          116.04597836358842,
          103.4801992028251,
          1.2467879516515976,
          1.048609611931664,
          19.026702043452385,
          13.896692602604377,
          4.274456643321715,
          1.7884402043527028,
          2.509561925530213,
          1.0642517124351136,
          0.9688690769830157,
          7.801053855789982,
          1.6308421710311636,
          5.867150868915487,
          1.8469010596708557,
          19.197209185740167,
          13.57115481901228,
          14.30819082906902,
          1.7886784679775392,
          1.648429190133676,
          1.9389820713252166,
          1.1602877547735848,
          1.265673472835499,
          2.5543410778599824,
          1.0438974353546413,
          1.006280275463256,
          17.660949630059733,
          65.1639879172832,
          1.6579188423449456,
          1.142501895016239,
          1.1622855727202608,
          1.5168039607630615,
          1.2291784570698638,
          0.942772766391873,
          35.79947467843264,
          1.273952758000283,
          1.3994977793408934,
          2.165360048846351,
          1.4121331454545534,
          1.1908069098112273,
          1.1682491141089144,
          1.1247883087375026,
          1.0697072449210856,
          1.003401777575027,
          0.9769464694336171,
          18.143153689367395,
          19.917361765349675,
          10.408014703996173,
          12.911920016782178,
          1.6616919212780703,
          1.8318114229491815,
          1.0341293660002528,
          0.9074025315135938,
          1.4347130135872026,
          2.9621748149571645,
          1.3032320147201157,
          1.3530508795308696,
          42.04778761091585,
          83.91703561585703,
          20.835372310944297,
          1.2484431196662629,
          0.9406472021931388,
          1.167354856587919,
          75.86895257635946,
          62.34010536571941,
          108.98373862908295,
          1.065562811648918,
          3.5385514781819767,
          1.1145821870782051,
          1.4874458478459291,
          1.25359676185736,
          1.3497743371847335,
          12.99721941257638,
          15.936910413496987,
          17.506938574292956,
          1.1345762304637066,
          1.0681069765372844,
          1.95873344676462,
          1.458475759555715,
          1.0705698190515014,
          13.952834973659868,
          8.489380845400527,
          29.234605760965238,
          18.415193967720946,
          94.34940626984863,
          136.20155051811972,
          106.60024449072912,
          1.7000834777472602,
          1.018737651167617,
          1.3798343862589373,
          2.116978323333206,
          7.536104839014888,
          68.01807100878588,
          2.5997407330563225,
          1.3772939024928181,
          1.027813551386824,
          5.7395279042007825,
          2.0190214154836417,
          1.012124169708163,
          23.05315811926355,
          8.064655336870025,
          1.0975905007658728,
          1.190848854468569,
          13.89761681925454,
          9.24315762885363,
          5.836319346446885,
          16.69840442922703,
          59.52021626483465,
          1.1944620801427146,
          1.2832097597467764,
          133.42209261539347,
          1.0361148033813432,
          1.1406845095423372,
          1.1886599627363321,
          0.9896664806894864,
          4.218571507129931,
          24.733534007918188,
          4.5470300753840975,
          1.0383732100437313,
          2.2527992892771715,
          3.874539448352193,
          2.9052489767725898,
          1.6821172730115652,
          2.541717918874643,
          0.44960886375683246,
          0.8101671251100615,
          46.86947191696689,
          0.7413949341307375,
          0.878339252159506,
          1.022928298183527,
          1.239135148886776,
          0.8787002541155423,
          1.0084295323535046,
          1.1581644147510395,
          0.8593049857103525,
          18.215938229182598,
          0.9269228296675787,
          1.1077202609656769,
          31.746894424175355,
          90.0150368295078,
          113.79454542286501,
          4.524525508383319,
          1.6339128575872406,
          0.9867040183493799,
          0.8898554393396263,
          97.84749740132021,
          140.52585419952803,
          1.8523444672902474,
          1.2987693984205961,
          3.661986429245958,
          11.876977972720182,
          35.96024825267582,
          101.97588723843464,
          1.7655556914873214,
          2.0964478683329095,
          33.75945124996597,
          135.56166738846923,
          6.377037043190861,
          7.306967436370715,
          1.7948331321756867,
          0.8797378932542329,
          0.882132973886268,
          1.1182590958918297,
          1.6329793997540176,
          0.9495934415987777,
          0.6044211907232199,
          3.004467780039414,
          2.4808042110273574,
          3.4026163171218147,
          1.6770237889501112,
          0.7020693876775854,
          0.7880497436099608,
          1.037937004927424,
          1.0241488240434256,
          0.9374826129597003,
          1.1936930382594373,
          45.159154316731204,
          0.6712966963576221,
          0.26422571698178565,
          0.7025732121762704,
          11.61877686977035,
          105.22109941767775,
          18.133408714272306,
          2.7324876659427293,
          13.121470565809881,
          128.24788647226518,
          114.35063444771627,
          146.09515047264023,
          85.77958290244916,
          123.25981874210042,
          8.474102828057404,
          1.3261946722113265,
          2.693143208739381,
          0.9904392533557439,
          29.562651229307562,
          13.232067714773088,
          15.239007197817847,
          1.595744476351956,
          2.23761847568451,
          1.9134391539630724,
          14.784121964682248,
          1.1085453291692435,
          0.8238864880774899,
          0.3445679373112187,
          0.5749938333758666,
          30.019568364158676,
          0.5667484583818504,
          1.819695362529849,
          51.18996844293643,
          18.811801378577965,
          100.63998589285414,
          118.0628237181092,
          4.002905182748005,
          0.27374423021458244,
          0.460495857849489,
          0.9373864937781967,
          0.32412776949632943,
          95.19265724953651,
          114.56731825738746,
          11.286479237273898,
          12.025952726479673,
          0.9066507292978252,
          1.265827990856732,
          0.7436039702054561,
          0.364163008046812,
          0.09003985764697164,
          12.241769374832945,
          0.8945618851765988,
          0.4838825534637777,
          3.6851224501740125,
          3.740125212694417,
          1.2919007826520856,
          0.8360269576160307,
          0.4460256537667967,
          1.092330636079361,
          2.4826434949061817,
          2.9394047770346146,
          0.4747958201980224,
          4.878473943249296,
          0.46716111718444586,
          1.0667319566196751,
          0.05403347959982874,
          1.0985477853916044,
          0.8054095120105245,
          10.903807678334422,
          54.96051578983091,
          52.8899484078133,
          13.776472183678331,
          2.514328693663951,
          1.429091648245728,
          123.37752199979556,
          2.0357553999672806,
          41.83403670105146,
          108.16405231252003,
          100.67379755033488,
          18.82601477187845,
          0.059119429520014255,
          0.35144867852559747,
          0.8130932521768621,
          137.32802620405369
         ],
         "yaxis": "y"
        },
        {
         "hovertemplate": "<b>OLS trendline</b><br>Weights_pred = 0.863458 * Weights + 0.767093<br>R<sup>2</sup>=0.929277<br><br>Weights=%{x}<br>Weights_pred=%{y} <b>(trend)</b><extra></extra>",
         "legendgroup": "",
         "marker": {
          "color": "#636efa",
          "symbol": "circle"
         },
         "mode": "lines",
         "name": "",
         "showlegend": false,
         "type": "scatter",
         "x": [
          0.019999999999981803,
          0.03999999999996363,
          0.03999999999996366,
          0.03999999999996366,
          0.040000000000191056,
          0.05999999999994543,
          0.05999999999994548,
          0.06999999999993635,
          0.07000000000016361,
          0.10000000000013635,
          0.11999999999989082,
          0.12000000000011826,
          0.12999999999988177,
          0.12999999999988177,
          0.130000000000109,
          0.14999999999986355,
          0.15000000000009087,
          0.18000000000006364,
          0.1800000000000637,
          0.22000000000002726,
          0.2200000000000273,
          0.23000000000001822,
          0.24000000000000904,
          0.24000000000000904,
          0.24000000000000904,
          0.25,
          0.25999999999999096,
          0.26999999999998175,
          0.26999999999998187,
          0.26999999999998187,
          0.29999999999995447,
          0.2999999999999545,
          0.3099999999999455,
          0.3099999999999455,
          0.3200000000001637,
          0.3400000000001455,
          0.3599999999998999,
          0.3599999999998999,
          0.3699999999998908,
          0.37999999999988177,
          0.3900000000001,
          0.3999999999998636,
          0.4199999999998453,
          0.4200000000000727,
          0.44000000000005457,
          0.4500000000000454,
          0.4500000000000454,
          0.46000000000003644,
          0.4700000000000272,
          0.47000000000002723,
          0.4700000000000273,
          0.4800000000000181,
          0.48000000000001813,
          0.49999999999999994,
          0.5,
          0.5099999999999909,
          0.5199999999999817,
          0.5299999999999727,
          0.5499999999999545,
          0.5499999999999545,
          0.5599999999999453,
          0.5599999999999454,
          0.5600000000001729,
          0.5699999999999363,
          0.5899999999999181,
          0.5899999999999181,
          0.6100000000001274,
          0.6199999999998909,
          0.6200000000001182,
          0.6200000000001183,
          0.6200000000001183,
          0.6200000000001183,
          0.6399999999998727,
          0.6399999999998728,
          0.6400000000001,
          0.6400000000001,
          0.6400000000001002,
          0.6499999999998636,
          0.650000000000091,
          0.650000000000091,
          0.6599999999998545,
          0.6599999999998545,
          0.6599999999998546,
          0.660000000000082,
          0.660000000000082,
          0.6600000000000821,
          0.6800000000000637,
          0.6800000000000638,
          0.6900000000000546,
          0.7000000000000455,
          0.7000000000000455,
          0.7099999999998091,
          0.7100000000000364,
          0.7100000000000364,
          0.7200000000000273,
          0.7200000000000273,
          0.7200000000000273,
          0.7300000000000182,
          0.7399999999997818,
          0.7400000000000092,
          0.7400000000000092,
          0.7400000000000092,
          0.7500000000000001,
          0.7599999999999909,
          0.7699999999999818,
          0.7699999999999818,
          0.7799999999999727,
          0.7799999999999727,
          0.7800000000002002,
          0.7899999999999636,
          0.7899999999999636,
          0.790000000000191,
          0.7999999999999545,
          0.7999999999999546,
          0.800000000000182,
          0.8100000000001728,
          0.8100000000001728,
          0.8200000000001637,
          0.8299999999999274,
          0.8299999999999274,
          0.8299999999999274,
          0.8300000000001546,
          0.8399999999999181,
          0.8500000000001364,
          0.8599999999999001,
          0.8599999999999001,
          0.8600000000001274,
          0.8600000000001274,
          0.8600000000001274,
          0.8600000000001274,
          0.8699999999998909,
          0.8699999999998909,
          0.8699999999998909,
          0.8799999999998818,
          0.8800000000001093,
          0.8800000000001093,
          0.8800000000001093,
          0.8899999999998727,
          0.8899999999998727,
          0.8999999999998637,
          0.900000000000091,
          0.900000000000091,
          0.910000000000082,
          0.910000000000082,
          0.9199999999998454,
          0.9200000000000729,
          0.9200000000000729,
          0.9200000000000729,
          0.9200000000000729,
          0.9200000000000729,
          0.9300000000000638,
          0.9300000000000638,
          0.9300000000000638,
          0.9400000000000546,
          0.9400000000000546,
          0.9400000000000546,
          0.9400000000000546,
          0.9400000000000547,
          0.9400000000000547,
          0.9400000000000547,
          0.9400000000000547,
          0.9499999999998181,
          0.9500000000000456,
          0.9500000000000456,
          0.9599999999998092,
          0.9600000000000365,
          0.9600000000000365,
          0.9600000000000365,
          0.9600000000000365,
          0.9600000000000365,
          0.9600000000000365,
          0.9600000000000365,
          0.9700000000000273,
          0.9700000000000273,
          0.9700000000000273,
          0.9800000000000183,
          0.9800000000000183,
          0.9900000000000091,
          0.9900000000000091,
          0.9900000000000091,
          0.9900000000000091,
          0.9900000000000091,
          0.9900000000000091,
          0.9900000000000091,
          0.9900000000000091,
          0.9900000000000092,
          1,
          1,
          1,
          1,
          1.0099999999999907,
          1.009999999999991,
          1.0100000000002183,
          1.0199999999999818,
          1.0199999999999818,
          1.0199999999999818,
          1.0199999999999818,
          1.0199999999999818,
          1.0199999999999818,
          1.0199999999999818,
          1.0200000000002092,
          1.0299999999999727,
          1.0299999999999727,
          1.0300000000002,
          1.0399999999999636,
          1.0399999999999636,
          1.0399999999999636,
          1.0399999999999636,
          1.0499999999999543,
          1.0499999999999543,
          1.0499999999999545,
          1.0499999999999545,
          1.0499999999999545,
          1.050000000000182,
          1.0599999999999452,
          1.0599999999999452,
          1.0599999999999452,
          1.0600000000001728,
          1.0699999999999363,
          1.0699999999999363,
          1.0700000000001637,
          1.0799999999999272,
          1.0799999999999272,
          1.0799999999999272,
          1.0799999999999272,
          1.0799999999999272,
          1.0800000000001546,
          1.0800000000001546,
          1.089999999999918,
          1.0999999999999088,
          1.099999999999909,
          1.1000000000001362,
          1.1000000000001364,
          1.1000000000001364,
          1.1099999999999,
          1.1099999999999,
          1.110000000000127,
          1.110000000000127,
          1.1199999999998906,
          1.1199999999998909,
          1.120000000000118,
          1.120000000000118,
          1.1200000000001182,
          1.1299999999998815,
          1.130000000000109,
          1.1300000000001091,
          1.1300000000001091,
          1.1400000000001,
          1.1400000000001,
          1.1499999999998636,
          1.1499999999998636,
          1.1500000000000907,
          1.1500000000000907,
          1.1599999999998545,
          1.1600000000000816,
          1.1700000000000728,
          1.1700000000000728,
          1.1700000000000728,
          1.1700000000000728,
          1.179999999999836,
          1.1799999999998363,
          1.1800000000000634,
          1.1800000000000637,
          1.1899999999998272,
          1.1900000000000543,
          1.1900000000000543,
          1.1900000000000543,
          1.1900000000000546,
          1.1900000000000546,
          1.1999999999998179,
          1.2000000000000453,
          1.2000000000000453,
          1.2000000000000455,
          1.2000000000000455,
          1.2100000000000364,
          1.2100000000000364,
          1.2100000000000364,
          1.2100000000000364,
          1.2100000000000364,
          1.2199999999998,
          1.2200000000000273,
          1.2200000000000273,
          1.2200000000000273,
          1.2200000000000273,
          1.230000000000018,
          1.230000000000018,
          1.2399999999997817,
          1.2399999999997817,
          1.240000000000009,
          1.240000000000009,
          1.240000000000009,
          1.2499999999999998,
          1.2499999999999998,
          1.259999999999991,
          1.259999999999991,
          1.259999999999991,
          1.259999999999991,
          1.2699999999999816,
          1.2699999999999816,
          1.2699999999999816,
          1.2699999999999816,
          1.2699999999999816,
          1.2699999999999816,
          1.2799999999999725,
          1.2800000000002,
          1.2899999999999636,
          1.2899999999999636,
          1.290000000000191,
          1.2999999999999547,
          1.3000000000001817,
          1.3000000000001817,
          1.3100000000001728,
          1.3100000000001728,
          1.3299999999999272,
          1.3299999999999272,
          1.3299999999999272,
          1.3299999999999272,
          1.3300000000001546,
          1.3399999999999181,
          1.3499999999999088,
          1.349999999999909,
          1.349999999999909,
          1.349999999999909,
          1.349999999999909,
          1.349999999999909,
          1.3500000000001362,
          1.3500000000001362,
          1.3599999999998997,
          1.3599999999999,
          1.3599999999999,
          1.3799999999998818,
          1.3899999999998727,
          1.3900000000001,
          1.3900000000001,
          1.3999999999998634,
          1.3999999999998636,
          1.4000000000000907,
          1.4000000000000907,
          1.4099999999998543,
          1.4100000000000816,
          1.4100000000000816,
          1.4199999999998454,
          1.4199999999998456,
          1.4200000000000728,
          1.4200000000000728,
          1.429999999999836,
          1.4300000000000634,
          1.4300000000000634,
          1.4300000000000637,
          1.4300000000000637,
          1.4300000000000637,
          1.4400000000000543,
          1.4400000000000546,
          1.4500000000000455,
          1.4600000000000362,
          1.4600000000000364,
          1.4700000000000273,
          1.4700000000000273,
          1.4700000000000275,
          1.480000000000018,
          1.4800000000000182,
          1.490000000000009,
          1.509999999999991,
          1.509999999999991,
          1.5199999999999818,
          1.5199999999999818,
          1.5299999999999725,
          1.5299999999999727,
          1.5299999999999727,
          1.5799999999999272,
          1.589999999999918,
          1.5999999999999093,
          1.6000000000001364,
          1.6000000000001364,
          1.6000000000001366,
          1.6099999999998997,
          1.6099999999999,
          1.6299999999998818,
          1.6399999999998727,
          1.6400000000001,
          1.6499999999998638,
          1.6499999999998638,
          1.650000000000091,
          1.6500000000000912,
          1.6699999999998454,
          1.6700000000000725,
          1.6700000000000728,
          1.6800000000000634,
          1.6800000000000634,
          1.6900000000000546,
          1.6900000000000546,
          1.7000000000000453,
          1.7100000000000364,
          1.7100000000000364,
          1.7100000000000364,
          1.7200000000000275,
          1.7200000000000277,
          1.7200000000000277,
          1.7500000000000002,
          1.7899999999999636,
          1.829999999999927,
          1.8299999999999272,
          1.849999999999909,
          1.8599999999998997,
          1.8599999999999,
          1.8800000000001094,
          1.8899999999998727,
          1.9399999999998272,
          1.9400000000000546,
          1.9400000000000546,
          1.9500000000000457,
          1.9600000000000355,
          1.9600000000000364,
          1.9800000000000182,
          2,
          2,
          2.0300000000002005,
          2.049999999999954,
          2.0599999999999454,
          2.079999999999927,
          2.079999999999927,
          2.0799999999999272,
          2.080000000000154,
          2.089999999999918,
          2.0999999999999095,
          2.1099999999999,
          2.1499999999998636,
          2.159999999999854,
          2.1800000000000637,
          2.190000000000054,
          2.1900000000000546,
          2.1999999999998185,
          2.2400000000000087,
          2.2500000000000004,
          2.250000000000001,
          2.269999999999982,
          2.2699999999999823,
          2.299999999999954,
          2.319999999999937,
          2.3299999999999272,
          2.3299999999999277,
          2.3800000000001096,
          2.3900000000000996,
          2.3900000000001,
          2.410000000000082,
          2.429999999999836,
          2.4400000000000546,
          2.4400000000000546,
          2.4500000000000446,
          2.470000000000028,
          2.5000000000000004,
          2.5299999999999727,
          2.529999999999973,
          2.5600000000001732,
          2.5799999999999277,
          2.589999999999918,
          2.6099999999998995,
          2.610000000000127,
          2.6100000000001273,
          2.6399999999998722,
          2.6400000000001005,
          2.650000000000091,
          2.650000000000092,
          2.6800000000000628,
          2.7000000000000455,
          2.7000000000000455,
          2.730000000000019,
          2.7599999999999905,
          2.8299999999999286,
          2.910000000000081,
          2.9400000000000537,
          2.950000000000046,
          2.9500000000000464,
          2.950000000000047,
          3.009999999999991,
          3.009999999999992,
          3.040000000000191,
          3.0600000000001737,
          3.070000000000164,
          3.09999999999991,
          3.1099999999999,
          3.140000000000101,
          3.140000000000101,
          3.160000000000082,
          3.1899999999998268,
          3.1900000000000555,
          3.2000000000000455,
          3.2000000000000455,
          3.230000000000018,
          3.359999999999899,
          3.360000000000126,
          3.37000000000012,
          3.4099999999998554,
          3.410000000000081,
          3.430000000000063,
          3.439999999999828,
          3.4500000000000446,
          3.509999999999991,
          3.5399999999999645,
          3.5399999999999663,
          3.6600000000000805,
          3.8400000000001433,
          3.9800000000000186,
          4.190000000000055,
          4.279999999999973,
          4.329999999999927,
          4.339999999999919,
          4.360000000000128,
          4.369999999999891,
          4.4500000000000455,
          4.660000000000084,
          4.720000000000029,
          4.7799999999999745,
          4.7799999999999745,
          4.810000000000173,
          4.859999999999901,
          4.950000000000043,
          5.029999999999974,
          5.23000000000002,
          5.330000000000157,
          5.400000000000091,
          5.529999999999974,
          5.690000000000054,
          5.759999999999993,
          5.779999999999977,
          5.830000000000153,
          6.069999999999933,
          6.390000000000095,
          6.48000000000002,
          6.589999999999923,
          6.650000000000095,
          6.779999999999971,
          6.83000000000015,
          6.940000000000054,
          6.970000000000025,
          7.059999999999941,
          7.190000000000063,
          7.269999999999978,
          7.299999999999956,
          7.519999999999982,
          8.039999999999958,
          8.29000000000019,
          8.579999999999936,
          8.62999999999988,
          8.690000000000055,
          8.69000000000006,
          8.710000000000027,
          8.769999999999976,
          8.769999999999976,
          8.779999999999971,
          8.829999999999927,
          8.879999999999885,
          8.890000000000104,
          8.929999999999831,
          9.079999999999927,
          9.269999999999982,
          9.289999999999969,
          9.370000000000124,
          9.680000000000074,
          9.700000000000049,
          9.779999999999982,
          9.860000000000126,
          10.220000000000024,
          10.289999999999962,
          10.849999999999907,
          10.909999999999858,
          11.289999999999981,
          11.439999999999827,
          11.630000000000104,
          11.910000000000087,
          12,
          12.559999999999949,
          13.43000000000006,
          13.489999999999998,
          13.500000000000005,
          14.119999999999893,
          14.140000000000114,
          14.149999999999858,
          14.160000000000068,
          14.32999999999994,
          14.330000000000174,
          14.559999999999949,
          14.779999999999964,
          14.829999999999929,
          14.830000000000155,
          14.950000000000054,
          15.019999999999996,
          15.160000000000084,
          15.180000000000069,
          15.220000000000018,
          15.339999999999916,
          15.42999999999982,
          15.4799999999998,
          15.480000000000025,
          15.599999999999914,
          15.650000000000068,
          15.670000000000078,
          15.849999999999913,
          15.91000000000009,
          15.930000000000048,
          16.01999999999998,
          16.049999999999986,
          16.14000000000008,
          16.250000000000007,
          16.33000000000015,
          16.430000000000074,
          16.56999999999995,
          16.790000000000198,
          17.009999999999977,
          17.009999999999977,
          17.039999999999974,
          17.12999999999988,
          17.130000000000123,
          17.19000000000004,
          17.200000000000045,
          17.30999999999995,
          17.369999999999887,
          17.509999999999987,
          17.509999999999987,
          17.64999999999988,
          17.829999999999924,
          18.180000000000057,
          18.240000000000027,
          18.32999999999993,
          18.39999999999987,
          18.419999999999856,
          18.450000000000035,
          18.599999999999905,
          18.62999999999988,
          18.630000000000113,
          18.669999999999845,
          18.750000000000007,
          18.84000000000011,
          18.919999999999845,
          18.929999999999847,
          18.950000000000017,
          19.019999999999985,
          19.14000000000009,
          19.239999999999995,
          19.360000000000124,
          19.610000000000124,
          19.89999999999989,
          20.019999999999982,
          20.04999999999998,
          20.119999999999898,
          20.169999999999852,
          20.259999999999998,
          21.47000000000003,
          21.510000000000012,
          21.999999999999986,
          22.22000000000003,
          22.670000000000062,
          22.710000000000072,
          23.029999999999983,
          24.000000000000014,
          26.069999999999943,
          26.080000000000148,
          26.10000000000014,
          26.399999999999885,
          26.560000000000187,
          28.43000000000005,
          28.689999999999788,
          30.369999999999877,
          30.79,
          32.02999999999997,
          33.79000000000019,
          34.16000000000011,
          37.160000000000075,
          37.44999999999998,
          38.830000000000155,
          38.97999999999998,
          39.180000000000085,
          42.47999999999982,
          44.58999999999998,
          45.220000000000006,
          47.01000000000004,
          47.619999999999806,
          50.86999999999991,
          51.01999999999994,
          52.009999999999984,
          52.40999999999978,
          56.86999999999988,
          59.77999999999995,
          60.04999999999998,
          60.47,
          60.71000000000001,
          61.74999999999995,
          61.85000000000018,
          63.58000000000011,
          66.32000000000018,
          68.36000000000016,
          70.71000000000002,
          71.4799999999997,
          77.19999999999959,
          80.29999999999998,
          80.96000000000008,
          80.98000000000008,
          89.28000000000006,
          91.9500000000001,
          92.68999999999993,
          94.02999999999982,
          94.53999999999994,
          94.68999999999974,
          95.16000000000005,
          96.39000000000001,
          97.24000000000012,
          97.2699999999998,
          98.0300000000001,
          99.23000000000022,
          99.77999999999993,
          99.8,
          99.92999999999991,
          102.08999999999986,
          104.33999999999992,
          105.97000000000003,
          106.29999999999995,
          108.87999999999987,
          110.58000000000017,
          110.86999999999989,
          111.27000000000007,
          111.43000000000005,
          114.04999999999981,
          116.69000000000008,
          118.51999999999974,
          118.5300000000004,
          121.74,
          122.0900000000002,
          126.25000000000003,
          126.63999999999976,
          128.20000000000007,
          135.45,
          143.97000000000003,
          144.2199999999997,
          149.18,
          150.07000000000025,
          155.16,
          155.40999999999994,
          156.2500000000002,
          169.97000000000003,
          173.02000000000015,
          204.5300000000002,
          208.66999999999982,
          211.63000000000017
         ],
         "xaxis": "x",
         "y": [
          0.7843624695232709,
          0.8016316379280571,
          0.8016316379280573,
          0.8016316379280573,
          0.8016316379282535,
          0.8189008063328435,
          0.8189008063328435,
          0.8275353905352365,
          0.8275353905354328,
          0.8534391431426122,
          0.8707083115472021,
          0.8707083115473985,
          0.8793428957495952,
          0.8793428957495952,
          0.8793428957497914,
          0.8966120641543814,
          0.8966120641545777,
          0.9225158167617571,
          0.9225158167617571,
          0.9570541535713295,
          0.9570541535713296,
          0.9656887377737227,
          0.9743233219761157,
          0.9743233219761157,
          0.9743233219761157,
          0.9829579061785089,
          0.991592490380902,
          1.000227074583295,
          1.000227074583295,
          1.000227074583295,
          1.0261308271904745,
          1.0261308271904745,
          1.0347654113928677,
          1.0347654113928677,
          1.0433999955954572,
          1.0606691640002432,
          1.077938332404833,
          1.077938332404833,
          1.0865729166072262,
          1.0952075008096194,
          1.1038420850122088,
          1.1124766692144057,
          1.1297458376191918,
          1.129745837619388,
          1.1470150060241744,
          1.1556495902265675,
          1.1556495902265675,
          1.1642841744289607,
          1.1729187586313536,
          1.1729187586313536,
          1.1729187586313536,
          1.1815533428337468,
          1.1815533428337468,
          1.1988225112385331,
          1.1988225112385331,
          1.207457095440926,
          1.2160916796433192,
          1.2247262638457124,
          1.2419954322504987,
          1.2419954322504987,
          1.2506300164528916,
          1.2506300164528916,
          1.2506300164530881,
          1.2592646006552848,
          1.276533769060071,
          1.276533769060071,
          1.2938029374650537,
          1.3024375216672506,
          1.3024375216674469,
          1.3024375216674469,
          1.3024375216674469,
          1.3024375216674469,
          1.3197066900720367,
          1.319706690072037,
          1.319706690072233,
          1.319706690072233,
          1.3197066900722332,
          1.3283412742744298,
          1.3283412742746261,
          1.3283412742746261,
          1.3369758584768228,
          1.3369758584768228,
          1.336975858476823,
          1.3369758584770193,
          1.3369758584770193,
          1.3369758584770195,
          1.3542450268818054,
          1.3542450268818054,
          1.3628796110841985,
          1.3715141952865917,
          1.3715141952865917,
          1.3801487794887886,
          1.3801487794889846,
          1.3801487794889846,
          1.388783363691378,
          1.388783363691378,
          1.388783363691378,
          1.397417947893771,
          1.406052532095968,
          1.4060525320961643,
          1.4060525320961643,
          1.4060525320961643,
          1.4146871162985573,
          1.4233217005009502,
          1.4319562847033436,
          1.4319562847033436,
          1.4405908689057365,
          1.4405908689057365,
          1.440590868905933,
          1.4492254531081297,
          1.4492254531081297,
          1.449225453108326,
          1.4578600373105228,
          1.4578600373105228,
          1.4578600373107191,
          1.4664946215131123,
          1.4664946215131123,
          1.4751292057155054,
          1.483763789917702,
          1.483763789917702,
          1.483763789917702,
          1.4837637899178984,
          1.4923983741200952,
          1.5010329583226847,
          1.5096675425248816,
          1.5096675425248816,
          1.509667542525078,
          1.509667542525078,
          1.509667542525078,
          1.509667542525078,
          1.5183021267272747,
          1.5183021267272747,
          1.5183021267272747,
          1.5269367109296677,
          1.5269367109298642,
          1.5269367109298642,
          1.5269367109298642,
          1.5355712951320608,
          1.5355712951320608,
          1.544205879334454,
          1.5442058793346503,
          1.5442058793346503,
          1.5528404635370436,
          1.5528404635370436,
          1.5614750477392403,
          1.5614750477394366,
          1.5614750477394366,
          1.5614750477394366,
          1.5614750477394366,
          1.5614750477394366,
          1.5701096319418297,
          1.5701096319418297,
          1.5701096319418297,
          1.5787442161442227,
          1.5787442161442227,
          1.5787442161442227,
          1.5787442161442227,
          1.578744216144223,
          1.578744216144223,
          1.578744216144223,
          1.578744216144223,
          1.5873788003464195,
          1.5873788003466158,
          1.5873788003466158,
          1.596013384548813,
          1.596013384549009,
          1.596013384549009,
          1.596013384549009,
          1.596013384549009,
          1.596013384549009,
          1.596013384549009,
          1.596013384549009,
          1.6046479687514021,
          1.6046479687514021,
          1.6046479687514021,
          1.6132825529537953,
          1.6132825529537953,
          1.6219171371561882,
          1.6219171371561882,
          1.6219171371561882,
          1.6219171371561882,
          1.6219171371561882,
          1.6219171371561882,
          1.6219171371561882,
          1.6219171371561882,
          1.6219171371561885,
          1.6305517213585814,
          1.6305517213585814,
          1.6305517213585814,
          1.6305517213585814,
          1.6391863055609743,
          1.6391863055609746,
          1.6391863055611708,
          1.6478208897633677,
          1.6478208897633677,
          1.6478208897633677,
          1.6478208897633677,
          1.6478208897633677,
          1.6478208897633677,
          1.6478208897633677,
          1.647820889763564,
          1.6564554739657606,
          1.6564554739657606,
          1.656455473965957,
          1.6650900581681538,
          1.6650900581681538,
          1.6650900581681538,
          1.6650900581681538,
          1.6737246423705467,
          1.6737246423705467,
          1.673724642370547,
          1.673724642370547,
          1.673724642370547,
          1.6737246423707433,
          1.68235922657294,
          1.68235922657294,
          1.68235922657294,
          1.6823592265731364,
          1.6909938107753333,
          1.6909938107753333,
          1.6909938107755296,
          1.6996283949777262,
          1.6996283949777262,
          1.6996283949777262,
          1.6996283949777262,
          1.6996283949777262,
          1.6996283949779225,
          1.6996283949779225,
          1.7082629791801192,
          1.7168975633825123,
          1.7168975633825125,
          1.7168975633827088,
          1.7168975633827088,
          1.7168975633827088,
          1.7255321475849057,
          1.7255321475849057,
          1.7255321475851018,
          1.7255321475851018,
          1.7341667317872984,
          1.7341667317872989,
          1.734166731787495,
          1.734166731787495,
          1.7341667317874951,
          1.7428013159896918,
          1.742801315989888,
          1.742801315989888,
          1.742801315989888,
          1.7514359001922815,
          1.7514359001922815,
          1.760070484394478,
          1.760070484394478,
          1.7600704843946744,
          1.7600704843946744,
          1.768705068596871,
          1.7687050685970673,
          1.7773396527994607,
          1.7773396527994607,
          1.7773396527994607,
          1.7773396527994607,
          1.7859742370016574,
          1.7859742370016574,
          1.7859742370018536,
          1.7859742370018536,
          1.7946088212040507,
          1.7946088212042466,
          1.7946088212042466,
          1.7946088212042466,
          1.794608821204247,
          1.794608821204247,
          1.8032434054064437,
          1.80324340540664,
          1.80324340540664,
          1.80324340540664,
          1.80324340540664,
          1.811877989609033,
          1.811877989609033,
          1.811877989609033,
          1.811877989609033,
          1.811877989609033,
          1.82051257381123,
          1.8205125738114263,
          1.8205125738114263,
          1.8205125738114263,
          1.8205125738114263,
          1.8291471580138192,
          1.8291471580138192,
          1.8377817422160163,
          1.8377817422160163,
          1.8377817422162126,
          1.8377817422162126,
          1.8377817422162126,
          1.8464163264186055,
          1.8464163264186055,
          1.8550509106209985,
          1.8550509106209985,
          1.8550509106209985,
          1.8550509106209985,
          1.8636854948233914,
          1.8636854948233914,
          1.8636854948233914,
          1.8636854948233914,
          1.8636854948233914,
          1.8636854948233914,
          1.8723200790257848,
          1.872320079025981,
          1.8809546632281782,
          1.8809546632281782,
          1.8809546632283745,
          1.889589247430571,
          1.8895892474307674,
          1.8895892474307674,
          1.8982238316331608,
          1.8982238316331608,
          1.9154930000377504,
          1.9154930000377504,
          1.9154930000377504,
          1.9154930000377504,
          1.9154930000379466,
          1.9241275842401437,
          1.9327621684425367,
          1.9327621684425367,
          1.9327621684425367,
          1.9327621684425367,
          1.9327621684425367,
          1.9327621684425367,
          1.932762168442733,
          1.932762168442733,
          1.9413967526449296,
          1.9413967526449296,
          1.9413967526449296,
          1.958665921049716,
          1.9673005052521093,
          1.9673005052523056,
          1.9673005052523056,
          1.9759350894545022,
          1.9759350894545022,
          1.9759350894546985,
          1.9759350894546985,
          1.9845696736568952,
          1.9845696736570915,
          1.9845696736570915,
          1.9932042578592886,
          1.9932042578592886,
          1.9932042578594849,
          1.9932042578594849,
          2.0018388420616815,
          2.001838842061878,
          2.001838842061878,
          2.001838842061878,
          2.001838842061878,
          2.001838842061878,
          2.0104734262642707,
          2.010473426264271,
          2.019108010466664,
          2.027742594669057,
          2.0277425946690575,
          2.0363771788714504,
          2.0363771788714504,
          2.0363771788714504,
          2.0450117630738434,
          2.0450117630738434,
          2.0536463472762367,
          2.070915515681023,
          2.070915515681023,
          2.079550099883416,
          2.079550099883416,
          2.088184684085809,
          2.088184684085809,
          2.088184684085809,
          2.1313576050977745,
          2.1399921893001674,
          2.1486267735025613,
          2.148626773502757,
          2.148626773502757,
          2.1486267735027575,
          2.1572613577049538,
          2.157261357704954,
          2.17453052610974,
          2.1831651103121335,
          2.1831651103123297,
          2.191799694514527,
          2.191799694514527,
          2.1917996945147227,
          2.191799694514723,
          2.2090688629193127,
          2.209068862919509,
          2.209068862919509,
          2.217703447121902,
          2.217703447121902,
          2.2263380313242953,
          2.2263380313242953,
          2.2349726155266882,
          2.2436071997290816,
          2.2436071997290816,
          2.2436071997290816,
          2.2522417839314746,
          2.252241783931475,
          2.252241783931475,
          2.2781455365386543,
          2.3126838733482264,
          2.3472222101577986,
          2.3472222101577986,
          2.364491378562585,
          2.373125962764978,
          2.3731259627649783,
          2.390395131169961,
          2.3990297153721576,
          2.442202636384123,
          2.4422026363843194,
          2.4422026363843194,
          2.450837220586713,
          2.459471804789105,
          2.4594718047891058,
          2.4767409731938916,
          2.494010141598678,
          2.494010141598678,
          2.519913894206054,
          2.537183062610643,
          2.545817646813037,
          2.563086815217823,
          2.563086815217823,
          2.563086815217823,
          2.563086815218019,
          2.571721399420216,
          2.5803559836226095,
          2.5889905678250025,
          2.6235289046345747,
          2.6321634888369676,
          2.6494326572419507,
          2.658067241444343,
          2.6580672414443436,
          2.6667018256465407,
          2.7012401624563087,
          2.7098747466587025,
          2.709874746658703,
          2.7271439150634884,
          2.727143915063489,
          2.753047667670667,
          2.7703168360754544,
          2.7789514202778474,
          2.778951420277848,
          2.8221243412900097,
          2.8307589254924017,
          2.830758925492402,
          2.8480280938971885,
          2.865297262301778,
          2.8739318465043677,
          2.8739318465043677,
          2.88256643070676,
          2.899835599111548,
          2.9257393517187267,
          2.951643104325906,
          2.9516431043259064,
          2.977546856933282,
          2.994816025337872,
          3.0034506095402644,
          3.0207197779450503,
          3.0207197779452466,
          3.020719777945247,
          3.0466235305522296,
          3.0466235305524267,
          3.0552581147548197,
          3.05525811475482,
          3.081161867361998,
          3.0984310357667852,
          3.0984310357667852,
          3.1243347883739654,
          3.1502385409811433,
          3.2106806303978965,
          3.279757304017236,
          3.3056610566244156,
          3.31429564082681,
          3.31429564082681,
          3.3142956408268103,
          3.366103146041168,
          3.366103146041169,
          3.3920068986485434,
          3.4092760670533306,
          3.417910651255723,
          3.4438144038627065,
          3.452448988065099,
          3.4783527406724755,
          3.4783527406724755,
          3.495621909077261,
          3.5215256616842434,
          3.521525661684441,
          3.5301602458868335,
          3.5301602458868335,
          3.556063998494013,
          3.6683135931251223,
          3.6683135931253186,
          3.676948177327714,
          3.7114865141370896,
          3.7114865141372846,
          3.728755682542071,
          3.737390266744269,
          3.7460248509468568,
          3.797832356161216,
          3.8237361087683963,
          3.823736108768398,
          3.9273511191973083,
          4.08277363484058,
          4.203657813674085,
          4.384984081924537,
          4.462695339746075,
          4.5058682607580405,
          4.514502844960434,
          4.5317720133654165,
          4.540406597567613,
          4.609483271186954,
          4.790809539437408,
          4.8426170446517665,
          4.894424549866125,
          4.894424549866125,
          4.920328302473499,
          4.963501223485269,
          5.041212481307,
          5.110289154926148,
          5.282980838974208,
          5.369326680998336,
          5.429768770415086,
          5.5420183650461965,
          5.6801717122846815,
          5.740613801701436,
          5.757882970106224,
          5.801055891118381,
          6.008285911975814,
          6.284592606452784,
          6.362303864274328,
          6.457284290500655,
          6.50909179571521,
          6.621341390346315,
          6.664514311358475,
          6.759494737584802,
          6.78539849019198,
          6.863109748013517,
          6.9753593426448335,
          7.044436016263969,
          7.070339768871153,
          7.260300621323996,
          7.709298999848826,
          7.9251636049090495,
          8.175566546778459,
          8.218739467790416,
          8.270546973004972,
          8.270546973004976,
          8.28781614140975,
          8.339623646624112,
          8.339623646624112,
          8.348258230826508,
          8.391431151838475,
          8.434604072850444,
          8.443238657053033,
          8.477776993862403,
          8.6072957568985,
          8.771352856744164,
          8.788622025148955,
          8.857698698768296,
          9.125370809042684,
          9.142639977447464,
          9.211716651066613,
          9.280793324685945,
          9.591638355972293,
          9.652080445389046,
          10.135617160723452,
          10.187424665937815,
          10.515538865629159,
          10.645057628665041,
          10.809114728510897,
          11.05088308617811,
          11.128594343999644,
          11.612131059334054,
          12.363339884943034,
          12.415147390157387,
          12.423781974359793,
          12.959126194908556,
          12.97639536331355,
          12.985029947515729,
          12.993664531718311,
          13.140452463159017,
          13.14045246315922,
          13.339047899814247,
          13.529008752267082,
          13.572181673279056,
          13.572181673279252,
          13.675796683707976,
          13.736238773124732,
          13.857122951958422,
          13.874392120363211,
          13.90893045717277,
          14.012545467601495,
          14.09025672542302,
          14.133429646435008,
          14.133429646435202,
          14.237044656863919,
          14.280217577876055,
          14.297486746280866,
          14.45290926192394,
          14.5047167671385,
          14.521985935543265,
          14.599697193364813,
          14.625600945972025,
          14.703312203793713,
          14.798292630020061,
          14.867369303639393,
          14.953715145663336,
          15.074599324496843,
          15.264560176949878,
          15.454521029402509,
          15.454521029402509,
          15.48042478200971,
          15.558136039831238,
          15.558136039831446,
          15.60994354504578,
          15.618578129248187,
          15.713558555474513,
          15.765366060688866,
          15.886250239522566,
          15.886250239522566,
          16.007134418356088,
          16.162556933999344,
          16.46476738108349,
          16.51657488629787,
          16.594286144119398,
          16.65472823353615,
          16.671997401940942,
          16.697901154548298,
          16.8274199175842,
          16.853323670191383,
          16.853323670191585,
          16.887862007000958,
          16.956938680620304,
          17.034649938442,
          17.10372661206098,
          17.112361196263382,
          17.129630364668333,
          17.19007245408511,
          17.29368746451401,
          17.380033306537943,
          17.483648316966864,
          17.699512922026887,
          17.94991586389631,
          18.053530874325205,
          18.079434626932407,
          18.139876716349143,
          18.18304963736111,
          18.26076089518284,
          19.30554558367339,
          19.340083920482975,
          19.7631785464006,
          19.95313939885346,
          20.34169568796153,
          20.376234024771144,
          20.6525407192479,
          21.490095386880817,
          23.277454316777757,
          23.286088900980335,
          23.30335806938513,
          23.562395595456938,
          23.700548942695615,
          25.315216188544476,
          25.539715377806676,
          26.990325523810114,
          27.352978060311063,
          28.423666501408757,
          29.943353321031516,
          30.262832936520283,
          32.85320819724054,
          33.10361113911009,
          34.29518375904157,
          34.42470252207744,
          34.59739420612555,
          37.44680699291764,
          39.26870425962438,
          39.81268306437566,
          41.35827363660547,
          41.88498327295172,
          44.69122313873213,
          44.820741901768166,
          45.6755657378059,
          46.020949105901764,
          49.87197366017268,
          52.38463766307142,
          52.61777143653627,
          52.980423973037134,
          53.18765399389476,
          54.08565075094441,
          54.17199659296862,
          55.665779659983926,
          58.03165573144185,
          59.79311090873163,
          61.82223819629574,
          62.48710117988034,
          67.42608334365359,
          70.10280444639822,
          70.67268700375678,
          70.68995617216157,
          77.85666106015437,
          80.16209504219546,
          80.80105427317298,
          81.95808855629461,
          82.39845235061716,
          82.52797111365301,
          82.93379657116613,
          83.9958504280614,
          84.72979008526559,
          84.7556938378725,
          85.41192223725524,
          86.44807234154347,
          86.92297447267526,
          86.94024364108013,
          87.05249323571125,
          88.91756342342983,
          90.86034486897009,
          92.26778209396154,
          92.55272337264071,
          94.78044609686009,
          96.24832541126851,
          96.4987283531379,
          96.8441117212341,
          96.98226506847249,
          99.24452612950134,
          101.52405635893543,
          103.10418526797451,
          103.11281985217748,
          105.88452138114785,
          106.18673182823206,
          109.77871885643071,
          110.11546764032411,
          111.46246277589894,
          117.72253632263956,
          125.07920206308522,
          125.29506666814495,
          129.5778204325361,
          130.34629842655,
          134.74130178557186,
          134.95716639063184,
          135.68247146363376,
          147.52912098932774,
          150.16266917106014,
          177.37024399282564,
          180.9449618526193,
          183.50079877653027
         ],
         "yaxis": "y"
        }
       ],
       "layout": {
        "legend": {
         "tracegroupgap": 0
        },
        "margin": {
         "t": 60
        },
        "template": {
         "data": {
          "bar": [
           {
            "error_x": {
             "color": "#2a3f5f"
            },
            "error_y": {
             "color": "#2a3f5f"
            },
            "marker": {
             "line": {
              "color": "#E5ECF6",
              "width": 0.5
             },
             "pattern": {
              "fillmode": "overlay",
              "size": 10,
              "solidity": 0.2
             }
            },
            "type": "bar"
           }
          ],
          "barpolar": [
           {
            "marker": {
             "line": {
              "color": "#E5ECF6",
              "width": 0.5
             },
             "pattern": {
              "fillmode": "overlay",
              "size": 10,
              "solidity": 0.2
             }
            },
            "type": "barpolar"
           }
          ],
          "carpet": [
           {
            "aaxis": {
             "endlinecolor": "#2a3f5f",
             "gridcolor": "white",
             "linecolor": "white",
             "minorgridcolor": "white",
             "startlinecolor": "#2a3f5f"
            },
            "baxis": {
             "endlinecolor": "#2a3f5f",
             "gridcolor": "white",
             "linecolor": "white",
             "minorgridcolor": "white",
             "startlinecolor": "#2a3f5f"
            },
            "type": "carpet"
           }
          ],
          "choropleth": [
           {
            "colorbar": {
             "outlinewidth": 0,
             "ticks": ""
            },
            "type": "choropleth"
           }
          ],
          "contour": [
           {
            "colorbar": {
             "outlinewidth": 0,
             "ticks": ""
            },
            "colorscale": [
             [
              0,
              "#0d0887"
             ],
             [
              0.1111111111111111,
              "#46039f"
             ],
             [
              0.2222222222222222,
              "#7201a8"
             ],
             [
              0.3333333333333333,
              "#9c179e"
             ],
             [
              0.4444444444444444,
              "#bd3786"
             ],
             [
              0.5555555555555556,
              "#d8576b"
             ],
             [
              0.6666666666666666,
              "#ed7953"
             ],
             [
              0.7777777777777778,
              "#fb9f3a"
             ],
             [
              0.8888888888888888,
              "#fdca26"
             ],
             [
              1,
              "#f0f921"
             ]
            ],
            "type": "contour"
           }
          ],
          "contourcarpet": [
           {
            "colorbar": {
             "outlinewidth": 0,
             "ticks": ""
            },
            "type": "contourcarpet"
           }
          ],
          "heatmap": [
           {
            "colorbar": {
             "outlinewidth": 0,
             "ticks": ""
            },
            "colorscale": [
             [
              0,
              "#0d0887"
             ],
             [
              0.1111111111111111,
              "#46039f"
             ],
             [
              0.2222222222222222,
              "#7201a8"
             ],
             [
              0.3333333333333333,
              "#9c179e"
             ],
             [
              0.4444444444444444,
              "#bd3786"
             ],
             [
              0.5555555555555556,
              "#d8576b"
             ],
             [
              0.6666666666666666,
              "#ed7953"
             ],
             [
              0.7777777777777778,
              "#fb9f3a"
             ],
             [
              0.8888888888888888,
              "#fdca26"
             ],
             [
              1,
              "#f0f921"
             ]
            ],
            "type": "heatmap"
           }
          ],
          "heatmapgl": [
           {
            "colorbar": {
             "outlinewidth": 0,
             "ticks": ""
            },
            "colorscale": [
             [
              0,
              "#0d0887"
             ],
             [
              0.1111111111111111,
              "#46039f"
             ],
             [
              0.2222222222222222,
              "#7201a8"
             ],
             [
              0.3333333333333333,
              "#9c179e"
             ],
             [
              0.4444444444444444,
              "#bd3786"
             ],
             [
              0.5555555555555556,
              "#d8576b"
             ],
             [
              0.6666666666666666,
              "#ed7953"
             ],
             [
              0.7777777777777778,
              "#fb9f3a"
             ],
             [
              0.8888888888888888,
              "#fdca26"
             ],
             [
              1,
              "#f0f921"
             ]
            ],
            "type": "heatmapgl"
           }
          ],
          "histogram": [
           {
            "marker": {
             "pattern": {
              "fillmode": "overlay",
              "size": 10,
              "solidity": 0.2
             }
            },
            "type": "histogram"
           }
          ],
          "histogram2d": [
           {
            "colorbar": {
             "outlinewidth": 0,
             "ticks": ""
            },
            "colorscale": [
             [
              0,
              "#0d0887"
             ],
             [
              0.1111111111111111,
              "#46039f"
             ],
             [
              0.2222222222222222,
              "#7201a8"
             ],
             [
              0.3333333333333333,
              "#9c179e"
             ],
             [
              0.4444444444444444,
              "#bd3786"
             ],
             [
              0.5555555555555556,
              "#d8576b"
             ],
             [
              0.6666666666666666,
              "#ed7953"
             ],
             [
              0.7777777777777778,
              "#fb9f3a"
             ],
             [
              0.8888888888888888,
              "#fdca26"
             ],
             [
              1,
              "#f0f921"
             ]
            ],
            "type": "histogram2d"
           }
          ],
          "histogram2dcontour": [
           {
            "colorbar": {
             "outlinewidth": 0,
             "ticks": ""
            },
            "colorscale": [
             [
              0,
              "#0d0887"
             ],
             [
              0.1111111111111111,
              "#46039f"
             ],
             [
              0.2222222222222222,
              "#7201a8"
             ],
             [
              0.3333333333333333,
              "#9c179e"
             ],
             [
              0.4444444444444444,
              "#bd3786"
             ],
             [
              0.5555555555555556,
              "#d8576b"
             ],
             [
              0.6666666666666666,
              "#ed7953"
             ],
             [
              0.7777777777777778,
              "#fb9f3a"
             ],
             [
              0.8888888888888888,
              "#fdca26"
             ],
             [
              1,
              "#f0f921"
             ]
            ],
            "type": "histogram2dcontour"
           }
          ],
          "mesh3d": [
           {
            "colorbar": {
             "outlinewidth": 0,
             "ticks": ""
            },
            "type": "mesh3d"
           }
          ],
          "parcoords": [
           {
            "line": {
             "colorbar": {
              "outlinewidth": 0,
              "ticks": ""
             }
            },
            "type": "parcoords"
           }
          ],
          "pie": [
           {
            "automargin": true,
            "type": "pie"
           }
          ],
          "scatter": [
           {
            "fillpattern": {
             "fillmode": "overlay",
             "size": 10,
             "solidity": 0.2
            },
            "type": "scatter"
           }
          ],
          "scatter3d": [
           {
            "line": {
             "colorbar": {
              "outlinewidth": 0,
              "ticks": ""
             }
            },
            "marker": {
             "colorbar": {
              "outlinewidth": 0,
              "ticks": ""
             }
            },
            "type": "scatter3d"
           }
          ],
          "scattercarpet": [
           {
            "marker": {
             "colorbar": {
              "outlinewidth": 0,
              "ticks": ""
             }
            },
            "type": "scattercarpet"
           }
          ],
          "scattergeo": [
           {
            "marker": {
             "colorbar": {
              "outlinewidth": 0,
              "ticks": ""
             }
            },
            "type": "scattergeo"
           }
          ],
          "scattergl": [
           {
            "marker": {
             "colorbar": {
              "outlinewidth": 0,
              "ticks": ""
             }
            },
            "type": "scattergl"
           }
          ],
          "scattermapbox": [
           {
            "marker": {
             "colorbar": {
              "outlinewidth": 0,
              "ticks": ""
             }
            },
            "type": "scattermapbox"
           }
          ],
          "scatterpolar": [
           {
            "marker": {
             "colorbar": {
              "outlinewidth": 0,
              "ticks": ""
             }
            },
            "type": "scatterpolar"
           }
          ],
          "scatterpolargl": [
           {
            "marker": {
             "colorbar": {
              "outlinewidth": 0,
              "ticks": ""
             }
            },
            "type": "scatterpolargl"
           }
          ],
          "scatterternary": [
           {
            "marker": {
             "colorbar": {
              "outlinewidth": 0,
              "ticks": ""
             }
            },
            "type": "scatterternary"
           }
          ],
          "surface": [
           {
            "colorbar": {
             "outlinewidth": 0,
             "ticks": ""
            },
            "colorscale": [
             [
              0,
              "#0d0887"
             ],
             [
              0.1111111111111111,
              "#46039f"
             ],
             [
              0.2222222222222222,
              "#7201a8"
             ],
             [
              0.3333333333333333,
              "#9c179e"
             ],
             [
              0.4444444444444444,
              "#bd3786"
             ],
             [
              0.5555555555555556,
              "#d8576b"
             ],
             [
              0.6666666666666666,
              "#ed7953"
             ],
             [
              0.7777777777777778,
              "#fb9f3a"
             ],
             [
              0.8888888888888888,
              "#fdca26"
             ],
             [
              1,
              "#f0f921"
             ]
            ],
            "type": "surface"
           }
          ],
          "table": [
           {
            "cells": {
             "fill": {
              "color": "#EBF0F8"
             },
             "line": {
              "color": "white"
             }
            },
            "header": {
             "fill": {
              "color": "#C8D4E3"
             },
             "line": {
              "color": "white"
             }
            },
            "type": "table"
           }
          ]
         },
         "layout": {
          "annotationdefaults": {
           "arrowcolor": "#2a3f5f",
           "arrowhead": 0,
           "arrowwidth": 1
          },
          "autotypenumbers": "strict",
          "coloraxis": {
           "colorbar": {
            "outlinewidth": 0,
            "ticks": ""
           }
          },
          "colorscale": {
           "diverging": [
            [
             0,
             "#8e0152"
            ],
            [
             0.1,
             "#c51b7d"
            ],
            [
             0.2,
             "#de77ae"
            ],
            [
             0.3,
             "#f1b6da"
            ],
            [
             0.4,
             "#fde0ef"
            ],
            [
             0.5,
             "#f7f7f7"
            ],
            [
             0.6,
             "#e6f5d0"
            ],
            [
             0.7,
             "#b8e186"
            ],
            [
             0.8,
             "#7fbc41"
            ],
            [
             0.9,
             "#4d9221"
            ],
            [
             1,
             "#276419"
            ]
           ],
           "sequential": [
            [
             0,
             "#0d0887"
            ],
            [
             0.1111111111111111,
             "#46039f"
            ],
            [
             0.2222222222222222,
             "#7201a8"
            ],
            [
             0.3333333333333333,
             "#9c179e"
            ],
            [
             0.4444444444444444,
             "#bd3786"
            ],
            [
             0.5555555555555556,
             "#d8576b"
            ],
            [
             0.6666666666666666,
             "#ed7953"
            ],
            [
             0.7777777777777778,
             "#fb9f3a"
            ],
            [
             0.8888888888888888,
             "#fdca26"
            ],
            [
             1,
             "#f0f921"
            ]
           ],
           "sequentialminus": [
            [
             0,
             "#0d0887"
            ],
            [
             0.1111111111111111,
             "#46039f"
            ],
            [
             0.2222222222222222,
             "#7201a8"
            ],
            [
             0.3333333333333333,
             "#9c179e"
            ],
            [
             0.4444444444444444,
             "#bd3786"
            ],
            [
             0.5555555555555556,
             "#d8576b"
            ],
            [
             0.6666666666666666,
             "#ed7953"
            ],
            [
             0.7777777777777778,
             "#fb9f3a"
            ],
            [
             0.8888888888888888,
             "#fdca26"
            ],
            [
             1,
             "#f0f921"
            ]
           ]
          },
          "colorway": [
           "#636efa",
           "#EF553B",
           "#00cc96",
           "#ab63fa",
           "#FFA15A",
           "#19d3f3",
           "#FF6692",
           "#B6E880",
           "#FF97FF",
           "#FECB52"
          ],
          "font": {
           "color": "#2a3f5f"
          },
          "geo": {
           "bgcolor": "white",
           "lakecolor": "white",
           "landcolor": "#E5ECF6",
           "showlakes": true,
           "showland": true,
           "subunitcolor": "white"
          },
          "hoverlabel": {
           "align": "left"
          },
          "hovermode": "closest",
          "mapbox": {
           "style": "light"
          },
          "paper_bgcolor": "white",
          "plot_bgcolor": "#E5ECF6",
          "polar": {
           "angularaxis": {
            "gridcolor": "white",
            "linecolor": "white",
            "ticks": ""
           },
           "bgcolor": "#E5ECF6",
           "radialaxis": {
            "gridcolor": "white",
            "linecolor": "white",
            "ticks": ""
           }
          },
          "scene": {
           "xaxis": {
            "backgroundcolor": "#E5ECF6",
            "gridcolor": "white",
            "gridwidth": 2,
            "linecolor": "white",
            "showbackground": true,
            "ticks": "",
            "zerolinecolor": "white"
           },
           "yaxis": {
            "backgroundcolor": "#E5ECF6",
            "gridcolor": "white",
            "gridwidth": 2,
            "linecolor": "white",
            "showbackground": true,
            "ticks": "",
            "zerolinecolor": "white"
           },
           "zaxis": {
            "backgroundcolor": "#E5ECF6",
            "gridcolor": "white",
            "gridwidth": 2,
            "linecolor": "white",
            "showbackground": true,
            "ticks": "",
            "zerolinecolor": "white"
           }
          },
          "shapedefaults": {
           "line": {
            "color": "#2a3f5f"
           }
          },
          "ternary": {
           "aaxis": {
            "gridcolor": "white",
            "linecolor": "white",
            "ticks": ""
           },
           "baxis": {
            "gridcolor": "white",
            "linecolor": "white",
            "ticks": ""
           },
           "bgcolor": "#E5ECF6",
           "caxis": {
            "gridcolor": "white",
            "linecolor": "white",
            "ticks": ""
           }
          },
          "title": {
           "x": 0.05
          },
          "xaxis": {
           "automargin": true,
           "gridcolor": "white",
           "linecolor": "white",
           "ticks": "",
           "title": {
            "standoff": 15
           },
           "zerolinecolor": "white",
           "zerolinewidth": 2
          },
          "yaxis": {
           "automargin": true,
           "gridcolor": "white",
           "linecolor": "white",
           "ticks": "",
           "title": {
            "standoff": 15
           },
           "zerolinecolor": "white",
           "zerolinewidth": 2
          }
         }
        },
        "xaxis": {
         "anchor": "y",
         "domain": [
          0,
          1
         ],
         "title": {
          "text": "Weights"
         }
        },
        "yaxis": {
         "anchor": "x",
         "domain": [
          0,
          1
         ],
         "title": {
          "text": "Weights_pred"
         }
        }
       }
      }
     },
     "metadata": {},
     "output_type": "display_data"
    }
   ],
   "source": [
    "fig = px.scatter(predictions_plus, x='Weights', y='Weights_pred', trendline='ols', hover_data=['Specimen ID', 'Species_DNA', 'Weights'])\n",
    "fig.show()"
   ]
  },
  {
   "cell_type": "code",
   "execution_count": 10,
   "metadata": {},
   "outputs": [
    {
     "name": "stderr",
     "output_type": "stream",
     "text": [
      "/Users/prehsen/anaconda3/envs/HeatNSalt/lib/python3.12/site-packages/seaborn/_oldcore.py:1119: FutureWarning:\n",
      "\n",
      "use_inf_as_na option is deprecated and will be removed in a future version. Convert inf values to NaN before operating instead.\n",
      "\n",
      "/Users/prehsen/anaconda3/envs/HeatNSalt/lib/python3.12/site-packages/seaborn/_oldcore.py:1119: FutureWarning:\n",
      "\n",
      "use_inf_as_na option is deprecated and will be removed in a future version. Convert inf values to NaN before operating instead.\n",
      "\n"
     ]
    },
    {
     "data": {
      "image/png": "[encoded data removed]",
      "text/plain": [
       "<Figure size 700x700 with 3 Axes>"
      ]
     },
     "metadata": {},
     "output_type": "display_data"
    }
   ],
   "source": [
    "import seaborn as sns\n",
    "sns.set_theme(style=\"darkgrid\")\n",
    "\n",
    "g = sns.jointplot(x='Log_weights', y='y_pred', data=predictions_plus,\n",
    "                  kind=\"reg\", truncate=False,\n",
    "                  color=\"m\", height=7)"
   ]
  },
  {
   "cell_type": "code",
   "execution_count": 11,
   "metadata": {},
   "outputs": [
    {
     "name": "stderr",
     "output_type": "stream",
     "text": [
      "/Users/prehsen/anaconda3/envs/HeatNSalt/lib/python3.12/site-packages/seaborn/_oldcore.py:1119: FutureWarning:\n",
      "\n",
      "use_inf_as_na option is deprecated and will be removed in a future version. Convert inf values to NaN before operating instead.\n",
      "\n",
      "/Users/prehsen/anaconda3/envs/HeatNSalt/lib/python3.12/site-packages/seaborn/_oldcore.py:1119: FutureWarning:\n",
      "\n",
      "use_inf_as_na option is deprecated and will be removed in a future version. Convert inf values to NaN before operating instead.\n",
      "\n"
     ]
    },
    {
     "data": {
      "image/png": "[encoded data removed]",
      "text/plain": [
       "<Figure size 700x700 with 3 Axes>"
      ]
     },
     "metadata": {},
     "output_type": "display_data"
    }
   ],
   "source": [
    "import seaborn as sns\n",
    "sns.set_theme(style=\"darkgrid\")\n",
    "\n",
    "g = sns.jointplot(x='Weights', y='Weights_pred', data=predictions_plus,\n",
    "                  kind=\"reg\", truncate=False,\n",
    "                  color=\"m\", height=7)"
   ]
  },
  {
   "cell_type": "code",
   "execution_count": 12,
   "metadata": {},
   "outputs": [
    {
     "name": "stderr",
     "output_type": "stream",
     "text": [
      "/Users/prehsen/anaconda3/envs/HeatNSalt/lib/python3.12/site-packages/seaborn/_oldcore.py:1119: FutureWarning:\n",
      "\n",
      "use_inf_as_na option is deprecated and will be removed in a future version. Convert inf values to NaN before operating instead.\n",
      "\n",
      "/Users/prehsen/anaconda3/envs/HeatNSalt/lib/python3.12/site-packages/seaborn/_oldcore.py:1119: FutureWarning:\n",
      "\n",
      "use_inf_as_na option is deprecated and will be removed in a future version. Convert inf values to NaN before operating instead.\n",
      "\n"
     ]
    },
    {
     "data": {
      "image/png": "[encoded data removed]",
      "text/plain": [
       "<Figure size 700x700 with 3 Axes>"
      ]
     },
     "metadata": {},
     "output_type": "display_data"
    }
   ],
   "source": [
    "g = sns.jointplot(x='Log_weights', y='y_pred', data=predictions_plus,\n",
    "                  hue='Order_DNA',\n",
    "                  color=\"m\", height=7)"
   ]
  },
  {
   "cell_type": "code",
   "execution_count": 13,
   "metadata": {},
   "outputs": [
    {
     "name": "stderr",
     "output_type": "stream",
     "text": [
      "/Users/prehsen/anaconda3/envs/HeatNSalt/lib/python3.12/site-packages/seaborn/_oldcore.py:1119: FutureWarning:\n",
      "\n",
      "use_inf_as_na option is deprecated and will be removed in a future version. Convert inf values to NaN before operating instead.\n",
      "\n",
      "/Users/prehsen/anaconda3/envs/HeatNSalt/lib/python3.12/site-packages/seaborn/_oldcore.py:1119: FutureWarning:\n",
      "\n",
      "use_inf_as_na option is deprecated and will be removed in a future version. Convert inf values to NaN before operating instead.\n",
      "\n"
     ]
    },
    {
     "data": {
      "image/png": "[encoded data removed]",
      "text/plain": [
       "<Figure size 700x700 with 3 Axes>"
      ]
     },
     "metadata": {},
     "output_type": "display_data"
    }
   ],
   "source": [
    "g = sns.jointplot(x='Weights', y='Weights_pred', data=predictions_plus,\n",
    "                  hue='Order_DNA',\n",
    "                  color=\"m\", height=7)"
   ]
  }
 ],
 "metadata": {
  "kernelspec": {
   "display_name": "HeatNSalt",
   "language": "python",
   "name": "python3"
  },
  "language_info": {
   "codemirror_mode": {
    "name": "ipython",
    "version": 3
   },
   "file_extension": ".py",
   "mimetype": "text/x-python",
   "name": "python",
   "nbconvert_exporter": "python",
   "pygments_lexer": "ipython3",
   "version": "3.12.1"
  }
 },
 "nbformat": 4,
 "nbformat_minor": 2
}
